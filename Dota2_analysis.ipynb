{
 "cells": [
  {
   "cell_type": "markdown",
   "metadata": {},
   "source": [
    "7.22 Dota version"
   ]
  },
  {
   "cell_type": "markdown",
   "metadata": {},
   "source": [
    "Dota skills json file"
   ]
  },
  {
   "cell_type": "code",
   "execution_count": 531,
   "metadata": {},
   "outputs": [],
   "source": [
    "import pandas as pd"
   ]
  },
  {
   "cell_type": "code",
   "execution_count": 532,
   "metadata": {},
   "outputs": [],
   "source": [
    "import itertools"
   ]
  },
  {
   "cell_type": "code",
   "execution_count": 533,
   "metadata": {},
   "outputs": [],
   "source": [
    "import urllib.request\n",
    "import requests\n",
    "from bs4 import BeautifulSoup"
   ]
  },
  {
   "cell_type": "code",
   "execution_count": 534,
   "metadata": {
    "scrolled": true
   },
   "outputs": [],
   "source": [
    "import urllib.request\n",
    "import json\n",
    "from urllib.request import urlopen\n",
    "\n",
    "content = urlopen(\"https://raw.githubusercontent.com/odota/dotaconstants/master/build/abilities.json\")\n",
    "\n",
    "with urlopen(\"https://raw.githubusercontent.com/odota/dotaconstants/master/build/abilities.json\") as json_file:\n",
    "    data = json.load(json_file)"
   ]
  },
  {
   "cell_type": "code",
   "execution_count": 535,
   "metadata": {},
   "outputs": [],
   "source": [
    "from IPython.core.interactiveshell import InteractiveShell\n",
    "InteractiveShell.ast_node_interactivity = \"all\""
   ]
  },
  {
   "cell_type": "code",
   "execution_count": 652,
   "metadata": {},
   "outputs": [],
   "source": [
    "with urlopen('https://raw.githubusercontent.com/dqa611/Dota2_analysis/master/dota2_heroes.csv') as csv_file:\n",
    "    heroes_name_fixed = pd.read_csv(csv_file)"
   ]
  },
  {
   "cell_type": "code",
   "execution_count": 653,
   "metadata": {},
   "outputs": [],
   "source": [
    "heroes_name_list = heroes_name_fixed['Heroes'].tolist()"
   ]
  },
  {
   "cell_type": "code",
   "execution_count": 538,
   "metadata": {
    "scrolled": true
   },
   "outputs": [
    {
     "data": {
      "text/plain": [
       "[{'dname': 'Guardian Sprint',\n",
       "  'behavior': ['No Target', 'Instant Cast', None],\n",
       "  'desc': 'Slardar slithers ahead, moving significantly faster and passing through units. Slardar has unlocked max speed and grants movement speed while in the river.',\n",
       "  'attrib': [{'key': 'bonus_speed',\n",
       "    'header': 'BONUS MOVE SPEED:',\n",
       "    'value': ['20%', '28%', '36%', '44%']},\n",
       "   {'key': 'duration', 'header': 'DURATION:', 'value': '10'},\n",
       "   {'key': 'river_speed',\n",
       "    'header': 'RIVER SPEED:',\n",
       "    'value': ['5', '20', '35', '50'],\n",
       "    'generated': True},\n",
       "   {'key': 'puddle_regen', 'header': 'SCEPTER HP REGEN:', 'value': '25'},\n",
       "   {'key': 'puddle_armor', 'header': 'SCEPTER BONUS ARMOR:', 'value': '12'},\n",
       "   {'key': 'puddle_status_resistance',\n",
       "    'header': 'SCEPTER STATUS RESISTANCE:',\n",
       "    'value': '40%'},\n",
       "   {'key': 'river_speed_tooltip',\n",
       "    'header': 'BONUS MOVE SPEED IN RIVER:',\n",
       "    'value': ['25%', '48%', '66%', '94%']}],\n",
       "  'cd': '17',\n",
       "  'img': '/apps/dota2/images/abilities/slardar_sprint_md.png'},\n",
       " {'behavior': ['Point Target', 'AOE', 'Hidden', None],\n",
       "  'attrib': [],\n",
       "  'mc': '20',\n",
       "  'cd': '5',\n",
       "  'img': '/apps/dota2/images/abilities/slardar_scepter_md.png'},\n",
       " {'dname': 'Slithereen Crush',\n",
       "  'behavior': 'No Target',\n",
       "  'dmg_type': 'Physical',\n",
       "  'bkbpierce': 'No',\n",
       "  'desc': \"Slams the ground, stunning and damaging nearby enemy land units.  After the stun, the affected units are slowed.\\n\\nUpgradable by Aghanim's Scepter.\",\n",
       "  'dmg': ['80', '140', '200', '260'],\n",
       "  'attrib': [{'key': 'crush_radius', 'header': 'RADIUS:', 'value': '350'},\n",
       "   {'key': 'crush_extra_slow',\n",
       "    'header': 'MOVEMENT SLOW:',\n",
       "    'value': ['-20%', '-25%', '-30%', '-35%']},\n",
       "   {'key': 'crush_attack_slow_tooltip',\n",
       "    'header': 'ATTACK SLOW:',\n",
       "    'value': ['-20', '-25', '-30', '-35']},\n",
       "   {'key': 'crush_extra_slow_duration',\n",
       "    'header': 'SLOW DURATION:',\n",
       "    'value': ['3', '4', '5', '6']},\n",
       "   {'key': 'stun_duration', 'header': 'STUN DURATION:', 'value': '1'},\n",
       "   {'key': 'puddle_duration',\n",
       "    'header': 'SCEPTER PUDDLE DURATION:',\n",
       "    'value': '25'},\n",
       "   {'key': 'puddle_radius', 'header': 'SCEPTER PUDDLE AOE:', 'value': '550'}],\n",
       "  'mc': ['80', '95', '105', '115'],\n",
       "  'cd': '8',\n",
       "  'img': '/apps/dota2/images/abilities/slardar_slithereen_crush_md.png'},\n",
       " {'dname': 'Bash of the Deep',\n",
       "  'behavior': 'Passive',\n",
       "  'dmg_type': 'Physical',\n",
       "  'bkbpierce': 'Yes',\n",
       "  'desc': 'After 3 attacks, your next attack will bash the target.',\n",
       "  'attrib': [{'key': 'bonus_damage',\n",
       "    'header': 'BONUS DAMAGE:',\n",
       "    'value': ['75', '125', '175', '225']},\n",
       "   {'key': 'duration',\n",
       "    'header': 'BASH DURATION:',\n",
       "    'value': ['1', '1.1', '1.2', '1.3']},\n",
       "   {'key': 'attack_count',\n",
       "    'header': 'ATTACK COUNT:',\n",
       "    'value': '3',\n",
       "    'generated': True}],\n",
       "  'img': '/apps/dota2/images/abilities/slardar_bash_md.png'},\n",
       " {'dname': 'Corrosive Haze',\n",
       "  'behavior': 'Unit Target',\n",
       "  'bkbpierce': 'Yes',\n",
       "  'desc': 'Reduces enemy armor to amplify physical damage and provides True Sight of the targeted unit, revealing invisibility.',\n",
       "  'attrib': [{'key': 'armor_reduction',\n",
       "    'header': 'ARMOR REDUCTION:',\n",
       "    'value': ['-10', '-15', '-20']},\n",
       "   {'key': 'duration', 'header': 'DURATION:', 'value': '18'}],\n",
       "  'mc': '25',\n",
       "  'cd': '5',\n",
       "  'img': '/apps/dota2/images/abilities/slardar_amplify_damage_md.png'},\n",
       " {'dname': '+1.25s Slithereen Crush Stun'},\n",
       " {'dname': '+75 Bash Damage'},\n",
       " {'dname': 'Corrosive Haze Undispellable'},\n",
       " {'dname': '-4.5s Slithereen Crush Cooldown'}]"
      ]
     },
     "execution_count": 538,
     "metadata": {},
     "output_type": "execute_result"
    }
   ],
   "source": [
    "[value for key, value in data.items() if 'slardar' in key.lower()]"
   ]
  },
  {
   "cell_type": "code",
   "execution_count": 539,
   "metadata": {},
   "outputs": [],
   "source": [
    "# remove duplicates and keep the list order \n",
    "# http://www.martinbroadhurst.com/removing-duplicates-from-a-list-while-preserving-order-in-python.html\n",
    "\n",
    "def unique(sequence):\n",
    "    seen = set()\n",
    "    return [x for x in sequence if not (x in seen or seen.add(x))]"
   ]
  },
  {
   "cell_type": "markdown",
   "metadata": {},
   "source": [
    "what im trying to do so far is to websrap dota page theory about hero counters. \n",
    "\n",
    "In theory, each heroes will have counter heroes and items"
   ]
  },
  {
   "cell_type": "code",
   "execution_count": 540,
   "metadata": {},
   "outputs": [],
   "source": [
    "def get_heroes_matchup_info(hero_name, heroes_mentioned):\n",
    "    \n",
    "    # Part 1: clean up the information collected from the webite  \n",
    "    # filter non type element in the list\n",
    "    heroes_mentioned = list(filter(None, heroes_mentioned)) \n",
    "\n",
    "    # cut short the list to only relevant heroes\n",
    "    heroes_mentioned_clean = heroes_mentioned[heroes_mentioned.index('#Good_against...')+2 : \n",
    "                                              heroes_mentioned.index('/Special:Categories') -1]\n",
    "\n",
    "    # remove '/' i the list\n",
    "    heroes_mentioned_clean = [heroes_mentioned[i].strip('/') for i in \n",
    "                              range(len(heroes_mentioned))]    \n",
    "\n",
    "    # remove duplicates in the list    \n",
    "    heroes_mentioned_clean = unique(heroes_mentioned_clean)\n",
    "\n",
    "    # remove skills and items (can think more about this later)\n",
    "    heroes_mentioned_clean1 = []\n",
    "\n",
    "    for i in range(len(heroes_mentioned_clean)):\n",
    "        if '#' not in heroes_mentioned_clean[i]:\n",
    "            heroes_mentioned_clean1.append(heroes_mentioned_clean[i])\n",
    "\n",
    "    # filter only heroes        \n",
    "    heroes_mentioned_clean2 = [heroes_mentioned_clean1[i] for i in \n",
    "                               range(len(heroes_mentioned_clean1)) if \n",
    "                               heroes_mentioned_clean1[i] in heroes_name_list]\n",
    "\n",
    "    # Part 2: populate the hero's matchup info   \n",
    "    # In the page, heroes that counters the hero well is in red  \n",
    "    heroes_countered1 = []\n",
    "\n",
    "    productDivs = soup.findAll('div', attrs={'style': 'margin-bottom:5px; box-shadow:0px 0px 2px 4px red;'})\n",
    "    for div in productDivs:\n",
    "        heroes_countered1.append(div.find('a')['href'].strip('/'))\n",
    "\n",
    "    # In the page, heroes that the hero counters well is in green       \n",
    "    heroes_counter1 = []\n",
    "\n",
    "    productDivs_chartreuse = soup.findAll('div', attrs={'style': 'margin-bottom:5px; box-shadow:0px 0px 2px 4px chartreuse;'})\n",
    "    productDivs_green = soup.findAll('div', attrs={'style': 'margin-bottom:5px; box-shadow:0px 0px 2px 4px green;'})\n",
    "    productDivs = productDivs_chartreuse + productDivs_green\n",
    "    for div in productDivs:\n",
    "        heroes_counter1.append(div.find('a')['href'].strip('/'))\n",
    "\n",
    "    # In the page, heroes good with are list in blue     \n",
    "    heroes_good_with1 = []\n",
    "\n",
    "    productDivs = soup.findAll('div', attrs={'style': 'margin-bottom:5px; box-shadow:0px 0px 2px 4px skyblue;'})\n",
    "    for div in productDivs:\n",
    "        heroes_good_with1.append(div.find('a')['href'].strip('/'))\n",
    "\n",
    "    # In the page, great countered heroes are mentioned in red, then there are some other heroes mentioned before the page moves on to the next section\n",
    "    # last hero mentioned in red \n",
    "    last_red = heroes_mentioned_clean2.index(heroes_countered1[-1])\n",
    "    # first hero mentioned in green\n",
    "    first_green = heroes_mentioned_clean2.index(heroes_counter1[0])\n",
    "    # last hero mentioned in green\n",
    "    last_green = heroes_mentioned_clean2.index(heroes_counter1[-1])\n",
    "\n",
    "    # first hero mentioned in blue\n",
    "    first_blue = heroes_mentioned_clean2.index(heroes_good_with1[0])\n",
    "    # last hero mentioned in blue\n",
    "    last_blue = heroes_mentioned_clean2.index(heroes_good_with1[-1])\n",
    "\n",
    "    # Create list of heroes matchups    \n",
    "    # Create countered level 2\n",
    "    if last_red+1 == first_green:\n",
    "        heroes_countered2 = []\n",
    "    else:     \n",
    "        heroes_countered2 = heroes_mentioned_clean2[last_red+1 : first_green]\n",
    "\n",
    "    # Create counter level 2\n",
    "    if last_green+1 == first_blue: \n",
    "        heroes_counter2 = []\n",
    "    else:\n",
    "        heroes_counter2 = heroes_mentioned_clean2[last_green+1 : first_blue]\n",
    "\n",
    "    # Create good with level 2\n",
    "    heroes_good_with2 = heroes_mentioned_clean2[last_blue+1 :]\n",
    "\n",
    "    # Part 3: export the info \n",
    "    # to an object\n",
    "    heroes_matchup_info = {'heroes_countered1': heroes_countered1, \n",
    "                           'heroes_countered2': heroes_countered2,\n",
    "                           'heroes_counter1': heroes_counter1, \n",
    "                           'heroes_counter2': heroes_counter2,\n",
    "                           'heroes_good_with1': heroes_good_with1,\n",
    "                           'heroes_good_with2': heroes_good_with2}\n",
    "    \n",
    "    return heroes_matchup_info"
   ]
  },
  {
   "cell_type": "markdown",
   "metadata": {},
   "source": [
    "get all the link in gamepedia page"
   ]
  },
  {
   "cell_type": "code",
   "execution_count": 541,
   "metadata": {
    "scrolled": false
   },
   "outputs": [],
   "source": [
    "r = requests.get('https://dota2.gamepedia.com/Matchups')\n",
    "soup = BeautifulSoup(r.text)\n",
    "\n",
    "base_url = 'https://dota2.gamepedia.com/Matchups'\n",
    "heroes_counters_link = []\n",
    "\n",
    "for link in soup.find_all('a'):\n",
    "    url = link.get('href')\n",
    "    if url and '/Counters' in url:\n",
    "        heroes_counters_link.append(url)\n",
    "        \n",
    "heroes_counters_link = list(sorted(set(heroes_counters_link)))"
   ]
  },
  {
   "cell_type": "code",
   "execution_count": 542,
   "metadata": {},
   "outputs": [],
   "source": [
    "heroes_matchup_dict = {}\n",
    "\n",
    "for i in range(len(heroes_counters_link)):\n",
    "    r = requests.get('https://dota2.gamepedia.com' + heroes_counters_link[i])\n",
    "    soup = BeautifulSoup(r.text)\n",
    "\n",
    "    hero_name = heroes_counters_link[i].strip('/')[:-9]\n",
    "\n",
    "    heroes_mentioned = []\n",
    "    for link in soup.findAll('a'):\n",
    "        heroes_mentioned.append(link.get('href')) \n",
    "    \n",
    "    heroes_matchup_dict[hero_name] = get_heroes_matchup_info(hero_name, heroes_mentioned)"
   ]
  },
  {
   "cell_type": "markdown",
   "metadata": {},
   "source": [
    "list of all heroes and items are mentioned in the counter page of the hero, we need to rank great against, normal against, item against and skills against"
   ]
  },
  {
   "cell_type": "code",
   "execution_count": 543,
   "metadata": {},
   "outputs": [],
   "source": [
    "heroes_matchup_pair = list(itertools.permutations(heroes_name_list,2))"
   ]
  },
  {
   "cell_type": "markdown",
   "metadata": {},
   "source": [
    "Matchup Score"
   ]
  },
  {
   "cell_type": "code",
   "execution_count": 568,
   "metadata": {},
   "outputs": [],
   "source": [
    "matchup_score = []\n",
    "for i in range(len(heroes_matchup_pair)):    \n",
    "    matchup_score.append(list([heroes_matchup_pair[i],0]))"
   ]
  },
  {
   "cell_type": "code",
   "execution_count": 574,
   "metadata": {},
   "outputs": [],
   "source": [
    "for i in range(len(heroes_matchup_pair)):\n",
    "\n",
    "    hero1_in_pair = heroes_matchup_pair[i][0]\n",
    "    hero2_in_pair = heroes_matchup_pair[i][1]\n",
    "    \n",
    "    list_counter_countered = list(itertools.chain(*[heroes_matchup_dict[hero1_in_pair]['heroes_countered2'],\n",
    "                                                    heroes_matchup_dict[hero1_in_pair]['heroes_counter2'],\n",
    "                                                    heroes_matchup_dict[hero1_in_pair]['heroes_countered1'],\n",
    "                                                    heroes_matchup_dict[hero1_in_pair]['heroes_counter1']]\n",
    "                                                 ))\n",
    "\n",
    "# 0 means the 2 heores have ways to counter each other\n",
    "# negative means hero 1 in the pair is countered by hero 2\n",
    "# positive means hero 1 in the pair counters hero 2\n",
    "\n",
    "    if hero2_in_pair not in list_counter_countered:\n",
    "        matchup_score[i][1] = 0\n",
    "    if hero2_in_pair in heroes_matchup_dict[hero1_in_pair]['heroes_countered2']:\n",
    "        matchup_score[i][1] = -.5\n",
    "    if hero2_in_pair in heroes_matchup_dict[hero1_in_pair]['heroes_counter2']:\n",
    "        matchup_score[i][1] = .5\n",
    "    if hero2_in_pair in heroes_matchup_dict[hero1_in_pair]['heroes_countered1']:\n",
    "        matchup_score[i][1] = -1\n",
    "    if hero2_in_pair in heroes_matchup_dict[hero1_in_pair]['heroes_counter1']:\n",
    "        matchup_score[i][1] = 1"
   ]
  },
  {
   "cell_type": "code",
   "execution_count": 577,
   "metadata": {},
   "outputs": [],
   "source": [
    "matchup_score1 = matchup_score[:]\n",
    "\n",
    "for i in range(len(heroes_matchup_pair_add_score)):\n",
    "\n",
    "    hero1_in_pair = heroes_matchup_pair[i][0]\n",
    "    hero2_in_pair = heroes_matchup_pair[i][1]\n",
    "\n",
    "    similar_pairs = [y for y in matchup_score if hero1_in_pair in y[0] and hero2_in_pair in y[0]]    \n",
    "\n",
    "    heroes_pair_1 = similar_pairs[0]\n",
    "    heroes_pair_2 = similar_pairs[1]\n",
    "\n",
    "    if abs(heroes_pair_1[1]) > abs(heroes_pair_2[1]):\n",
    "        matchup_score1[matchup_score1.index(heroes_pair_2)][1] = -heroes_pair_1[1]\n",
    "    elif abs(heroes_pair_1[1]) < abs(heroes_pair_2[1]):\n",
    "        matchup_score1[matchup_score1.index(heroes_pair_1)][1] = -heroes_pair_2[1]"
   ]
  },
  {
   "cell_type": "code",
   "execution_count": null,
   "metadata": {},
   "outputs": [],
   "source": [
    "\n",
    "\n"
   ]
  },
  {
   "cell_type": "markdown",
   "metadata": {},
   "source": [
    "Good With Score"
   ]
  },
  {
   "cell_type": "code",
   "execution_count": 613,
   "metadata": {},
   "outputs": [],
   "source": [
    "good_with_score = []\n",
    "for i in range(len(heroes_matchup_pair)):    \n",
    "    good_with_score.append(list([heroes_matchup_pair[i],0]))"
   ]
  },
  {
   "cell_type": "code",
   "execution_count": 625,
   "metadata": {},
   "outputs": [],
   "source": [
    "for i in range(len(heroes_matchup_pair)):\n",
    "\n",
    "    hero1_in_pair = heroes_matchup_pair[i][0]\n",
    "    hero2_in_pair = heroes_matchup_pair[i][1]\n",
    "    \n",
    "    list_good_with = list(itertools.chain(*[heroes_matchup_dict[hero1_in_pair]['heroes_good_with1'],\n",
    "                                                    heroes_matchup_dict[hero1_in_pair]['heroes_good_with2']\n",
    "                                           ]))\n",
    "\n",
    "# 0 means the 2 heroes don't significantly go well together\n",
    "# 0.5 means OK\n",
    "# 1 means combo buddy                                        \n",
    "\n",
    "    if hero2_in_pair not in list_good_with:\n",
    "        good_with_score[i][1] = 0\n",
    "    if hero2_in_pair in heroes_matchup_dict[hero1_in_pair]['heroes_good_with2']:\n",
    "        good_with_score[i][1] = .5\n",
    "    if hero2_in_pair in heroes_matchup_dict[hero1_in_pair]['heroes_good_with1']:\n",
    "        good_with_score[i][1] = 1"
   ]
  },
  {
   "cell_type": "code",
   "execution_count": 627,
   "metadata": {},
   "outputs": [],
   "source": [
    "good_with_score1 = good_with_score[:]\n",
    "\n",
    "for i in range(len(heroes_matchup_pair_add_score)):\n",
    "\n",
    "    hero1_in_pair = heroes_matchup_pair[i][0]\n",
    "    hero2_in_pair = heroes_matchup_pair[i][1]\n",
    "\n",
    "    similar_pairs = [y for y in good_with_score if hero1_in_pair in y[0] and hero2_in_pair in y[0]]    \n",
    "\n",
    "    heroes_pair_1 = similar_pairs[0]\n",
    "    heroes_pair_2 = similar_pairs[1]\n",
    "\n",
    "    if abs(heroes_pair_1[1]) > abs(heroes_pair_2[1]):\n",
    "        good_with_score1[good_with_score1.index(heroes_pair_2)][1] = heroes_pair_1[1]\n",
    "    elif abs(heroes_pair_1[1]) < abs(heroes_pair_2[1]):\n",
    "        good_with_score1[good_with_score1.index(heroes_pair_1)][1] = heroes_pair_2[1]"
   ]
  },
  {
   "cell_type": "markdown",
   "metadata": {},
   "source": [
    "the next step is to have a 5v5 match. Each radiant hero will be matchup to the each hero in dire. Add the total sum each, then add all 5. \n",
    "Another factor will be heroes good at. Each good one will be add 1 or 0.5 points. "
   ]
  },
  {
   "cell_type": "markdown",
   "metadata": {},
   "source": [
    "Each hero in Radiant will be scored against each hero in Dire. Their scores are added up together. If the total is a positive number, it means in total, Radiant heroes individually counters Dire heroes"
   ]
  },
  {
   "cell_type": "code",
   "execution_count": null,
   "metadata": {},
   "outputs": [],
   "source": [
    "Input Radiant Team"
   ]
  },
  {
   "cell_type": "code",
   "execution_count": 700,
   "metadata": {},
   "outputs": [
    {
     "name": "stdout",
     "output_type": "stream",
     "text": [
      "Insert Radiant Heroes here (by shortcut name). Seaparate by comma: cm, axe, clinkz\n"
     ]
    },
    {
     "data": {
      "text/plain": [
       "['Crystal_Maiden', 'Axe', 'Clinkz']"
      ]
     },
     "execution_count": 700,
     "metadata": {},
     "output_type": "execute_result"
    }
   ],
   "source": [
    "radiant_hero_list_raw = input('Insert Radiant Heroes here (by shortcut name). Seaparate by comma: ')\n",
    "hero_name_process(radiant_hero_list_raw)"
   ]
  },
  {
   "cell_type": "code",
   "execution_count": 699,
   "metadata": {},
   "outputs": [],
   "source": [
    "def hero_name_process(hero_list_raw):\n",
    "    hero_list_raw = hero_list_raw.split(',')\n",
    "    hero_list_raw1 = [str(item).strip() for item in hero_list_raw]\n",
    "\n",
    "    hero_list = []\n",
    "\n",
    "    for i in range(len(hero_list_raw)):\n",
    "        hero_list.append(heroes_name_fixed[heroes_name_fixed['key'] == hero_list_raw1[i]]['Heroes'].item())\n",
    "        \n",
    "    return hero_list"
   ]
  },
  {
   "cell_type": "code",
   "execution_count": null,
   "metadata": {},
   "outputs": [],
   "source": [
    "Input Dire Team"
   ]
  },
  {
   "cell_type": "code",
   "execution_count": 701,
   "metadata": {},
   "outputs": [
    {
     "name": "stdout",
     "output_type": "stream",
     "text": [
      "Insert dire Heroes here (by shortcut name). Seaparate by comma: jugg, lion, od\n"
     ]
    },
    {
     "data": {
      "text/plain": [
       "['Juggernaut', 'Lion', 'Outworld_Devourer']"
      ]
     },
     "execution_count": 701,
     "metadata": {},
     "output_type": "execute_result"
    }
   ],
   "source": [
    "dire_hero_list_raw = input('Insert dire Heroes here (by shortcut name). Seaparate by comma: ')\n",
    "hero_name_process(dire_hero_list_raw)"
   ]
  },
  {
   "cell_type": "code",
   "execution_count": 690,
   "metadata": {},
   "outputs": [
    {
     "data": {
      "text/plain": [
       "-2.5"
      ]
     },
     "execution_count": 690,
     "metadata": {},
     "output_type": "execute_result"
    }
   ],
   "source": [
    "radiant_team = [hero for hero in radiant_hero_list]\n",
    "dire_team = [hero for hero in dire_hero_list]\n",
    "\n",
    "radiant_counter_score = 0 \n",
    "\n",
    "for hero_radiant in radiant_team:\n",
    "    for hero_dire in dire_team:\n",
    "        radiant_counter_score += [y for y in matchup_score1 if hero_radiant in y[0][0] and hero_dire in y[0][1]][0][1]\n",
    "    \n",
    "radiant_counter_score"
   ]
  },
  {
   "cell_type": "markdown",
   "metadata": {},
   "source": [
    "5 Radiant heroes good_with score will be added pair by pair to total the Team synergy score"
   ]
  },
  {
   "cell_type": "code",
   "execution_count": 635,
   "metadata": {},
   "outputs": [
    {
     "data": {
      "text/plain": [
       "3.5"
      ]
     },
     "execution_count": 635,
     "metadata": {},
     "output_type": "execute_result"
    }
   ],
   "source": [
    "radiant_team_pair = list(itertools.combinations(radiant_hero_list,2))\n",
    "radiant_good_with_score = 0\n",
    "\n",
    "for i in range(len(radiant_team_pair)):\n",
    "    radiant_good_with_score += [y for y in good_with_score1 if \\\n",
    "                                radiant_team_pair[i][0] in y[0][0] and \\\n",
    "                                radiant_team_pair[i][1] in y[0][1]][0][1]\n",
    "radiant_good_with_score"
   ]
  },
  {
   "cell_type": "markdown",
   "metadata": {},
   "source": [
    "Same thing for 5 Dire heroes, but at Radiant's pespective this a bad thing for Radiant"
   ]
  },
  {
   "cell_type": "code",
   "execution_count": 643,
   "metadata": {},
   "outputs": [
    {
     "data": {
      "text/plain": [
       "1.5"
      ]
     },
     "execution_count": 643,
     "metadata": {},
     "output_type": "execute_result"
    }
   ],
   "source": [
    "dire_team_pair = list(itertools.combinations(dire_hero_list,2))\n",
    "dire_good_with_score = 0\n",
    "\n",
    "for i in range(len(dire_team_pair)):\n",
    "    dire_good_with_score += [y for y in good_with_score1 if \\\n",
    "                                dire_team_pair[i][0] in y[0][0] and \\\n",
    "                                dire_team_pair[i][1] in y[0][1]][0][1]\n",
    "dire_good_with_score"
   ]
  },
  {
   "cell_type": "code",
   "execution_count": 640,
   "metadata": {
    "scrolled": true
   },
   "outputs": [
    {
     "name": "stdout",
     "output_type": "stream",
     "text": [
      "Radiant Team Score vs. Dire Team is: -0.5\n"
     ]
    }
   ],
   "source": [
    "radiant_total_score = radiant_counter_score + radiant_good_with_score - dire_good_with_score\n",
    "print('Radiant Team Score vs. Dire Team is: ' + str(radiant_total_score))"
   ]
  },
  {
   "cell_type": "markdown",
   "metadata": {},
   "source": [
    "Ban mode:\n",
    "\n",
    "RB = Radiant Ban\n",
    "DB = Dire Ban\n",
    "RP = Radiant Pick\n",
    "DP = Dire Pick\n",
    "\n",
    "RB, DB, RB, DB, RB, DB, \n",
    "\n",
    "RP, DP, DP, RP, \n",
    "\n",
    "RB, DB, RB, DB, \n",
    "\n",
    "RP, DP, RP, DP, \n",
    "\n",
    "DB, RB, \n",
    "\n",
    "RP, DP"
   ]
  },
  {
   "cell_type": "code",
   "execution_count": 733,
   "metadata": {},
   "outputs": [],
   "source": [
    "def discard_pool(discard_pool):\n",
    "    remaining_pool = [value for value in heroes_name_list if value not in discard_pool]\n",
    "    return remaining_pool"
   ]
  },
  {
   "cell_type": "markdown",
   "metadata": {},
   "source": [
    "1st Ban Phase"
   ]
  },
  {
   "cell_type": "code",
   "execution_count": 747,
   "metadata": {},
   "outputs": [
    {
     "name": "stdout",
     "output_type": "stream",
     "text": [
      "Radiant 1st ban: cm\n",
      "['Crystal_Maiden']\n"
     ]
    }
   ],
   "source": [
    "discard_pool = []\n",
    "RB1 = input('Radiant 1st ban: ')\n",
    "RB1 = hero_name_process(RB1)\n",
    "discard_pool.append(RB1)\n",
    "print(RB1)"
   ]
  },
  {
   "cell_type": "code",
   "execution_count": 751,
   "metadata": {},
   "outputs": [
    {
     "name": "stdout",
     "output_type": "stream",
     "text": [
      "Dire 1st ban: ursa\n",
      "['Ursa']\n"
     ]
    }
   ],
   "source": [
    "DB1 = input('Dire 1st ban: ')\n",
    "DB1 = hero_name_process(DB1)\n",
    "if DB1 in discard_pool:\n",
    "    print('This hero has already been selected')\n",
    "else:\n",
    "    discard_pool.append(DB1)\n",
    "    print(DB1)"
   ]
  },
  {
   "cell_type": "code",
   "execution_count": 752,
   "metadata": {},
   "outputs": [
    {
     "name": "stdout",
     "output_type": "stream",
     "text": [
      "Radiant 2nd ban: lion\n",
      "['Lion']\n"
     ]
    }
   ],
   "source": [
    "RB2 = input('Radiant 2nd ban: ')\n",
    "RB2 = hero_name_process(RB2)\n",
    "if RB2 in discard_pool:\n",
    "    print('This hero has already been selected')\n",
    "else:\n",
    "    discard_pool.append(RB2)\n",
    "    print(RB2)    "
   ]
  },
  {
   "cell_type": "code",
   "execution_count": 755,
   "metadata": {},
   "outputs": [
    {
     "name": "stdout",
     "output_type": "stream",
     "text": [
      "Dire 2nd ban: ds\n",
      "['Dark_Seer']\n"
     ]
    }
   ],
   "source": [
    "DB2 = input('Dire 2nd ban: ')\n",
    "DB2 = hero_name_process(DB2)\n",
    "if DB2 in discard_pool:\n",
    "    print('This hero has already been selected')\n",
    "else:\n",
    "    discard_pool.append(DB2)\n",
    "    print(DB2) "
   ]
  },
  {
   "cell_type": "code",
   "execution_count": 756,
   "metadata": {},
   "outputs": [
    {
     "name": "stdout",
     "output_type": "stream",
     "text": [
      "Radiant 3rd ban: invoker\n",
      "['Invoker']\n"
     ]
    }
   ],
   "source": [
    "RB3 = input('Radiant 3rd ban: ')\n",
    "RB3 = hero_name_process(RB3)\n",
    "if RB3 in discard_pool:\n",
    "    print('This hero has already been selected')\n",
    "else:\n",
    "    discard_pool.append(RB2)\n",
    "    print(RB3) "
   ]
  },
  {
   "cell_type": "code",
   "execution_count": 757,
   "metadata": {},
   "outputs": [
    {
     "name": "stdout",
     "output_type": "stream",
     "text": [
      "Dire 3rd ban: tinker\n",
      "['Tinker']\n"
     ]
    }
   ],
   "source": [
    "DB3 = input('Dire 3rd ban: ')\n",
    "DB3 = hero_name_process(DB3)\n",
    "if DB3 in discard_pool:\n",
    "    print('This hero has already been selected')\n",
    "else:\n",
    "    discard_pool.append(DB3)\n",
    "    print(DB3) "
   ]
  },
  {
   "cell_type": "code",
   "execution_count": 760,
   "metadata": {
    "scrolled": true
   },
   "outputs": [
    {
     "data": {
      "text/plain": [
       "['Crystal_Maiden', 'Ursa', 'Lion', 'Dark_Seer', 'Invoker', 'Tinker']"
      ]
     },
     "execution_count": 760,
     "metadata": {},
     "output_type": "execute_result"
    }
   ],
   "source": [
    "first_ban_list = list(itertools.chain(*[RB1, DB1, RB2, DB2, RB3, DB3]))\n",
    "first_ban_list"
   ]
  },
  {
   "cell_type": "code",
   "execution_count": null,
   "metadata": {},
   "outputs": [],
   "source": []
  }
 ],
 "metadata": {
  "kernelspec": {
   "display_name": "Python 3",
   "language": "python",
   "name": "python3"
  },
  "language_info": {
   "codemirror_mode": {
    "name": "ipython",
    "version": 3
   },
   "file_extension": ".py",
   "mimetype": "text/x-python",
   "name": "python",
   "nbconvert_exporter": "python",
   "pygments_lexer": "ipython3",
   "version": "3.7.3"
  }
 },
 "nbformat": 4,
 "nbformat_minor": 2
}
