{
 "cells": [
  {
   "cell_type": "markdown",
   "metadata": {},
   "source": [
    "# Let the Game Begin"
   ]
  },
  {
   "cell_type": "markdown",
   "metadata": {},
   "source": [
    "### Captain Mode:\n",
    "\n",
    "RB = Radiant Ban,\n",
    "DB = Dire Ban,\n",
    "RP = Radiant Pick,\n",
    "DP = Dire Pick,\n",
    "\n",
    "RB, DB, RB, DB, RB, DB, \n",
    "\n",
    "RP, DP, DP, RP, \n",
    "\n",
    "RB, DB, RB, DB, \n",
    "\n",
    "RP, DP, RP, DP, \n",
    "\n",
    "DB, RB, \n",
    "\n",
    "RP, DP"
   ]
  },
  {
   "cell_type": "code",
   "execution_count": null,
   "metadata": {},
   "outputs": [],
   "source": [
    "def discard_pool(discard_pool):\n",
    "    remaining_pool = [value for value in heroes_name_list if value not in discard_pool]\n",
    "    return remaining_pool"
   ]
  },
  {
   "cell_type": "markdown",
   "metadata": {},
   "source": [
    "##### 1st Ban Phase"
   ]
  },
  {
   "cell_type": "code",
   "execution_count": null,
   "metadata": {},
   "outputs": [],
   "source": [
    "discard_pool = []\n",
    "RB1 = input('Radiant 1st ban: ')\n",
    "RB1 = hero_name_process(RB1)\n",
    "discard_pool.append(RB1)\n",
    "print(RB1)"
   ]
  },
  {
   "cell_type": "code",
   "execution_count": null,
   "metadata": {},
   "outputs": [],
   "source": [
    "DB1 = input('Dire 1st ban: ')\n",
    "DB1 = hero_name_process(DB1)\n",
    "if DB1 in discard_pool:\n",
    "    print('This hero has already been selected')\n",
    "else:\n",
    "    discard_pool.append(DB1)\n",
    "    print(DB1)"
   ]
  },
  {
   "cell_type": "code",
   "execution_count": null,
   "metadata": {},
   "outputs": [],
   "source": [
    "RB2 = input('Radiant 2nd ban: ')\n",
    "RB2 = hero_name_process(RB2)\n",
    "if RB2 in discard_pool:\n",
    "    print('This hero has already been selected')\n",
    "else:\n",
    "    discard_pool.append(RB2)\n",
    "    print(RB2)    "
   ]
  },
  {
   "cell_type": "code",
   "execution_count": null,
   "metadata": {},
   "outputs": [],
   "source": [
    "DB2 = input('Dire 2nd ban: ')\n",
    "DB2 = hero_name_process(DB2)\n",
    "if DB2 in discard_pool:\n",
    "    print('This hero has already been selected')\n",
    "else:\n",
    "    discard_pool.append(DB2)\n",
    "    print(DB2) "
   ]
  },
  {
   "cell_type": "code",
   "execution_count": null,
   "metadata": {},
   "outputs": [],
   "source": [
    "RB3 = input('Radiant 3rd ban: ')\n",
    "RB3 = hero_name_process(RB3)\n",
    "if RB3 in discard_pool:\n",
    "    print('This hero has already been selected')\n",
    "else:\n",
    "    discard_pool.append(RB2)\n",
    "    print(RB3) "
   ]
  },
  {
   "cell_type": "code",
   "execution_count": null,
   "metadata": {},
   "outputs": [],
   "source": [
    "DB3 = input('Dire 3rd ban: ')\n",
    "DB3 = hero_name_process(DB3)\n",
    "if DB3 in discard_pool:\n",
    "    print('This hero has already been selected')\n",
    "else:\n",
    "    discard_pool.append(DB3)\n",
    "    print(DB3) "
   ]
  },
  {
   "cell_type": "code",
   "execution_count": null,
   "metadata": {
    "scrolled": true
   },
   "outputs": [],
   "source": [
    "first_ban_list = list(itertools.chain(*[RB1, DB1, RB2, DB2, RB3, DB3]))\n",
    "first_ban_list"
   ]
  },
  {
   "cell_type": "markdown",
   "metadata": {},
   "source": [
    "#### First Pick Phase"
   ]
  },
  {
   "cell_type": "code",
   "execution_count": null,
   "metadata": {},
   "outputs": [],
   "source": [
    "RP1 = input('Radiant 1st pick: ')\n",
    "RP1 = hero_name_proess(RP1)\n",
    "if RP1 in discard_pool:\n",
    "    print('This hero has already been selected')\n",
    "else:\n",
    "    discard_pool.append(RP1)\n",
    "    print(RP1)     "
   ]
  },
  {
   "cell_type": "code",
   "execution_count": null,
   "metadata": {},
   "outputs": [],
   "source": [
    "DP1 = input('Dire 1st pick: ')\n",
    "DP1 = hero_name_proess(DP1)\n",
    "if DP1 in discard_pool:\n",
    "    print('This hero has already been selected')\n",
    "else:\n",
    "    discard_pool.append(DP1)\n",
    "    print(DP1)     "
   ]
  },
  {
   "cell_type": "code",
   "execution_count": null,
   "metadata": {},
   "outputs": [],
   "source": [
    "DB2 = input('Dire 2nd pick: ')\n",
    "DB2 = hero_name_proess(DB2)\n",
    "if DB2 in discard_pool:\n",
    "    print('This hero has already been selected')\n",
    "else:\n",
    "    discard_pool.append(DB2)\n",
    "    print(DB2)     "
   ]
  },
  {
   "cell_type": "code",
   "execution_count": null,
   "metadata": {},
   "outputs": [],
   "source": [
    "RP2 = input('Radiant 2nd pick: ')\n",
    "RP2 = hero_name_proess(RP2)\n",
    "if RP2 in discard_pool:\n",
    "    print('This hero has already been selected')\n",
    "else:\n",
    "    discard_pool.append(RP2)\n",
    "    print(RP2)     "
   ]
  },
  {
   "cell_type": "code",
   "execution_count": null,
   "metadata": {},
   "outputs": [],
   "source": [
    "first_pick_list = list(itertools.chain(*[RP1, DR1, DR2, RP2]))\n",
    "first_pick_list"
   ]
  },
  {
   "cell_type": "markdown",
   "metadata": {},
   "source": [
    "#### Second Ban Phase"
   ]
  },
  {
   "cell_type": "code",
   "execution_count": null,
   "metadata": {},
   "outputs": [],
   "source": [
    "RB4 = input('Radiant 4th ban: ')\n",
    "RB4 = hero_name_proess(RB4)\n",
    "if RB4 in discard_pool:\n",
    "    print('This hero has already been selected')\n",
    "else:\n",
    "    discard_pool.append(RB4)\n",
    "    print(RB4)     "
   ]
  },
  {
   "cell_type": "code",
   "execution_count": null,
   "metadata": {},
   "outputs": [],
   "source": [
    "DB4 = input('Dire 4th ban: ')\n",
    "DB4 = hero_name_proess(DB4)\n",
    "if DB4 in discard_pool:\n",
    "    print('This hero has already been selected')\n",
    "else:\n",
    "    discard_pool.append(DB4)\n",
    "    print(DB4)     "
   ]
  },
  {
   "cell_type": "code",
   "execution_count": null,
   "metadata": {},
   "outputs": [],
   "source": [
    "RB5 = input('Radiant 5th ban: ')\n",
    "RB5 = hero_name_proess(RB5)\n",
    "if RB5 in discard_pool:\n",
    "    print('This hero has already been selected')\n",
    "else:\n",
    "    discard_pool.append(RB5)\n",
    "    print(RB5)     "
   ]
  },
  {
   "cell_type": "code",
   "execution_count": null,
   "metadata": {},
   "outputs": [],
   "source": [
    "DB5 = input('Dire 5th ban: ')\n",
    "DB5 = hero_name_proess(DB5)\n",
    "if DB5 in discard_pool:\n",
    "    print('This hero has already been selected')\n",
    "else:\n",
    "    discard_pool.append(DB5)\n",
    "    print(DB5)     "
   ]
  },
  {
   "cell_type": "markdown",
   "metadata": {},
   "source": [
    "#### Second Pick Phase"
   ]
  },
  {
   "cell_type": "code",
   "execution_count": null,
   "metadata": {},
   "outputs": [],
   "source": [
    "RP3 = input('Radiant 3rd pick: ')\n",
    "RP3 = hero_name_proess(RP3)\n",
    "if RP3 in discard_pool:\n",
    "    print('This hero has already been selected')\n",
    "else:\n",
    "    discard_pool.append(RP3)\n",
    "    print(RP3)     "
   ]
  },
  {
   "cell_type": "code",
   "execution_count": null,
   "metadata": {},
   "outputs": [],
   "source": [
    "DP3 = input('Dire 3rd pick: ')\n",
    "DP3 = hero_name_proess(DP3)\n",
    "if DP3 in discard_pool:\n",
    "    print('This hero has already been selected')\n",
    "else:\n",
    "    discard_pool.append(DP3)\n",
    "    print(DP3)     "
   ]
  },
  {
   "cell_type": "code",
   "execution_count": null,
   "metadata": {},
   "outputs": [],
   "source": [
    "RP4 = input('Radiant 4th pick: ')\n",
    "RP4 = hero_name_proess(RP4)\n",
    "if RP4 in discard_pool:\n",
    "    print('This hero has already been selected')\n",
    "else:\n",
    "    discard_pool.append(RP4)\n",
    "    print(RP4)     "
   ]
  },
  {
   "cell_type": "code",
   "execution_count": null,
   "metadata": {},
   "outputs": [],
   "source": [
    "DP4 = input('Dire 4th pick: ')\n",
    "DP4 = hero_name_proess(DP4)\n",
    "if DP4 in discard_pool:\n",
    "    print('This hero has already been selected')\n",
    "else:\n",
    "    discard_pool.append(DP4)\n",
    "    print(DP4)     "
   ]
  },
  {
   "cell_type": "markdown",
   "metadata": {},
   "source": [
    "#### Third Ban Phase"
   ]
  },
  {
   "cell_type": "code",
   "execution_count": null,
   "metadata": {},
   "outputs": [],
   "source": [
    "DB6 = input('Dire 6th ban: ')\n",
    "DB6 = hero_name_proess(DB6)\n",
    "if DB6 in discard_pool:\n",
    "    print('This hero has already been selected')\n",
    "else:\n",
    "    discard_pool.append(DB6)\n",
    "    print(DB6)     "
   ]
  },
  {
   "cell_type": "code",
   "execution_count": null,
   "metadata": {},
   "outputs": [],
   "source": [
    "RB6 = input('Radiant 6th ban: ')\n",
    "RB6 = hero_name_proess(RB6)\n",
    "if RB6 in discard_pool:\n",
    "    print('This hero has already been selected')\n",
    "else:\n",
    "    discard_pool.append(RB6)\n",
    "    print(RB6)     "
   ]
  },
  {
   "cell_type": "markdown",
   "metadata": {},
   "source": [
    "#### Third Pick Phase"
   ]
  },
  {
   "cell_type": "code",
   "execution_count": null,
   "metadata": {},
   "outputs": [],
   "source": [
    "RP5 = input('Radiant 5th pick: ')\n",
    "RP5 = hero_name_proess(RP5)\n",
    "if RP5 in discard_pool:\n",
    "    print('This hero has already been selected')\n",
    "else:\n",
    "    discard_pool.append(RP5)\n",
    "    print(RP5)     "
   ]
  },
  {
   "cell_type": "code",
   "execution_count": null,
   "metadata": {},
   "outputs": [],
   "source": [
    "DR5 = input('Dire 5th pick: ')\n",
    "DR5 = hero_name_proess(DR5)\n",
    "if DR5 in discard_pool:\n",
    "    print('This hero has already been selected')\n",
    "else:\n",
    "    discard_pool.append(DR5)\n",
    "    print(DR5)     "
   ]
  },
  {
   "cell_type": "markdown",
   "metadata": {},
   "source": [
    "# Let the Game Begin"
   ]
  },
  {
   "cell_type": "markdown",
   "metadata": {},
   "source": [
    "7.22 Dota version"
   ]
  },
  {
   "cell_type": "markdown",
   "metadata": {},
   "source": [
    "the next step is to have a 5v5 match. Each radiant hero will be matchup to the each hero in dire. Add the total sum each, then add all 5. \n",
    "Another factor will be heroes good at. Each good one will be add 1 or 0.5 points. "
   ]
  },
  {
   "cell_type": "markdown",
   "metadata": {},
   "source": [
    "Each hero in Radiant will be scored against each hero in Dire. Their scores are added up together. If the total is a positive number, it means in total, Radiant heroes individually counters Dire heroes"
   ]
  },
  {
   "cell_type": "code",
   "execution_count": 1,
   "metadata": {},
   "outputs": [
    {
     "data": {
      "text/html": [
       "<style>.container { width:100% !important; }</style>"
      ],
      "text/plain": [
       "<IPython.core.display.HTML object>"
      ]
     },
     "metadata": {},
     "output_type": "display_data"
    }
   ],
   "source": [
    "import pandas as pd\n",
    "import numpy as np\n",
    "\n",
    "import itertools\n",
    "import random\n",
    "\n",
    "import urllib.request\n",
    "from urllib.request import urlopen\n",
    "import requests\n",
    "from bs4 import BeautifulSoup\n",
    "\n",
    "from IPython.core.interactiveshell import InteractiveShell\n",
    "InteractiveShell.ast_node_interactivity = \"all\"\n",
    "\n",
    "from IPython.core.display import display, HTML\n",
    "display(HTML(\"<style>.container { width:100% !important; }</style>\"))"
   ]
  },
  {
   "cell_type": "markdown",
   "metadata": {},
   "source": [
    "## Load File"
   ]
  },
  {
   "cell_type": "code",
   "execution_count": 2,
   "metadata": {},
   "outputs": [],
   "source": [
    "import json\n",
    "with open(\"C:/Users/anhqu/OneDrive/Desktop/QAs/QA github folder/heroes_matchup_score.json\") as json_file:\n",
    "    matchup_score1 = json.load(json_file)"
   ]
  },
  {
   "cell_type": "code",
   "execution_count": 3,
   "metadata": {},
   "outputs": [],
   "source": [
    "import json\n",
    "with open(\"C:/Users/anhqu/OneDrive/Desktop/QAs/QA github folder/heroes_good_with_score.json\") as json_file:\n",
    "    good_with_score1 = json.load(json_file)"
   ]
  },
  {
   "cell_type": "code",
   "execution_count": 4,
   "metadata": {},
   "outputs": [],
   "source": [
    "with urlopen('https://raw.githubusercontent.com/dqa611/Dota2_analysis/master/dota2_heroes.csv') as csv_file:\n",
    "    heroes_name_fixed = pd.read_csv(csv_file)"
   ]
  },
  {
   "cell_type": "code",
   "execution_count": 5,
   "metadata": {},
   "outputs": [
    {
     "data": {
      "text/html": [
       "<style>\n",
       ".output {\n",
       "    flex-direction: row;\n",
       "}\n",
       "</style>"
      ],
      "text/plain": [
       "<IPython.core.display.HTML object>"
      ]
     },
     "execution_count": 5,
     "metadata": {},
     "output_type": "execute_result"
    }
   ],
   "source": [
    "from IPython.display import display, HTML\n",
    "\n",
    "CSS = \"\"\"\n",
    ".output {\n",
    "    flex-direction: row;\n",
    "}\n",
    "\"\"\"\n",
    "\n",
    "HTML('<style>{}</style>'.format(CSS))"
   ]
  },
  {
   "cell_type": "code",
   "execution_count": 6,
   "metadata": {},
   "outputs": [],
   "source": [
    "heroes_name_list = heroes_name_fixed['Heroes'].tolist()"
   ]
  },
  {
   "cell_type": "code",
   "execution_count": 7,
   "metadata": {},
   "outputs": [],
   "source": [
    "RP1 = 'Crystal_Maiden'\n",
    "RP2 = 'Ursa'\n",
    "RP3 = 'Lina'\n",
    "RP4 = 'Legion_Commander'\n",
    "RP5 = 'Bounty_Hunter'\n",
    "\n",
    "DP1 = 'Juggernaut'\n",
    "DP2 = 'Witch_Doctor'\n",
    "DP3 = 'Naga_Siren'\n",
    "DP4 = 'Dazzle'\n",
    "DP5 = 'Doom'\n",
    "\n",
    "global radiant_team\n",
    "radiant_team = [RP1, RP2, RP3, RP4, RP5]\n",
    "\n",
    "global dire_team\n",
    "dire_team = [DP1, DP2, DP3, DP4, DP5]\n",
    "\n",
    "global heroes_played\n",
    "heroes_played = radiant_team + dire_team"
   ]
  },
  {
   "cell_type": "markdown",
   "metadata": {},
   "source": [
    "### Set up Laning Stage"
   ]
  },
  {
   "cell_type": "code",
   "execution_count": 8,
   "metadata": {
    "scrolled": true
   },
   "outputs": [],
   "source": [
    "heroes_lane = dict.fromkeys(['Mid', 'Bot', 'Top', 'Jungle', 'Roam'], [0])\n",
    "heroes_role = dict.fromkeys(['Carry', 'Support', 'Utility'], [0])"
   ]
  },
  {
   "cell_type": "code",
   "execution_count": 9,
   "metadata": {
    "scrolled": false
   },
   "outputs": [
    {
     "data": {
      "text/plain": [
       "{'Mid': ['Lina'],\n",
       " 'Bot': ['Ursa', 'Crystal_Maiden'],\n",
       " 'Top': ['Legion_Commander'],\n",
       " 'Jungle': [0],\n",
       " 'Roam': ['Bounty_Hunter']}"
      ]
     },
     "execution_count": 9,
     "metadata": {},
     "output_type": "execute_result"
    },
    {
     "data": {
      "text/plain": [
       "{'Carry': ['Lina', 'Ursa', 'Legion_Commander'],\n",
       " 'Support': ['Crystal_Maiden'],\n",
       " 'Utility': ['Bounty_Hunter']}"
      ]
     },
     "execution_count": 9,
     "metadata": {},
     "output_type": "execute_result"
    }
   ],
   "source": [
    "radiant_heroes_lane = heroes_lane.copy()\n",
    "\n",
    "radiant_heroes_lane.update(Mid = [RP3])\n",
    "radiant_heroes_lane.update(Bot = [RP2, RP1])\n",
    "radiant_heroes_lane.update(Top = [RP4])\n",
    "radiant_heroes_lane.update(Roam = [RP5])\n",
    "\n",
    "radiant_heroes_role = heroes_role.copy()\n",
    "\n",
    "radiant_heroes_role.update(Carry = [RP3, RP2, RP4])\n",
    "radiant_heroes_role.update(Support = [RP1])\n",
    "radiant_heroes_role.update(Utility = [RP5])\n",
    "                           \n",
    "radiant_heroes_lane \n",
    "radiant_heroes_role"
   ]
  },
  {
   "cell_type": "code",
   "execution_count": 10,
   "metadata": {
    "scrolled": true
   },
   "outputs": [
    {
     "data": {
      "text/plain": [
       "{'Mid': ['Naga_Siren'],\n",
       " 'Bot': ['Witch_Doctor', 'Doom'],\n",
       " 'Top': ['Juggernaut', 'Dazzle'],\n",
       " 'Jungle': [0],\n",
       " 'Roam': [0]}"
      ]
     },
     "execution_count": 10,
     "metadata": {},
     "output_type": "execute_result"
    },
    {
     "data": {
      "text/plain": [
       "{'Carry': ['Juggernaut', 'Naga_Siren'],\n",
       " 'Support': ['Witch_Doctor', 'Dazzle'],\n",
       " 'Utility': ['Doom']}"
      ]
     },
     "execution_count": 10,
     "metadata": {},
     "output_type": "execute_result"
    }
   ],
   "source": [
    "dire_heroes_lane = heroes_lane.copy()\n",
    "\n",
    "dire_heroes_lane.update(Mid = [DP3])\n",
    "dire_heroes_lane.update(Bot = [DP2, DP5])\n",
    "dire_heroes_lane.update(Top = [DP1, DP4])\n",
    "\n",
    "dire_heroes_role = heroes_role.copy()\n",
    "\n",
    "dire_heroes_role.update(Carry = [DP1, DP3])\n",
    "dire_heroes_role.update(Support = [DP2, DP4])\n",
    "dire_heroes_role.update(Utility = [DP5])\n",
    "\n",
    "dire_heroes_lane\n",
    "dire_heroes_role"
   ]
  },
  {
   "cell_type": "code",
   "execution_count": 11,
   "metadata": {},
   "outputs": [],
   "source": [
    "# Create lane matchups by lane\n",
    "lane_matchup_flatlist = {}\n",
    "\n",
    "lane_matchup = {'Mid': (radiant_heroes_lane['Mid'], dire_heroes_lane['Mid']),\n",
    "                    'Bot': (radiant_heroes_lane['Bot'], dire_heroes_lane['Bot']), \n",
    "                    'Top': (radiant_heroes_lane['Top'], dire_heroes_lane['Top'])}\n",
    "\n",
    "lane_matchup_flatlist['Mid'] = list(itertools.chain(*lane_matchup['Mid']))\n",
    "lane_matchup_flatlist['Bot'] = list(itertools.chain(*lane_matchup['Bot']))\n",
    "lane_matchup_flatlist['Top'] = list(itertools.chain(*lane_matchup['Top']))\n",
    "\n",
    "game_lane = ['Mid', 'Bot', 'Top']"
   ]
  },
  {
   "cell_type": "code",
   "execution_count": 12,
   "metadata": {},
   "outputs": [],
   "source": [
    "# https://stackoverflow.com/questions/5946236/how-to-merge-multiple-dicts-with-same-key\n",
    "# Combine 2 dictionaries with the same key\n",
    "# Combine hero names in the same lanes\n",
    "# Combine hero names in the same roles (for calculating growth later on)\n",
    "\n",
    "ds = [radiant_heroes_lane, dire_heroes_lane]\n",
    "combined_laning_stage = {}\n",
    "for k in radiant_heroes_lane.keys():\n",
    "  combined_laning_stage[k] = list(itertools.chain(*[d[k] for d in ds]))\n",
    "\n",
    "ds = [radiant_heroes_role, dire_heroes_role]\n",
    "combined_role = {}\n",
    "for k in radiant_heroes_role.keys():\n",
    "  combined_role[k] = list(itertools.chain(*[d[k] for d in ds]))"
   ]
  },
  {
   "cell_type": "markdown",
   "metadata": {},
   "source": [
    "### Upload Heroes Role"
   ]
  },
  {
   "cell_type": "code",
   "execution_count": 400,
   "metadata": {},
   "outputs": [],
   "source": [
    "with urlopen('https://raw.githubusercontent.com/dqa611/Dota2_analysis/master/dota2_heroes_roles.csv') as csv_file:\n",
    "    heroes_roles = pd.read_csv(csv_file)\n",
    "    \n",
    "role_list = list(set(heroes_roles['Role']))\n",
    "non_supp = [x for x in role_list if x != 'Support']\n",
    "non_carry = [x for x in role_list if x != 'Carry']"
   ]
  },
  {
   "cell_type": "markdown",
   "metadata": {},
   "source": [
    "### The Game begins here"
   ]
  },
  {
   "cell_type": "markdown",
   "metadata": {},
   "source": [
    "# Functions"
   ]
  },
  {
   "cell_type": "markdown",
   "metadata": {},
   "source": [
    "### Dictionaries"
   ]
  },
  {
   "cell_type": "code",
   "execution_count": 14,
   "metadata": {},
   "outputs": [],
   "source": [
    "growth_rate = dict.fromkeys(['utility_rate',\n",
    "                             'support_unnatural', 'support_natural_support', 'support_natural_others',\n",
    "                             'carry_unnatural', 'carry_natural_carry', 'carry_natural_others', \n",
    "                            'jungler_unnatural_rate_laning', 'jungler_natural_rate_laning', 'roamer_rate'], 1)"
   ]
  },
  {
   "cell_type": "code",
   "execution_count": 15,
   "metadata": {},
   "outputs": [],
   "source": [
    "strategy_bonus_rate_dict = dict.fromkeys(['team_midgame_aggressive_rate', 'team_midgame_turtle_rate', 'team_normal_rate', 'max_attr_bonus'])"
   ]
  },
  {
   "cell_type": "code",
   "execution_count": 16,
   "metadata": {},
   "outputs": [],
   "source": [
    "strategy_penalty_rate = dict.fromkeys(['aggressive_penalty', 'aggressive_reward', 'turtle_penalty', 'turtle_reward', 'normal_penalty', 'normal_reward'])"
   ]
  },
  {
   "cell_type": "code",
   "execution_count": 17,
   "metadata": {},
   "outputs": [],
   "source": [
    "combat_boost_rate = dict.fromkeys(['role_boost_rate', 'hero_boost_rate', 'team_boost_rate', 'counter_boost_rate', 'next_round_bonus_rate'])"
   ]
  },
  {
   "cell_type": "code",
   "execution_count": 445,
   "metadata": {},
   "outputs": [],
   "source": [
    "initial_setup_dict = dict.fromkeys(['carry_point_for_support', 'support_point_for_carry', 'support_point_for_utility', 'carry_point_for_utility', 'reset_all_points'])"
   ]
  },
  {
   "cell_type": "markdown",
   "metadata": {},
   "source": [
    "### Function to calculate Radiant Counter Score vs Dire"
   ]
  },
  {
   "cell_type": "code",
   "execution_count": 446,
   "metadata": {},
   "outputs": [],
   "source": [
    "def counter_score(radiant_team, dire_team):\n",
    "    radiant_counter_score = 0 \n",
    "\n",
    "    for hero_radiant in radiant_team:\n",
    "        for hero_dire in dire_team:\n",
    "            radiant_counter_score += [y for y in matchup_score1 if hero_radiant in y[0][0] and hero_dire in y[0][1]][0][1]\n",
    "\n",
    "    radiant_team_pair = list(itertools.combinations(radiant_team,2))\n",
    "    radiant_good_with_score = 0\n",
    "\n",
    "    for i in range(len(radiant_team_pair)):\n",
    "        radiant_good_with_score += [y for y in good_with_score1 if \\\n",
    "                                    radiant_team_pair[i][0] in y[0][0] and \\\n",
    "                                    radiant_team_pair[i][1] in y[0][1]][0][1]\n",
    "\n",
    "    dire_team_pair = list(itertools.combinations(dire_team,2))\n",
    "    dire_good_with_score = 0\n",
    "\n",
    "    for i in range(len(dire_team_pair)):\n",
    "        dire_good_with_score += [y for y in good_with_score1 if \\\n",
    "                                    dire_team_pair[i][0] in y[0][0] and \\\n",
    "                                    dire_team_pair[i][1] in y[0][1]][0][1]\n",
    "\n",
    "    radiant_total_score = radiant_counter_score + radiant_good_with_score - dire_good_with_score\n",
    "\n",
    "    return radiant_total_score"
   ]
  },
  {
   "cell_type": "markdown",
   "metadata": {},
   "source": [
    "### Function to calculate individual Hero counter score vs other heroes"
   ]
  },
  {
   "cell_type": "code",
   "execution_count": 447,
   "metadata": {},
   "outputs": [],
   "source": [
    "def hero_counter_score(hero):\n",
    "    if hero in radiant_team: \n",
    "        team = radiant_team\n",
    "        opponent = dire_team\n",
    "    if hero in dire_team:\n",
    "        team = dire_team \n",
    "        opponent = radiant_team\n",
    "\n",
    "    hero_counter_score_list = []\n",
    "    for opponent in opponent:\n",
    "        hero_counter_score_list += [y for y in matchup_score1 if hero in y[0][0] and opponent in y[0][1]]\n",
    "        \n",
    "    hero_counter_score = []\n",
    "    for i in range(len(hero_counter_score_list)):\n",
    "        hero_counter_score.append(hero_counter_score_list[i][1])\n",
    "\n",
    "    hero_counter_score = sum(hero_counter_score)\n",
    "\n",
    "    return hero_counter_score_list, hero_counter_score"
   ]
  },
  {
   "cell_type": "markdown",
   "metadata": {},
   "source": [
    "### Function Process Hero Shortcut name"
   ]
  },
  {
   "cell_type": "code",
   "execution_count": 512,
   "metadata": {},
   "outputs": [],
   "source": [
    "def hero_name_process(hero_list_raw):\n",
    "    hero_list_raw = hero_list_raw.split(',')\n",
    "    hero_list_raw1 = [str(item).strip() for item in hero_list_raw]\n",
    "\n",
    "    hero_list = []\n",
    "\n",
    "    for i in range(len(hero_list_raw)):\n",
    "        hero_list.append(heroes_name_fixed[heroes_name_fixed['key'] == hero_list_raw1[i]]['Heroes'].item())\n",
    "        \n",
    "    return hero_list"
   ]
  },
  {
   "cell_type": "markdown",
   "metadata": {},
   "source": [
    "### Function to set up the initial game by role"
   ]
  },
  {
   "cell_type": "code",
   "execution_count": 589,
   "metadata": {},
   "outputs": [],
   "source": [
    "def initial_setup(heroes_roles):\n",
    "    # Filter only played heroes\n",
    "    global heroes_roles_not_adj_yet\n",
    "    heroes_roles_not_adj_yet = heroes_roles.loc[heroes_roles['Hero Fullname'].isin(heroes_played)]\n",
    "\n",
    "    # Calculate Complexity versus point. Will use later\n",
    "    radiant_complexity = heroes_roles_not_adj_yet.loc[heroes_roles_not_adj_yet['Hero Fullname'].isin(radiant_team) & heroes_roles_not_adj_yet['Role'].isin(['Complexity'])]['Level'].sum()\n",
    "    dire_complexity = heroes_roles_not_adj_yet.loc[heroes_roles_not_adj_yet['Hero Fullname'].isin(dire_team) & heroes_roles_not_adj_yet['Role'].isin(['Complexity'])]['Level'].sum()\n",
    "\n",
    "    global radiant_vs_dire_complexity\n",
    "    radiant_vs_dire_complexity = radiant_complexity - dire_complexity \n",
    "\n",
    "    # Filter out Complexity Points, for caclulating round score\n",
    "    heroes_roles_not_adj_yet = heroes_roles_not_adj_yet.loc[heroes_roles_not_adj_yet['Role'] != 'Complexity']\n",
    "\n",
    "    heroes_lvl_0 = heroes_roles_not_adj_yet.copy()\n",
    "    heroes_lvl_0 = heroes_lvl_0.reset_index(drop=True)\n",
    "\n",
    "    # All points if greater than 0, start at 0.5\n",
    "    heroes_lvl_0['Level'] = heroes_lvl_0['Level'].apply(lambda x: 0.5 if x >0 else 0)\n",
    "            \n",
    "    # First rule set\n",
    "    for hero in combined_role['Carry']:\n",
    "        if heroes_lvl_0.loc[(heroes_lvl_0['Hero Fullname'] == hero) & (heroes_lvl_0['Role'] == 'Support'), 'Level'].item() >0:\n",
    "            heroes_lvl_0.loc[(heroes_lvl_0['Hero Fullname'] == hero) & (heroes_lvl_0['Role'] == 'Support'), 'Level'] = initial_setup_dict['support_point_for_carry'] \n",
    "\n",
    "    for hero in combined_role['Utility']:\n",
    "        if heroes_lvl_0.loc[(heroes_lvl_0['Hero Fullname'] == hero) & (heroes_lvl_0['Role'] == 'Carry'), 'Level'].item() >0:\n",
    "            heroes_lvl_0.loc[(heroes_lvl_0['Hero Fullname'] == hero) & (heroes_lvl_0['Role'] == 'Carry'), 'Level'] = initial_setup_dict['carry_point_for_utility']    \n",
    "        heroes_lvl_0.loc[(heroes_lvl_0['Hero Fullname'] == hero) & (heroes_lvl_0['Role'] == 'Support'), 'Level'] = initial_setup_dict['support_point_for_utility']    \n",
    "\n",
    "    for hero in combined_role['Support']:\n",
    "        if heroes_lvl_0.loc[(heroes_lvl_0['Hero Fullname'] == hero) & (heroes_lvl_0['Role'] == 'Carry'), 'Level'].item() >0:\n",
    "            heroes_lvl_0.loc[(heroes_lvl_0['Hero Fullname'] == hero) & (heroes_lvl_0['Role'] == 'Carry'), 'Level'] =initial_setup_dict['carry_point_for_support']       \n",
    "\n",
    "    return heroes_lvl_0"
   ]
  },
  {
   "cell_type": "markdown",
   "metadata": {},
   "source": [
    "### Function to return Heroes' attributes"
   ]
  },
  {
   "cell_type": "code",
   "execution_count": 514,
   "metadata": {
    "scrolled": true
   },
   "outputs": [],
   "source": [
    "def hero_score(hero, hero_level_input, attr):\n",
    "    if attr == 'all':\n",
    "        return hero_level_input.loc[(hero_level_input['Hero Fullname'] == hero)].reset_index(drop=True)\n",
    "    if '!' in attr:\n",
    "        return hero_level_input.loc[(hero_level_input['Hero Fullname'] == hero) & (hero_level_input['Role'] != attr)].reset_index(drop=True)\n",
    "    else:\n",
    "        return hero_level_input.loc[(hero_level_input['Hero Fullname'] == hero) & (hero_level_input['Role'] == attr)].reset_index(drop=True)  "
   ]
  },
  {
   "cell_type": "markdown",
   "metadata": {},
   "source": [
    "### Function to calculate Round Score \n",
    "In Mid game and Late game the score is by all 5 heroes\n",
    "In each stage of the game, some scores will be excluded out, but will be included back in with grow score included in there"
   ]
  },
  {
   "cell_type": "code",
   "execution_count": 515,
   "metadata": {},
   "outputs": [],
   "source": [
    "def round_score(radiant_input, dire_input, hero_level_input, stage):\n",
    "    def round_score1(radiant_input, dire_input, hero_level_input):\n",
    "        radiant_role_combined = hero_level_input[hero_level_input['Hero Fullname'].isin(radiant_input)]\n",
    "        radiant_role_score = radiant_role_combined.groupby(['Role'])['Level'].sum().reset_index()\n",
    "        radiant_role_score = radiant_role_score.rename(columns={'Level': 'Radiant_role_score'})\n",
    "\n",
    "        dire_role_combined = hero_level_input[hero_level_input['Hero Fullname'].isin(dire_input)]\n",
    "        dire_role_score = dire_role_combined.groupby(['Role'])['Level'].sum().reset_index()\n",
    "        dire_role_score = dire_role_score.rename(columns={'Level': 'Dire_role_score'})\n",
    "\n",
    "        role_score_table = pd.merge(left = radiant_role_score, \\\n",
    "                                    right = dire_role_score, \\\n",
    "                                    on='Role', how='outer').fillna(0)\n",
    "        return role_score_table\n",
    "\n",
    "    role_score_table1 = pd.DataFrame()\n",
    "    \n",
    "    # If left as default, all points are considered\n",
    "    if stage == 'default':\n",
    "        hero_level_input = heroes_roles_not_adj_yet[:]\n",
    "        role_score_table = round_score1(radiant_input, dire_input, hero_level_input)\n",
    "        role_score_table1 = role_score_table[:]\n",
    "        \n",
    "\n",
    "    # In early stage of the game, Carry and Pusher points are not considered\n",
    "    if stage == 'early':\n",
    "        role_score_table = round_score1(radiant_input, dire_input, hero_level_input)\n",
    "        role_score_table1 = role_score_table[~role_score_table['Role'].isin(early_attr_remove)].reset_index(drop=True)\n",
    "        \n",
    "        \n",
    "    # In early stage of the game, Carry points are not considered\n",
    "    if stage == 'mid':\n",
    "        role_score_table = round_score1(radiant_input, dire_input, hero_level_input)\n",
    "        role_score_table1 = role_score_table[~role_score_table['Role'].isin(midgame_attr_remove)].reset_index(drop=True)\n",
    "\n",
    "        \n",
    "    # In early stage of the game, Carry points are considered and Jungler points are not considered\n",
    "    if stage == 'late':\n",
    "        role_score_table = round_score1(radiant_input, dire_input, hero_level_input)\n",
    "        role_score_table1 = role_score_table[~role_score_table['Role'].isin(lategame_attr_remove)].reset_index(drop=True)\n",
    "        \n",
    "        \n",
    "    role_score_table1['radiant_vs_dire'] = role_score_table1['Radiant_role_score'] - \\\n",
    "                                          role_score_table1['Dire_role_score']\n",
    "    \n",
    "    role_score = round(role_score_table1['radiant_vs_dire'].sum(),2)\n",
    "    return role_score_table1, role_score"
   ]
  },
  {
   "cell_type": "markdown",
   "metadata": {},
   "source": [
    "### Function to adjust Laning Point for Roamer"
   ]
  },
  {
   "cell_type": "code",
   "execution_count": 516,
   "metadata": {},
   "outputs": [],
   "source": [
    "def laning_stage(laning):    \n",
    "    early_game_score_raw = round_score(laning[0], laning[1], heroes_roles_not_adj_yet, 'early')\n",
    "\n",
    "    # Radiant additonal points for having a roamer\n",
    "    if radiant_heroes_lane['Roam'] != 0: \n",
    "        radiant_roam_point = hero_score(radiant_heroes_lane['Roam'][0], heroes_roles_not_adj_yet, 'all')\n",
    "\n",
    "        radiant_roam_point['Level'] = radiant_roam_point['Level'] / 3 \n",
    "        radiant_roam_point = radiant_roam_point[radiant_roam_point['Role'].isin(['Escape', 'Disabler', 'Nuker', 'Support'])].reset_index(drop=True)\n",
    "        radiant_roam_point = radiant_roam_point.rename(columns={'Level': 'radiant_roam_point'})\n",
    "    else: \n",
    "        radiant_roam_point = pd.DataFrame(columns=['Role', 'radiant_roam_point']) \n",
    "\n",
    "    # Dire additonal points for having a roamer    \n",
    "    if dire_heroes_lane['Roam'] != 0: \n",
    "        dire_roam_point = hero_score(dire_heroes_lane['Roam'][0], heroes_roles_not_adj_yet, 'all')\n",
    "\n",
    "        dire_roam_point['Level'] = dire_roam_point['Level'] / 3 \n",
    "        dire_roam_point = dire_roam_point[dire_roam_point['Role'].isin(['Escape', 'Disabler', 'Nuker', 'Support'])].reset_index(drop=True)\n",
    "        dire_roam_point = dire_roam_point.rename(columns={'Level': 'dire_roam_point'})\n",
    "    else: \n",
    "        dire_roam_point = pd.DataFrame(columns=['Role', 'dire_roam_point'])\n",
    "\n",
    "    early_game_score1 = early_game_score_raw[0].merge(radiant_roam_point, on='Role', how='outer').fillna(0)\n",
    "    early_game_score2 = early_game_score1.merge(dire_roam_point, on='Role', how='outer').fillna(0)\n",
    "\n",
    "    early_game_score2['versus_score'] = early_game_score2['Radiant_role_score'] + early_game_score2['radiant_roam_point'] - \\\n",
    "                                             early_game_score2['Dire_role_score'] - early_game_score2['dire_roam_point']\n",
    "\n",
    "    bonus_laning_point = round(early_game_score2['versus_score'].sum(),1)\n",
    "    \n",
    "    # Set a cap bonus point of 5\n",
    "    if bonus_laning_point >=5:\n",
    "        bonus_laning_point =5\n",
    "    else: bonus_laning_point = bonus_laning_point\n",
    "    \n",
    "    return early_game_score2, bonus_laning_point, -bonus_laning_point, laning[0], laning[1]"
   ]
  },
  {
   "cell_type": "markdown",
   "metadata": {},
   "source": [
    "### Function adding Counter points in Laning"
   ]
  },
  {
   "cell_type": "code",
   "execution_count": 517,
   "metadata": {},
   "outputs": [],
   "source": [
    "def counter_laning(bonus_laning_point_list):\n",
    "    counter_laning_bot1 = []\n",
    "    counter_laning_mid1 = []\n",
    "    counter_laning_top1 = []\n",
    "\n",
    "    for radiant in range(len(bonus_laning_point_list['Bot'][3])):   \n",
    "        for dire in range(len(bonus_laning_point_list['Bot'][3])):\n",
    "            counter_laning_bot1.append([y[1] for y in matchup_score1 if bonus_laning_point_list['Bot'][3][radiant] in y[0][0] and bonus_laning_point_list['Bot'][4][dire] in y[0][1]])  \n",
    "    counter_laning_bot = list(itertools.chain(*counter_laning_bot1))\n",
    "\n",
    "    for radiant in range(len(bonus_laning_point_list['Mid'][3])):   \n",
    "        for dire in range(len(bonus_laning_point_list['Mid'][3])):\n",
    "            counter_laning_mid1.append([y[1] for y in matchup_score1 if bonus_laning_point_list['Mid'][3][radiant] in y[0][0] and bonus_laning_point_list['Mid'][4][dire] in y[0][1]])  \n",
    "    counter_laning_mid = list(itertools.chain(*counter_laning_mid1))\n",
    "\n",
    "    for radiant in range(len(bonus_laning_point_list['Top'][3])):   \n",
    "        for dire in range(len(bonus_laning_point_list['Top'][3])):\n",
    "            counter_laning_top1.append([y[1] for y in matchup_score1 if bonus_laning_point_list['Top'][3][radiant] in y[0][0] and bonus_laning_point_list['Top'][4][dire] in y[0][1]])  \n",
    "    counter_laning_top = list(itertools.chain(*counter_laning_top1))\n",
    "\n",
    "    global counter_laning_score\n",
    "    counter_laning_score = dict.fromkeys(['counter_laning_mid_score', 'counter_laning_mid_score', 'counter_laning_mid_score'])\n",
    "    counter_laning_score.update(counter_laning_mid_score = sum(counter_laning_mid))\n",
    "    counter_laning_score.update(counter_laning_bot_score = sum(counter_laning_bot))\n",
    "    counter_laning_score.update(counter_laning_top_score = sum(counter_laning_top))\n",
    "    \n",
    "    return counter_laning_score"
   ]
  },
  {
   "cell_type": "markdown",
   "metadata": {},
   "source": [
    "### Function to Level Up Hero 1 "
   ]
  },
  {
   "cell_type": "code",
   "execution_count": 518,
   "metadata": {},
   "outputs": [],
   "source": [
    "def heroes_level_up1(hero): \n",
    "\n",
    "    hero_level = hero_score(hero, heroes_lvl_0, 'all')\n",
    "    hero_lvl1 = hero_level.copy()\n",
    "\n",
    "    # Bonus Laning Point\n",
    "    global bonus_laning_point\n",
    "    bonus_laning_point = 0\n",
    "\n",
    "    if hero in lane_matchup_flatlist['Mid'] and hero in radiant_team:\n",
    "        bonus_laning_point = bonus_laning_point_list['Mid'][1] + counter_laning(bonus_laning_point_list)['counter_laning_mid_score']*laning_counter_matchup_multiply\n",
    "    if hero in lane_matchup_flatlist['Mid'] and hero in dire_team:\n",
    "        bonus_laning_point = bonus_laning_point_list['Mid'][2] - counter_laning(bonus_laning_point_list)['counter_laning_mid_score']*laning_counter_matchup_multiply\n",
    "\n",
    "    if hero in lane_matchup_flatlist['Bot'] and hero in radiant_team:\n",
    "        bonus_laning_point = bonus_laning_point_list['Bot'][1] + counter_laning(bonus_laning_point_list)['counter_laning_bot_score']*laning_counter_matchup_multiply\n",
    "    if hero in lane_matchup_flatlist['Bot'] and hero in dire_team:\n",
    "        bonus_laning_point = bonus_laning_point_list['Bot'][2] - counter_laning(bonus_laning_point_list)['counter_laning_bot_score']*laning_counter_matchup_multiply\n",
    "\n",
    "    if hero in lane_matchup_flatlist['Top'] and hero in radiant_team:\n",
    "        bonus_laning_point = bonus_laning_point_list['Top'][1] + counter_laning(bonus_laning_point_list)['counter_laning_top_score']*laning_counter_matchup_multiply\n",
    "    if hero in lane_matchup_flatlist['Top'] and hero in dire_team:\n",
    "        bonus_laning_point = bonus_laning_point_list['Top'][2] - counter_laning(bonus_laning_point_list)['counter_laning_top_score']*laning_counter_matchup_multiply\n",
    "\n",
    "    # If the Bonus Laning Point causes the growth to be less than 1, the growth is 1\n",
    "    # This situation is rare because the points needs to be at least 50 points to cause it \n",
    "    # Hero Level Up\n",
    "\n",
    "    # Jungler doesn't get bonus laning stage but fixed growth instead   \n",
    "    if hero in combined_laning_stage['Jungle']:\n",
    "        # unnatural jungler\n",
    "        if 'Jungler' not in heroes_roles.loc[heroes_roles['Hero Fullname']==hero, 'Role'] and hero in combined_role['Jungle']: \n",
    "            hero_lvl1.loc[(hero_lvl1['Hero Fullname'] == hero), 'Level'] = \\\n",
    "                hero_lvl1.loc[(hero_lvl1['Hero Fullname'] == hero), 'Level'] * growth_rate_laning['jungler_unnatural_rate']\n",
    "        else: #natural jungler\n",
    "            hero_lvl1.loc[(hero_lvl1['Hero Fullname'] == hero), 'Level'] = \\\n",
    "                hero_lvl1.loc[(hero_lvl1['Hero Fullname'] == hero), 'Level'] * growth_rate_laning['jungler_natural_rate']\n",
    "\n",
    "    # Roamer doesn't get bonus laning stage because its attr points already spread out all lanes. Get a fixed growth\n",
    "    if hero in combined_laning_stage['Roam']:\n",
    "            hero_lvl1.loc[(hero_lvl1['Hero Fullname'] == hero), 'Level'] = \\\n",
    "                hero_lvl1.loc[(hero_lvl1['Hero Fullname'] == hero), 'Level'] * growth_rate_laning['roamer_rate']\n",
    "\n",
    "    # Utility (non support and non carry) will get a small growth rate plus or minus bonus laning points. \n",
    "    # Unnatural Utility heroes doesn't get penalized \n",
    "    # Follow up with the first rule, Carry points is fixed to 1 if the hero has any Carry points\n",
    "    if hero in combined_role['Utility']:\n",
    "        hero_lvl1.loc[(hero_lvl1['Hero Fullname'] == hero) & (~hero_lvl1['Role'].isin(['Carry', 'Support'])), 'Level'] = \\\n",
    "            hero_lvl1.loc[(hero_lvl1['Hero Fullname'] == hero) & (~hero_lvl1['Role'].isin(['Carry', 'Support'])), 'Level'] * (growth_rate_laning['utility_rate'] + bonus_laning_point*laning_bonus_fixed_rate)\n",
    "\n",
    "    # Natural support hero will get bonus support rate plus bonus laning points\n",
    "    # Unnatural support hero will get fixed growth\n",
    "    if hero in combined_role['Support']:\n",
    "        # unnatural support\n",
    "        if heroes_roles_not_adj_yet.loc[(heroes_roles_not_adj_yet['Hero Fullname'] == hero)].loc[heroes_roles_not_adj_yet['Role'] == 'Support', 'Level'].item() ==0 \\\n",
    "        and hero in combined_role['Support']: \n",
    "            hero_lvl1.loc[(hero_lvl1['Hero Fullname'] == hero), 'Level'] = hero_lvl1.loc[(hero_lvl1['Hero Fullname'] == hero), 'Level'] * (growth_rate_laning['support_unnatural'] + bonus_laning_point*laning_bonus_fixed_rate)                \n",
    "        else: # natural support \n",
    "            hero_lvl1.loc[(hero_lvl1['Hero Fullname'] == hero) & (hero_lvl1['Role'] == 'Support'), 'Level'] = \\\n",
    "                hero_lvl1.loc[(hero_lvl1['Hero Fullname'] == hero) & (hero_lvl1['Role'] == 'Support'), 'Level'] * (growth_rate_laning['support_natural_support'] + bonus_laning_point*laning_bonus_fixed_rate)\n",
    "\n",
    "            hero_lvl1.loc[(hero_lvl1['Hero Fullname'] == hero) & (hero_lvl1['Role'] != 'Support'), 'Level'] = \\\n",
    "                hero_lvl1.loc[(hero_lvl1['Hero Fullname'] == hero) & (hero_lvl1['Role'] != 'Support'), 'Level'] * (growth_rate_laning['support_natural_others'] + bonus_laning_point*laning_bonus_fixed_rate)\n",
    "\n",
    "\n",
    "    # Natural carry hero will get bonus carry rate plus bonus laning points\n",
    "    # Unnatural carry hero will get fixed growth\n",
    "    if hero in combined_role['Carry']:\n",
    "        # unnatural carry\n",
    "        if heroes_roles_not_adj_yet.loc[(heroes_roles_not_adj_yet['Hero Fullname'] == hero)].loc[heroes_roles_not_adj_yet['Role'] == 'Carry', 'Level'].item() ==0 \\\n",
    "        and hero in combined_role['Carry']:\n",
    "            hero_lvl1.loc[(hero_lvl1['Hero Fullname'] == hero), 'Level'] = \\\n",
    "                hero_lvl1.loc[(hero_lvl1['Hero Fullname'] == hero), 'Level'] * (growth_rate_laning['carry_unnatural'] + bonus_laning_point*laning_bonus_fixed_rate) #maximum grow is 1.65\n",
    "        else: # natural carry \n",
    "            hero_lvl1.loc[(hero_lvl1['Hero Fullname'] == hero) & (hero_lvl1['Role'] == 'Carry'), 'Level'] = \\\n",
    "                carry_laning_tbl.loc[(carry_laning_tbl['natural_carry_point']== heroes_roles_not_adj_yet.loc[(heroes_roles_not_adj_yet['Hero Fullname'] == hero) & (heroes_roles_not_adj_yet['Role'] == 'Carry'), 'Level'].item()) & \\\n",
    "                                     (carry_laning_tbl['laning_bonus']==bonus_laning_point), 'carry_point_after_laning'].item() \n",
    "\n",
    "            hero_lvl1.loc[(hero_lvl1['Hero Fullname'] == hero) & (hero_lvl1['Role'] != 'Carry'), 'Level'] =  \\\n",
    "                hero_lvl1.loc[(hero_lvl1['Hero Fullname'] == hero) & (hero_lvl1['Role'] != 'Carry'), 'Level'] * (growth_rate_laning['carry_natural_others'] + bonus_laning_point*laning_bonus_fixed_rate)\n",
    "            \n",
    "    # Apply attribute cap\n",
    "    hero_lvl1.loc[~(hero_lvl1['Role'].isin(attrs_cap)), 'Level'] =  \\\n",
    "        hero_lvl1.loc[~(hero_lvl1['Role'].isin(attrs_cap)), 'Level'].where((hero_lvl1['Level'] <cap_attr1), cap_attr1)\n",
    "\n",
    "    hero_lvl1.loc[(hero_lvl1['Role'].isin(attrs_cap)), 'Level'] =  \\\n",
    "        hero_lvl1.loc[(hero_lvl1['Role'].isin(attrs_cap)), 'Level'].where((hero_lvl1['Level'] <cap_attr2), cap_attr2)   \n",
    "    \n",
    "    return hero_lvl1"
   ]
  },
  {
   "cell_type": "markdown",
   "metadata": {},
   "source": [
    "### Function To Create a Table with new Score for Next Round Use"
   ]
  },
  {
   "cell_type": "code",
   "execution_count": 519,
   "metadata": {},
   "outputs": [],
   "source": [
    "def heroes_lvl_up_tbl(function):\n",
    "    table_name = pd.DataFrame()\n",
    "    \n",
    "    for hero in heroes_played:\n",
    "        table_name = pd.concat([table_name, function(hero)])\n",
    "    table_name = table_name.reset_index(drop=True)\n",
    "    return table_name"
   ]
  },
  {
   "cell_type": "markdown",
   "metadata": {},
   "source": [
    "### Function to Level Up Hero 2"
   ]
  },
  {
   "cell_type": "code",
   "execution_count": 520,
   "metadata": {},
   "outputs": [],
   "source": [
    "def heroes_lvl_up2(hero):\n",
    "    hero_level = hero_score(hero, heroes_lvl_20, 'all')\n",
    "    hero_lvl2 = hero_level.copy()\n",
    "\n",
    "    if hero in combined_role['Utility']:\n",
    "        hero_lvl2.loc[(hero_lvl2['Hero Fullname'] == hero) & (~hero_lvl2['Role'].isin(['Carry', 'Support'])), 'Level'] = \\\n",
    "            hero_lvl2.loc[(hero_lvl2['Hero Fullname'] == hero) & (~hero_lvl2['Role'].isin(['Carry', 'Support'])), 'Level'] * (growth_rate_midgame['utility_rate'] + bonus_round20_point*round20_bonus_fixed_rate)\n",
    "\n",
    "    if hero in combined_role['Support']:\n",
    "        # unnatural support\n",
    "        if heroes_roles_not_adj_yet.loc[(heroes_roles_not_adj_yet['Hero Fullname'] == hero)].loc[heroes_roles_not_adj_yet['Role'] == 'Support', 'Level'].item() ==0 \\\n",
    "        and hero in combined_role['Support']: \n",
    "            hero_lvl2.loc[(hero_lvl2['Hero Fullname'] == hero), 'Level'] = hero_lvl2.loc[(hero_lvl2['Hero Fullname'] == hero), 'Level'] * (growth_rate_midgame['support_unnatural'] + bonus_round20_point*round20_bonus_fixed_rate)                \n",
    "        else: # natural support \n",
    "            hero_lvl2.loc[(hero_lvl2['Hero Fullname'] == hero) & (hero_lvl2['Role'] == 'Support'), 'Level'] = \\\n",
    "                hero_lvl2.loc[(hero_lvl2['Hero Fullname'] == hero) & (hero_lvl2['Role'] == 'Support'), 'Level'] * (growth_rate_midgame['support_natural_support'] + bonus_round20_point*round20_bonus_fixed_rate)\n",
    "\n",
    "            hero_lvl2.loc[(hero_lvl2['Hero Fullname'] == hero) & (hero_lvl2['Role'] != 'Support'), 'Level'] = \\\n",
    "                hero_lvl2.loc[(hero_lvl2['Hero Fullname'] == hero) & (hero_lvl2['Role'] != 'Support'), 'Level'] * (growth_rate_midgame['support_natural_others'] + bonus_round20_point*round20_bonus_fixed_rate)\n",
    "\n",
    "    # Natural carry hero will get bonus carry rate plus bonus laning points\n",
    "    # Unnatural carry hero will get fixed growth\n",
    "    if hero in combined_role['Carry']:\n",
    "        # unnatural carry\n",
    "        if heroes_roles_not_adj_yet.loc[(heroes_roles_not_adj_yet['Hero Fullname'] == hero)].loc[heroes_roles_not_adj_yet['Role'] == 'Carry', 'Level'].item() ==0 \\\n",
    "        and hero in combined_role['Carry']:\n",
    "            hero_lvl2.loc[(hero_lvl2['Hero Fullname'] == hero), 'Level'] = \\\n",
    "                hero_lvl2.loc[(hero_lvl2['Hero Fullname'] == hero), 'Level'] * (growth_rate_midgame['carry_unnatural'] + bonus_round20_point*round20_bonus_fixed_rate)\n",
    "        else: # natural carry \n",
    "            carry_natural_point = hero_score(hero, heroes_roles, 'all')['Level'][0]\n",
    "            \n",
    "            # carry point formula. This has a huge impact on carry growth\n",
    "            carry_growth_rate = midgame_carry_point[carry_natural_point-1] + ((carry_natural_point*10 + bonus_round20_point)*round20_bonus_fixed_rate)\n",
    "\n",
    "            hero_lvl2.loc[(hero_lvl2['Hero Fullname'] == hero) & (hero_lvl2['Role'] == 'Carry'), 'Level'] = \\\n",
    "                hero_lvl2.loc[(hero_lvl2['Hero Fullname'] == hero) & (hero_lvl2['Role'] == 'Carry'), 'Level'] * carry_growth_rate\n",
    "\n",
    "            hero_lvl2.loc[(hero_lvl2['Hero Fullname'] == hero) & (hero_lvl2['Role'] != 'Carry'), 'Level'] =  \\\n",
    "                hero_lvl2.loc[(hero_lvl2['Hero Fullname'] == hero) & (hero_lvl2['Role'] != 'Carry'), 'Level'] * (growth_rate_midgame['carry_natural_others'] + bonus_round20_point*round20_bonus_fixed_rate)\n",
    "\n",
    "    # Apply attribute cap\n",
    "    hero_lvl2.loc[~(hero_lvl2['Role'].isin(attrs_cap)), 'Level'] =  \\\n",
    "        hero_lvl2.loc[~(hero_lvl2['Role'].isin(attrs_cap)), 'Level'].where((hero_lvl2['Level'] <cap_attr1), cap_attr1)\n",
    "\n",
    "    hero_lvl2.loc[(hero_lvl2['Role'].isin(attrs_cap)), 'Level'] =  \\\n",
    "        hero_lvl2.loc[(hero_lvl2['Role'].isin(attrs_cap)), 'Level'].where((hero_lvl2['Level'] <cap_attr2), cap_attr2)\n",
    "\n",
    "    return hero_lvl2"
   ]
  },
  {
   "cell_type": "markdown",
   "metadata": {},
   "source": [
    "### Function to Boost bonus based on Strategy"
   ]
  },
  {
   "cell_type": "code",
   "execution_count": 521,
   "metadata": {},
   "outputs": [],
   "source": [
    "def strategy_bonus_rate(team, strategy):\n",
    "    \n",
    "    hero_level_boosted = heroes_lvl_1.copy()\n",
    "    \n",
    "    if strategy == 'random':\n",
    "        strategy = random.choice(['aggressive', 'turtle', 'normal'])\n",
    "    \n",
    "    # Boost hero's midgame aggressive strategy bonus\n",
    "    if strategy == 'aggressive':\n",
    "        for hero in team:\n",
    "            hero_level_boosted.loc[hero_level_boosted['Hero Fullname'] == hero, 'Level'] = \\\n",
    "                hero_level_boosted.loc[hero_level_boosted['Hero Fullname'] == hero, 'Level'] * strategy_bonus_rate_dict['team_midgame_aggressive_rate'] \n",
    "    \n",
    "    # Boost hero's midgame balance strategy bonus\n",
    "    if strategy == 'normal':\n",
    "        for hero in team:\n",
    "            hero_level_boosted.loc[hero_level_boosted['Hero Fullname'] == hero, 'Level'] = \\\n",
    "                hero_level_boosted.loc[hero_level_boosted['Hero Fullname'] == hero, 'Level'] * strategy_bonus_rate_dict['team_normal_rate']\n",
    "\n",
    "    # Boost hero's midgame turtle strategy bonus        \n",
    "    if strategy == 'turtle':\n",
    "        for hero in list(set(team).intersection(combined_role['Carry'])):\n",
    "            hero_level_boosted.loc[hero_level_boosted['Hero Fullname'] == hero, 'Level'] = hero_level_boosted.loc[hero_level_boosted['Hero Fullname'] == hero, 'Level'] * strategy_bonus_rate_dict['team_midgame_turtle_rate']\n",
    "\n",
    "    # Apply attribute cap\n",
    "    hero_level_boosted.loc[~(hero_level_boosted['Role'].isin(attrs_cap)), 'Level'] =  \\\n",
    "        hero_level_boosted.loc[~(hero_level_boosted['Role'].isin(attrs_cap)), 'Level'].where((hero_level_boosted['Level'] <cap_attr1), cap_attr1)\n",
    "\n",
    "    hero_level_boosted.loc[(hero_level_boosted['Role'].isin(attrs_cap)), 'Level'] =  \\\n",
    "        hero_level_boosted.loc[(hero_level_boosted['Role'].isin(attrs_cap)), 'Level'].where((hero_level_boosted['Level'] <cap_attr2), cap_attr2)\n",
    "                       \n",
    "    return hero_level_boosted"
   ]
  },
  {
   "cell_type": "markdown",
   "metadata": {},
   "source": [
    "### Strategy Penalty Function"
   ]
  },
  {
   "cell_type": "code",
   "execution_count": 522,
   "metadata": {},
   "outputs": [],
   "source": [
    "def strategy_penalty(previous_level_input, winner_team_input):\n",
    "    previous_level = previous_level_input.copy()\n",
    "\n",
    "    if winner_team_input == radiant_team:\n",
    "        for hero in radiant_team:\n",
    "            previous_level.loc[(previous_level['Hero Fullname'] == hero), 'Level'] = \\\n",
    "                previous_level.loc[(previous_level['Hero Fullname'] == hero), 'Level'] * strategy_penalty_rate[radiant_strategy+'_reward']\n",
    "        for hero in dire_team:\n",
    "            previous_level.loc[(previous_level['Hero Fullname'] == hero), 'Level'] = \\\n",
    "                previous_level.loc[(previous_level['Hero Fullname'] == hero), 'Level'] * strategy_penalty_rate[dire_strategy+'_penalty']        \n",
    "\n",
    "    if winner_team_input == dire_team:\n",
    "        for hero in radiant_team:\n",
    "            previous_level.loc[(previous_level['Hero Fullname'] == hero), 'Level'] = \\\n",
    "                previous_level.loc[(previous_level['Hero Fullname'] == hero), 'Level'] * strategy_penalty_rate[radiant_strategy+'_penalty']\n",
    "        for hero in dire_team:\n",
    "            previous_level.loc[(previous_level['Hero Fullname'] == hero), 'Level'] = \\\n",
    "                previous_level.loc[(previous_level['Hero Fullname'] == hero), 'Level'] * strategy_penalty_rate[dire_strategy+'_reward']    \n",
    "    \n",
    "    if winner_team_input != radiant_team and winner_team_input != dire_team:\n",
    "        for hero in radiant_team:\n",
    "            previous_level.loc[(previous_level['Hero Fullname'] == hero), 'Level'] = \\\n",
    "                previous_level.loc[(previous_level['Hero Fullname'] == hero), 'Level'] * strategy_penalty_rate[radiant_strategy+'_reward']\n",
    "        for hero in dire_team:\n",
    "            previous_level.loc[(previous_level['Hero Fullname'] == hero), 'Level'] = \\\n",
    "                previous_level.loc[(previous_level['Hero Fullname'] == hero), 'Level'] * strategy_penalty_rate[dire_strategy+'_reward']                          \n",
    "    return previous_level"
   ]
  },
  {
   "cell_type": "markdown",
   "metadata": {},
   "source": [
    "### Boost for Winner(s)"
   ]
  },
  {
   "cell_type": "code",
   "execution_count": 523,
   "metadata": {},
   "outputs": [],
   "source": [
    "def boost_option_explained(boost_option):\n",
    "    if boost_option == 1:\n",
    "        return print('Boost a role in the winner team for each attribute by ' + str(combat_boost_rate['role_boost_rate']) + ' if the natural point is >0. The bonus is divided by the number of heroes in the role')\n",
    "    if boost_option == 2:\n",
    "        return print('Boost a specific hero in the winner team by ' + str(combat_boost_rate['hero_boost_rate']))\n",
    "    if boost_option == 3:\n",
    "        return print('Boost the winner team by ' + str(combat_boost_rate['team_boost_rate']))\n",
    "    if boost_option == 4:\n",
    "        return print('Boost the counter score of ' + str(combat_boost_rate['counter_boost_rate']) + ' permanently to the winner team. No bonus point thou')"
   ]
  },
  {
   "cell_type": "code",
   "execution_count": 524,
   "metadata": {},
   "outputs": [],
   "source": [
    "def boost_for_winner(option_number, previous_level, winner_team, survivors):\n",
    "    \n",
    "    hero_level2_boosted = previous_level.copy()\n",
    "    role_random_selected = random.choice(['Carry', 'Support', 'Utility'])\n",
    "    heroes_suvivors = list(set(winner_team).intersection(survivors))\n",
    "    hero_random_selected = random.choice(heroes_suvivors)\n",
    "    \n",
    "    # Boost a random role. Each attr other than Carry and Support >0 gets an additional .25 point divided by the number of heroes in this role    \n",
    "    if option_number == 1:\n",
    "        for hero in list(set(heroes_suvivors).intersection(combined_role[role_random_selected])):\n",
    "            hero_level2_boosted.loc[~(hero_level2_boosted['Role'].isin(['Carry', 'Support'])) & (hero_level2_boosted['Hero Fullname'] == hero) & (hero_level2_boosted['Level'] > 0), 'Level'] = \\\n",
    "                hero_level2_boosted.loc[~(hero_level2_boosted['Role'].isin(['Carry', 'Support'])) & (hero_level2_boosted['Hero Fullname'] == hero) & (hero_level2_boosted['Level'] > 0), 'Level'] + \\\n",
    "                    (combat_boost_rate['role_boost_rate'] / len(list(set(winner_team).intersection(combined_role[role_random_selected]))))\n",
    "        return role_random_selected, hero_level2_boosted\n",
    "\n",
    "    # Boost a random hero\n",
    "    if option_number == 2: \n",
    "        hero_level2_boosted.loc[hero_level2_boosted['Hero Fullname'] == hero_random_selected, 'Level'] = \\\n",
    "                hero_level2_boosted.loc[hero_level2_boosted['Hero Fullname'] == hero_random_selected, 'Level'] * combat_boost_rate['hero_boost_rate']\n",
    "        return hero_random_selected, hero_level2_boosted\n",
    "        \n",
    "    # Boost the entire team\n",
    "    if option_number == 3:\n",
    "        for hero in heroes_suvivors:\n",
    "            hero_level2_boosted.loc[hero_level2_boosted['Hero Fullname'] == hero, 'Level'] = \\\n",
    "                hero_level2_boosted.loc[hero_level2_boosted['Hero Fullname'] == hero, 'Level'] * combat_boost_rate['team_boost_rate']    \n",
    "        return 'no_random_role_hero_selected', hero_level2_boosted  \n",
    "    \n",
    "    # Boost the counter score to further chance winning next combat\n",
    "    if option_number == 4:            \n",
    "        return 'no_random_role_hero_selected', hero_level2_boosted    "
   ]
  },
  {
   "cell_type": "markdown",
   "metadata": {},
   "source": [
    "### Function to random survivals after combat for growth after combat"
   ]
  },
  {
   "cell_type": "code",
   "execution_count": 525,
   "metadata": {},
   "outputs": [],
   "source": [
    "# The number of survival heroes in the winning team is a random number from 1 to 5\n",
    "# The number of survival heroes in the losing team is a random number as well from 0 to the number of surival winner minus 1\n",
    "def survival_combat(winner_team, radiant_team, dire_team):\n",
    "    import random\n",
    "    \n",
    "    if len(winner_team)>0:\n",
    "        winner_survival = random.sample(winner_team, random.randint(1,5))\n",
    "\n",
    "        losing_team = [x for x in heroes_played if x not in winner_team]\n",
    "        no_winner_surival = len(winner_survival)\n",
    "\n",
    "        loser_survival = random.sample(losing_team, random.randint(0, no_winner_surival -1))\n",
    "        random_survivors = winner_survival + loser_survival \n",
    "    \n",
    "    if len(winner_team)==0:\n",
    "        radiant_random_survival = random.sample(radiant_team, random.randint(1,4))\n",
    "        dire_random_survival = random.sample(dire_team, len(radiant_random_survival))\n",
    "        random_survivors = radiant_random_survival + dire_random_survival \n",
    "    \n",
    "    return random_survivors"
   ]
  },
  {
   "cell_type": "markdown",
   "metadata": {},
   "source": [
    "### Combat Function"
   ]
  },
  {
   "cell_type": "code",
   "execution_count": 526,
   "metadata": {},
   "outputs": [],
   "source": [
    "def run_combat(last_round_score, last_round_score_multiplier, radiant_counter_score, counter_score_multiplier):\n",
    "\n",
    "    import random\n",
    "\n",
    "    combat = random.randint(1,100)\n",
    "    \n",
    "    global radiant_combat_bonus\n",
    "    # Very important formula\n",
    "    radiant_combat_bonus = int(round(last_round_score*last_round_score_multiplier + radiant_counter_score*counter_score_multiplier - radiant_vs_dire_complexity, 2))\n",
    "    \n",
    "    radiant_combat_prob = 34 + radiant_combat_bonus\n",
    "\n",
    "    radiant_major_win = range(0, radiant_combat_prob)\n",
    "    draw = range(radiant_combat_prob, radiant_combat_prob+33)\n",
    "    dire_major_win = range(radiant_combat_prob+33, 101)\n",
    "\n",
    "    winner_combat = []\n",
    "\n",
    "    if combat in radiant_major_win:\n",
    "        winner_combat = radiant_team\n",
    "        loser_combat = dire_team\n",
    "    if combat in draw:\n",
    "        winner_combat = ''\n",
    "        loser_combat = ''\n",
    "    if combat in dire_major_win:\n",
    "        winner_combat = dire_team\n",
    "        loser_combat = radiant_team\n",
    "    \n",
    "    combat_result = dict.fromkeys(['last_round_score', 'radiant_combat_bonus', 'random_number', 'radiant_win_range', 'draw_range', 'dire_win_range', 'winner'])\n",
    "    combat_result.update(last_round_score = last_round_score)\n",
    "    combat_result.update(radiant_combat_bonus = radiant_combat_bonus)\n",
    "    combat_result.update(random_number = combat)\n",
    "    combat_result.update(radiant_win_range = radiant_major_win)\n",
    "    combat_result.update(draw_range = draw)\n",
    "    combat_result.update(dire_win_range = dire_major_win)\n",
    "    combat_result.update(winner = winner_combat)\n",
    "\n",
    "    return combat_result"
   ]
  },
  {
   "cell_type": "markdown",
   "metadata": {},
   "source": [
    "### Function to Apply Strategy Penalty depending on run_combat random outcome\n",
    "### Apply Boost for Winner depending on random boost option"
   ]
  },
  {
   "cell_type": "code",
   "execution_count": 527,
   "metadata": {},
   "outputs": [],
   "source": [
    "def combat(last_round_score, last_round_score_multiplier, counter_score_multiplier, radiant_counter_score, previous_level):\n",
    "\n",
    "    # apply Function Run Combat with Random Generator\n",
    "    global winner_combat\n",
    "    winner_combat = run_combat(last_round_score = last_round_score, \n",
    "                               last_round_score_multiplier = last_round_score_multiplier, \n",
    "                               radiant_counter_score = radiant_counter_score,\n",
    "                               counter_score_multiplier = counter_score_multiplier)\n",
    "    \n",
    "    # Apply Function Strategy Penalty\n",
    "    heroes_lvl_strategy_penalty = strategy_penalty(previous_level, winner_combat['winner'])\n",
    "    \n",
    "     # Apply Function Surival Combat\n",
    "    heroes_random_surivors = survival_combat(winner_combat['winner'], radiant_team, dire_team)\n",
    "\n",
    "    # Print the winner team\n",
    "    if len(winner_combat['winner']) > 0:\n",
    "        \n",
    "        # Apply random boost for the winning team\n",
    "        import random\n",
    "        boost_option = random.randint(1,4)\n",
    "        print('\\n')\n",
    "        print('Boost option is: ' + str(boost_option))\n",
    "        # Apply Function Printing Option Explanation\n",
    "        boost_option_explained(boost_option)\n",
    "\n",
    "        # If the random option is 4, add permanent counter score\n",
    "        if boost_option ==4:\n",
    "            print(boost_for_winner(boost_option, heroes_lvl_strategy_penalty, winner_combat['winner'], heroes_random_surivors)[0])       \n",
    "            \n",
    "            if winner_combat['winner'] == radiant_team:\n",
    "                radiant_counter_score = radiant_counter_score + combat_boost_rate['counter_boost_rate']\n",
    "            if winner_combat['winner'] == dire_team:\n",
    "                radiant_counter_score = radiant_counter_score - combat_boost_rate['counter_boost_rate']\n",
    "            \n",
    "            # No random boost applied\n",
    "            heroes_lvl_winner_boost = heroes_lvl_strategy_penalty.copy()     \n",
    "            \n",
    "        if boost_option in [1,2,3]:   \n",
    "            print(boost_for_winner(boost_option, heroes_lvl_strategy_penalty, winner_combat['winner'], heroes_random_surivors)[0])\n",
    "            \n",
    "            # Apply Function Boost for Winner\n",
    "            heroes_lvl_winner_boost = boost_for_winner(boost_option, heroes_lvl_strategy_penalty, winner_combat['winner'], heroes_random_surivors)[1]\n",
    "            # No change in counter score\n",
    "            radiant_counter_score = radiant_counter_score\n",
    "            \n",
    "            # Caclulate the round score of 2 teams\n",
    "            # Apply Function calculate round score\n",
    "        \n",
    "    if len(winner_combat['winner']) == 0:    \n",
    "        # No random boost applied\n",
    "        heroes_lvl_winner_boost = heroes_lvl_strategy_penalty.copy()\n",
    "        # No change in counter score\n",
    "        radiant_counter_score = radiant_counter_score\n",
    "        \n",
    "        print('\\n')\n",
    "        print('No bonus rate this round')\n",
    "    \n",
    "    return winner_combat['winner'],\\\n",
    "            winner_combat['radiant_combat_bonus'], \\\n",
    "            radiant_counter_score, \\\n",
    "            winner_combat['last_round_score'], \\\n",
    "            winner_combat['random_number'], \\\n",
    "            winner_combat['radiant_win_range'],\\\n",
    "            winner_combat['dire_win_range'], \\\n",
    "            heroes_random_surivors,\\\n",
    "            heroes_lvl_winner_boost, "
   ]
  },
  {
   "cell_type": "markdown",
   "metadata": {},
   "source": [
    "### Growth after Combat by Hero"
   ]
  },
  {
   "cell_type": "code",
   "execution_count": 528,
   "metadata": {},
   "outputs": [
    {
     "data": {
      "text/plain": [
       "0.0"
      ]
     },
     "execution_count": 528,
     "metadata": {},
     "output_type": "execute_result"
    }
   ],
   "source": [
    "hero_score('Ursa', heroes_lvl_21, 'Support')['Level'].item()"
   ]
  },
  {
   "cell_type": "code",
   "execution_count": 540,
   "metadata": {},
   "outputs": [],
   "source": [
    "def hero_combat_growth(heroes_pool, winner_team, previous_level, bonus_round_score):\n",
    "    hero_lvl_growth_after_combat = pd.DataFrame()\n",
    "    \n",
    "    for hero in heroes_pool:\n",
    "        hero_level = hero_score(hero, previous_level, 'all')\n",
    "        hero_next_level = hero_level.copy()\n",
    "\n",
    "        if hero in winner_team:\n",
    "            growth_rate = growth_rate_winner\n",
    "        # This means in the event of a tie, both team will receive loser growth rate\n",
    "        # Only the winning team will receive winner growth rate\n",
    "        if hero not in winner_team:\n",
    "            growth_rate = growth_rate_loser\n",
    "        \n",
    "        if hero in combined_role['Support']:\n",
    "            # unnatural support\n",
    "            if heroes_roles_not_adj_yet.loc[(heroes_roles_not_adj_yet['Hero Fullname'] == hero)].loc[heroes_roles_not_adj_yet['Role'] == 'Support', 'Level'].item() ==0 \\\n",
    "            and hero in combined_role['Support']: \n",
    "                for role in role_list:\n",
    "                    hero_next_level.loc[(hero_next_level['Hero Fullname'] == hero) & (hero_next_level['Role'] ==role), 'Level'] = \\\n",
    "                        hero_next_level.loc[(hero_next_level['Hero Fullname'] == hero) & (hero_next_level['Role'] ==role), 'Level'] * (growth_rate['support_unnatural']+ \\\n",
    "                                                                                                                                       bonus_round_score*round_combat_bonus_fixed_rate + \\\n",
    "                                                                                                                                        hero_score(hero, heroes_roles, role)['Level'].item()/5)             \n",
    "            else: # natural support \n",
    "                hero_next_level.loc[(hero_next_level['Hero Fullname'] == hero) & (hero_next_level['Role'] =='Support'), 'Level'] = \\\n",
    "                    hero_next_level.loc[(hero_next_level['Hero Fullname'] == hero) & (hero_next_level['Role'] =='Support'), 'Level'] * (growth_rate['support_natural_support']+ \\\n",
    "                                                                                                                                        bonus_round_score*round_combat_bonus_fixed_rate + \\\n",
    "                                                                                                                                        hero_score(hero, heroes_roles, 'Support')['Level'].item()/5)\n",
    "                for role in non_supp:\n",
    "                    hero_next_level.loc[(hero_next_level['Hero Fullname'] == hero) & (hero_next_level['Role'] ==role), 'Level'] = \\\n",
    "                        hero_next_level.loc[(hero_next_level['Hero Fullname'] == hero) & (hero_next_level['Role'] ==role), 'Level'] * (growth_rate['support_natural_others']+ \\\n",
    "                                                                                                                                       bonus_round_score*round_combat_bonus_fixed_rate + \\\n",
    "                                                                                                                                       hero_score(hero, heroes_roles, role)['Level'].item()/5)\n",
    "        if hero in combined_role['Utility']:            \n",
    "            for role in non_carry:\n",
    "                hero_next_level.loc[(hero_next_level['Hero Fullname'] == hero) & (hero_next_level['Role'] ==role), 'Level'] = \\\n",
    "                    hero_next_level.loc[(hero_next_level['Hero Fullname'] == hero) & (hero_next_level['Role'] ==role), 'Level'] * (growth_rate['utility_rate']+ \\\n",
    "                                                                                                                                   bonus_round_score*round_combat_bonus_fixed_rate + \\\n",
    "                                                                                                                                   hero_score(hero, heroes_roles, role)['Level'].item()/5)\n",
    "        if hero in combined_role['Carry']:\n",
    "            # unnatural carry\n",
    "            if heroes_roles_not_adj_yet.loc[(heroes_roles_not_adj_yet['Hero Fullname'] == hero)].loc[heroes_roles_not_adj_yet['Role'] == 'Carry', 'Level'].item() ==0 \\\n",
    "            and hero in combined_role['Carry']:\n",
    "                for role in role_list:\n",
    "                    hero_next_level.loc[(hero_next_level['Hero Fullname'] == hero) & (hero_next_level['Role'] ==role), 'Level'] = \\\n",
    "                        hero_next_level.loc[(hero_next_level['Hero Fullname'] == hero) & (hero_next_level['Role'] ==role), 'Level'] * (growth_rate['carry_unnatural']+ \\\n",
    "                                                                                                                                       bonus_round_score*round_combat_bonus_fixed_rate + \\\n",
    "                                                                                                                                       hero_score(hero, heroes_roles, role)['Level'].item()/5)\n",
    "            else: # natural carry \n",
    "                hero_next_level.loc[(hero_next_level['Hero Fullname'] == hero) & (hero_next_level['Role'] =='Carry'), 'Level'] = \\\n",
    "                    hero_next_level.loc[(hero_next_level['Hero Fullname'] == hero) & (hero_next_level['Role'] =='Carry'), 'Level'] * (growth_rate['carry_natural_carry']+ \\\n",
    "                                                                                                                                      bonus_round_score*round_combat_bonus_fixed_rate + \\\n",
    "                                                                                                                                      hero_score(hero, heroes_roles, 'Carry')['Level'].item()/5)\n",
    "                for role in non_carry:\n",
    "                    hero_next_level.loc[(hero_next_level['Hero Fullname'] == hero) & (hero_next_level['Role'] ==role), 'Level'] = \\\n",
    "                        hero_next_level.loc[(hero_next_level['Hero Fullname'] == hero) & (hero_next_level['Role'] ==role), 'Level'] * (growth_rate['carry_natural_others']+ \\\n",
    "                                                                                                                                       bonus_round_score*round_combat_bonus_fixed_rate + \\\n",
    "                                                                                                                                       hero_score(hero, heroes_roles, role)['Level'].item()/5)\n",
    "        # Apply attribute cap\n",
    "        hero_next_level.loc[~(hero_next_level['Role'].isin(attrs_cap)), 'Level'] =  \\\n",
    "            hero_next_level.loc[~(hero_next_level['Role'].isin(attrs_cap)), 'Level'].where((hero_next_level['Level'] <cap_attr1), cap_attr1)\n",
    "        \n",
    "        hero_next_level.loc[(hero_next_level['Role'].isin(attrs_cap)), 'Level'] =  \\\n",
    "            hero_next_level.loc[(hero_next_level['Role'].isin(attrs_cap)), 'Level'].where((hero_next_level['Level'] <cap_attr2), cap_attr2)\n",
    "        \n",
    "        \n",
    "        hero_lvl_growth_after_combat = pd.concat([hero_lvl_growth_after_combat, hero_next_level])\n",
    "        \n",
    "    return hero_lvl_growth_after_combat"
   ]
  },
  {
   "cell_type": "markdown",
   "metadata": {},
   "source": [
    "### Function to Perform the whole Combat Process and Growth"
   ]
  },
  {
   "cell_type": "code",
   "execution_count": 530,
   "metadata": {
    "scrolled": true
   },
   "outputs": [],
   "source": [
    "def series_combat(last_round_score, \n",
    "                  last_round_score_multiplier, \n",
    "                  counter_score_multiplier, \n",
    "                  radiant_counter_score, \n",
    "                  previous_level):\n",
    "    \n",
    "    # apply Function Combat\n",
    "    heroes_lvl_combat = combat(last_round_score = last_round_score, \n",
    "                               last_round_score_multiplier = last_round_score_multiplier,\n",
    "                               counter_score_multiplier = counter_score_multiplier,\n",
    "                               radiant_counter_score = radiant_counter_score,\n",
    "                               previous_level = previous_level) # Should be data before running combat. The result of this is after combat\n",
    "    \n",
    "    # apply Function Round Score\n",
    "    heroes_lvl_end_combat = heroes_lvl_combat[8].copy()\n",
    "    \n",
    "    # apply Function Hero Growth after Combat\n",
    "    heroes_lvl_end_combat = hero_combat_growth(heroes_pool = heroes_played, \n",
    "                                               winner_team = heroes_lvl_combat[0], \n",
    "                                               previous_level = heroes_lvl_combat[8], \n",
    "                                               bonus_round_score = last_round_score)  \n",
    "    \n",
    "    print('Result order is: winner_team, radiant_combat_bonus, radiant_counter_score, last_round_bonus, random_number, radiant_win_range, dire_win_range, survivors')                \n",
    "    return heroes_lvl_combat[:8], heroes_lvl_end_combat"
   ]
  },
  {
   "cell_type": "markdown",
   "metadata": {},
   "source": [
    "### Plot Prior to Combat (Early and beginning of Mid)"
   ]
  },
  {
   "cell_type": "code",
   "execution_count": 631,
   "metadata": {
    "scrolled": true
   },
   "outputs": [],
   "source": [
    "combined_plot_early = pd.DataFrame()\n",
    "\n",
    "plot_min0 = heroes_lvl_0.copy()\n",
    "plot_min0['stage'] = 0\n",
    "plot_min0 = plot_min0[~plot_min0['Role'].isin([early_attr_remove])]\n",
    "\n",
    "plot_min5 = heroes_lvl_1.copy()\n",
    "plot_min5['stage'] = 5\n",
    "plot_min5 = plot_min5[~plot_min5['Role'].isin([early_attr_remove])]\n",
    "\n",
    "plot_min10 = heroes_lvl_20.copy()\n",
    "plot_min10['stage'] = 10\n",
    "plot_min10 = plot_min10[~plot_min10['Role'].isin([midgame_attr_remove])]\n",
    "\n",
    "plot_min15 = heroes_lvl_21.copy()\n",
    "plot_min15['stage'] = 12\n",
    "plot_min15 = plot_min15[~plot_min15['Role'].isin([midgame_attr_remove])]\n",
    "\n",
    "combined_plot_early = pd.concat([plot_min0, plot_min5, plot_min10], axis=0, join='outer', ignore_index=False, keys=None,\n",
    "          levels=None, names=None, verify_integrity=False, copy=True, sort=False)"
   ]
  },
  {
   "cell_type": "markdown",
   "metadata": {},
   "source": [
    "###### Edit the Hero Roles raw data"
   ]
  },
  {
   "cell_type": "markdown",
   "metadata": {},
   "source": [
    "Game mechanics:\n",
    "    \n",
    "So there are 3 roles: Carry, Support and Utility\n",
    "    \n",
    "There are 5 possible 'laning': Mid, Bot, Top, Roam and Jungle\n",
    "    \n",
    "There are 10 attributes of a hero: carry, support, nuker, jungler, disabler, escape, durable, pusher and initiator\n",
    "    \n",
    "Most carries in dota have good attributes by order as carry, escape, pusher, nuker, and durable\n",
    "\n",
    "Most utility in dota have good attributes by order as initiator, nuker, durable, disabler, jungler, and escape\n",
    "\n",
    "Most support in dota have good attributes by order as support, disabler, nuker\n",
    "    \n",
    "In the laning stage of the game, Carry, Pusher and Initiator points are not considered in matchups. That's 2 attrs away for carries and 1 for utilities, but support can keep all theirs. \n",
    "\n",
    "Each role will grow differently. \n",
    "    \n",
    "Carries will have a expontenial growth throughout the game. This means that at early game, they grow slowly. At mid game they start to grow faster depending on their Carry natural points. And at late game they grow fastest but will hit a cap. In the beginning, all Carries poins are ignored. After laning stage, the Carries' carry growth will be: 0.5^(1/(attr_points + laning_bonus_point)). All other attributes grow normally\n",
    "\n",
    "- A 3-point carry will have a slower growth rate than a 1-point carry at the laning stage. In later stage of the game, a 3-point Carry will be rewarded more. \n",
    "- A unnatural carry will have a default carry points of 1. All other attrs grow linearly with their rate\n",
    "\n",
    "Utilities will have a logistic growth throughout the game. This means at early, they grow slowly. At midgame they grow the fastest among roles, ofc depending on their naturaly points. At late game they stop growing fast again and will hit a cap. In the beginning, their Carries point will be set to 1, if they have any Carry points. After laning stage, the growth wil be a constant number plus laning bonus points\n",
    "- Having as many utilties point as possible will help the team snowball\n",
    "\n",
    "Supports will have a gompertizan growth throughout the game. Since at the laning stage of the game their popular attrs are kept, so they contribute the most into winning the laning stage. At the end of the laning stage is their peak as they will have the highest growth rate. After laning stage they will have the slowest growth among roles.\n",
    "- 3-points supports are benefited the most after the laning stage, but their growth in comparison to 1-point supports are going to be less later in the stage of the game."
   ]
  },
  {
   "cell_type": "markdown",
   "metadata": {},
   "source": [
    "For now we'll ignore Complexity points\n",
    "\n",
    "All Carrie's Carry points will be set to 1\n",
    "\n",
    "A Carry's Support points will be ignored\n",
    "\n",
    "A Utility's Carry points will be set to 1 and Support point of 0.5 if the Hero plays Utility role, if the Hero has a Carry point, whether the original point is 1 2 or 3\n",
    "\n",
    "A Support's Carry points will be set to 0 if the Hero doesn't play the Carry role, otherwise it's will be fixed as 1"
   ]
  },
  {
   "cell_type": "markdown",
   "metadata": {},
   "source": [
    "# The Game"
   ]
  },
  {
   "cell_type": "markdown",
   "metadata": {},
   "source": [
    "### Set Up Heroes Attributes"
   ]
  },
  {
   "cell_type": "code",
   "execution_count": 593,
   "metadata": {},
   "outputs": [],
   "source": [
    "heroes_lvl_0 = initial_setup(heroes_roles)"
   ]
  },
  {
   "cell_type": "markdown",
   "metadata": {},
   "source": [
    "### Calculate Counter Score"
   ]
  },
  {
   "cell_type": "code",
   "execution_count": 594,
   "metadata": {},
   "outputs": [],
   "source": [
    "radiant_counter_score_raw = counter_score(radiant_team, dire_team)"
   ]
  },
  {
   "cell_type": "markdown",
   "metadata": {},
   "source": [
    "### Laning Stage Matchup Score"
   ]
  },
  {
   "cell_type": "code",
   "execution_count": 595,
   "metadata": {
    "scrolled": false
   },
   "outputs": [
    {
     "data": {
      "text/plain": [
       "(2.0, -2.0, ['Lina'], ['Naga_Siren'])"
      ]
     },
     "execution_count": 595,
     "metadata": {},
     "output_type": "execute_result"
    },
    {
     "data": {
      "text/plain": [
       "(1.0, -1.0, ['Ursa', 'Crystal_Maiden'], ['Witch_Doctor', 'Doom'])"
      ]
     },
     "execution_count": 595,
     "metadata": {},
     "output_type": "execute_result"
    },
    {
     "data": {
      "text/plain": [
       "(-1.0, 1.0, ['Legion_Commander'], ['Juggernaut', 'Dazzle'])"
      ]
     },
     "execution_count": 595,
     "metadata": {},
     "output_type": "execute_result"
    },
    {
     "name": "stdout",
     "output_type": "stream",
     "text": [
      "add radiant counter score: \n"
     ]
    },
    {
     "data": {
      "text/plain": [
       "{'counter_laning_mid_score': 0,\n",
       " 'counter_laning_bot_score': -2,\n",
       " 'counter_laning_top_score': 0}"
      ]
     },
     "execution_count": 595,
     "metadata": {},
     "output_type": "execute_result"
    }
   ],
   "source": [
    "bonus_laning_point_list = dict.fromkeys(game_lane, 1)\n",
    "\n",
    "bonus_laning_point_list.update(Mid = laning_stage(lane_matchup[game_lane[0]]))\n",
    "bonus_laning_point_list.update(Bot = laning_stage(lane_matchup[game_lane[1]]))\n",
    "bonus_laning_point_list.update(Top = laning_stage(lane_matchup[game_lane[2]]))\n",
    "\n",
    "bonus_laning_point_list['Mid'][1:6]\n",
    "bonus_laning_point_list['Bot'][1:6]\n",
    "bonus_laning_point_list['Top'][1:6]\n",
    "print('add radiant counter score: ')\n",
    "counter_laning(bonus_laning_point_list)"
   ]
  },
  {
   "cell_type": "markdown",
   "metadata": {},
   "source": [
    "### End of Laning Stage"
   ]
  },
  {
   "cell_type": "code",
   "execution_count": 596,
   "metadata": {
    "scrolled": true
   },
   "outputs": [
    {
     "name": "stdout",
     "output_type": "stream",
     "text": [
      "End of laning stage: \n",
      "0.96\n"
     ]
    }
   ],
   "source": [
    "heroes_lvl_1 = heroes_lvl_up_tbl(heroes_level_up1)\n",
    "\n",
    "end_early = round_score(radiant_team, dire_team, heroes_lvl_1, 'early')\n",
    "\n",
    "bonus_round1_point = end_early[1]\n",
    "\n",
    "print('End of laning stage: ')\n",
    "print(end_early[1])"
   ]
  },
  {
   "cell_type": "markdown",
   "metadata": {},
   "source": [
    "### Select Strategy"
   ]
  },
  {
   "cell_type": "code",
   "execution_count": 597,
   "metadata": {},
   "outputs": [],
   "source": [
    "global radiant_strategy\n",
    "radiant_strategy = 'aggressive'\n",
    "global dire_strategy\n",
    "dire_strategy = 'turtle'"
   ]
  },
  {
   "cell_type": "markdown",
   "metadata": {},
   "source": [
    "### End of Strategy"
   ]
  },
  {
   "cell_type": "code",
   "execution_count": 598,
   "metadata": {
    "scrolled": false
   },
   "outputs": [
    {
     "name": "stdout",
     "output_type": "stream",
     "text": [
      "End of strategy stage: \n",
      "3.48\n"
     ]
    }
   ],
   "source": [
    "heroes_lvl_20 = heroes_lvl_1.copy()\n",
    "heroes_lvl_20[heroes_lvl_20['Hero Fullname'].isin(radiant_team)] = strategy_bonus_rate(radiant_team, radiant_strategy)\n",
    "heroes_lvl_20[heroes_lvl_20['Hero Fullname'].isin(dire_team)] = strategy_bonus_rate(dire_team, dire_strategy)\n",
    "\n",
    "end_strategy = round_score(radiant_team, dire_team, heroes_lvl_20, 'mid')\n",
    "\n",
    "bonus_round20_point = end_strategy[1]\n",
    "\n",
    "print('End of strategy stage: ')\n",
    "print(end_strategy[1])"
   ]
  },
  {
   "cell_type": "markdown",
   "metadata": {},
   "source": [
    "### Midgame"
   ]
  },
  {
   "cell_type": "code",
   "execution_count": 599,
   "metadata": {},
   "outputs": [
    {
     "name": "stdout",
     "output_type": "stream",
     "text": [
      "End of midgame growth stage: \n",
      "4.68\n"
     ]
    }
   ],
   "source": [
    "heroes_lvl_21 = heroes_lvl_up_tbl(heroes_lvl_up2)\n",
    "\n",
    "end_midgame_growth = round_score(radiant_team, dire_team, heroes_lvl_21, 'mid')\n",
    "\n",
    "bonus_round21_point = end_midgame_growth[1]\n",
    "\n",
    "print('End of midgame growth stage: ')\n",
    "print(end_midgame_growth[1])"
   ]
  },
  {
   "cell_type": "markdown",
   "metadata": {},
   "source": [
    "### Series of Combat"
   ]
  },
  {
   "cell_type": "markdown",
   "metadata": {},
   "source": [
    "Winning combat earns more gold and exp than farming. There are 4 random boost bonus. "
   ]
  },
  {
   "cell_type": "code",
   "execution_count": 656,
   "metadata": {
    "scrolled": true
   },
   "outputs": [
    {
     "name": "stdout",
     "output_type": "stream",
     "text": [
      "\n",
      "\n",
      "Boost option is: 4\n",
      "Boost the counter score of 6 permanently to the winner team. No bonus point thou\n",
      "no_random_role_hero_selected\n",
      "Result order is: winner_team, radiant_combat_bonus, radiant_counter_score, last_round_bonus, random_number, radiant_win_range, dire_win_range, survivors\n",
      "(['Crystal_Maiden', 'Ursa', 'Lina', 'Legion_Commander', 'Bounty_Hunter'], -2, 3.5, 4.68, 10, range(0, 32), range(65, 101), ['Ursa'])\n",
      "(        Role  Radiant_role_score  Dire_role_score  radiant_vs_dire\n",
      "0      Carry           10.188461         5.556982         4.631479\n",
      "1   Disabler            4.469861         3.461300         1.008561\n",
      "2    Durable            2.105734         0.969909         1.135825\n",
      "3     Escape            1.324380         1.648315        -0.323935\n",
      "4  Initiator            1.062707         1.771383        -0.708676\n",
      "5    Jungler            1.963935         0.000000         1.963935\n",
      "6      Nuker            4.757272         2.522499         2.234773\n",
      "7     Pusher            0.000000         1.779941        -1.779941\n",
      "8    Support            1.225895         2.074366        -0.848471, 7.31)\n",
      "\n",
      "\n",
      "Boost option is: 2\n",
      "Boost a specific hero in the winner team by 1.15\n",
      "Crystal_Maiden\n",
      "Result order is: winner_team, radiant_combat_bonus, radiant_counter_score, last_round_bonus, random_number, radiant_win_range, dire_win_range, survivors\n",
      "(['Crystal_Maiden', 'Ursa', 'Lina', 'Legion_Commander', 'Bounty_Hunter'], 13, 3.5, 7.31, 35, range(0, 47), range(80, 101), ['Bounty_Hunter', 'Crystal_Maiden'])\n",
      "(        Role  Radiant_role_score  Dire_role_score  radiant_vs_dire\n",
      "0      Carry           14.929754         8.629643         6.300111\n",
      "1   Disabler            6.351588         4.605061         1.746527\n",
      "2    Durable            2.790714         1.389088         1.401626\n",
      "3     Escape            2.338308         2.014543         0.323765\n",
      "4  Initiator            1.408398         2.368636        -0.960238\n",
      "5    Jungler            2.554441         0.000000         2.554441\n",
      "6      Nuker            7.321958         3.257653         4.064305\n",
      "7     Pusher            0.000000         2.362035        -2.362035\n",
      "8    Support            2.075186         3.344258        -1.269072, 11.8)\n",
      "\n",
      "\n",
      "Boost option is: 2\n",
      "Boost a specific hero in the winner team by 1.15\n",
      "Bounty_Hunter\n",
      "Result order is: winner_team, radiant_combat_bonus, radiant_counter_score, last_round_bonus, random_number, radiant_win_range, dire_win_range, survivors\n",
      "(['Crystal_Maiden', 'Ursa', 'Lina', 'Legion_Commander', 'Bounty_Hunter'], 14, 3.5, 11.8, 31, range(0, 48), range(81, 101), ['Bounty_Hunter', 'Legion_Commander', 'Ursa', 'Crystal_Maiden'])\n",
      "(        Role  Radiant_role_score  Dire_role_score  radiant_vs_dire\n",
      "0      Carry           22.092038        13.596180         8.495859\n",
      "1   Disabler            9.471296         6.200917         3.270378\n",
      "2    Durable            3.720440         1.999823         1.720617\n",
      "3     Escape            3.608359         2.477216         1.131143\n",
      "4  Initiator            1.877605         3.204341        -1.326736\n",
      "5    Jungler            3.569079         0.000000         3.569079\n",
      "6      Nuker           11.451594         4.252573         7.199021\n",
      "7     Pusher            0.000000         3.169923        -3.169923\n",
      "8    Support            4.058539         5.416583        -1.358043, 19.53)\n",
      "\n",
      "\n",
      "Boost option is: 3\n",
      "Boost the winner team by 1.05\n",
      "no_random_role_hero_selected\n",
      "Result order is: winner_team, radiant_combat_bonus, radiant_counter_score, last_round_bonus, random_number, radiant_win_range, dire_win_range, survivors\n",
      "(['Crystal_Maiden', 'Ursa', 'Lina', 'Legion_Commander', 'Bounty_Hunter'], 17, 3.5, 19.53, 21, range(0, 51), range(84, 101), ['Ursa', 'Lina'])\n",
      "(        Role  Radiant_role_score  Dire_role_score  radiant_vs_dire\n",
      "0      Carry           28.781891        20.250000         8.531891\n",
      "1   Disabler           14.054847         8.481319         5.573528\n",
      "2    Durable            5.134318         2.904843         2.229475\n",
      "3     Escape            5.000000         3.078065         1.921935\n",
      "4  Initiator            2.528529         4.401517        -1.872988\n",
      "5    Jungler            4.839856         0.000000         4.839856\n",
      "6      Nuker           18.150931         5.634354        12.516577\n",
      "7     Pusher            0.000000         4.318233        -4.318233\n",
      "8    Support            5.000000         8.842842        -3.842842, 25.58)\n",
      "\n",
      "\n",
      "Boost option is: 3\n",
      "Boost the winner team by 1.05\n",
      "no_random_role_hero_selected\n",
      "Result order is: winner_team, radiant_combat_bonus, radiant_counter_score, last_round_bonus, random_number, radiant_win_range, dire_win_range, survivors\n",
      "(['Crystal_Maiden', 'Ursa', 'Lina', 'Legion_Commander', 'Bounty_Hunter'], 19, 3.5, 25.58, 24, range(0, 53), range(86, 101), ['Bounty_Hunter'])\n",
      "(        Role  Radiant_role_score  Dire_role_score  radiant_vs_dire\n",
      "0      Carry           30.000000        20.250000         9.750000\n",
      "1   Disabler           17.340418        11.752972         5.587446\n",
      "2    Durable            6.968631         4.248720         2.719910\n",
      "3     Escape            5.000000         3.855687         1.144313\n",
      "4  Initiator            3.431884         6.123504        -2.691620\n",
      "5    Jungler            6.451678         0.000000         6.451678\n",
      "6      Nuker           24.104461         7.559621        16.544841\n",
      "7     Pusher            0.000000         5.956531        -5.956531\n",
      "8    Support            5.000000        10.000000        -5.000000, 28.55)\n",
      "\n",
      "\n",
      "Boost option is: 1\n",
      "Boost a role in the winner team for each attribute by 0.3 if the natural point is >0. The bonus is divided by the number of heroes in the role\n",
      "Carry\n",
      "Result order is: winner_team, radiant_combat_bonus, radiant_counter_score, last_round_bonus, random_number, radiant_win_range, dire_win_range, survivors\n",
      "(['Juggernaut', 'Witch_Doctor', 'Naga_Siren', 'Dazzle', 'Doom'], 20, 3.5, 28.55, 88, range(0, 54), range(87, 101), ['Juggernaut', 'Naga_Siren'])\n",
      "(        Role  Radiant_role_score  Dire_role_score  radiant_vs_dire\n",
      "0      Carry           30.000000        20.280000         9.720000\n",
      "1   Disabler           19.231187        14.930522         4.300666\n",
      "2    Durable            8.763634         7.126351         1.637283\n",
      "3     Escape            5.000000         5.603444        -0.603444\n",
      "4  Initiator            4.315880         7.724610        -3.408730\n",
      "5    Jungler            8.084374         0.000000         8.084374\n",
      "6      Nuker           28.963268        11.526158        17.437110\n",
      "7     Pusher            0.000000         9.547128        -9.547128\n",
      "8    Support            5.000000        10.000000        -5.000000, 22.62)\n",
      "\n",
      "\n",
      "No bonus rate this round\n",
      "Result order is: winner_team, radiant_combat_bonus, radiant_counter_score, last_round_bonus, random_number, radiant_win_range, dire_win_range, survivors\n",
      "('', 18, 3.5, 22.62, 64, range(0, 52), range(85, 101), ['Lina', 'Doom'])\n",
      "(        Role  Radiant_role_score  Dire_role_score  radiant_vs_dire\n",
      "0      Carry           30.000000        20.313600         9.686400\n",
      "1   Disabler           20.000000        16.834808         3.165192\n",
      "2    Durable           11.481105        10.000000         1.481105\n",
      "3     Escape            5.000000         7.830387        -2.830387\n",
      "4  Initiator            5.000000         8.807436        -3.807436\n",
      "5    Jungler            9.726096         0.000000         9.726096\n",
      "6      Nuker           33.113079        17.422045        15.691034\n",
      "7     Pusher            0.000000        14.022951       -14.022951\n",
      "8    Support            5.000000        10.000000        -5.000000, 14.09)\n",
      "\n",
      "\n",
      "Boost option is: 1\n",
      "Boost a role in the winner team for each attribute by 0.3 if the natural point is >0. The bonus is divided by the number of heroes in the role\n",
      "Support\n",
      "Result order is: winner_team, radiant_combat_bonus, radiant_counter_score, last_round_bonus, random_number, radiant_win_range, dire_win_range, survivors\n",
      "(['Juggernaut', 'Witch_Doctor', 'Naga_Siren', 'Dazzle', 'Doom'], 15, 3.5, 14.09, 85, range(0, 49), range(82, 101), ['Juggernaut', 'Dazzle', 'Doom', 'Witch_Doctor', 'Bounty_Hunter', 'Crystal_Maiden'])\n",
      "(        Role  Radiant_role_score  Dire_role_score  radiant_vs_dire\n",
      "0      Carry           30.000000        20.351232         9.648768\n",
      "1   Disabler           20.000000        19.365746         0.634254\n",
      "2    Durable           14.161752        10.000000         4.161752\n",
      "3     Escape            5.000000        10.000000        -5.000000\n",
      "4  Initiator            5.000000        10.000000        -5.000000\n",
      "5    Jungler           10.000000         0.000000        10.000000\n",
      "6      Nuker           36.249354        20.524495        15.724859\n",
      "7     Pusher            0.000000        15.928963       -15.928963\n",
      "8    Support            5.000000        10.000000        -5.000000, 9.24)\n",
      "\n",
      "\n",
      "Boost option is: 4\n",
      "Boost the counter score of 6 permanently to the winner team. No bonus point thou\n",
      "no_random_role_hero_selected\n"
     ]
    },
    {
     "name": "stdout",
     "output_type": "stream",
     "text": [
      "Result order is: winner_team, radiant_combat_bonus, radiant_counter_score, last_round_bonus, random_number, radiant_win_range, dire_win_range, survivors\n",
      "(['Crystal_Maiden', 'Ursa', 'Lina', 'Legion_Commander', 'Bounty_Hunter'], 13, 9.5, 9.24, 18, range(0, 47), range(80, 101), ['Lina', 'Bounty_Hunter', 'Legion_Commander', 'Ursa'])\n",
      "(        Role  Radiant_role_score  Dire_role_score  radiant_vs_dire\n",
      "0      Carry           30.000000        20.351232         9.648768\n",
      "1   Disabler           20.000000        20.000000         0.000000\n",
      "2    Durable           18.816295        10.000000         8.816295\n",
      "3     Escape            5.000000        10.000000        -5.000000\n",
      "4  Initiator            5.000000        10.000000        -5.000000\n",
      "5    Jungler           10.000000         0.000000        10.000000\n",
      "6      Nuker           39.266575        22.909132        16.357442\n",
      "7     Pusher            0.000000        17.265351       -17.265351\n",
      "8    Support            5.000000        10.000000        -5.000000, 12.56)\n",
      "\n",
      "\n",
      "Boost option is: 2\n",
      "Boost a specific hero in the winner team by 1.15\n",
      "Lina\n",
      "Result order is: winner_team, radiant_combat_bonus, radiant_counter_score, last_round_bonus, random_number, radiant_win_range, dire_win_range, survivors\n",
      "(['Crystal_Maiden', 'Ursa', 'Lina', 'Legion_Commander', 'Bounty_Hunter'], 29, 9.5, 12.56, 16, range(0, 63), range(96, 101), ['Lina', 'Legion_Commander'])\n",
      "(        Role  Radiant_role_score  Dire_role_score  radiant_vs_dire\n",
      "0      Carry                30.0        20.351232         9.648768\n",
      "1   Disabler                20.0        20.000000         0.000000\n",
      "2    Durable                20.0        10.000000        10.000000\n",
      "3     Escape                 5.0        10.000000        -5.000000\n",
      "4  Initiator                 5.0        10.000000        -5.000000\n",
      "5    Jungler                10.0         0.000000        10.000000\n",
      "6      Nuker                40.0        25.906549        14.093451\n",
      "7     Pusher                 0.0        18.943163       -18.943163\n",
      "8    Support                 5.0        10.000000        -5.000000, 9.8)\n"
     ]
    }
   ],
   "source": [
    "radiant_counter_score_list = [radiant_counter_score_raw]\n",
    "combat_last_round = [end_midgame_growth[1]]\n",
    "previous_level_input_list = [heroes_lvl_21]\n",
    "previous_level_input_df = pd.DataFrame(heroes_lvl_21)\n",
    "previous_level_input_df['stage'] = 15\n",
    "\n",
    "combat_result_tbl = pd.DataFrame()\n",
    "                                      \n",
    "for i in range(0, 10):\n",
    "    combat_result = series_combat(last_round_score = combat_last_round[i], \\\n",
    "                                  last_round_score_multiplier = last_round_score_multiplier,\\\n",
    "                                  counter_score_multiplier = counter_score_multiplier, \\\n",
    "                                  radiant_counter_score = radiant_counter_score_list[i], \\\n",
    "                                  previous_level = previous_level_input_list[i])        \n",
    "\n",
    "    print(combat_result[0][:8])\n",
    "\n",
    "    end_combat_round_score = round_score(radiant_team, dire_team, combat_result[1], 'mid')\n",
    "    print(end_combat_round_score)\n",
    "    # Result order is: winner_team, radiant_combat_bonus, radiant_counter_score, last_round_bonus, random_number, radiant_win_range, dire_win_range, survivors, combat_growth_score_input, new_data: '\n",
    "    radiant_counter_score_list.append(combat_result[0][2]) \n",
    "    combat_last_round.append(end_combat_round_score[1])\n",
    "    \n",
    "    combat_result_tbl = combat_result[1]\n",
    "    combat_result_tbl['stage'] = 18+i*3\n",
    "    \n",
    "    previous_level_input_list.append(combat_result_tbl)\n",
    "    previous_level_input_df = pd.concat([previous_level_input_df, combat_result_tbl])                 "
   ]
  },
  {
   "cell_type": "code",
   "execution_count": 657,
   "metadata": {},
   "outputs": [
    {
     "data": {
      "text/html": [
       "<div>\n",
       "<style scoped>\n",
       "    .dataframe tbody tr th:only-of-type {\n",
       "        vertical-align: middle;\n",
       "    }\n",
       "\n",
       "    .dataframe tbody tr th {\n",
       "        vertical-align: top;\n",
       "    }\n",
       "\n",
       "    .dataframe thead th {\n",
       "        text-align: right;\n",
       "    }\n",
       "</style>\n",
       "<table border=\"1\" class=\"dataframe\">\n",
       "  <thead>\n",
       "    <tr style=\"text-align: right;\">\n",
       "      <th></th>\n",
       "      <th>Hero shortcutname</th>\n",
       "      <th>Hero Fullname</th>\n",
       "      <th>Role</th>\n",
       "      <th>Level</th>\n",
       "      <th>stage</th>\n",
       "      <th>game_role</th>\n",
       "    </tr>\n",
       "  </thead>\n",
       "  <tbody>\n",
       "  </tbody>\n",
       "</table>\n",
       "</div>"
      ],
      "text/plain": [
       "Empty DataFrame\n",
       "Columns: [Hero shortcutname, Hero Fullname, Role, Level, stage, game_role]\n",
       "Index: []"
      ]
     },
     "execution_count": 657,
     "metadata": {},
     "output_type": "execute_result"
    },
    {
     "data": {
      "text/html": [
       "<div>\n",
       "<style scoped>\n",
       "    .dataframe tbody tr th:only-of-type {\n",
       "        vertical-align: middle;\n",
       "    }\n",
       "\n",
       "    .dataframe tbody tr th {\n",
       "        vertical-align: top;\n",
       "    }\n",
       "\n",
       "    .dataframe thead th {\n",
       "        text-align: right;\n",
       "    }\n",
       "</style>\n",
       "<table border=\"1\" class=\"dataframe\">\n",
       "  <thead>\n",
       "    <tr style=\"text-align: right;\">\n",
       "      <th></th>\n",
       "      <th>Hero shortcutname</th>\n",
       "      <th>Hero Fullname</th>\n",
       "      <th>Role</th>\n",
       "      <th>Level</th>\n",
       "      <th>stage</th>\n",
       "      <th>game_role</th>\n",
       "    </tr>\n",
       "  </thead>\n",
       "  <tbody>\n",
       "    <tr>\n",
       "      <th>0</th>\n",
       "      <td>lc</td>\n",
       "      <td>Legion_Commander</td>\n",
       "      <td>Carry</td>\n",
       "      <td>10.000000</td>\n",
       "      <td>30</td>\n",
       "      <td>Carry</td>\n",
       "    </tr>\n",
       "    <tr>\n",
       "      <th>1</th>\n",
       "      <td>lc</td>\n",
       "      <td>Legion_Commander</td>\n",
       "      <td>Disabler</td>\n",
       "      <td>5.000000</td>\n",
       "      <td>30</td>\n",
       "      <td>Carry</td>\n",
       "    </tr>\n",
       "    <tr>\n",
       "      <th>2</th>\n",
       "      <td>lc</td>\n",
       "      <td>Legion_Commander</td>\n",
       "      <td>Durable</td>\n",
       "      <td>3.210101</td>\n",
       "      <td>30</td>\n",
       "      <td>Carry</td>\n",
       "    </tr>\n",
       "    <tr>\n",
       "      <th>3</th>\n",
       "      <td>lc</td>\n",
       "      <td>Legion_Commander</td>\n",
       "      <td>Escape</td>\n",
       "      <td>0.000000</td>\n",
       "      <td>30</td>\n",
       "      <td>Carry</td>\n",
       "    </tr>\n",
       "    <tr>\n",
       "      <th>4</th>\n",
       "      <td>lc</td>\n",
       "      <td>Legion_Commander</td>\n",
       "      <td>Initiator</td>\n",
       "      <td>3.210101</td>\n",
       "      <td>30</td>\n",
       "      <td>Carry</td>\n",
       "    </tr>\n",
       "    <tr>\n",
       "      <th>5</th>\n",
       "      <td>lc</td>\n",
       "      <td>Legion_Commander</td>\n",
       "      <td>Jungler</td>\n",
       "      <td>0.000000</td>\n",
       "      <td>30</td>\n",
       "      <td>Carry</td>\n",
       "    </tr>\n",
       "    <tr>\n",
       "      <th>6</th>\n",
       "      <td>lc</td>\n",
       "      <td>Legion_Commander</td>\n",
       "      <td>Nuker</td>\n",
       "      <td>3.210101</td>\n",
       "      <td>30</td>\n",
       "      <td>Carry</td>\n",
       "    </tr>\n",
       "    <tr>\n",
       "      <th>7</th>\n",
       "      <td>lc</td>\n",
       "      <td>Legion_Commander</td>\n",
       "      <td>Pusher</td>\n",
       "      <td>0.000000</td>\n",
       "      <td>30</td>\n",
       "      <td>Carry</td>\n",
       "    </tr>\n",
       "    <tr>\n",
       "      <th>8</th>\n",
       "      <td>lc</td>\n",
       "      <td>Legion_Commander</td>\n",
       "      <td>Support</td>\n",
       "      <td>0.000000</td>\n",
       "      <td>30</td>\n",
       "      <td>Carry</td>\n",
       "    </tr>\n",
       "  </tbody>\n",
       "</table>\n",
       "</div>"
      ],
      "text/plain": [
       "  Hero shortcutname     Hero Fullname       Role      Level  stage game_role\n",
       "0                lc  Legion_Commander      Carry  10.000000     30     Carry\n",
       "1                lc  Legion_Commander   Disabler   5.000000     30     Carry\n",
       "2                lc  Legion_Commander    Durable   3.210101     30     Carry\n",
       "3                lc  Legion_Commander     Escape   0.000000     30     Carry\n",
       "4                lc  Legion_Commander  Initiator   3.210101     30     Carry\n",
       "5                lc  Legion_Commander    Jungler   0.000000     30     Carry\n",
       "6                lc  Legion_Commander      Nuker   3.210101     30     Carry\n",
       "7                lc  Legion_Commander     Pusher   0.000000     30     Carry\n",
       "8                lc  Legion_Commander    Support   0.000000     30     Carry"
      ]
     },
     "execution_count": 657,
     "metadata": {},
     "output_type": "execute_result"
    }
   ],
   "source": [
    "combined_plot.loc[(combined_plot['Hero Fullname'] =='Legion_Commander') & (combined_plot['stage'] == 28)]\n",
    "combined_plot.loc[(combined_plot['Hero Fullname'] =='Legion_Commander') & (combined_plot['stage'] == 30)]"
   ]
  },
  {
   "cell_type": "markdown",
   "metadata": {},
   "source": [
    "### Plot: Heroes Impact"
   ]
  },
  {
   "cell_type": "code",
   "execution_count": 658,
   "metadata": {},
   "outputs": [
    {
     "data": {
      "text/plain": [
       "<matplotlib.axes._subplots.AxesSubplot at 0x1b480795fd0>"
      ]
     },
     "execution_count": 658,
     "metadata": {},
     "output_type": "execute_result"
    },
    {
     "data": {
      "image/png": "[encoded data removed]",
      "text/plain": [
       "<Figure size 720x720 with 1 Axes>"
      ]
     },
     "metadata": {
      "needs_background": "light"
     },
     "output_type": "display_data"
    }
   ],
   "source": [
    "add_data = previous_level_input_df.copy()\n",
    "add_data = add_data[~add_data['Role'].isin([midgame_attr_remove])]\n",
    "\n",
    "combined_plot = pd.concat([combined_plot_early, add_data], axis=0, join='outer', ignore_index=False, keys=None,levels=None, names=None, verify_integrity=False, copy=True, sort=False)\n",
    "\n",
    "for hero in combined_plot['Hero Fullname']:\n",
    "    if hero in combined_role['Support']:\n",
    "        combined_plot.loc[combined_plot['Hero Fullname'] == hero, 'game_role'] = 'Support'\n",
    "    if hero in combined_role['Utility']:\n",
    "        combined_plot.loc[combined_plot['Hero Fullname'] == hero, 'game_role'] = 'Utility'\n",
    "    if hero in combined_role['Carry']:\n",
    "        combined_plot.loc[combined_plot['Hero Fullname'] == hero, 'game_role'] = 'Carry'\n",
    "\n",
    "game_impact = combined_plot.groupby(['stage', 'Hero Fullname'])['Level'].sum().unstack().plot(kind='line', figsize=(10,10), title='Hero impact over time')\n",
    "game_impact"
   ]
  },
  {
   "cell_type": "markdown",
   "metadata": {},
   "source": [
    "### The Game Mechanics"
   ]
  },
  {
   "cell_type": "code",
   "execution_count": 603,
   "metadata": {},
   "outputs": [],
   "source": [
    "initial_setup_dict.update(carry_point_for_support = 0.25)\n",
    "initial_setup_dict.update(support_point_for_carry = 0)\n",
    "initial_setup_dict.update(support_point_for_utility = 0)\n",
    "initial_setup_dict.update(carry_point_for_utility = 0.25)\n",
    "initial_setup_dict.update(reset_all_points = 0.5)"
   ]
  },
  {
   "cell_type": "code",
   "execution_count": 604,
   "metadata": {},
   "outputs": [],
   "source": [
    "early_attr_remove = ['Complexity', 'Carry', 'Initiator', 'Pusher']\n",
    "midgame_attr_remove = ['Complexity']\n",
    "lategame_attr_remove = ['Complexity']"
   ]
  },
  {
   "cell_type": "code",
   "execution_count": 605,
   "metadata": {},
   "outputs": [],
   "source": [
    "growth_rate_laning = growth_rate.copy()\n",
    "\n",
    "growth_rate_laning.update(jungler_unnatural_rate = 1)\n",
    "growth_rate_laning.update(jungler_natural_rate = 1.3)\n",
    "\n",
    "growth_rate_laning.update(roamer_rate = 1.1)\n",
    "\n",
    "growth_rate_laning.update(utility_rate = 1.1)\n",
    "\n",
    "growth_rate_laning.update(support_unnatural = 1)\n",
    "growth_rate_laning.update(support_natural_support = 1.1)\n",
    "growth_rate_laning.update(support_natural_others = 1.1)\n",
    "\n",
    "growth_rate_laning.update(carry_unnatural = 1.2)\n",
    "growth_rate_laning.update(carry_natural_others = 1.1)"
   ]
  },
  {
   "cell_type": "code",
   "execution_count": 606,
   "metadata": {},
   "outputs": [],
   "source": [
    "laning_bonus_fixed_rate = 5/100"
   ]
  },
  {
   "cell_type": "code",
   "execution_count": 607,
   "metadata": {},
   "outputs": [],
   "source": [
    "laning_counter_matchup_multiply = 2"
   ]
  },
  {
   "cell_type": "code",
   "execution_count": 608,
   "metadata": {
    "scrolled": true
   },
   "outputs": [],
   "source": [
    "attrs_cap = ['Carry', 'Durable', 'Nuker', 'Pusher']\n",
    "\n",
    "cap_attr1 = 5\n",
    "cap_attr2 = 10"
   ]
  },
  {
   "cell_type": "code",
   "execution_count": 609,
   "metadata": {},
   "outputs": [],
   "source": [
    "carry_laning_tbl = pd.read_csv('C:/Users/anhqu/OneDrive/Desktop/QAs/QA github folder/Carries_laning_growth.csv')"
   ]
  },
  {
   "cell_type": "code",
   "execution_count": 610,
   "metadata": {},
   "outputs": [],
   "source": [
    "strategy_bonus_rate_dict.update(team_midgame_aggressive_rate = 1.22)\n",
    "strategy_bonus_rate_dict.update(team_midgame_turtle_rate = 1)\n",
    "strategy_bonus_rate_dict.update(team_normal_rate = 1.1)\n",
    "\n",
    "# This bonus is for team that maximize ganking or pushing potential\n",
    "strategy_bonus_rate_dict.update(max_attr_bonus = 1.2)"
   ]
  },
  {
   "cell_type": "code",
   "execution_count": 647,
   "metadata": {},
   "outputs": [],
   "source": [
    "round20_bonus_fixed_rate = 1.2/100"
   ]
  },
  {
   "cell_type": "code",
   "execution_count": 648,
   "metadata": {},
   "outputs": [],
   "source": [
    "midgame_carry_point = [1.18, 1.14, 1.05]"
   ]
  },
  {
   "cell_type": "code",
   "execution_count": 649,
   "metadata": {},
   "outputs": [],
   "source": [
    "last_round_score_multiplier = 1/3\n",
    "counter_score_multiplier = 2.5"
   ]
  },
  {
   "cell_type": "code",
   "execution_count": 650,
   "metadata": {},
   "outputs": [],
   "source": [
    "growth_rate_midgame = growth_rate.copy()\n",
    "\n",
    "growth_rate_midgame.update(utility_rate= 1.15)\n",
    "\n",
    "growth_rate_midgame.update(support_unnatural= 1.1)\n",
    "growth_rate_midgame.update(support_natural_support= 1.1)\n",
    "growth_rate_midgame.update(support_natural_others= 1.1)\n",
    "\n",
    "growth_rate_midgame.update(carry_unnatural= 1.2)\n",
    "growth_rate_midgame.update(carry_natural_others= 1.2)"
   ]
  },
  {
   "cell_type": "code",
   "execution_count": 651,
   "metadata": {},
   "outputs": [],
   "source": [
    "growth_rate_winner = growth_rate.copy()\n",
    "\n",
    "growth_rate_winner.update(utility_rate= 1.05)\n",
    "\n",
    "growth_rate_winner.update(support_unnatural= 1)\n",
    "growth_rate_winner.update(support_natural_support= 1)\n",
    "growth_rate_winner.update(support_natural_others= 1)\n",
    "\n",
    "growth_rate_winner.update(carry_unnatural= 1.1)\n",
    "growth_rate_winner.update(carry_natural_carry= 1.12)\n",
    "growth_rate_winner.update(carry_natural_others= 1.05)"
   ]
  },
  {
   "cell_type": "code",
   "execution_count": 652,
   "metadata": {},
   "outputs": [],
   "source": [
    "growth_rate_loser = growth_rate.copy()\n",
    "\n",
    "growth_rate_loser.update(utility_rate= 1.02)\n",
    "\n",
    "growth_rate_loser.update(support_unnatural= 1)\n",
    "growth_rate_loser.update(support_natural_support= 1)\n",
    "growth_rate_loser.update(support_natural_others= 1)\n",
    "\n",
    "growth_rate_loser.update(carry_unnatural= 1.06)\n",
    "growth_rate_loser.update(carry_natural_carry= 1.08)\n",
    "growth_rate_loser.update(carry_natural_others= 1.01)"
   ]
  },
  {
   "cell_type": "code",
   "execution_count": 653,
   "metadata": {},
   "outputs": [],
   "source": [
    "strategy_penalty_rate.update(aggressive_penalty = 1)\n",
    "strategy_penalty_rate.update(aggressive_reward = 1.05)\n",
    "strategy_penalty_rate.update(turtle_penalty = 1)\n",
    "strategy_penalty_rate.update(turtle_reward = 1.12)\n",
    "strategy_penalty_rate.update(normal_penalty = 1)\n",
    "strategy_penalty_rate.update(normal_reward = 1.08)"
   ]
  },
  {
   "cell_type": "code",
   "execution_count": 654,
   "metadata": {},
   "outputs": [],
   "source": [
    "combat_boost_rate.update(role_boost_rate = 0.3)\n",
    "combat_boost_rate.update(hero_boost_rate = 1.15)\n",
    "combat_boost_rate.update(team_boost_rate = 1.05)\n",
    "combat_boost_rate.update(counter_boost_rate = 6)"
   ]
  },
  {
   "cell_type": "code",
   "execution_count": 655,
   "metadata": {},
   "outputs": [],
   "source": [
    "round_combat_bonus_fixed_rate = 1/600"
   ]
  }
 ],
 "metadata": {
  "kernelspec": {
   "display_name": "Python 3",
   "language": "python",
   "name": "python3"
  },
  "language_info": {
   "codemirror_mode": {
    "name": "ipython",
    "version": 3
   },
   "file_extension": ".py",
   "mimetype": "text/x-python",
   "name": "python",
   "nbconvert_exporter": "python",
   "pygments_lexer": "ipython3",
   "version": "3.7.0"
  }
 },
 "nbformat": 4,
 "nbformat_minor": 2
}
