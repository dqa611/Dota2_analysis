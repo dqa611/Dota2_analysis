{
 "cells": [
  {
   "cell_type": "markdown",
   "metadata": {},
   "source": [
    "7.22 Dota version"
   ]
  },
  {
   "cell_type": "markdown",
   "metadata": {},
   "source": [
    "what im trying to do so far is to websrap dota page theory about hero counters. \n",
    "\n",
    "In theory, each heroes will have counter heroes and items"
   ]
  },
  {
   "cell_type": "markdown",
   "metadata": {},
   "source": [
    "                            # Skip this part, already saved and will load the result"
   ]
  },
  {
   "cell_type": "code",
   "execution_count": null,
   "metadata": {},
   "outputs": [],
   "source": [
    "def get_heroes_matchup_info(hero_name, heroes_mentioned):\n",
    "    \n",
    "    # Part 1: clean up the information collected from the webite  \n",
    "    # filter non type element in the list\n",
    "    heroes_mentioned = list(filter(None, heroes_mentioned)) \n",
    "\n",
    "    # cut short the list to only relevant heroes\n",
    "    heroes_mentioned_clean = heroes_mentioned[heroes_mentioned.index('/index.php?title=' + hero_name + \\\n",
    "                                                                     '/Counters&action=edit&section=1'): \n",
    "                                              heroes_mentioned.index('/Dota_2_Wiki:About') -1]\n",
    "\n",
    "    # remove '/' i the list\n",
    "    heroes_mentioned_clean = [heroes_mentioned[i].strip('/') for i in \n",
    "                              range(len(heroes_mentioned))]    \n",
    "\n",
    "    # remove duplicates in the list    \n",
    "    heroes_mentioned_clean = unique(heroes_mentioned_clean)\n",
    "\n",
    "    # remove skills and items (can think more about this later)\n",
    "    heroes_mentioned_clean1 = []\n",
    "\n",
    "    for i in range(len(heroes_mentioned_clean)):\n",
    "        if '#' not in heroes_mentioned_clean[i]:\n",
    "            heroes_mentioned_clean1.append(heroes_mentioned_clean[i])\n",
    "\n",
    "    # filter only heroes        \n",
    "    heroes_mentioned_clean2 = [heroes_mentioned_clean1[i] for i in \n",
    "                               range(len(heroes_mentioned_clean1)) if \n",
    "                               heroes_mentioned_clean1[i] in heroes_name_list]\n",
    "\n",
    "    # Part 2: populate the hero's matchup info   \n",
    "    # In the page, heroes that counters the hero well is in red  \n",
    "    heroes_countered1 = []\n",
    "\n",
    "    productDivs = soup.findAll('div', attrs={'style': 'margin-bottom:5px; box-shadow:0px 0px 2px 4px red;'})\n",
    "    for div in productDivs:\n",
    "        heroes_countered1.append(div.find('a')['href'].strip('/'))\n",
    "\n",
    "    # In the page, heroes that the hero counters well is in green       \n",
    "    heroes_counter1 = []\n",
    "\n",
    "    productDivs_chartreuse = soup.findAll('div', attrs={'style': 'margin-bottom:5px; box-shadow:0px 0px 2px 4px chartreuse;'})\n",
    "    productDivs_green = soup.findAll('div', attrs={'style': 'margin-bottom:5px; box-shadow:0px 0px 2px 4px green;'})\n",
    "    productDivs = productDivs_chartreuse + productDivs_green\n",
    "    for div in productDivs:\n",
    "        heroes_counter1.append(div.find('a')['href'].strip('/'))\n",
    "\n",
    "    # In the page, heroes good with are list in blue     \n",
    "    heroes_good_with1 = []\n",
    "\n",
    "    productDivs = soup.findAll('div', attrs={'style': 'margin-bottom:5px; box-shadow:0px 0px 2px 4px skyblue;'})\n",
    "    for div in productDivs:\n",
    "        heroes_good_with1.append(div.find('a')['href'].strip('/'))\n",
    "\n",
    "    # In the page, great countered heroes are mentioned in red, then there are some other heroes mentioned before the page moves on to the next section\n",
    "    # last hero mentioned in red \n",
    "    last_red = heroes_mentioned_clean2.index(heroes_countered1[-1])\n",
    "    # first hero mentioned in green\n",
    "    first_green = heroes_mentioned_clean2.index(heroes_counter1[0])\n",
    "    # last hero mentioned in green\n",
    "    last_green = heroes_mentioned_clean2.index(heroes_counter1[-1])\n",
    "\n",
    "    # first hero mentioned in blue\n",
    "    first_blue = heroes_mentioned_clean2.index(heroes_good_with1[0])\n",
    "    # last hero mentioned in blue\n",
    "    last_blue = heroes_mentioned_clean2.index(heroes_good_with1[-1])\n",
    "\n",
    "    # Create list of heroes matchups    \n",
    "    # Create countered level 2\n",
    "    if last_red+1 == first_green:\n",
    "        heroes_countered2 = []\n",
    "    else:     \n",
    "        heroes_countered2 = heroes_mentioned_clean2[last_red+1 : first_green]\n",
    "\n",
    "    # Create counter level 2\n",
    "    if last_green+1 == first_blue: \n",
    "        heroes_counter2 = []\n",
    "    else:\n",
    "        heroes_counter2 = heroes_mentioned_clean2[last_green+1 : first_blue]\n",
    "\n",
    "    # Create good with level 2\n",
    "    heroes_good_with2 = heroes_mentioned_clean2[last_blue+1 :]\n",
    "\n",
    "    # Part 3: export the info \n",
    "    # to an object\n",
    "    heroes_matchup_info = {'heroes_countered1': heroes_countered1, \n",
    "                           'heroes_countered2': heroes_countered2,\n",
    "                           'heroes_counter1': heroes_counter1, \n",
    "                           'heroes_counter2': heroes_counter2,\n",
    "                           'heroes_good_with1': heroes_good_with1,\n",
    "                           'heroes_good_with2': heroes_good_with2}\n",
    "    \n",
    "    return heroes_matchup_info"
   ]
  },
  {
   "cell_type": "markdown",
   "metadata": {},
   "source": [
    "get all the link in gamepedia page"
   ]
  },
  {
   "cell_type": "code",
   "execution_count": null,
   "metadata": {
    "scrolled": false
   },
   "outputs": [],
   "source": [
    "r = requests.get('https://dota2.gamepedia.com/Matchups')\n",
    "soup = BeautifulSoup(r.text)\n",
    "\n",
    "base_url = 'https://dota2.gamepedia.com/Matchups'\n",
    "heroes_counters_link = []\n",
    "\n",
    "for link in soup.find_all('a'):\n",
    "    url = link.get('href')\n",
    "    if url and '/Counters' in url:\n",
    "        heroes_counters_link.append(url)\n",
    "        \n",
    "heroes_counters_link = list(sorted(set(heroes_counters_link)))"
   ]
  },
  {
   "cell_type": "code",
   "execution_count": null,
   "metadata": {},
   "outputs": [],
   "source": [
    "heroes_matchup_dict = {}\n",
    "\n",
    "for i in range(len(heroes_counters_link)):\n",
    "    r = requests.get('https://dota2.gamepedia.com' + heroes_counters_link[i])\n",
    "    soup = BeautifulSoup(r.text)\n",
    "\n",
    "    hero_name = heroes_counters_link[i].strip('/')[:-9]\n",
    "\n",
    "    heroes_mentioned = []\n",
    "    for link in soup.findAll('a'):\n",
    "        heroes_mentioned.append(link.get('href')) \n",
    "    \n",
    "    heroes_matchup_dict[hero_name] = get_heroes_matchup_info(hero_name, heroes_mentioned)"
   ]
  },
  {
   "cell_type": "code",
   "execution_count": null,
   "metadata": {},
   "outputs": [],
   "source": [
    "import json\n",
    "json = json.dumps(heroes_matchup_dict)\n",
    "\n",
    "f = open(\"C:/Users/anhqu/OneDrive/Desktop/QAs/QA github folder/dotapedia_matchup_dict.json\",\"w\")\n",
    "f.write(json)\n",
    "f.close()"
   ]
  },
  {
   "cell_type": "code",
   "execution_count": null,
   "metadata": {},
   "outputs": [],
   "source": [
    "import json\n",
    "with open(\"C:/Users/anhqu/OneDrive/Desktop/QAs/QA github folder/dotapedia_matchup_dict.json\") as json_file:\n",
    "    heroes_matchup_dict = json.load(json_file)"
   ]
  },
  {
   "cell_type": "markdown",
   "metadata": {},
   "source": [
    "list of all heroes and items are mentioned in the counter page of the hero, we need to rank great against, normal against, item against and skills against"
   ]
  },
  {
   "cell_type": "code",
   "execution_count": null,
   "metadata": {},
   "outputs": [],
   "source": [
    "heroes_matchup_pair = list(itertools.permutations(heroes_name_list,2))"
   ]
  },
  {
   "cell_type": "markdown",
   "metadata": {},
   "source": [
    "Matchup Score"
   ]
  },
  {
   "cell_type": "code",
   "execution_count": null,
   "metadata": {},
   "outputs": [],
   "source": [
    "matchup_score = []\n",
    "for i in range(len(heroes_matchup_pair)):    \n",
    "    matchup_score.append(list([heroes_matchup_pair[i],0]))"
   ]
  },
  {
   "cell_type": "code",
   "execution_count": null,
   "metadata": {},
   "outputs": [],
   "source": [
    "for i in range(len(heroes_matchup_pair)):\n",
    "\n",
    "    hero1_in_pair = heroes_matchup_pair[i][0]\n",
    "    hero2_in_pair = heroes_matchup_pair[i][1]\n",
    "    \n",
    "    list_counter_countered = list(itertools.chain(*[heroes_matchup_dict[hero1_in_pair]['heroes_countered2'],\n",
    "                                                    heroes_matchup_dict[hero1_in_pair]['heroes_counter2'],\n",
    "                                                    heroes_matchup_dict[hero1_in_pair]['heroes_countered1'],\n",
    "                                                    heroes_matchup_dict[hero1_in_pair]['heroes_counter1']]\n",
    "                                                 ))\n",
    "\n",
    "# 0 means the 2 heores have ways to counter each other\n",
    "# negative means hero 1 in the pair is countered by hero 2\n",
    "# positive means hero 1 in the pair counters hero 2\n",
    "\n",
    "    if hero2_in_pair not in list_counter_countered:\n",
    "        matchup_score[i][1] = 0\n",
    "    if hero2_in_pair in heroes_matchup_dict[hero1_in_pair]['heroes_countered2']:\n",
    "        matchup_score[i][1] = -.5\n",
    "    if hero2_in_pair in heroes_matchup_dict[hero1_in_pair]['heroes_counter2']:\n",
    "        matchup_score[i][1] = .5\n",
    "    if hero2_in_pair in heroes_matchup_dict[hero1_in_pair]['heroes_countered1']:\n",
    "        matchup_score[i][1] = -1\n",
    "    if hero2_in_pair in heroes_matchup_dict[hero1_in_pair]['heroes_counter1']:\n",
    "        matchup_score[i][1] = 1"
   ]
  },
  {
   "cell_type": "code",
   "execution_count": null,
   "metadata": {},
   "outputs": [],
   "source": [
    "matchup_score1 = matchup_score[:]\n",
    "\n",
    "for i in range(len(matchup_score1)):\n",
    "\n",
    "    hero1_in_pair = heroes_matchup_pair[i][0]\n",
    "    hero2_in_pair = heroes_matchup_pair[i][1]\n",
    "\n",
    "    similar_pairs = [y for y in matchup_score if hero1_in_pair in y[0] and hero2_in_pair in y[0]]    \n",
    "\n",
    "    heroes_pair_1 = similar_pairs[0]\n",
    "    heroes_pair_2 = similar_pairs[1]\n",
    "\n",
    "    if abs(heroes_pair_1[1]) > abs(heroes_pair_2[1]):\n",
    "        matchup_score1[matchup_score1.index(heroes_pair_2)][1] = -heroes_pair_1[1]\n",
    "    elif abs(heroes_pair_1[1]) < abs(heroes_pair_2[1]):\n",
    "        matchup_score1[matchup_score1.index(heroes_pair_1)][1] = -heroes_pair_2[1]"
   ]
  },
  {
   "cell_type": "code",
   "execution_count": null,
   "metadata": {},
   "outputs": [],
   "source": [
    "import json\n",
    "json = json.dumps(matchup_score1)\n",
    "\n",
    "f = open(\"C:/Users/anhqu/OneDrive/Desktop/QAs/QA github folder/heroes_matchup_score.json\",\"w\")\n",
    "f.write(json)\n",
    "f.close()"
   ]
  },
  {
   "cell_type": "markdown",
   "metadata": {},
   "source": [
    "Good With Score"
   ]
  },
  {
   "cell_type": "code",
   "execution_count": null,
   "metadata": {},
   "outputs": [],
   "source": [
    "good_with_score = []\n",
    "for i in range(len(heroes_matchup_pair)):    \n",
    "    good_with_score.append(list([heroes_matchup_pair[i],0]))"
   ]
  },
  {
   "cell_type": "code",
   "execution_count": null,
   "metadata": {},
   "outputs": [],
   "source": [
    "for i in range(len(heroes_matchup_pair)):\n",
    "\n",
    "    hero1_in_pair = heroes_matchup_pair[i][0]\n",
    "    hero2_in_pair = heroes_matchup_pair[i][1]\n",
    "    \n",
    "    list_good_with = list(itertools.chain(*[heroes_matchup_dict[hero1_in_pair]['heroes_good_with1'],\n",
    "                                                    heroes_matchup_dict[hero1_in_pair]['heroes_good_with2']\n",
    "                                           ]))\n",
    "\n",
    "# 0 means the 2 heroes don't significantly go well together\n",
    "# 0.5 means OK\n",
    "# 1 means combo buddy                                        \n",
    "\n",
    "    if hero2_in_pair not in list_good_with:\n",
    "        good_with_score[i][1] = 0\n",
    "    if hero2_in_pair in heroes_matchup_dict[hero1_in_pair]['heroes_good_with2']:\n",
    "        good_with_score[i][1] = .5\n",
    "    if hero2_in_pair in heroes_matchup_dict[hero1_in_pair]['heroes_good_with1']:\n",
    "        good_with_score[i][1] = 1"
   ]
  },
  {
   "cell_type": "code",
   "execution_count": null,
   "metadata": {},
   "outputs": [],
   "source": [
    "good_with_score1 = good_with_score[:]\n",
    "\n",
    "for i in range(len(good_with_score1)):\n",
    "\n",
    "    hero1_in_pair = heroes_matchup_pair[i][0]\n",
    "    hero2_in_pair = heroes_matchup_pair[i][1]\n",
    "\n",
    "    similar_pairs = [y for y in good_with_score if hero1_in_pair in y[0] and hero2_in_pair in y[0]]    \n",
    "\n",
    "    heroes_pair_1 = similar_pairs[0]\n",
    "    heroes_pair_2 = similar_pairs[1]\n",
    "\n",
    "    if abs(heroes_pair_1[1]) > abs(heroes_pair_2[1]):\n",
    "        good_with_score1[good_with_score1.index(heroes_pair_2)][1] = heroes_pair_1[1]\n",
    "    elif abs(heroes_pair_1[1]) < abs(heroes_pair_2[1]):\n",
    "        good_with_score1[good_with_score1.index(heroes_pair_1)][1] = heroes_pair_2[1]"
   ]
  },
  {
   "cell_type": "code",
   "execution_count": null,
   "metadata": {},
   "outputs": [],
   "source": [
    "import json\n",
    "json = json.dumps(good_with_score1)\n",
    "\n",
    "f = open(\"C:/Users/anhqu/OneDrive/Desktop/QAs/QA github folder/heroes_good_with_score.json\",\"w\")\n",
    "f.write(json)\n",
    "f.close()"
   ]
  },
  {
   "cell_type": "markdown",
   "metadata": {},
   "source": [
    "##### Laning Carry bonus Table"
   ]
  },
  {
   "cell_type": "code",
   "execution_count": null,
   "metadata": {},
   "outputs": [],
   "source": [
    "laning_point_series = list(range(-50, 51, 1))\n",
    "for i in range(0, 101):\n",
    "    laning_point_series[i] = round(laning_point_series[i] /10, 1) \n",
    "\n",
    "carry1_min_point = 1\n",
    "carry2_min_point = 1\n",
    "carry3_min_point = 1\n",
    "carry_min_point = [carry1_min_point, carry2_min_point, carry3_min_point]\n",
    "\n",
    "carry1_0_point = 1.5\n",
    "carry2_0_point = carry1_0_point - 0.2\n",
    "carry3_0_point = carry2_0_point - 0.2*2\n",
    "carry_0_point = [carry1_0_point, carry2_0_point, carry3_0_point]\n",
    "\n",
    "carry1_max_point = 2\n",
    "carry2_max_point = carry1_max_point - 0.1\n",
    "carry3_max_point = carry2_max_point - 0.1*2\n",
    "carry_max_point = [carry1_max_point, carry2_max_point, carry3_max_point]\n",
    "\n",
    "carry_laning_tbl = list(itertools.product([1,2,3], laning_point_series))"
   ]
  },
  {
   "cell_type": "code",
   "execution_count": null,
   "metadata": {},
   "outputs": [],
   "source": [
    "carry_laning_tbl =  pd.DataFrame(carry_laning_tbl, columns=['natural_carry_point', 'laning_bonus'])\n",
    "carry_laning_tbl['carry_point_after_laning'] = 0\n",
    "\n",
    "for i in range(1,4):\n",
    "    carry_laning_tbl.loc[(carry_laning_tbl['natural_carry_point']==i) & (carry_laning_tbl['laning_bonus']==-5.0), 'carry_point_after_laning'] = carry_min_point[i-1]\n",
    "for i in range(1,4):\n",
    "    carry_laning_tbl.loc[(carry_laning_tbl['natural_carry_point']==i) & (carry_laning_tbl['laning_bonus']==0.0), 'carry_point_after_laning'] = carry_0_point[i-1]\n",
    "for i in range(1,4):\n",
    "    carry_laning_tbl.loc[(carry_laning_tbl['natural_carry_point']==i) & (carry_laning_tbl['laning_bonus']==5.0), 'carry_point_after_laning'] = carry_max_point[i-1]\n",
    "\n",
    "carry1_neg5_0 = (carry_laning_tbl.loc[50, 'carry_point_after_laning'] - carry_laning_tbl.loc[0, 'carry_point_after_laning'])/50\n",
    "for i in range(1, 50):\n",
    "    carry_laning_tbl.loc[i, 'carry_point_after_laning'] = carry_laning_tbl.loc[i-1, 'carry_point_after_laning'] + carry1_neg5_0\n",
    "\n",
    "carry1_0_50 = (carry_laning_tbl.loc[100, 'carry_point_after_laning'] - carry_laning_tbl.loc[50, 'carry_point_after_laning'])/50    \n",
    "for i in range(51, 100):\n",
    "    carry_laning_tbl.loc[i, 'carry_point_after_laning'] = carry_laning_tbl.loc[i-1, 'carry_point_after_laning'] + carry1_0_50\n",
    "\n",
    "carry2_neg5_0 = (carry_laning_tbl.loc[151, 'carry_point_after_laning'] - carry_laning_tbl.loc[101, 'carry_point_after_laning'])/50    \n",
    "for i in range(102, 151):\n",
    "    carry_laning_tbl.loc[i, 'carry_point_after_laning'] = carry_laning_tbl.loc[i-1, 'carry_point_after_laning'] + carry2_neg5_0\n",
    "\n",
    "carry2_0_50 = (carry_laning_tbl.loc[201, 'carry_point_after_laning'] - carry_laning_tbl.loc[151, 'carry_point_after_laning'])/50    \n",
    "for i in range(152, 201):\n",
    "    carry_laning_tbl.loc[i, 'carry_point_after_laning'] = carry_laning_tbl.loc[i-1, 'carry_point_after_laning'] + carry2_0_50\n",
    "\n",
    "carry3_neg5_0 = (carry_laning_tbl.loc[252, 'carry_point_after_laning'] - carry_laning_tbl.loc[202, 'carry_point_after_laning'])/50 \n",
    "for i in range(203, 252):\n",
    "     carry_laning_tbl.loc[i, 'carry_point_after_laning'] = carry_laning_tbl.loc[i-1, 'carry_point_after_laning'] + carry3_neg5_0\n",
    "        \n",
    "carry3_0_50 = (carry_laning_tbl.loc[302, 'carry_point_after_laning'] - carry_laning_tbl.loc[252, 'carry_point_after_laning'])/50 \n",
    "for i in range(253, 302):\n",
    "     carry_laning_tbl.loc[i, 'carry_point_after_laning'] = carry_laning_tbl.loc[i-1, 'carry_point_after_laning'] + carry3_0_50"
   ]
  },
  {
   "cell_type": "code",
   "execution_count": null,
   "metadata": {},
   "outputs": [],
   "source": [
    "carry_laning_tbl.to_csv('C:/Users/anhqu/OneDrive/Desktop/QAs/QA github folder/Carries_laning_growth.csv')"
   ]
  },
  {
   "cell_type": "markdown",
   "metadata": {},
   "source": [
    "# Let the Game Begin"
   ]
  },
  {
   "cell_type": "markdown",
   "metadata": {},
   "source": [
    "### Captain Mode:\n",
    "\n",
    "RB = Radiant Ban,\n",
    "DB = Dire Ban,\n",
    "RP = Radiant Pick,\n",
    "DP = Dire Pick,\n",
    "\n",
    "RB, DB, RB, DB, RB, DB, \n",
    "\n",
    "RP, DP, DP, RP, \n",
    "\n",
    "RB, DB, RB, DB, \n",
    "\n",
    "RP, DP, RP, DP, \n",
    "\n",
    "DB, RB, \n",
    "\n",
    "RP, DP"
   ]
  },
  {
   "cell_type": "code",
   "execution_count": null,
   "metadata": {},
   "outputs": [],
   "source": [
    "def discard_pool(discard_pool):\n",
    "    remaining_pool = [value for value in heroes_name_list if value not in discard_pool]\n",
    "    return remaining_pool"
   ]
  },
  {
   "cell_type": "markdown",
   "metadata": {},
   "source": [
    "1st Ban Phase"
   ]
  },
  {
   "cell_type": "code",
   "execution_count": null,
   "metadata": {},
   "outputs": [],
   "source": [
    "discard_pool = []\n",
    "RB1 = input('Radiant 1st ban: ')\n",
    "RB1 = hero_name_process(RB1)\n",
    "discard_pool.append(RB1)\n",
    "print(RB1)"
   ]
  },
  {
   "cell_type": "code",
   "execution_count": null,
   "metadata": {},
   "outputs": [],
   "source": [
    "DB1 = input('Dire 1st ban: ')\n",
    "DB1 = hero_name_process(DB1)\n",
    "if DB1 in discard_pool:\n",
    "    print('This hero has already been selected')\n",
    "else:\n",
    "    discard_pool.append(DB1)\n",
    "    print(DB1)"
   ]
  },
  {
   "cell_type": "code",
   "execution_count": null,
   "metadata": {},
   "outputs": [],
   "source": [
    "RB2 = input('Radiant 2nd ban: ')\n",
    "RB2 = hero_name_process(RB2)\n",
    "if RB2 in discard_pool:\n",
    "    print('This hero has already been selected')\n",
    "else:\n",
    "    discard_pool.append(RB2)\n",
    "    print(RB2)    "
   ]
  },
  {
   "cell_type": "code",
   "execution_count": null,
   "metadata": {},
   "outputs": [],
   "source": [
    "DB2 = input('Dire 2nd ban: ')\n",
    "DB2 = hero_name_process(DB2)\n",
    "if DB2 in discard_pool:\n",
    "    print('This hero has already been selected')\n",
    "else:\n",
    "    discard_pool.append(DB2)\n",
    "    print(DB2) "
   ]
  },
  {
   "cell_type": "code",
   "execution_count": null,
   "metadata": {},
   "outputs": [],
   "source": [
    "RB3 = input('Radiant 3rd ban: ')\n",
    "RB3 = hero_name_process(RB3)\n",
    "if RB3 in discard_pool:\n",
    "    print('This hero has already been selected')\n",
    "else:\n",
    "    discard_pool.append(RB2)\n",
    "    print(RB3) "
   ]
  },
  {
   "cell_type": "code",
   "execution_count": null,
   "metadata": {},
   "outputs": [],
   "source": [
    "DB3 = input('Dire 3rd ban: ')\n",
    "DB3 = hero_name_process(DB3)\n",
    "if DB3 in discard_pool:\n",
    "    print('This hero has already been selected')\n",
    "else:\n",
    "    discard_pool.append(DB3)\n",
    "    print(DB3) "
   ]
  },
  {
   "cell_type": "code",
   "execution_count": null,
   "metadata": {
    "scrolled": true
   },
   "outputs": [],
   "source": [
    "first_ban_list = list(itertools.chain(*[RB1, DB1, RB2, DB2, RB3, DB3]))\n",
    "first_ban_list"
   ]
  },
  {
   "cell_type": "markdown",
   "metadata": {},
   "source": [
    "First Pick Phase"
   ]
  },
  {
   "cell_type": "code",
   "execution_count": null,
   "metadata": {},
   "outputs": [],
   "source": [
    "RP1 = input('Radiant 1st pick: ')\n",
    "RP1 = hero_name_proess(RP1)\n",
    "if RP1 in discard_pool:\n",
    "    print('This hero has already been selected')\n",
    "else:\n",
    "    discard_pool.append(RP1)\n",
    "    print(RP1)     "
   ]
  },
  {
   "cell_type": "code",
   "execution_count": null,
   "metadata": {},
   "outputs": [],
   "source": [
    "DP1 = input('Dire 1st pick: ')\n",
    "DP1 = hero_name_proess(DP1)\n",
    "if DP1 in discard_pool:\n",
    "    print('This hero has already been selected')\n",
    "else:\n",
    "    discard_pool.append(DP1)\n",
    "    print(DP1)     "
   ]
  },
  {
   "cell_type": "code",
   "execution_count": null,
   "metadata": {},
   "outputs": [],
   "source": [
    "DB2 = input('Dire 2nd pick: ')\n",
    "DB2 = hero_name_proess(DB2)\n",
    "if DB2 in discard_pool:\n",
    "    print('This hero has already been selected')\n",
    "else:\n",
    "    discard_pool.append(DB2)\n",
    "    print(DB2)     "
   ]
  },
  {
   "cell_type": "code",
   "execution_count": null,
   "metadata": {},
   "outputs": [],
   "source": [
    "RP2 = input('Radiant 2nd pick: ')\n",
    "RP2 = hero_name_proess(RP2)\n",
    "if RP2 in discard_pool:\n",
    "    print('This hero has already been selected')\n",
    "else:\n",
    "    discard_pool.append(RP2)\n",
    "    print(RP2)     "
   ]
  },
  {
   "cell_type": "code",
   "execution_count": null,
   "metadata": {},
   "outputs": [],
   "source": [
    "first_pick_list = list(itertools.chain(*[RP1, DR1, DR2, RP2]))\n",
    "first_pick_list"
   ]
  },
  {
   "cell_type": "markdown",
   "metadata": {},
   "source": [
    "Second Ban Phase"
   ]
  },
  {
   "cell_type": "code",
   "execution_count": null,
   "metadata": {},
   "outputs": [],
   "source": [
    "RB4 = input('Radiant 4th ban: ')\n",
    "RB4 = hero_name_proess(RB4)\n",
    "if RB4 in discard_pool:\n",
    "    print('This hero has already been selected')\n",
    "else:\n",
    "    discard_pool.append(RB4)\n",
    "    print(RB4)     "
   ]
  },
  {
   "cell_type": "code",
   "execution_count": null,
   "metadata": {},
   "outputs": [],
   "source": [
    "DB4 = input('Dire 4th ban: ')\n",
    "DB4 = hero_name_proess(DB4)\n",
    "if DB4 in discard_pool:\n",
    "    print('This hero has already been selected')\n",
    "else:\n",
    "    discard_pool.append(DB4)\n",
    "    print(DB4)     "
   ]
  },
  {
   "cell_type": "code",
   "execution_count": null,
   "metadata": {},
   "outputs": [],
   "source": [
    "RB5 = input('Radiant 5th ban: ')\n",
    "RB5 = hero_name_proess(RB5)\n",
    "if RB5 in discard_pool:\n",
    "    print('This hero has already been selected')\n",
    "else:\n",
    "    discard_pool.append(RB5)\n",
    "    print(RB5)     "
   ]
  },
  {
   "cell_type": "code",
   "execution_count": null,
   "metadata": {},
   "outputs": [],
   "source": [
    "DB5 = input('Dire 5th ban: ')\n",
    "DB5 = hero_name_proess(DB5)\n",
    "if DB5 in discard_pool:\n",
    "    print('This hero has already been selected')\n",
    "else:\n",
    "    discard_pool.append(DB5)\n",
    "    print(DB5)     "
   ]
  },
  {
   "cell_type": "markdown",
   "metadata": {},
   "source": [
    "Second Pick Phase"
   ]
  },
  {
   "cell_type": "code",
   "execution_count": null,
   "metadata": {},
   "outputs": [],
   "source": [
    "RP3 = input('Radiant 3rd pick: ')\n",
    "RP3 = hero_name_proess(RP3)\n",
    "if RP3 in discard_pool:\n",
    "    print('This hero has already been selected')\n",
    "else:\n",
    "    discard_pool.append(RP3)\n",
    "    print(RP3)     "
   ]
  },
  {
   "cell_type": "code",
   "execution_count": null,
   "metadata": {},
   "outputs": [],
   "source": [
    "DP3 = input('Dire 3rd pick: ')\n",
    "DP3 = hero_name_proess(DP3)\n",
    "if DP3 in discard_pool:\n",
    "    print('This hero has already been selected')\n",
    "else:\n",
    "    discard_pool.append(DP3)\n",
    "    print(DP3)     "
   ]
  },
  {
   "cell_type": "code",
   "execution_count": null,
   "metadata": {},
   "outputs": [],
   "source": [
    "RP4 = input('Radiant 4th pick: ')\n",
    "RP4 = hero_name_proess(RP4)\n",
    "if RP4 in discard_pool:\n",
    "    print('This hero has already been selected')\n",
    "else:\n",
    "    discard_pool.append(RP4)\n",
    "    print(RP4)     "
   ]
  },
  {
   "cell_type": "code",
   "execution_count": null,
   "metadata": {},
   "outputs": [],
   "source": [
    "DP4 = input('Dire 4th pick: ')\n",
    "DP4 = hero_name_proess(DP4)\n",
    "if DP4 in discard_pool:\n",
    "    print('This hero has already been selected')\n",
    "else:\n",
    "    discard_pool.append(DP4)\n",
    "    print(DP4)     "
   ]
  },
  {
   "cell_type": "code",
   "execution_count": null,
   "metadata": {},
   "outputs": [],
   "source": [
    "Third Ban Phase"
   ]
  },
  {
   "cell_type": "code",
   "execution_count": null,
   "metadata": {},
   "outputs": [],
   "source": [
    "DB6 = input('Dire 6th ban: ')\n",
    "DB6 = hero_name_proess(DB6)\n",
    "if DB6 in discard_pool:\n",
    "    print('This hero has already been selected')\n",
    "else:\n",
    "    discard_pool.append(DB6)\n",
    "    print(DB6)     "
   ]
  },
  {
   "cell_type": "code",
   "execution_count": null,
   "metadata": {},
   "outputs": [],
   "source": [
    "RB6 = input('Radiant 6th ban: ')\n",
    "RB6 = hero_name_proess(RB6)\n",
    "if RB6 in discard_pool:\n",
    "    print('This hero has already been selected')\n",
    "else:\n",
    "    discard_pool.append(RB6)\n",
    "    print(RB6)     "
   ]
  },
  {
   "cell_type": "code",
   "execution_count": null,
   "metadata": {},
   "outputs": [],
   "source": [
    "Third Pick Phase"
   ]
  },
  {
   "cell_type": "code",
   "execution_count": null,
   "metadata": {},
   "outputs": [],
   "source": [
    "RP5 = input('Radiant 5th pick: ')\n",
    "RP5 = hero_name_proess(RP5)\n",
    "if RP5 in discard_pool:\n",
    "    print('This hero has already been selected')\n",
    "else:\n",
    "    discard_pool.append(RP5)\n",
    "    print(RP5)     "
   ]
  },
  {
   "cell_type": "code",
   "execution_count": null,
   "metadata": {},
   "outputs": [],
   "source": [
    "DR5 = input('Dire 5th pick: ')\n",
    "DR5 = hero_name_proess(DR5)\n",
    "if DR5 in discard_pool:\n",
    "    print('This hero has already been selected')\n",
    "else:\n",
    "    discard_pool.append(DR5)\n",
    "    print(DR5)     "
   ]
  },
  {
   "cell_type": "code",
   "execution_count": null,
   "metadata": {},
   "outputs": [],
   "source": [
    "\n",
    "\n"
   ]
  },
  {
   "cell_type": "markdown",
   "metadata": {},
   "source": [
    "                                                #End of Skipping"
   ]
  },
  {
   "cell_type": "markdown",
   "metadata": {},
   "source": [
    "# Let the Game Begin"
   ]
  },
  {
   "cell_type": "markdown",
   "metadata": {},
   "source": [
    "the next step is to have a 5v5 match. Each radiant hero will be matchup to the each hero in dire. Add the total sum each, then add all 5. \n",
    "Another factor will be heroes good at. Each good one will be add 1 or 0.5 points. "
   ]
  },
  {
   "cell_type": "markdown",
   "metadata": {},
   "source": [
    "Each hero in Radiant will be scored against each hero in Dire. Their scores are added up together. If the total is a positive number, it means in total, Radiant heroes individually counters Dire heroes"
   ]
  },
  {
   "cell_type": "code",
   "execution_count": 1,
   "metadata": {},
   "outputs": [],
   "source": [
    "import json\n",
    "with open(\"C:/Users/anhqu/OneDrive/Desktop/QAs/QA github folder/heroes_matchup_score.json\") as json_file:\n",
    "    matchup_score1 = json.load(json_file)"
   ]
  },
  {
   "cell_type": "code",
   "execution_count": 2,
   "metadata": {},
   "outputs": [],
   "source": [
    "import json\n",
    "with open(\"C:/Users/anhqu/OneDrive/Desktop/QAs/QA github folder/heroes_good_with_score.json\") as json_file:\n",
    "    good_with_score1 = json.load(json_file)"
   ]
  },
  {
   "cell_type": "code",
   "execution_count": 3,
   "metadata": {},
   "outputs": [],
   "source": [
    "def hero_name_process(hero_list_raw):\n",
    "    hero_list_raw = hero_list_raw.split(',')\n",
    "    hero_list_raw1 = [str(item).strip() for item in hero_list_raw]\n",
    "\n",
    "    hero_list = []\n",
    "\n",
    "    for i in range(len(hero_list_raw)):\n",
    "        hero_list.append(heroes_name_fixed[heroes_name_fixed['key'] == hero_list_raw1[i]]['Heroes'].item())\n",
    "        \n",
    "    return hero_list"
   ]
  },
  {
   "cell_type": "code",
   "execution_count": 4,
   "metadata": {},
   "outputs": [],
   "source": [
    "import pandas as pd\n",
    "import numpy as np"
   ]
  },
  {
   "cell_type": "code",
   "execution_count": 5,
   "metadata": {},
   "outputs": [],
   "source": [
    "import itertools"
   ]
  },
  {
   "cell_type": "code",
   "execution_count": 6,
   "metadata": {},
   "outputs": [],
   "source": [
    "import urllib.request\n",
    "import requests\n",
    "from bs4 import BeautifulSoup"
   ]
  },
  {
   "cell_type": "code",
   "execution_count": 7,
   "metadata": {},
   "outputs": [],
   "source": [
    "import urllib.request\n",
    "import json\n",
    "from urllib.request import urlopen"
   ]
  },
  {
   "cell_type": "code",
   "execution_count": 8,
   "metadata": {},
   "outputs": [],
   "source": [
    "from IPython.core.interactiveshell import InteractiveShell\n",
    "InteractiveShell.ast_node_interactivity = \"all\""
   ]
  },
  {
   "cell_type": "code",
   "execution_count": 9,
   "metadata": {},
   "outputs": [
    {
     "data": {
      "text/html": [
       "<style>.container { width:100% !important; }</style>"
      ],
      "text/plain": [
       "<IPython.core.display.HTML object>"
      ]
     },
     "metadata": {},
     "output_type": "display_data"
    }
   ],
   "source": [
    "from IPython.core.display import display, HTML\n",
    "display(HTML(\"<style>.container { width:100% !important; }</style>\"))"
   ]
  },
  {
   "cell_type": "code",
   "execution_count": 10,
   "metadata": {},
   "outputs": [],
   "source": [
    "with urlopen('https://raw.githubusercontent.com/dqa611/Dota2_analysis/master/dota2_heroes.csv') as csv_file:\n",
    "    heroes_name_fixed = pd.read_csv(csv_file)"
   ]
  },
  {
   "cell_type": "code",
   "execution_count": 11,
   "metadata": {},
   "outputs": [],
   "source": [
    "heroes_name_list = heroes_name_fixed['Heroes'].tolist()"
   ]
  },
  {
   "cell_type": "code",
   "execution_count": 12,
   "metadata": {},
   "outputs": [],
   "source": [
    "# remove duplicates and keep the list order \n",
    "# http://www.martinbroadhurst.com/removing-duplicates-from-a-list-while-preserving-order-in-python.html\n",
    "\n",
    "def unique(sequence):\n",
    "    seen = set()\n",
    "    return [x for x in sequence if not (x in seen or seen.add(x))]"
   ]
  },
  {
   "cell_type": "markdown",
   "metadata": {},
   "source": [
    "### Calculate Counter & Good With Score"
   ]
  },
  {
   "cell_type": "code",
   "execution_count": 13,
   "metadata": {},
   "outputs": [],
   "source": [
    "RP1 = 'Crystal_Maiden'\n",
    "RP2 = 'Ursa'\n",
    "RP3 = 'Lina'\n",
    "RP4 = 'Legion_Commander'\n",
    "RP5 = 'Bounty_Hunter'\n",
    "\n",
    "DP1 = 'Juggernaut'\n",
    "DP2 = 'Witch_Doctor'\n",
    "DP3 = 'Naga_Siren'\n",
    "DP4 = 'Dazzle'\n",
    "DP5 = 'Doom'\n",
    "\n",
    "radiant_team = [RP1, RP2, RP3, RP4, RP5]\n",
    "dire_team = [DP1, DP2, DP3, DP4, DP5]\n",
    "heroes_played = radiant_team + dire_team"
   ]
  },
  {
   "cell_type": "code",
   "execution_count": 14,
   "metadata": {},
   "outputs": [
    {
     "data": {
      "text/plain": [
       "-5.0"
      ]
     },
     "execution_count": 14,
     "metadata": {},
     "output_type": "execute_result"
    }
   ],
   "source": [
    "radiant_counter_score = 0 \n",
    "\n",
    "for hero_radiant in radiant_team:\n",
    "    for hero_dire in dire_team:\n",
    "        radiant_counter_score += [y for y in matchup_score1 if hero_radiant in y[0][0] and hero_dire in y[0][1]][0][1]\n",
    "    \n",
    "radiant_counter_score"
   ]
  },
  {
   "cell_type": "code",
   "execution_count": 15,
   "metadata": {},
   "outputs": [
    {
     "data": {
      "text/plain": [
       "5.0"
      ]
     },
     "execution_count": 15,
     "metadata": {},
     "output_type": "execute_result"
    }
   ],
   "source": [
    "radiant_team_pair = list(itertools.combinations(radiant_team,2))\n",
    "radiant_good_with_score = 0\n",
    "\n",
    "for i in range(len(radiant_team_pair)):\n",
    "    radiant_good_with_score += [y for y in good_with_score1 if \\\n",
    "                                radiant_team_pair[i][0] in y[0][0] and \\\n",
    "                                radiant_team_pair[i][1] in y[0][1]][0][1]\n",
    "radiant_good_with_score"
   ]
  },
  {
   "cell_type": "code",
   "execution_count": 16,
   "metadata": {},
   "outputs": [
    {
     "data": {
      "text/plain": [
       "2.5"
      ]
     },
     "execution_count": 16,
     "metadata": {},
     "output_type": "execute_result"
    }
   ],
   "source": [
    "dire_team_pair = list(itertools.combinations(dire_team,2))\n",
    "dire_good_with_score = 0\n",
    "\n",
    "for i in range(len(dire_team_pair)):\n",
    "    dire_good_with_score += [y for y in good_with_score1 if \\\n",
    "                                dire_team_pair[i][0] in y[0][0] and \\\n",
    "                                dire_team_pair[i][1] in y[0][1]][0][1]\n",
    "dire_good_with_score"
   ]
  },
  {
   "cell_type": "code",
   "execution_count": 17,
   "metadata": {
    "scrolled": true
   },
   "outputs": [
    {
     "name": "stdout",
     "output_type": "stream",
     "text": [
      "Radiant Team Score vs. Dire Team is: -2.5\n"
     ]
    }
   ],
   "source": [
    "radiant_total_score = radiant_counter_score + radiant_good_with_score - dire_good_with_score\n",
    "\n",
    "print('Radiant Team Score vs. Dire Team is: ' + str(radiant_total_score))"
   ]
  },
  {
   "cell_type": "markdown",
   "metadata": {},
   "source": [
    "### Set up Laning Stage"
   ]
  },
  {
   "cell_type": "code",
   "execution_count": 18,
   "metadata": {
    "scrolled": true
   },
   "outputs": [],
   "source": [
    "heroes_lane = dict.fromkeys(['Mid', 'Bot', 'Top', 'Jungle', 'Roam'], [0])\n",
    "heroes_role = dict.fromkeys(['Carry', 'Support', 'Utility'], [0])"
   ]
  },
  {
   "cell_type": "code",
   "execution_count": 19,
   "metadata": {
    "scrolled": false
   },
   "outputs": [
    {
     "data": {
      "text/plain": [
       "{'Mid': ['Lina'],\n",
       " 'Bot': ['Ursa', 'Crystal_Maiden'],\n",
       " 'Top': ['Legion_Commander'],\n",
       " 'Jungle': [0],\n",
       " 'Roam': ['Bounty_Hunter']}"
      ]
     },
     "execution_count": 19,
     "metadata": {},
     "output_type": "execute_result"
    },
    {
     "data": {
      "text/plain": [
       "{'Carry': ['Lina', 'Ursa', 'Legion_Commander'],\n",
       " 'Support': ['Crystal_Maiden'],\n",
       " 'Utility': ['Bounty_Hunter']}"
      ]
     },
     "execution_count": 19,
     "metadata": {},
     "output_type": "execute_result"
    }
   ],
   "source": [
    "radiant_heroes_lane = heroes_lane.copy()\n",
    "\n",
    "radiant_heroes_lane.update(Mid = [RP3])\n",
    "radiant_heroes_lane.update(Bot = [RP2, RP1])\n",
    "radiant_heroes_lane.update(Top = [RP4])\n",
    "radiant_heroes_lane.update(Roam = [RP5])\n",
    "\n",
    "radiant_heroes_role = heroes_role.copy()\n",
    "\n",
    "radiant_heroes_role.update(Carry = [RP3, RP2, RP4])\n",
    "radiant_heroes_role.update(Support = [RP1])\n",
    "radiant_heroes_role.update(Utility = [RP5])\n",
    "                           \n",
    "radiant_heroes_lane \n",
    "radiant_heroes_role"
   ]
  },
  {
   "cell_type": "code",
   "execution_count": 20,
   "metadata": {
    "scrolled": true
   },
   "outputs": [
    {
     "data": {
      "text/plain": [
       "{'Mid': ['Naga_Siren'],\n",
       " 'Bot': ['Witch_Doctor', 'Doom'],\n",
       " 'Top': ['Juggernaut', 'Dazzle'],\n",
       " 'Jungle': [0],\n",
       " 'Roam': [0]}"
      ]
     },
     "execution_count": 20,
     "metadata": {},
     "output_type": "execute_result"
    },
    {
     "data": {
      "text/plain": [
       "{'Carry': ['Juggernaut', 'Naga_Siren'],\n",
       " 'Support': ['Witch_Doctor', 'Dazzle'],\n",
       " 'Utility': ['Doom']}"
      ]
     },
     "execution_count": 20,
     "metadata": {},
     "output_type": "execute_result"
    }
   ],
   "source": [
    "dire_heroes_lane = heroes_lane.copy()\n",
    "\n",
    "dire_heroes_lane.update(Mid = [DP3])\n",
    "dire_heroes_lane.update(Bot = [DP2, DP5])\n",
    "dire_heroes_lane.update(Top = [DP1, DP4])\n",
    "\n",
    "dire_heroes_role = heroes_role.copy()\n",
    "\n",
    "dire_heroes_role.update(Carry = [DP1, DP3])\n",
    "dire_heroes_role.update(Support = [DP2, DP4])\n",
    "dire_heroes_role.update(Utility = [DP5])\n",
    "\n",
    "dire_heroes_lane\n",
    "dire_heroes_role"
   ]
  },
  {
   "cell_type": "code",
   "execution_count": 21,
   "metadata": {},
   "outputs": [],
   "source": [
    "# Create lane matchups by lane\n",
    "lane_matchup_flatlist = {}\n",
    "\n",
    "lane_matchup = {'Mid': (radiant_heroes_lane['Mid'], dire_heroes_lane['Mid']),\n",
    "                    'Bot': (radiant_heroes_lane['Bot'], dire_heroes_lane['Bot']), \n",
    "                    'Top': (radiant_heroes_lane['Top'], dire_heroes_lane['Top'])}\n",
    "\n",
    "lane_matchup_flatlist['Mid'] = list(itertools.chain(*lane_matchup['Mid']))\n",
    "lane_matchup_flatlist['Bot'] = list(itertools.chain(*lane_matchup['Bot']))\n",
    "lane_matchup_flatlist['Top'] = list(itertools.chain(*lane_matchup['Top']))\n",
    "\n",
    "game_lane = ['Mid', 'Bot', 'Top']"
   ]
  },
  {
   "cell_type": "code",
   "execution_count": 22,
   "metadata": {},
   "outputs": [],
   "source": [
    "# https://stackoverflow.com/questions/5946236/how-to-merge-multiple-dicts-with-same-key\n",
    "# Combine 2 dictionaries with the same key\n",
    "# Combine hero names in the same lanes\n",
    "# Combine hero names in the same roles (for calculating growth later on)\n",
    "\n",
    "ds = [radiant_heroes_lane, dire_heroes_lane]\n",
    "combined_laning_stage = {}\n",
    "for k in radiant_heroes_lane.keys():\n",
    "  combined_laning_stage[k] = list(itertools.chain(*[d[k] for d in ds]))\n",
    "\n",
    "ds = [radiant_heroes_role, dire_heroes_role]\n",
    "combined_role = {}\n",
    "for k in radiant_heroes_role.keys():\n",
    "  combined_role[k] = list(itertools.chain(*[d[k] for d in ds]))"
   ]
  },
  {
   "cell_type": "markdown",
   "metadata": {},
   "source": [
    "### Upload Heroes Role"
   ]
  },
  {
   "cell_type": "code",
   "execution_count": 23,
   "metadata": {},
   "outputs": [],
   "source": [
    "with urlopen('https://raw.githubusercontent.com/dqa611/Dota2_analysis/master/dota2_heroes_roles.csv') as csv_file:\n",
    "    heroes_roles = pd.read_csv(csv_file)"
   ]
  },
  {
   "cell_type": "markdown",
   "metadata": {},
   "source": [
    "### The Game begins here"
   ]
  },
  {
   "cell_type": "markdown",
   "metadata": {},
   "source": [
    "# Functions"
   ]
  },
  {
   "cell_type": "markdown",
   "metadata": {},
   "source": [
    "### Dictionaries"
   ]
  },
  {
   "cell_type": "code",
   "execution_count": 24,
   "metadata": {},
   "outputs": [],
   "source": [
    "growth_rate = dict.fromkeys(['utility_rate',\n",
    "                             'support_unnatural', 'support_natural_support', 'support_natural_others',\n",
    "                             'carry_unnatural', 'carry_natural_carry', 'carry_natural_others', \n",
    "                            'jungler_unnatural_rate_laning', 'jungler_natural_rate_laning', 'roamer_rate'], 1)"
   ]
  },
  {
   "cell_type": "code",
   "execution_count": 25,
   "metadata": {},
   "outputs": [],
   "source": [
    "strategy_bonus_rate_dict = dict.fromkeys(['team_midgame_aggressive_rate', 'team_midgame_turtle_rate', 'team_normal_rate', 'max_attr_bonus'])"
   ]
  },
  {
   "cell_type": "code",
   "execution_count": 26,
   "metadata": {},
   "outputs": [],
   "source": [
    "strategy_penalty_rate = dict.fromkeys(['aggressive_penalty', 'aggressive_reward', 'turtle_penalty', 'turtle_reward', 'normal_penalty', 'normal_reward'])"
   ]
  },
  {
   "cell_type": "code",
   "execution_count": 27,
   "metadata": {},
   "outputs": [],
   "source": [
    "combat_boost_rate = dict.fromkeys(['role_boost_rate', 'hero_boost_rate', 'team_boost_rate', 'counter_boost_rate', 'next_round_bonus_rate'])"
   ]
  },
  {
   "cell_type": "markdown",
   "metadata": {},
   "source": [
    "### Function to set up the initial game by role"
   ]
  },
  {
   "cell_type": "code",
   "execution_count": 96,
   "metadata": {},
   "outputs": [],
   "source": [
    "def initial_setup(heroes_role):\n",
    "    # Filter only played heroes\n",
    "    global heroes_roles_not_adj_yet\n",
    "    heroes_roles_not_adj_yet = heroes_roles.loc[heroes_roles['Hero Fullname'].isin(heroes_played)]\n",
    "\n",
    "    # Calculate Complexity versus point. Will use later\n",
    "    radiant_complexity = heroes_roles_not_adj_yet.loc[heroes_roles_not_adj_yet['Hero Fullname'].isin(radiant_team) & heroes_roles_not_adj_yet['Role'].isin(['Complexity'])]['Level'].sum()\n",
    "    dire_complexity = heroes_roles_not_adj_yet.loc[heroes_roles_not_adj_yet['Hero Fullname'].isin(dire_team) & heroes_roles_not_adj_yet['Role'].isin(['Complexity'])]['Level'].sum()\n",
    "\n",
    "    global radiant_vs_dire_complexity\n",
    "    radiant_vs_dire_complexity = radiant_complexity - dire_complexity \n",
    "\n",
    "    # Filter out Complexity Points, for caclulating round score\n",
    "    heroes_roles_not_adj_yet = heroes_roles_not_adj_yet.loc[heroes_roles_not_adj_yet['Role'] != 'Complexity']\n",
    "\n",
    "    heroes_lvl_0 = heroes_roles_not_adj_yet[:]\n",
    "    heroes_lvl_0 = heroes_lvl_0.reset_index(drop=True)\n",
    "\n",
    "    # First rule set\n",
    "    for hero in combined_role['Carry']:\n",
    "        if heroes_lvl_0.loc[(heroes_lvl_0['Hero Fullname'] == hero) & (heroes_lvl_0['Role'] == 'Support'), 'Level'].item() >0:\n",
    "            heroes_lvl_0.loc[(heroes_lvl_0['Hero Fullname'] == hero) & (heroes_lvl_0['Role'] == 'Support'), 'Level'] =0\n",
    "\n",
    "    for hero in combined_role['Utility']:\n",
    "        if heroes_lvl_0.loc[(heroes_lvl_0['Hero Fullname'] == hero) & (heroes_lvl_0['Role'] == 'Carry'), 'Level'].item() >0:\n",
    "            heroes_lvl_0.loc[(heroes_lvl_0['Hero Fullname'] == hero) & (heroes_lvl_0['Role'] == 'Carry'), 'Level'] =1\n",
    "        heroes_lvl_0.loc[(heroes_lvl_0['Hero Fullname'] == hero) & (heroes_lvl_0['Role'] == 'Support'), 'Level'] = 0\n",
    "\n",
    "    for hero in combined_role['Support']:\n",
    "        if heroes_lvl_0.loc[(heroes_lvl_0['Hero Fullname'] == hero) & (heroes_lvl_0['Role'] == 'Carry'), 'Level'].item() >0:\n",
    "            heroes_lvl_0.loc[(heroes_lvl_0['Hero Fullname'] == hero) & (heroes_lvl_0['Role'] == 'Carry'), 'Level'] =0.5       \n",
    "\n",
    "    return heroes_lvl_0"
   ]
  },
  {
   "cell_type": "markdown",
   "metadata": {},
   "source": [
    "### Function to return Heroes' attributes (option all, exclude or include)"
   ]
  },
  {
   "cell_type": "code",
   "execution_count": 97,
   "metadata": {
    "scrolled": true
   },
   "outputs": [],
   "source": [
    "def hero_score(hero, hero_level_input, attr):\n",
    "    if attr == 'all':\n",
    "        return hero_level_input.loc[(hero_level_input['Hero Fullname'] == hero)].reset_index(drop=True)\n",
    "    if '!' in attr:\n",
    "        return hero_level_input.loc[(hero_level_input['Hero Fullname'] == hero) & (hero_level_input['Role'] != attr)].reset_index(drop=True)\n",
    "    else:\n",
    "        return hero_level_input.loc[(hero_level_input['Hero Fullname'] == hero) & (hero_level_input['Role'] == attr)].reset_index(drop=True)  "
   ]
  },
  {
   "cell_type": "markdown",
   "metadata": {},
   "source": [
    "### Function to calculate Round Score \n",
    "In Mid game and Late game the score is by all 5 heroes\n",
    "In each stage of the game, some scores will be excluded out, but will be included back in with grow score included in there"
   ]
  },
  {
   "cell_type": "code",
   "execution_count": 98,
   "metadata": {},
   "outputs": [],
   "source": [
    "def round_score(radiant_input, dire_input, hero_level_input, stage):\n",
    "    def round_score1(radiant_input, dire_input, hero_level_input):\n",
    "        radiant_role_combined = hero_level_input[hero_level_input['Hero Fullname'].isin(radiant_input)]\n",
    "        radiant_role_score = radiant_role_combined.groupby(['Role'])['Level'].sum().reset_index()\n",
    "        radiant_role_score = radiant_role_score.rename(columns={'Level': 'Radiant_role_score'})\n",
    "\n",
    "        dire_role_combined = hero_level_input[hero_level_input['Hero Fullname'].isin(dire_input)]\n",
    "        dire_role_score = dire_role_combined.groupby(['Role'])['Level'].sum().reset_index()\n",
    "        dire_role_score = dire_role_score.rename(columns={'Level': 'Dire_role_score'})\n",
    "\n",
    "        role_score_table = pd.merge(left = radiant_role_score, \\\n",
    "                                    right = dire_role_score, \\\n",
    "                                    on='Role', how='outer').fillna(0)\n",
    "        return role_score_table\n",
    "\n",
    "    role_score_table1 = pd.DataFrame()\n",
    "    \n",
    "    # If left as default, all points are considered\n",
    "    if stage == 'default':\n",
    "        hero_level_input = heroes_roles_not_adj_yet[:]\n",
    "        role_score_table = round_score1(radiant_input, dire_input, hero_level_input)\n",
    "        role_score_table1 = role_score_table[:]\n",
    "        \n",
    "\n",
    "    # In early stage of the game, Carry and Pusher points are not considered\n",
    "    if stage == 'early':\n",
    "        role_score_table = round_score1(radiant_input, dire_input, hero_level_input)\n",
    "        role_score_table1 = role_score_table[~role_score_table['Role'].isin(early_attr_remove)].reset_index(drop=True)\n",
    "        \n",
    "        \n",
    "    # In early stage of the game, Carry points are not considered\n",
    "    if stage == 'mid':\n",
    "        role_score_table = round_score1(radiant_input, dire_input, hero_level_input)\n",
    "        role_score_table1 = role_score_table[~role_score_table['Role'].isin(midgame_attr_remove)].reset_index(drop=True)\n",
    "\n",
    "        \n",
    "    # In early stage of the game, Carry points are considered and Jungler points are not considered\n",
    "    if stage == 'late':\n",
    "        role_score_table = round_score1(radiant_input, dire_input, hero_level_input)\n",
    "        role_score_table1 = role_score_table[~role_score_table['Role'].isin(lategame_attr_remove)].reset_index(drop=True)\n",
    "        \n",
    "        \n",
    "    role_score_table1['radiant_vs_dire'] = role_score_table1['Radiant_role_score'] - \\\n",
    "                                          role_score_table1['Dire_role_score']\n",
    "    \n",
    "    role_score = round(role_score_table1['radiant_vs_dire'].sum(),2)\n",
    "    return role_score_table1, role_score, radiant_input, dire_input"
   ]
  },
  {
   "cell_type": "markdown",
   "metadata": {},
   "source": [
    "### Function to adjust Laning Point for Roamer"
   ]
  },
  {
   "cell_type": "code",
   "execution_count": 99,
   "metadata": {},
   "outputs": [],
   "source": [
    "def laning_stage(laning):    \n",
    "    early_game_score_raw = round_score(laning[0], laning[1], heroes_lvl_0, 'early')\n",
    "\n",
    "    # Radiant additonal points for having a roamer\n",
    "    if radiant_heroes_lane['Roam'] != 0: \n",
    "        radiant_roam_point = hero_score(radiant_heroes_lane['Roam'][0], heroes_lvl_0, 'all')\n",
    "\n",
    "        radiant_roam_point['Level'] = radiant_roam_point['Level'] / 3 \n",
    "        radiant_roam_point = radiant_roam_point[radiant_roam_point['Role'].isin(['Escape', 'Disabler', 'Nuker', 'Support'])].reset_index(drop=True)\n",
    "        radiant_roam_point = radiant_roam_point.rename(columns={'Level': 'radiant_roam_point'})\n",
    "    else: \n",
    "        radiant_roam_point = pd.DataFrame(columns=['Role', 'radiant_roam_point']) \n",
    "\n",
    "    # Dire additonal points for having a roamer    \n",
    "    if dire_heroes_lane['Roam'] != 0: \n",
    "        dire_roam_point = hero_score(dire_heroes_lane['Roam'][0], heroes_lvl_0, 'all')\n",
    "\n",
    "        dire_roam_point['Level'] = dire_roam_point['Level'] / 3 \n",
    "        dire_roam_point = dire_roam_point[dire_roam_point['Role'].isin(['Escape', 'Disabler', 'Nuker', 'Support'])].reset_index(drop=True)\n",
    "        dire_roam_point = dire_roam_point.rename(columns={'Level': 'dire_roam_point'})\n",
    "    else: \n",
    "        dire_roam_point = pd.DataFrame(columns=['Role', 'dire_roam_point'])\n",
    "\n",
    "    early_game_score1 = early_game_score_raw[0].merge(radiant_roam_point, on='Role', how='outer').fillna(0)\n",
    "    early_game_score2 = early_game_score1.merge(dire_roam_point, on='Role', how='outer').fillna(0)\n",
    "\n",
    "    early_game_score2['versus_score'] = early_game_score2['Radiant_role_score'] + early_game_score2['radiant_roam_point'] - \\\n",
    "                                             early_game_score2['Dire_role_score'] - early_game_score2['dire_roam_point']\n",
    "\n",
    "    bonus_laning_point = round(early_game_score2['versus_score'].sum(),1)\n",
    "    \n",
    "    # Set a cap bonus point of 5\n",
    "    if bonus_laning_point >=5:\n",
    "        bonus_laning_point =5\n",
    "    else: bonus_laning_point = bonus_laning_point\n",
    "    \n",
    "    return early_game_score2, bonus_laning_point, -bonus_laning_point, laning[0], laning[1]"
   ]
  },
  {
   "cell_type": "markdown",
   "metadata": {},
   "source": [
    "### Function adding Counter points in Laning"
   ]
  },
  {
   "cell_type": "code",
   "execution_count": 100,
   "metadata": {},
   "outputs": [],
   "source": [
    "def counter_laning(bonus_laning_point_list):\n",
    "    counter_laning_bot1 = []\n",
    "    counter_laning_mid1 = []\n",
    "    counter_laning_top1 = []\n",
    "\n",
    "    for radiant in range(len(bonus_laning_point_list['Bot'][3])):   \n",
    "        for dire in range(len(bonus_laning_point_list['Bot'][3])):\n",
    "            counter_laning_bot1.append([y[1] for y in matchup_score1 if bonus_laning_point_list['Bot'][3][radiant] in y[0][0] and bonus_laning_point_list['Bot'][4][dire] in y[0][1]])  \n",
    "    counter_laning_bot = list(itertools.chain(*counter_laning_bot1))\n",
    "\n",
    "    for radiant in range(len(bonus_laning_point_list['Mid'][3])):   \n",
    "        for dire in range(len(bonus_laning_point_list['Mid'][3])):\n",
    "            counter_laning_mid1.append([y[1] for y in matchup_score1 if bonus_laning_point_list['Mid'][3][radiant] in y[0][0] and bonus_laning_point_list['Mid'][4][dire] in y[0][1]])  \n",
    "    counter_laning_mid = list(itertools.chain(*counter_laning_mid1))\n",
    "\n",
    "    for radiant in range(len(bonus_laning_point_list['Top'][3])):   \n",
    "        for dire in range(len(bonus_laning_point_list['Top'][3])):\n",
    "            counter_laning_top1.append([y[1] for y in matchup_score1 if bonus_laning_point_list['Top'][3][radiant] in y[0][0] and bonus_laning_point_list['Top'][4][dire] in y[0][1]])  \n",
    "    counter_laning_top = list(itertools.chain(*counter_laning_top1))\n",
    "\n",
    "    global counter_laning_score\n",
    "    counter_laning_score = dict.fromkeys(['counter_laning_mid_score', 'counter_laning_mid_score', 'counter_laning_mid_score'])\n",
    "    counter_laning_score.update(counter_laning_mid_score = sum(counter_laning_mid))\n",
    "    counter_laning_score.update(counter_laning_bot_score = sum(counter_laning_bot))\n",
    "    counter_laning_score.update(counter_laning_top_score = sum(counter_laning_top))\n",
    "    \n",
    "    return counter_laning_score"
   ]
  },
  {
   "cell_type": "markdown",
   "metadata": {},
   "source": [
    "### Function to Level Up Hero 1 "
   ]
  },
  {
   "cell_type": "code",
   "execution_count": 101,
   "metadata": {},
   "outputs": [],
   "source": [
    "def heroes_level_up1(hero): \n",
    "\n",
    "    hero_level = hero_score(hero, heroes_lvl_0, 'all')\n",
    "    hero_lvl1 = hero_level.copy()\n",
    "\n",
    "    # Bonus Laning Point\n",
    "    global bonus_laning_point\n",
    "    bonus_laning_point = 0\n",
    "\n",
    "    if hero in lane_matchup_flatlist['Mid'] and hero in radiant_team:\n",
    "        bonus_laning_point = bonus_laning_point_list['Mid'][1] + counter_laning(bonus_laning_point_list)['counter_laning_mid_score']*1.5\n",
    "    if hero in lane_matchup_flatlist['Mid'] and hero in dire_team:\n",
    "        bonus_laning_point = bonus_laning_point_list['Mid'][2] - counter_laning(bonus_laning_point_list)['counter_laning_mid_score']*1.5\n",
    "\n",
    "    if hero in lane_matchup_flatlist['Bot'] and hero in radiant_team:\n",
    "        bonus_laning_point = bonus_laning_point_list['Bot'][1] + counter_laning(bonus_laning_point_list)['counter_laning_bot_score']*1.5\n",
    "    if hero in lane_matchup_flatlist['Bot'] and hero in dire_team:\n",
    "        bonus_laning_point = bonus_laning_point_list['Bot'][2] - counter_laning(bonus_laning_point_list)['counter_laning_bot_score']*1.5\n",
    "\n",
    "    if hero in lane_matchup_flatlist['Top'] and hero in radiant_team:\n",
    "        bonus_laning_point = bonus_laning_point_list['Top'][1] + counter_laning(bonus_laning_point_list)['counter_laning_top_score']*1.5\n",
    "    if hero in lane_matchup_flatlist['Top'] and hero in dire_team:\n",
    "        bonus_laning_point = bonus_laning_point_list['Top'][2] - counter_laning(bonus_laning_point_list)['counter_laning_top_score']*1.5\n",
    "\n",
    "    # If the Bonus Laning Point causes the growth to be less than 1, the growth is 1\n",
    "    # This situation is rare because the points needs to be at least 50 points to cause it \n",
    "    # Hero Level Up\n",
    "\n",
    "    # Jungler doesn't get bonus laning stage but fixed growth instead   \n",
    "    if hero in combined_laning_stage['Jungle']:\n",
    "        # unnatural jungler\n",
    "        if 'Jungler' not in heroes_roles.loc[heroes_roles['Hero Fullname']==hero, 'Role'] and hero in combined_role['Jungle']: \n",
    "            hero_lvl1.loc[(hero_lvl1['Hero Fullname'] == hero), 'Level'] = \\\n",
    "                hero_lvl1.loc[(hero_lvl1['Hero Fullname'] == hero), 'Level'] * growth_rate_laning['jungler_unnatural_rate']\n",
    "        else: #natural jungler\n",
    "            hero_lvl1.loc[(hero_lvl1['Hero Fullname'] == hero), 'Level'] = \\\n",
    "                hero_lvl1.loc[(hero_lvl1['Hero Fullname'] == hero), 'Level'] * growth_rate_laning['jungler_natural_rate']\n",
    "\n",
    "    # Roamer doesn't get bonus laning stage because its attr points already spread out all lanes. Get a fixed growth\n",
    "    if hero in combined_laning_stage['Roam']:\n",
    "            hero_lvl1.loc[(hero_lvl1['Hero Fullname'] == hero), 'Level'] = \\\n",
    "                hero_lvl1.loc[(hero_lvl1['Hero Fullname'] == hero), 'Level'] * growth_rate_laning['roamer_rate']\n",
    "\n",
    "    # Utility (non support and non carry) will get a small growth rate plus or minus bonus laning points. \n",
    "    # Unnatural Utility heroes doesn't get penalized \n",
    "    # Follow up with the first rule, Carry points is fixed to 1 if the hero has any Carry points\n",
    "    if hero in combined_role['Utility']:\n",
    "        hero_lvl1.loc[(hero_lvl1['Hero Fullname'] == hero) & (~hero_lvl1['Role'].isin(['Carry', 'Support'])), 'Level'] = \\\n",
    "            hero_lvl1.loc[(hero_lvl1['Hero Fullname'] == hero) & (~hero_lvl1['Role'].isin(['Carry', 'Support'])), 'Level'] * (growth_rate_laning['utility_rate'] + bonus_laning_point*laning_bonus_fixed_rate)\n",
    "\n",
    "    # Natural support hero will get bonus support rate plus bonus laning points\n",
    "    # Unnatural support hero will get fixed growth\n",
    "    if hero in combined_role['Support']:\n",
    "        # unnatural support\n",
    "        if heroes_roles_not_adj_yet.loc[(heroes_roles_not_adj_yet['Hero Fullname'] == hero)].loc[heroes_roles_not_adj_yet['Role'] == 'Support', 'Level'].item() ==0 \\\n",
    "        and hero in combined_role['Support']: \n",
    "            hero_lvl1.loc[(hero_lvl1['Hero Fullname'] == hero), 'Level'] = hero_lvl1.loc[(hero_lvl1['Hero Fullname'] == hero), 'Level'] * (growth_rate_laning['support_unnatural'] + bonus_laning_point*laning_bonus_fixed_rate)                \n",
    "        else: # natural support \n",
    "            hero_lvl1.loc[(hero_lvl1['Hero Fullname'] == hero) & (hero_lvl1['Role'] == 'Support'), 'Level'] = \\\n",
    "                hero_lvl1.loc[(hero_lvl1['Hero Fullname'] == hero) & (hero_lvl1['Role'] == 'Support'), 'Level'] * (growth_rate_laning['support_natural_support'] + bonus_laning_point*laning_bonus_fixed_rate)\n",
    "\n",
    "            hero_lvl1.loc[(hero_lvl1['Hero Fullname'] == hero) & (hero_lvl1['Role'] != 'Support'), 'Level'] = \\\n",
    "                hero_lvl1.loc[(hero_lvl1['Hero Fullname'] == hero) & (hero_lvl1['Role'] != 'Support'), 'Level'] * (growth_rate_laning['support_natural_others'] + bonus_laning_point*laning_bonus_fixed_rate)\n",
    "\n",
    "\n",
    "    # Natural carry hero will get bonus carry rate plus bonus laning points\n",
    "    # Unnatural carry hero will get fixed growth\n",
    "    if hero in combined_role['Carry']:\n",
    "        # unnatural carry\n",
    "        if heroes_roles_not_adj_yet.loc[(heroes_roles_not_adj_yet['Hero Fullname'] == hero)].loc[heroes_roles_not_adj_yet['Role'] == 'Carry', 'Level'].item() ==0 \\\n",
    "        and hero in combined_role['Carry']:\n",
    "            hero_lvl1.loc[(hero_lvl1['Hero Fullname'] == hero), 'Level'] = \\\n",
    "                hero_lvl1.loc[(hero_lvl1['Hero Fullname'] == hero), 'Level'] * (growth_rate_laning['carry_unnatural'] + bonus_laning_point*laning_bonus_fixed_rate) #maximum grow is 1.65\n",
    "        else: # natural carry \n",
    "            hero_lvl1.loc[(hero_lvl1['Hero Fullname'] == hero) & (hero_lvl1['Role'] == 'Carry'), 'Level'] = \\\n",
    "                carry_laning_tbl.loc[(carry_laning_tbl['natural_carry_point']== heroes_roles_not_adj_yet.loc[(heroes_roles_not_adj_yet['Hero Fullname'] == hero) & (heroes_roles_not_adj_yet['Role'] == 'Carry'), 'Level'].item()) & \\\n",
    "                                     (carry_laning_tbl['laning_bonus']==bonus_laning_point), 'carry_point_after_laning'].item() \n",
    "\n",
    "            hero_lvl1.loc[(hero_lvl1['Hero Fullname'] == hero) & (hero_lvl1['Role'] != 'Carry'), 'Level'] =  \\\n",
    "                hero_lvl1.loc[(hero_lvl1['Hero Fullname'] == hero) & (hero_lvl1['Role'] != 'Carry'), 'Level'] * (growth_rate_laning['carry_natural_others'] + bonus_laning_point*laning_bonus_fixed_rate)\n",
    "            \n",
    "    hero_lvl1['Level'] = hero_lvl1['Level'].where(hero_lvl1['Level'] <5, ceiling_attr)    \n",
    "    return hero_lvl1"
   ]
  },
  {
   "cell_type": "markdown",
   "metadata": {},
   "source": [
    "### Function To Create a Table with new Score for Next Round Use"
   ]
  },
  {
   "cell_type": "code",
   "execution_count": 102,
   "metadata": {},
   "outputs": [],
   "source": [
    "def heroes_lvl_up_tbl(function):\n",
    "    table_name = pd.DataFrame()\n",
    "    \n",
    "    for hero in heroes_played:\n",
    "        table_name = pd.concat([table_name, function(hero)])\n",
    "    table_name = table_name.reset_index(drop=True)\n",
    "    return table_name"
   ]
  },
  {
   "cell_type": "code",
   "execution_count": 103,
   "metadata": {},
   "outputs": [],
   "source": [
    "def team_lvl_combat_tbl(previous_level, winner_team, bonus_round_score):\n",
    "    table_name = pd.DataFrame()\n",
    "    \n",
    "    for hero in heroes_played:\n",
    "        table_name = pd.concat([table_name, team_combat_growth(hero, previous_level, winner_team, bonus_round_score)])\n",
    "    table_name = table_name.reset_index(drop=True)\n",
    "    return table_name"
   ]
  },
  {
   "cell_type": "markdown",
   "metadata": {},
   "source": [
    "### Function to Boost bonus based on Strategy"
   ]
  },
  {
   "cell_type": "code",
   "execution_count": 104,
   "metadata": {},
   "outputs": [],
   "source": [
    "def strategy_bonus_rate(team, strategy):\n",
    "    \n",
    "    hero_level_boosted = heroes_lvl_1.copy()\n",
    "    \n",
    "    if strategy == 'random':\n",
    "        strategy = random.choice(['aggressive', 'turtle', 'normal'])\n",
    "    \n",
    "    # Boost hero's midgame aggressive strategy bonus\n",
    "    if strategy == 'aggressive':\n",
    "        for hero in team:\n",
    "            hero_level_boosted.loc[hero_level_boosted['Hero Fullname'] == hero, 'Level'] = \\\n",
    "                hero_level_boosted.loc[hero_level_boosted['Hero Fullname'] == hero, 'Level'] * strategy_bonus_rate_dict['team_midgame_aggressive_rate'] \n",
    "    \n",
    "    # Boost hero's midgame balance strategy bonus\n",
    "    if strategy == 'normal':\n",
    "        for hero in team:\n",
    "            hero_level_boosted.loc[hero_level_boosted['Hero Fullname'] == hero, 'Level'] = \\\n",
    "                hero_level_boosted.loc[hero_level_boosted['Hero Fullname'] == hero, 'Level'] * strategy_bonus_rate_dict['team_normal_rate']\n",
    "\n",
    "    # Boost hero's midgame turtle strategy bonus        \n",
    "    if strategy == 'turle' and midgame_or_lategame== 'midgame':\n",
    "        for hero in list(set(team).intersection(combined_role['Carry'])):\n",
    "            hero_level_boosted.loc[hero_level_boosted['Hero Fullname'] == hero, 'Level'] = hero_level_boosted.loc[hero_level_boosted['Hero Fullname'] == hero, 'Level'] * strategy_bonus_rate_dict['team_midgame_turtle_rate']\n",
    "\n",
    "    hero_level_boosted['Level'] = hero_level_boosted['Level'].where(hero_level_boosted['Level'] <5, ceiling_attr) \n",
    "                       \n",
    "    return hero_level_boosted"
   ]
  },
  {
   "cell_type": "markdown",
   "metadata": {},
   "source": [
    "### Function to Level Up Hero 2"
   ]
  },
  {
   "cell_type": "code",
   "execution_count": 105,
   "metadata": {},
   "outputs": [],
   "source": [
    "def heroes_lvl_up2(hero):\n",
    "    hero_level = hero_score(hero, heroes_lvl_20, 'all')\n",
    "    hero_lvl2 = hero_level.copy()\n",
    "\n",
    "    if hero in combined_role['Utility']:\n",
    "        hero_lvl2.loc[(hero_lvl2['Hero Fullname'] == hero) & (~hero_lvl2['Role'].isin(['Carry', 'Support'])), 'Level'] = \\\n",
    "            hero_lvl2.loc[(hero_lvl2['Hero Fullname'] == hero) & (~hero_lvl2['Role'].isin(['Carry', 'Support'])), 'Level'] * (growth_rate_midgame['utility_rate'] + bonus_round20_point*round20_bonus_fixed_rate)\n",
    "\n",
    "    if hero in combined_role['Support']:\n",
    "        # unnatural support\n",
    "        if heroes_roles_not_adj_yet.loc[(heroes_roles_not_adj_yet['Hero Fullname'] == hero)].loc[heroes_roles_not_adj_yet['Role'] == 'Support', 'Level'].item() ==0 \\\n",
    "        and hero in combined_role['Support']: \n",
    "            hero_lvl2.loc[(hero_lvl2['Hero Fullname'] == hero), 'Level'] = hero_lvl2.loc[(hero_lvl2['Hero Fullname'] == hero), 'Level'] * (growth_rate_midgame['support_unnatural'] + bonus_round20_point*round20_bonus_fixed_rate)                \n",
    "        else: # natural support \n",
    "            hero_lvl2.loc[(hero_lvl2['Hero Fullname'] == hero) & (hero_lvl2['Role'] == 'Support'), 'Level'] = \\\n",
    "                hero_lvl2.loc[(hero_lvl2['Hero Fullname'] == hero) & (hero_lvl2['Role'] == 'Support'), 'Level'] * (growth_rate_midgame['support_natural_support'] + bonus_round20_point*round20_bonus_fixed_rate)\n",
    "\n",
    "            hero_lvl2.loc[(hero_lvl2['Hero Fullname'] == hero) & (hero_lvl2['Role'] != 'Support'), 'Level'] = \\\n",
    "                hero_lvl2.loc[(hero_lvl2['Hero Fullname'] == hero) & (hero_lvl2['Role'] != 'Support'), 'Level'] * (growth_rate_midgame['support_natural_others'] + bonus_round20_point*round20_bonus_fixed_rate)\n",
    "\n",
    "    # Natural carry hero will get bonus carry rate plus bonus laning points\n",
    "    # Unnatural carry hero will get fixed growth\n",
    "    if hero in combined_role['Carry']:\n",
    "        # unnatural carry\n",
    "        if heroes_roles_not_adj_yet.loc[(heroes_roles_not_adj_yet['Hero Fullname'] == hero)].loc[heroes_roles_not_adj_yet['Role'] == 'Carry', 'Level'].item() ==0 \\\n",
    "        and hero in combined_role['Carry']:\n",
    "            hero_lvl2.loc[(hero_lvl2['Hero Fullname'] == hero), 'Level'] = \\\n",
    "                hero_lvl2.loc[(hero_lvl2['Hero Fullname'] == hero), 'Level'] * (growth_rate_midgame['carry_unnatural'] + bonus_round20_point*round20_bonus_fixed_rate)\n",
    "        else: # natural carry \n",
    "            carry_natural_point = hero_score(hero, heroes_roles, 'all')['Level'][0]\n",
    "            carry_growth_rate = midgame_carry_point[carry_natural_point-1] + ((carry_natural_point + bonus_round20_point)*round20_bonus_fixed_rate)\n",
    "\n",
    "            hero_lvl2.loc[(hero_lvl2['Hero Fullname'] == hero) & (hero_lvl2['Role'] == 'Carry'), 'Level'] = \\\n",
    "                hero_lvl2.loc[(hero_lvl2['Hero Fullname'] == hero) & (hero_lvl2['Role'] == 'Carry'), 'Level'] * carry_growth_rate\n",
    "\n",
    "            hero_lvl2.loc[(hero_lvl2['Hero Fullname'] == hero) & (hero_lvl2['Role'] != 'Carry'), 'Level'] =  \\\n",
    "                hero_lvl2.loc[(hero_lvl2['Hero Fullname'] == hero) & (hero_lvl2['Role'] != 'Carry'), 'Level'] * (growth_rate_midgame['carry_natural_others'] + bonus_round20_point*round20_bonus_fixed_rate)\n",
    "\n",
    "    hero_lvl2['Level'] = hero_lvl2['Level'].where(hero_lvl2['Level'] <5, ceiling_attr) \n",
    "    \n",
    "    return hero_lvl2"
   ]
  },
  {
   "cell_type": "markdown",
   "metadata": {},
   "source": [
    "### Combat Function"
   ]
  },
  {
   "cell_type": "code",
   "execution_count": 106,
   "metadata": {},
   "outputs": [],
   "source": [
    "def run_combat(radiant_last_round_score):\n",
    "\n",
    "    import random\n",
    "\n",
    "    combat = round(random.uniform(0, 1),2)*100\n",
    "\n",
    "    radiant_combat_bonus = radiant_last_round_score + radiant_total_score*2 - radiant_vs_dire_complexity\n",
    "    \n",
    "    radiant_combat_bonus = int(round(radiant_combat_bonus, 2)*5)\n",
    "    radiant_combat_prob = 34 + radiant_combat_bonus\n",
    "\n",
    "    radiant_major_win = range(0, radiant_combat_prob)\n",
    "    draw = range(radiant_combat_prob, radiant_combat_prob+33)\n",
    "    dire_major_win = range(radiant_combat_prob+33, 101)\n",
    "\n",
    "    winner_combat = []\n",
    "\n",
    "    if combat in radiant_major_win:\n",
    "        winner_combat = radiant_team\n",
    "        loser_combat = dire_team\n",
    "    if combat in draw:\n",
    "        winner_combat = ''\n",
    "        loser_combat = ''\n",
    "    if combat in dire_major_win:\n",
    "        winner_combat = dire_team\n",
    "        loser_combat = radiant_team\n",
    "    \n",
    "    combat_result = dict.fromkeys(['last_round_bonus', 'random_number', 'radiant_win_range', 'draw_range', 'dire_win_range', 'winner'])\n",
    "    combat_result.update(last_round_bonus = radiant_last_round_score)\n",
    "    combat_result.update(random_number = combat)\n",
    "    combat_result.update(radiant_win_range = radiant_major_win)\n",
    "    combat_result.update(draw_range = draw)\n",
    "    combat_result.update(dire_win_range = dire_major_win)\n",
    "    combat_result.update(winner = winner_combat)\n",
    "\n",
    "    return combat_result"
   ]
  },
  {
   "cell_type": "markdown",
   "metadata": {},
   "source": [
    "### Strategy Penalty Function"
   ]
  },
  {
   "cell_type": "code",
   "execution_count": 107,
   "metadata": {},
   "outputs": [],
   "source": [
    "def strategy_penalty(previous_level, winner_team):\n",
    "    previous_level = heroes_lvl_21.copy()\n",
    "\n",
    "    if winner_team in radiant_team:\n",
    "        for hero in radiant_team:\n",
    "            previous_level.loc[(previous_level['Hero Fullname'] == hero), 'Level'] = \\\n",
    "                previous_level.loc[(previous_level['Hero Fullname'] == hero), 'Level'] * strategy_penalty_rate[radiant_strategy+'_reward']\n",
    "        for hero in dire_team:\n",
    "            previous_level.loc[(previous_level['Hero Fullname'] == hero), 'Level'] = \\\n",
    "                previous_level.loc[(previous_level['Hero Fullname'] == hero), 'Level'] * strategy_penalty_rate[dire_strategy+'_penalty']        \n",
    "\n",
    "    if winner_team in dire_team:\n",
    "        for hero in radiant_team:\n",
    "            previous_level.loc[(previous_level['Hero Fullname'] == hero), 'Level'] = \\\n",
    "                previous_level.loc[(previous_level['Hero Fullname'] == hero), 'Level'] * strategy_penalty_rate[radiant_strategy+'_penalty']\n",
    "        for hero in dire_team:\n",
    "            previous_level.loc[(previous_level['Hero Fullname'] == hero), 'Level'] = \\\n",
    "                previous_level.loc[(previous_level['Hero Fullname'] == hero), 'Level'] * strategy_penalty_rate[dire_strategy+'_reward']    \n",
    "    return previous_level"
   ]
  },
  {
   "cell_type": "markdown",
   "metadata": {},
   "source": [
    "### Boost for Winner(s)"
   ]
  },
  {
   "cell_type": "code",
   "execution_count": 108,
   "metadata": {},
   "outputs": [],
   "source": [
    "def boost_for_winner(option_number, previous_level, winner_team):\n",
    "    \n",
    "    hero_level2_boosted = previous_level.copy()\n",
    "    \n",
    "    if option_number == 1:\n",
    "        role_selected = input('Select a role to boost: ')\n",
    "        for hero in list(set(winner_team).intersection(combined_role[role_selected])):\n",
    "            hero_level2_boosted.loc[hero_level2_boosted['Hero Fullname'] == hero, 'Level'] = \\\n",
    "                hero_level2_boosted.loc[hero_level2_boosted['Hero Fullname'] == hero, 'Level'] * (combat_boost_rate['role_boost_rate'] / len(list(set(radiant_team).intersection(combined_role['Utility']))))\n",
    "    return hero_level2_boosted\n",
    "\n",
    "    if option_number == 2: \n",
    "        hero_selected = input('Select a hero (use shortcut name): ')\n",
    "        hero_selected = hero_name_proess(hero_selected)\n",
    "        if hero_selected not in winner_team:\n",
    "            return print('Please select a hero in a winner team')\n",
    "        else:\n",
    "            hero_level2_boosted.loc[hero_level2_boosted['Hero Fullname'] == hero, 'Level'] = \\\n",
    "                    hero_level2_boosted.loc[hero_level2_boosted['Hero Fullname'] == hero, 'Level'] * combat_boost_rate['hero_boost_rate']\n",
    "    return hero_level2_boosted\n",
    "        \n",
    "    if option_number == 3:\n",
    "        for hero in winner_team:\n",
    "            hero_level2_boosted.loc[hero_level2_boosted['Hero Fullname'] == hero, 'Level'] = \\\n",
    "                hero_level2_boosted.loc[hero_level2_boosted['Hero Fullname'] == hero, 'Level'] * combat_boost_rate['team_boost_rate']    \n",
    "    return hero_level2_boosted    "
   ]
  },
  {
   "cell_type": "markdown",
   "metadata": {},
   "source": [
    "### Growth after Combat"
   ]
  },
  {
   "cell_type": "code",
   "execution_count": 109,
   "metadata": {},
   "outputs": [],
   "source": [
    "def team_combat_growth(team, winner_team, previous_level, bonus_round_score):\n",
    "\n",
    "    hero_next_level = previous_level.copy()\n",
    "    \n",
    "    if team == winner_team:\n",
    "        growth_rate = growth_rate_winner\n",
    "    else:\n",
    "        growth_rate = growth_rate_loser\n",
    "    \n",
    "    for hero in team:\n",
    "        if hero in combined_role['Support']:\n",
    "            # unnatural support\n",
    "            if heroes_roles_not_adj_yet.loc[(heroes_roles_not_adj_yet['Hero Fullname'] == hero)].loc[heroes_roles_not_adj_yet['Role'] == 'Support', 'Level'].item() ==0 \\\n",
    "            and hero in combined_role['Support']: \n",
    "                hero_next_level.loc[hero_next_level['Role'] =='Carry', 'Level'] = \\\n",
    "                    hero_next_level.loc[hero_next_level['Role'] =='Carry', 'Level'] * (growth_rate['support_unnatural']+ bonus_round_score*round_combat_bonus_fixed_rate)             \n",
    "            else: # natural support \n",
    "                hero_next_level.loc[hero_next_level['Role'] =='Support', 'Level'] = \\\n",
    "                    hero_next_level.loc[hero_next_level['Role'] =='Support', 'Level'] * (growth_rate['support_natural_support']+ bonus_round_score*round_combat_bonus_fixed_rate)\n",
    "\n",
    "                hero_next_level.loc[hero_next_level['Role'] !='Support', 'Level'] = \\\n",
    "                    hero_next_level.loc[hero_next_level['Role'] !='Support', 'Level'] * (growth_rate['support_natural_others']+ bonus_round_score*round_combat_bonus_fixed_rate)    \n",
    "\n",
    "        if hero in combined_role['Utility']:            \n",
    "            hero_next_level.loc[hero_next_level['Role'] !='Carry', 'Level'] = \\\n",
    "                hero_next_level.loc[hero_next_level['Role'] !='Carry', 'Level'] * (growth_rate['utility_rate']+ bonus_round_score*round_combat_bonus_fixed_rate)\n",
    "\n",
    "        if hero in combined_role['Carry']:\n",
    "            # unnatural carry\n",
    "            if heroes_roles_not_adj_yet.loc[(heroes_roles_not_adj_yet['Hero Fullname'] == hero)].loc[heroes_roles_not_adj_yet['Role'] == 'Carry', 'Level'].item() ==0 \\\n",
    "            and hero in combined_role['Carry']:\n",
    "                hero_next_level.loc[hero_next_level['Role'] =='Carry', 'Level'] = \\\n",
    "                    hero_next_level.loc[hero_next_level['Role'] =='Carry', 'Level'] * (growth_rate['carry_unnatural']+ bonus_round_score*round_combat_bonus_fixed_rate)\n",
    "            else: # natural carry \n",
    "                hero_next_level.loc[hero_next_level['Role'] =='Carry', 'Level'] = \\\n",
    "                    hero_next_level.loc[hero_next_level['Role'] =='Carry', 'Level'] * (growth_rate['carry_natural_carry']+ bonus_round_score*round_combat_bonus_fixed_rate)\n",
    "\n",
    "                hero_next_level.loc[hero_next_level['Role'] !='Carry', 'Level'] = \\\n",
    "                    hero_next_level.loc[hero_next_level['Role'] !='Carry', 'Level'] * (growth_rate['carry_natural_others']+ bonus_round_score*round_combat_bonus_fixed_rate)\n",
    "\n",
    "    hero_next_level['Level'] = hero_next_level['Level'].where(hero_next_level['Level'] <5, cap_attr)\n",
    "    \n",
    "    return hero_next_level"
   ]
  },
  {
   "cell_type": "markdown",
   "metadata": {},
   "source": [
    "###### Edit the Hero Roles raw data"
   ]
  },
  {
   "cell_type": "markdown",
   "metadata": {},
   "source": [
    "Game mechanics:\n",
    "    \n",
    "So there are 3 roles: Carry, Support and Utility\n",
    "    \n",
    "There are 5 possible 'laning': Mid, Bot, Top, Roam and Jungle\n",
    "    \n",
    "There are 10 attributes of a hero: carry, support, nuker, jungler, disabler, escape, durable, pusher and initiator\n",
    "    \n",
    "Most carries in dota have good attributes by order as carry, escape, pusher, nuker, and durable\n",
    "\n",
    "Most utility in dota have good attributes by order as initiator, nuker, durable, disabler, jungler, and escape\n",
    "\n",
    "Most support in dota have good attributes by order as support, disabler, nuker\n",
    "    \n",
    "In the laning stage of the game, Carry, Pusher and Initiator points are not considered in matchups. That's 2 attrs away for carries and 1 for utilities, but support can keep all theirs. \n",
    "\n",
    "Each role will grow differently. \n",
    "    \n",
    "Carries will have a expontenial growth throughout the game. This means that at early game, they grow slowly. At mid game they start to grow faster depending on their Carry natural points. And at late game they grow fastest but will hit a cap. In the beginning, all Carries poins are ignored. After laning stage, the Carries' carry growth will be: 0.5^(1/(attr_points + laning_bonus_point)). All other attributes grow normally\n",
    "\n",
    "- A 3-point carry will have a slower growth rate than a 1-point carry at the laning stage. In later stage of the game, a 3-point Carry will be rewarded more. \n",
    "- A unnatural carry will have a default carry points of 1. All other attrs grow linearly with their rate\n",
    "\n",
    "Utilities will have a logistic growth throughout the game. This means at early, they grow slowly. At midgame they grow the fastest among roles, ofc depending on their naturaly points. At late game they stop growing fast again and will hit a cap. In the beginning, their Carries point will be set to 1, if they have any Carry points. After laning stage, the growth wil be a constant number plus laning bonus points\n",
    "- Having as many utilties point as possible will help the team snowball\n",
    "\n",
    "Supports will have a gompertizan growth throughout the game. Since at the laning stage of the game their popular attrs are kept, so they contribute the most into winning the laning stage. At the end of the laning stage is their peak as they will have the highest growth rate. After laning stage they will have the slowest growth among roles.\n",
    "- 3-points supports are benefited the most after the laning stage, but their growth in comparison to 1-point supports are going to be less later in the stage of the game."
   ]
  },
  {
   "cell_type": "markdown",
   "metadata": {},
   "source": [
    "For now we'll ignore Complexity points\n",
    "\n",
    "All Carrie's Carry points will be set to 1\n",
    "\n",
    "A Carry's Support points will be ignored\n",
    "\n",
    "A Utility's Carry points will be set to 1 and Support point of 0.5 if the Hero plays Utility role, if the Hero has a Carry point, whether the original point is 1 2 or 3\n",
    "\n",
    "A Support's Carry points will be set to 0 if the Hero doesn't play the Carry role, otherwise it's will be fixed as 1"
   ]
  },
  {
   "cell_type": "markdown",
   "metadata": {},
   "source": [
    "### The Game Mechanics"
   ]
  },
  {
   "cell_type": "code",
   "execution_count": 110,
   "metadata": {},
   "outputs": [],
   "source": [
    "early_attr_remove = ['Complexity', 'Carry', 'Initiator', 'Pusher']\n",
    "midgame_attr_remove = ['Complexity']\n",
    "lategame_attr_remove = ['Complexity']"
   ]
  },
  {
   "cell_type": "code",
   "execution_count": 111,
   "metadata": {},
   "outputs": [],
   "source": [
    "growth_rate_laning = growth_rate.copy()\n",
    "\n",
    "growth_rate_laning.update(jungler_unnatural_rate = 1)\n",
    "growth_rate_laning.update(jungler_natural_rate = 1.3)\n",
    "\n",
    "growth_rate_laning.update(roamer_rate = 1.1)\n",
    "\n",
    "growth_rate_laning.update(utility_rate = 1.1)\n",
    "\n",
    "growth_rate_laning.update(support_unnatural = 1)\n",
    "growth_rate_laning.update(support_natural_support = 1.1)\n",
    "growth_rate_laning.update(support_natural_others = 1.1)\n",
    "\n",
    "growth_rate_laning.update(carry_unnatural = 1.2)\n",
    "growth_rate_laning.update(carry_natural_others = 1.1)"
   ]
  },
  {
   "cell_type": "code",
   "execution_count": 112,
   "metadata": {},
   "outputs": [],
   "source": [
    "laning_bonus_fixed_rate = 2/100"
   ]
  },
  {
   "cell_type": "code",
   "execution_count": 133,
   "metadata": {
    "scrolled": true
   },
   "outputs": [],
   "source": [
    "cap_attr = 5"
   ]
  },
  {
   "cell_type": "code",
   "execution_count": 134,
   "metadata": {},
   "outputs": [],
   "source": [
    "carry_laning_tbl = pd.read_csv('C:/Users/anhqu/OneDrive/Desktop/QAs/QA github folder/Carries_laning_growth.csv')"
   ]
  },
  {
   "cell_type": "code",
   "execution_count": 135,
   "metadata": {},
   "outputs": [],
   "source": [
    "strategy_bonus_rate_dict.update(team_midgame_aggressive_rate = 1.2)\n",
    "strategy_bonus_rate_dict.update(team_midgame_turtle_rate = 1)\n",
    "strategy_bonus_rate_dict.update(team_normal_rate = 1.1)\n",
    "\n",
    "# This bonus is for team that maximize ganking or pushing potential\n",
    "strategy_bonus_rate_dict.update(max_attr_bonus = 1.2)"
   ]
  },
  {
   "cell_type": "code",
   "execution_count": 136,
   "metadata": {},
   "outputs": [],
   "source": [
    "round20_bonus_fixed_rate = 2/100"
   ]
  },
  {
   "cell_type": "code",
   "execution_count": 137,
   "metadata": {},
   "outputs": [],
   "source": [
    "midgame_carry_point = [1.18, 1.14, 1.05]"
   ]
  },
  {
   "cell_type": "code",
   "execution_count": 138,
   "metadata": {},
   "outputs": [],
   "source": [
    "growth_rate_midgame = growth_rate.copy()\n",
    "\n",
    "growth_rate_midgame.update(utility_rate= 1.1)\n",
    "\n",
    "growth_rate_midgame.update(support_unnatural= 1.1)\n",
    "growth_rate_midgame.update(support_natural_support= 1.1)\n",
    "growth_rate_midgame.update(support_natural_others= 1.1)\n",
    "\n",
    "growth_rate_midgame.update(carry_unnatural= 1.25)\n",
    "growth_rate_midgame.update(carry_natural_others= 1.2)"
   ]
  },
  {
   "cell_type": "code",
   "execution_count": 139,
   "metadata": {},
   "outputs": [],
   "source": [
    "growth_rate_winner = growth_rate.copy()\n",
    "\n",
    "growth_rate_winner.update(utility_rate= 1.15)\n",
    "\n",
    "growth_rate_winner.update(support_unnatural= 1)\n",
    "growth_rate_winner.update(support_natural_support= 1)\n",
    "growth_rate_winner.update(support_natural_others= 1)\n",
    "\n",
    "growth_rate_winner.update(carry_unnatural= 1.15)\n",
    "growth_rate_winner.update(carry_natural_carry= 1.25)\n",
    "growth_rate_winner.update(carry_natural_others= 1.25)"
   ]
  },
  {
   "cell_type": "code",
   "execution_count": 140,
   "metadata": {},
   "outputs": [],
   "source": [
    "growth_rate_loser = growth_rate.copy()\n",
    "\n",
    "growth_rate_loser.update(utility_rate= 1)\n",
    "\n",
    "growth_rate_loser.update(support_unnatural= 1)\n",
    "growth_rate_loser.update(support_natural_support= 1)\n",
    "growth_rate_loser.update(support_natural_others= 1)\n",
    "\n",
    "growth_rate_loser.update(carry_unnatural= 1)\n",
    "growth_rate_loser.update(carry_natural_carry= 1)\n",
    "growth_rate_loser.update(carry_natural_others= 1)"
   ]
  },
  {
   "cell_type": "code",
   "execution_count": 141,
   "metadata": {},
   "outputs": [],
   "source": [
    "strategy_penalty_rate.update(aggressive_penalty = 1)\n",
    "strategy_penalty_rate.update(aggressive_reward = 1.1)\n",
    "strategy_penalty_rate.update(turtle_penalty = 1)\n",
    "strategy_penalty_rate.update(turtle_reward = 1.18)\n",
    "strategy_penalty_rate.update(normal_penalty = 1)\n",
    "strategy_penalty_rate.update(normal_reward = 1.12)"
   ]
  },
  {
   "cell_type": "code",
   "execution_count": 142,
   "metadata": {},
   "outputs": [],
   "source": [
    "combat_boost_rate.update(role_boost_rate = 1.2)\n",
    "combat_boost_rate.update(hero_boost_rate = 1.15)\n",
    "combat_boost_rate.update(team_boost_rate = 1.05)\n",
    "combat_boost_rate.update(counter_boost_rate = 10)"
   ]
  },
  {
   "cell_type": "code",
   "execution_count": 143,
   "metadata": {},
   "outputs": [],
   "source": [
    "round_combat_bonus_fixed_rate = 1.2/100"
   ]
  },
  {
   "cell_type": "markdown",
   "metadata": {},
   "source": [
    "# The Game"
   ]
  },
  {
   "cell_type": "markdown",
   "metadata": {},
   "source": [
    "### Set Up Heroes Attributes"
   ]
  },
  {
   "cell_type": "code",
   "execution_count": 144,
   "metadata": {},
   "outputs": [],
   "source": [
    "heroes_lvl_0 = initial_setup(heroes_role)"
   ]
  },
  {
   "cell_type": "markdown",
   "metadata": {},
   "source": [
    "### Laning Stage Matchup Score"
   ]
  },
  {
   "cell_type": "code",
   "execution_count": 145,
   "metadata": {
    "scrolled": false
   },
   "outputs": [
    {
     "data": {
      "text/plain": [
       "(2.0, -2.0, ['Lina'], ['Naga_Siren'])"
      ]
     },
     "execution_count": 145,
     "metadata": {},
     "output_type": "execute_result"
    },
    {
     "data": {
      "text/plain": [
       "(1.0, -1.0, ['Ursa', 'Crystal_Maiden'], ['Witch_Doctor', 'Doom'])"
      ]
     },
     "execution_count": 145,
     "metadata": {},
     "output_type": "execute_result"
    },
    {
     "data": {
      "text/plain": [
       "(-1.0, 1.0, ['Legion_Commander'], ['Juggernaut', 'Dazzle'])"
      ]
     },
     "execution_count": 145,
     "metadata": {},
     "output_type": "execute_result"
    },
    {
     "name": "stdout",
     "output_type": "stream",
     "text": [
      "add radiant counter score: \n"
     ]
    },
    {
     "data": {
      "text/plain": [
       "{'counter_laning_mid_score': 0,\n",
       " 'counter_laning_bot_score': -2,\n",
       " 'counter_laning_top_score': 0}"
      ]
     },
     "execution_count": 145,
     "metadata": {},
     "output_type": "execute_result"
    }
   ],
   "source": [
    "bonus_laning_point_list = dict.fromkeys(game_lane, 1)\n",
    "\n",
    "bonus_laning_point_list.update(Mid = laning_stage(lane_matchup[game_lane[0]]))\n",
    "bonus_laning_point_list.update(Bot = laning_stage(lane_matchup[game_lane[1]]))\n",
    "bonus_laning_point_list.update(Top = laning_stage(lane_matchup[game_lane[2]]))\n",
    "\n",
    "bonus_laning_point_list['Mid'][1:6]\n",
    "bonus_laning_point_list['Bot'][1:6]\n",
    "bonus_laning_point_list['Top'][1:6]\n",
    "print('add radiant counter score: ')\n",
    "counter_laning(bonus_laning_point_list)"
   ]
  },
  {
   "cell_type": "markdown",
   "metadata": {},
   "source": [
    "### End of Laning Stage"
   ]
  },
  {
   "cell_type": "code",
   "execution_count": 146,
   "metadata": {
    "scrolled": true
   },
   "outputs": [
    {
     "name": "stdout",
     "output_type": "stream",
     "text": [
      "End of laning stage: \n",
      "1.73\n"
     ]
    }
   ],
   "source": [
    "heroes_lvl_1 = heroes_lvl_up_tbl(heroes_level_up1)\n",
    "\n",
    "end_early = round_score(radiant_team, dire_team, heroes_lvl_1, 'early')\n",
    "\n",
    "bonus_round1_point = end_early[1]\n",
    "\n",
    "print('End of laning stage: ')\n",
    "print(end_early[1])"
   ]
  },
  {
   "cell_type": "markdown",
   "metadata": {},
   "source": [
    "### Select Strategy"
   ]
  },
  {
   "cell_type": "code",
   "execution_count": 147,
   "metadata": {},
   "outputs": [],
   "source": [
    "radiant_strategy = 'aggressive'\n",
    "dire_strategy = 'turtle'"
   ]
  },
  {
   "cell_type": "markdown",
   "metadata": {},
   "source": [
    "### End of Strategy"
   ]
  },
  {
   "cell_type": "code",
   "execution_count": 148,
   "metadata": {
    "scrolled": true
   },
   "outputs": [
    {
     "name": "stdout",
     "output_type": "stream",
     "text": [
      "End of strategy stage: \n",
      "3.06\n"
     ]
    }
   ],
   "source": [
    "heroes_lvl_20 = heroes_lvl_1.copy()\n",
    "heroes_lvl_20[heroes_lvl_20['Hero Fullname'].isin(radiant_team)] = strategy_bonus_rate(radiant_team, radiant_strategy)\n",
    "heroes_lvl_20[heroes_lvl_20['Hero Fullname'].isin(dire_team)] = strategy_bonus_rate(dire_team, dire_strategy)\n",
    "\n",
    "end_strategy = round_score(radiant_team, dire_team, heroes_lvl_20, 'mid')\n",
    "\n",
    "bonus_round20_point = end_strategy[1]\n",
    "\n",
    "print('End of strategy stage: ')\n",
    "print(end_strategy[1])"
   ]
  },
  {
   "cell_type": "markdown",
   "metadata": {},
   "source": [
    "### Midgame"
   ]
  },
  {
   "cell_type": "code",
   "execution_count": 149,
   "metadata": {},
   "outputs": [
    {
     "name": "stdout",
     "output_type": "stream",
     "text": [
      "End of midgame growth stage: \n",
      "4.61\n"
     ]
    }
   ],
   "source": [
    "heroes_lvl_21 = heroes_lvl_up_tbl(heroes_lvl_up2)\n",
    "\n",
    "end_midgame_growth = round_score(radiant_team, dire_team, heroes_lvl_21, 'mid')\n",
    "\n",
    "bonus_round21_point = end_midgame_growth[1]\n",
    "\n",
    "print('End of midgame growth stage: ')\n",
    "print(end_midgame_growth[1])"
   ]
  },
  {
   "cell_type": "markdown",
   "metadata": {},
   "source": [
    "### Series of Combat"
   ]
  },
  {
   "cell_type": "code",
   "execution_count": 150,
   "metadata": {
    "scrolled": true
   },
   "outputs": [
    {
     "name": "stdout",
     "output_type": "stream",
     "text": [
      "Select a role to boost: Utility\n"
     ]
    }
   ],
   "source": [
    "winner_combat1 = run_combat(end_midgame_growth[1])\n",
    "\n",
    "heroes_lvl_strategy_penalty = strategy_penalty(heroes_lvl_21, winner_combat1['winner'])\n",
    "\n",
    "boost_option = 1\n",
    "heroes_lvl_winner_boost = boost_for_winner(boost_option, heroes_lvl_strategy_penalty, winner_combat1['winner'])\n",
    "\n",
    "end_combat1 = round_score(radiant_team, dire_team, heroes_lvl_winner_boost, 'mid')\n",
    "\n",
    "next_round_bonus = end_combat1[1]\n",
    "\n",
    "heroes_lvl_combat1 = heroes_lvl_winner_boost.copy()\n",
    "heroes_lvl_combat1[heroes_lvl_combat1['Hero Fullname'].isin(radiant_team)] = team_combat_growth(radiant_team, winner_combat1['winner'], heroes_lvl_winner_boost, next_round_bonus)\n",
    "heroes_lvl_combat1[heroes_lvl_combat1['Hero Fullname'].isin(dire_team)] = team_combat_growth(dire_team, winner_combat1['winner'], heroes_lvl_winner_boost, next_round_bonus)"
   ]
  },
  {
   "cell_type": "code",
   "execution_count": 151,
   "metadata": {
    "scrolled": true
   },
   "outputs": [],
   "source": [
    "combined_plot = pd.DataFrame()\n",
    "\n",
    "plot_lvl_0 = heroes_lvl_0.copy()\n",
    "plot_lvl_0['stage'] = 0\n",
    "plot_lvl_0 = plot_lvl_0[~plot_lvl_0['Role'].isin(early_attr_remove)]\n",
    "\n",
    "plot_lvl_1 = heroes_lvl_1.copy()\n",
    "plot_lvl_1['stage'] = 5\n",
    "plot_lvl_1 = plot_lvl_1[~plot_lvl_1['Role'].isin([early_attr_remove])]\n",
    "\n",
    "plot_lvl_20 = heroes_lvl_20.copy()\n",
    "plot_lvl_20['stage'] = 10\n",
    "plot_lvl_20 = plot_lvl_20[~plot_lvl_20['Role'].isin([midgame_attr_remove])]\n",
    "\n",
    "plot_lvl_21 = heroes_lvl_21.copy()\n",
    "plot_lvl_21['stage'] = 15\n",
    "plot_lvl_21 = plot_lvl_21[~plot_lvl_21['Role'].isin([midgame_attr_remove])]\n",
    "\n",
    "plot_lvl_22 = heroes_lvl_strategy_penalty.copy()\n",
    "plot_lvl_22['stage'] = 18\n",
    "plot_lvl_22 = plot_lvl_22[~plot_lvl_22['Role'].isin([midgame_attr_remove])]\n",
    "\n",
    "plot_lvl_23 = heroes_lvl_winner_boost.copy()\n",
    "plot_lvl_23['stage'] = 19\n",
    "plot_lvl_23 = plot_lvl_23[~plot_lvl_23['Role'].isin([midgame_attr_remove])]\n",
    "\n",
    "plot_lvl_24 = heroes_lvl_combat1.copy()\n",
    "plot_lvl_24['stage'] = 20\n",
    "plot_lvl_24 = plot_lvl_24[~plot_lvl_24['Role'].isin([midgame_attr_remove])]\n",
    "\n",
    "combined_plot = pd.concat([plot_lvl_0, plot_lvl_1, plot_lvl_20, plot_lvl_21, plot_lvl_22, plot_lvl_23, plot_lvl_24], axis=0, join='outer', ignore_index=False, keys=None,\n",
    "          levels=None, names=None, verify_integrity=False, copy=True, sort=False)\n",
    "\n",
    "for hero in combined_plot['Hero Fullname']:\n",
    "    if hero in combined_role['Support']:\n",
    "        combined_plot.loc[combined_plot['Hero Fullname'] == hero, 'game_role'] = 'Support'\n",
    "    if hero in combined_role['Utility']:\n",
    "        combined_plot.loc[combined_plot['Hero Fullname'] == hero, 'game_role'] = 'Utility'\n",
    "    if hero in combined_role['Carry']:\n",
    "        combined_plot.loc[combined_plot['Hero Fullname'] == hero, 'game_role'] = 'Carry'\n",
    "\n",
    "combined_plot2 = pd.DataFrame()\n",
    "\n",
    "plot_carry_point = combined_plot.loc[(combined_plot['Role'] == 'Carry') & (combined_plot['game_role'] == 'Carry')]\n",
    "plot_support_point = combined_plot.loc[(combined_plot['Role'] == 'Support') & (combined_plot['game_role'] == 'Support')]\n",
    "\n",
    "combined_plot2 = pd.concat([plot_carry_point, plot_support_point], axis=0, join='outer', ignore_index=False, keys=None,\n",
    "          levels=None, names=None, verify_integrity=False, copy=True, sort=False)"
   ]
  },
  {
   "cell_type": "code",
   "execution_count": 153,
   "metadata": {
    "scrolled": false
   },
   "outputs": [
    {
     "data": {
      "text/plain": [
       "<matplotlib.axes._subplots.AxesSubplot at 0x1c90f772dd8>"
      ]
     },
     "execution_count": 153,
     "metadata": {},
     "output_type": "execute_result"
    },
    {
     "data": {
      "text/plain": [
       "{'Carry': ['Lina', 'Ursa', 'Legion_Commander'],\n",
       " 'Support': ['Crystal_Maiden'],\n",
       " 'Utility': ['Bounty_Hunter']}"
      ]
     },
     "execution_count": 153,
     "metadata": {},
     "output_type": "execute_result"
    },
    {
     "data": {
      "text/plain": [
       "{'Carry': ['Juggernaut', 'Naga_Siren'],\n",
       " 'Support': ['Witch_Doctor', 'Dazzle'],\n",
       " 'Utility': ['Doom']}"
      ]
     },
     "execution_count": 153,
     "metadata": {},
     "output_type": "execute_result"
    },
    {
     "data": {
      "text/plain": [
       "{'Mid': ['Lina'],\n",
       " 'Bot': ['Ursa', 'Crystal_Maiden'],\n",
       " 'Top': ['Legion_Commander'],\n",
       " 'Jungle': [0],\n",
       " 'Roam': ['Bounty_Hunter']}"
      ]
     },
     "execution_count": 153,
     "metadata": {},
     "output_type": "execute_result"
    },
    {
     "data": {
      "text/plain": [
       "{'Mid': ['Naga_Siren'],\n",
       " 'Bot': ['Witch_Doctor', 'Doom'],\n",
       " 'Top': ['Juggernaut', 'Dazzle'],\n",
       " 'Jungle': [0],\n",
       " 'Roam': [0]}"
      ]
     },
     "execution_count": 153,
     "metadata": {},
     "output_type": "execute_result"
    },
    {
     "data": {
      "image/png": "[encoded data removed]",
      "text/plain": [
       "<Figure size 720x720 with 1 Axes>"
      ]
     },
     "metadata": {
      "needs_background": "light"
     },
     "output_type": "display_data"
    }
   ],
   "source": [
    "game_impact = combined_plot.groupby(['stage', 'Hero Fullname'])['Level'].sum().unstack().plot(kind='line', figsize=(10,10), title='Growth by Role')\n",
    "game_impact\n",
    "\n",
    "radiant_heroes_role\n",
    "dire_heroes_role\n",
    "\n",
    "radiant_heroes_lane\n",
    "dire_heroes_lane"
   ]
  }
 ],
 "metadata": {
  "kernelspec": {
   "display_name": "Python 3",
   "language": "python",
   "name": "python3"
  },
  "language_info": {
   "codemirror_mode": {
    "name": "ipython",
    "version": 3
   },
   "file_extension": ".py",
   "mimetype": "text/x-python",
   "name": "python",
   "nbconvert_exporter": "python",
   "pygments_lexer": "ipython3",
   "version": "3.7.0"
  }
 },
 "nbformat": 4,
 "nbformat_minor": 2
}
