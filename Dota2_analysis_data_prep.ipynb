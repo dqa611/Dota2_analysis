{
 "cells": [
  {
   "cell_type": "markdown",
   "metadata": {},
   "source": [
    "7.22 Dota version"
   ]
  },
  {
   "cell_type": "code",
   "execution_count": null,
   "metadata": {},
   "outputs": [],
   "source": [
    "import pandas as pd\n",
    "import numpy as np\n",
    "\n",
    "import itertools\n",
    "\n",
    "import urllib.request\n",
    "from urllib.request import urlopen\n",
    "import requests\n",
    "from bs4 import BeautifulSoup\n",
    "\n",
    "from IPython.core.interactiveshell import InteractiveShell\n",
    "InteractiveShell.ast_node_interactivity = \"all\"\n",
    "\n",
    "from IPython.core.display import display, HTML\n",
    "display(HTML(\"<style>.container { width:100% !important; }</style>\"))"
   ]
  },
  {
   "cell_type": "markdown",
   "metadata": {},
   "source": [
    "# Counter Matchup Data"
   ]
  },
  {
   "cell_type": "markdown",
   "metadata": {},
   "source": [
    "##### Web scrap from Dotapedia"
   ]
  },
  {
   "cell_type": "markdown",
   "metadata": {},
   "source": [
    "###### Function to remove duplicates and keep the list order \n",
    "http://www.martinbroadhurst.com/removing-duplicates-from-a-list-while-preserving-order-in-python.html\n"
   ]
  },
  {
   "cell_type": "code",
   "execution_count": null,
   "metadata": {},
   "outputs": [],
   "source": [
    "def unique(sequence):\n",
    "    seen = set()\n",
    "    return [x for x in sequence if not (x in seen or seen.add(x))]"
   ]
  },
  {
   "cell_type": "markdown",
   "metadata": {},
   "source": [
    "###### Get all heroes names"
   ]
  },
  {
   "cell_type": "markdown",
   "metadata": {},
   "source": [
    "##### Function to process data from links on https://dota2.gamepedia.com/Matchups"
   ]
  },
  {
   "cell_type": "code",
   "execution_count": null,
   "metadata": {},
   "outputs": [],
   "source": [
    "def get_heroes_matchup_info(hero_name, heroes_mentioned):\n",
    "    \n",
    "    # Part 1: clean up the information collected from the webite  \n",
    "    # filter non type element in the list\n",
    "    heroes_mentioned = list(filter(None, heroes_mentioned)) \n",
    "\n",
    "    # cut short the list to only relevant heroes\n",
    "    heroes_mentioned_clean = heroes_mentioned[heroes_mentioned.index('/index.php?title=' + hero_name + \\\n",
    "                                                                     '/Counters&action=edit&section=1'): \n",
    "                                              heroes_mentioned.index('/Dota_2_Wiki:About') -1]\n",
    "\n",
    "    # remove '/' i the list\n",
    "    heroes_mentioned_clean = [heroes_mentioned[i].strip('/') for i in \n",
    "                              range(len(heroes_mentioned))]    \n",
    "\n",
    "    # remove duplicates in the list    \n",
    "    heroes_mentioned_clean = unique(heroes_mentioned_clean)\n",
    "\n",
    "    # remove skills and items (can think more about this later)\n",
    "    heroes_mentioned_clean1 = []\n",
    "\n",
    "    for i in range(len(heroes_mentioned_clean)):\n",
    "        if '#' not in heroes_mentioned_clean[i]:\n",
    "            heroes_mentioned_clean1.append(heroes_mentioned_clean[i])\n",
    "\n",
    "    # filter only heroes        \n",
    "    heroes_mentioned_clean2 = [heroes_mentioned_clean1[i] for i in \n",
    "                               range(len(heroes_mentioned_clean1)) if \n",
    "                               heroes_mentioned_clean1[i] in heroes_name_list]\n",
    "\n",
    "    # Part 2: populate the hero's matchup info   \n",
    "    # In the page, heroes that counters the hero well is in red  \n",
    "    heroes_countered1 = []\n",
    "\n",
    "    productDivs = soup.findAll('div', attrs={'style': 'margin-bottom:5px; box-shadow:0px 0px 2px 4px red;'})\n",
    "    for div in productDivs:\n",
    "        heroes_countered1.append(div.find('a')['href'].strip('/'))\n",
    "\n",
    "    # In the page, heroes that the hero counters well is in green       \n",
    "    heroes_counter1 = []\n",
    "\n",
    "    productDivs_chartreuse = soup.findAll('div', attrs={'style': 'margin-bottom:5px; box-shadow:0px 0px 2px 4px chartreuse;'})\n",
    "    productDivs_green = soup.findAll('div', attrs={'style': 'margin-bottom:5px; box-shadow:0px 0px 2px 4px green;'})\n",
    "    productDivs = productDivs_chartreuse + productDivs_green\n",
    "    for div in productDivs:\n",
    "        heroes_counter1.append(div.find('a')['href'].strip('/'))\n",
    "\n",
    "    # In the page, heroes good with are list in blue     \n",
    "    heroes_good_with1 = []\n",
    "\n",
    "    productDivs = soup.findAll('div', attrs={'style': 'margin-bottom:5px; box-shadow:0px 0px 2px 4px skyblue;'})\n",
    "    for div in productDivs:\n",
    "        heroes_good_with1.append(div.find('a')['href'].strip('/'))\n",
    "\n",
    "    # In the page, great countered heroes are mentioned in red, then there are some other heroes mentioned before the page moves on to the next section\n",
    "    # last hero mentioned in red \n",
    "    last_red = heroes_mentioned_clean2.index(heroes_countered1[-1])\n",
    "    # first hero mentioned in green\n",
    "    first_green = heroes_mentioned_clean2.index(heroes_counter1[0])\n",
    "    # last hero mentioned in green\n",
    "    last_green = heroes_mentioned_clean2.index(heroes_counter1[-1])\n",
    "\n",
    "    # first hero mentioned in blue\n",
    "    first_blue = heroes_mentioned_clean2.index(heroes_good_with1[0])\n",
    "    # last hero mentioned in blue\n",
    "    last_blue = heroes_mentioned_clean2.index(heroes_good_with1[-1])\n",
    "\n",
    "    # Create list of heroes matchups    \n",
    "    # Create countered level 2\n",
    "    if last_red+1 == first_green:\n",
    "        heroes_countered2 = []\n",
    "    else:     \n",
    "        heroes_countered2 = heroes_mentioned_clean2[last_red+1 : first_green]\n",
    "\n",
    "    # Create counter level 2\n",
    "    if last_green+1 == first_blue: \n",
    "        heroes_counter2 = []\n",
    "    else:\n",
    "        heroes_counter2 = heroes_mentioned_clean2[last_green+1 : first_blue]\n",
    "\n",
    "    # Create good with level 2\n",
    "    heroes_good_with2 = heroes_mentioned_clean2[last_blue+1 :]\n",
    "\n",
    "    # Part 3: export the info \n",
    "    # to an object\n",
    "    heroes_matchup_info = {'heroes_countered1': heroes_countered1, \n",
    "                           'heroes_countered2': heroes_countered2,\n",
    "                           'heroes_counter1': heroes_counter1, \n",
    "                           'heroes_counter2': heroes_counter2,\n",
    "                           'heroes_good_with1': heroes_good_with1,\n",
    "                           'heroes_good_with2': heroes_good_with2}\n",
    "    \n",
    "    return heroes_matchup_info"
   ]
  },
  {
   "cell_type": "code",
   "execution_count": null,
   "metadata": {},
   "outputs": [],
   "source": [
    "with urlopen('https://raw.githubusercontent.com/dqa611/Dota2_analysis/master/dota2_heroes.csv') as csv_file:\n",
    "    heroes_name_fixed = pd.read_csv(csv_file)"
   ]
  },
  {
   "cell_type": "code",
   "execution_count": null,
   "metadata": {},
   "outputs": [],
   "source": [
    "heroes_name_list = heroes_name_fixed['Heroes'].tolist()"
   ]
  },
  {
   "cell_type": "markdown",
   "metadata": {},
   "source": [
    "##### Get all the link the page"
   ]
  },
  {
   "cell_type": "code",
   "execution_count": null,
   "metadata": {
    "scrolled": false
   },
   "outputs": [],
   "source": [
    "r = requests.get('https://dota2.gamepedia.com/Matchups')\n",
    "soup = BeautifulSoup(r.text)\n",
    "\n",
    "base_url = 'https://dota2.gamepedia.com/Matchups'\n",
    "heroes_counters_link = []\n",
    "\n",
    "for link in soup.find_all('a'):\n",
    "    url = link.get('href')\n",
    "    if url and '/Counters' in url:\n",
    "        heroes_counters_link.append(url)\n",
    "        \n",
    "heroes_counters_link = list(sorted(set(heroes_counters_link)))"
   ]
  },
  {
   "cell_type": "code",
   "execution_count": null,
   "metadata": {},
   "outputs": [],
   "source": [
    "heroes_matchup_dict = {}\n",
    "\n",
    "for i in range(len(heroes_counters_link)):\n",
    "    r = requests.get('https://dota2.gamepedia.com' + heroes_counters_link[i])\n",
    "    soup = BeautifulSoup(r.text)\n",
    "\n",
    "    hero_name = heroes_counters_link[i].strip('/')[:-9]\n",
    "\n",
    "    heroes_mentioned = []\n",
    "    for link in soup.findAll('a'):\n",
    "        heroes_mentioned.append(link.get('href')) \n",
    "    \n",
    "    heroes_matchup_dict[hero_name] = get_heroes_matchup_info(hero_name, heroes_mentioned)"
   ]
  },
  {
   "cell_type": "markdown",
   "metadata": {},
   "source": [
    "###### Save the Data to Json file"
   ]
  },
  {
   "cell_type": "code",
   "execution_count": null,
   "metadata": {},
   "outputs": [],
   "source": [
    "import json\n",
    "json = json.dumps(heroes_matchup_dict)\n",
    "\n",
    "f = open(\"C:/Users/anhqu/OneDrive/Desktop/QAs/QA github folder/dotapedia_matchup_dict.json\",\"w\")\n",
    "f.write(json)\n",
    "f.close()"
   ]
  },
  {
   "cell_type": "code",
   "execution_count": null,
   "metadata": {},
   "outputs": [],
   "source": [
    "import json\n",
    "with open(\"C:/Users/anhqu/OneDrive/Desktop/QAs/QA github folder/dotapedia_matchup_dict.json\") as json_file:\n",
    "    heroes_matchup_dict = json.load(json_file)"
   ]
  },
  {
   "cell_type": "markdown",
   "metadata": {},
   "source": [
    "### Create Matchup Pair Data"
   ]
  },
  {
   "cell_type": "code",
   "execution_count": null,
   "metadata": {},
   "outputs": [],
   "source": [
    "heroes_matchup_pair = list(itertools.permutations(heroes_name_list,2))"
   ]
  },
  {
   "cell_type": "markdown",
   "metadata": {},
   "source": [
    "## Matchup Score"
   ]
  },
  {
   "cell_type": "code",
   "execution_count": null,
   "metadata": {},
   "outputs": [],
   "source": [
    "matchup_score = []\n",
    "for i in range(len(heroes_matchup_pair)):    \n",
    "    matchup_score.append(list([heroes_matchup_pair[i],0]))"
   ]
  },
  {
   "cell_type": "code",
   "execution_count": null,
   "metadata": {},
   "outputs": [],
   "source": [
    "for i in range(len(heroes_matchup_pair)):\n",
    "\n",
    "    hero1_in_pair = heroes_matchup_pair[i][0]\n",
    "    hero2_in_pair = heroes_matchup_pair[i][1]\n",
    "    \n",
    "    list_counter_countered = list(itertools.chain(*[heroes_matchup_dict[hero1_in_pair]['heroes_countered2'],\n",
    "                                                    heroes_matchup_dict[hero1_in_pair]['heroes_counter2'],\n",
    "                                                    heroes_matchup_dict[hero1_in_pair]['heroes_countered1'],\n",
    "                                                    heroes_matchup_dict[hero1_in_pair]['heroes_counter1']]\n",
    "                                                 ))\n",
    "\n",
    "# 0 means the 2 heores have ways to counter each other\n",
    "# negative means hero 1 in the pair is countered by hero 2\n",
    "# positive means hero 1 in the pair counters hero 2\n",
    "\n",
    "    if hero2_in_pair not in list_counter_countered:\n",
    "        matchup_score[i][1] = 0\n",
    "    if hero2_in_pair in heroes_matchup_dict[hero1_in_pair]['heroes_countered2']:\n",
    "        matchup_score[i][1] = -.5\n",
    "    if hero2_in_pair in heroes_matchup_dict[hero1_in_pair]['heroes_counter2']:\n",
    "        matchup_score[i][1] = .5\n",
    "    if hero2_in_pair in heroes_matchup_dict[hero1_in_pair]['heroes_countered1']:\n",
    "        matchup_score[i][1] = -1\n",
    "    if hero2_in_pair in heroes_matchup_dict[hero1_in_pair]['heroes_counter1']:\n",
    "        matchup_score[i][1] = 1"
   ]
  },
  {
   "cell_type": "code",
   "execution_count": null,
   "metadata": {},
   "outputs": [],
   "source": [
    "matchup_score1 = matchup_score[:]\n",
    "\n",
    "for i in range(len(matchup_score1)):\n",
    "\n",
    "    hero1_in_pair = heroes_matchup_pair[i][0]\n",
    "    hero2_in_pair = heroes_matchup_pair[i][1]\n",
    "\n",
    "    similar_pairs = [y for y in matchup_score if hero1_in_pair in y[0] and hero2_in_pair in y[0]]    \n",
    "\n",
    "    heroes_pair_1 = similar_pairs[0]\n",
    "    heroes_pair_2 = similar_pairs[1]\n",
    "\n",
    "    if abs(heroes_pair_1[1]) > abs(heroes_pair_2[1]):\n",
    "        matchup_score1[matchup_score1.index(heroes_pair_2)][1] = -heroes_pair_1[1]\n",
    "    elif abs(heroes_pair_1[1]) < abs(heroes_pair_2[1]):\n",
    "        matchup_score1[matchup_score1.index(heroes_pair_1)][1] = -heroes_pair_2[1]"
   ]
  },
  {
   "cell_type": "code",
   "execution_count": null,
   "metadata": {},
   "outputs": [],
   "source": [
    "import json\n",
    "json = json.dumps(matchup_score1)\n",
    "\n",
    "f = open(\"C:/Users/anhqu/OneDrive/Desktop/QAs/QA github folder/heroes_matchup_score.json\",\"w\")\n",
    "f.write(json)\n",
    "f.close()"
   ]
  },
  {
   "cell_type": "markdown",
   "metadata": {},
   "source": [
    "## Good With Score"
   ]
  },
  {
   "cell_type": "code",
   "execution_count": null,
   "metadata": {},
   "outputs": [],
   "source": [
    "good_with_score = []\n",
    "for i in range(len(heroes_matchup_pair)):    \n",
    "    good_with_score.append(list([heroes_matchup_pair[i],0]))"
   ]
  },
  {
   "cell_type": "code",
   "execution_count": null,
   "metadata": {},
   "outputs": [],
   "source": [
    "import json\n",
    "json = json.dumps(good_with_score1)\n",
    "\n",
    "f = open(\"C:/Users/anhqu/OneDrive/Desktop/QAs/QA github folder/heroes_good_with_score.json\",\"w\")\n",
    "f.write(json)\n",
    "f.close()"
   ]
  },
  {
   "cell_type": "code",
   "execution_count": null,
   "metadata": {},
   "outputs": [],
   "source": [
    "for i in range(len(heroes_matchup_pair)):\n",
    "\n",
    "    hero1_in_pair = heroes_matchup_pair[i][0]\n",
    "    hero2_in_pair = heroes_matchup_pair[i][1]\n",
    "    \n",
    "    list_good_with = list(itertools.chain(*[heroes_matchup_dict[hero1_in_pair]['heroes_good_with1'],\n",
    "                                                    heroes_matchup_dict[hero1_in_pair]['heroes_good_with2']\n",
    "                                           ]))\n",
    "\n",
    "# 0 means the 2 heroes don't significantly go well together\n",
    "# 0.5 means OK\n",
    "# 1 means combo buddy                                        \n",
    "\n",
    "    if hero2_in_pair not in list_good_with:\n",
    "        good_with_score[i][1] = 0\n",
    "    if hero2_in_pair in heroes_matchup_dict[hero1_in_pair]['heroes_good_with2']:\n",
    "        good_with_score[i][1] = .5\n",
    "    if hero2_in_pair in heroes_matchup_dict[hero1_in_pair]['heroes_good_with1']:\n",
    "        good_with_score[i][1] = 1"
   ]
  },
  {
   "cell_type": "code",
   "execution_count": null,
   "metadata": {},
   "outputs": [],
   "source": [
    "good_with_score1 = good_with_score[:]\n",
    "\n",
    "for i in range(len(good_with_score1)):\n",
    "\n",
    "    hero1_in_pair = heroes_matchup_pair[i][0]\n",
    "    hero2_in_pair = heroes_matchup_pair[i][1]\n",
    "\n",
    "    similar_pairs = [y for y in good_with_score if hero1_in_pair in y[0] and hero2_in_pair in y[0]]    \n",
    "\n",
    "    heroes_pair_1 = similar_pairs[0]\n",
    "    heroes_pair_2 = similar_pairs[1]\n",
    "\n",
    "    if abs(heroes_pair_1[1]) > abs(heroes_pair_2[1]):\n",
    "        good_with_score1[good_with_score1.index(heroes_pair_2)][1] = heroes_pair_1[1]\n",
    "    elif abs(heroes_pair_1[1]) < abs(heroes_pair_2[1]):\n",
    "        good_with_score1[good_with_score1.index(heroes_pair_1)][1] = heroes_pair_2[1]"
   ]
  },
  {
   "cell_type": "markdown",
   "metadata": {},
   "source": [
    "## Laning Carry bonus Table"
   ]
  },
  {
   "cell_type": "markdown",
   "metadata": {},
   "source": [
    "The idea of the table is giving 3-point carry hero a lower growth than 1-point carry at the early stage of the game. The carry growth is exponential and proportional to the natural carry points, meaning a 3-point carry will start slow and eventually outcarry the others"
   ]
  },
  {
   "cell_type": "code",
   "execution_count": null,
   "metadata": {},
   "outputs": [],
   "source": [
    "laning_point_series = list(range(-50, 51, 1))\n",
    "for i in range(0, 101):\n",
    "    laning_point_series[i] = round(laning_point_series[i] /10, 1) \n",
    "\n",
    "carry1_min_point = 1\n",
    "carry2_min_point = 1\n",
    "carry3_min_point = 1\n",
    "carry_min_point = [carry1_min_point, carry2_min_point, carry3_min_point]\n",
    "\n",
    "carry1_0_point = 1.5\n",
    "carry2_0_point = carry1_0_point - 0.2\n",
    "carry3_0_point = carry2_0_point - 0.2*2\n",
    "carry_0_point = [carry1_0_point, carry2_0_point, carry3_0_point]\n",
    "\n",
    "carry1_max_point = 2\n",
    "carry2_max_point = carry1_max_point - 0.1\n",
    "carry3_max_point = carry2_max_point - 0.1*2\n",
    "carry_max_point = [carry1_max_point, carry2_max_point, carry3_max_point]\n",
    "\n",
    "carry_laning_tbl = list(itertools.product([1,2,3], laning_point_series))"
   ]
  },
  {
   "cell_type": "code",
   "execution_count": null,
   "metadata": {},
   "outputs": [],
   "source": [
    "carry_laning_tbl =  pd.DataFrame(carry_laning_tbl, columns=['natural_carry_point', 'laning_bonus'])\n",
    "carry_laning_tbl['carry_point_after_laning'] = 0\n",
    "\n",
    "for i in range(1,4):\n",
    "    carry_laning_tbl.loc[(carry_laning_tbl['natural_carry_point']==i) & (carry_laning_tbl['laning_bonus']==-5.0), 'carry_point_after_laning'] = carry_min_point[i-1]\n",
    "for i in range(1,4):\n",
    "    carry_laning_tbl.loc[(carry_laning_tbl['natural_carry_point']==i) & (carry_laning_tbl['laning_bonus']==0.0), 'carry_point_after_laning'] = carry_0_point[i-1]\n",
    "for i in range(1,4):\n",
    "    carry_laning_tbl.loc[(carry_laning_tbl['natural_carry_point']==i) & (carry_laning_tbl['laning_bonus']==5.0), 'carry_point_after_laning'] = carry_max_point[i-1]\n",
    "\n",
    "carry1_neg5_0 = (carry_laning_tbl.loc[50, 'carry_point_after_laning'] - carry_laning_tbl.loc[0, 'carry_point_after_laning'])/50\n",
    "for i in range(1, 50):\n",
    "    carry_laning_tbl.loc[i, 'carry_point_after_laning'] = carry_laning_tbl.loc[i-1, 'carry_point_after_laning'] + carry1_neg5_0\n",
    "\n",
    "carry1_0_50 = (carry_laning_tbl.loc[100, 'carry_point_after_laning'] - carry_laning_tbl.loc[50, 'carry_point_after_laning'])/50    \n",
    "for i in range(51, 100):\n",
    "    carry_laning_tbl.loc[i, 'carry_point_after_laning'] = carry_laning_tbl.loc[i-1, 'carry_point_after_laning'] + carry1_0_50\n",
    "\n",
    "carry2_neg5_0 = (carry_laning_tbl.loc[151, 'carry_point_after_laning'] - carry_laning_tbl.loc[101, 'carry_point_after_laning'])/50    \n",
    "for i in range(102, 151):\n",
    "    carry_laning_tbl.loc[i, 'carry_point_after_laning'] = carry_laning_tbl.loc[i-1, 'carry_point_after_laning'] + carry2_neg5_0\n",
    "\n",
    "carry2_0_50 = (carry_laning_tbl.loc[201, 'carry_point_after_laning'] - carry_laning_tbl.loc[151, 'carry_point_after_laning'])/50    \n",
    "for i in range(152, 201):\n",
    "    carry_laning_tbl.loc[i, 'carry_point_after_laning'] = carry_laning_tbl.loc[i-1, 'carry_point_after_laning'] + carry2_0_50\n",
    "\n",
    "carry3_neg5_0 = (carry_laning_tbl.loc[252, 'carry_point_after_laning'] - carry_laning_tbl.loc[202, 'carry_point_after_laning'])/50 \n",
    "for i in range(203, 252):\n",
    "     carry_laning_tbl.loc[i, 'carry_point_after_laning'] = carry_laning_tbl.loc[i-1, 'carry_point_after_laning'] + carry3_neg5_0\n",
    "        \n",
    "carry3_0_50 = (carry_laning_tbl.loc[302, 'carry_point_after_laning'] - carry_laning_tbl.loc[252, 'carry_point_after_laning'])/50 \n",
    "for i in range(253, 302):\n",
    "     carry_laning_tbl.loc[i, 'carry_point_after_laning'] = carry_laning_tbl.loc[i-1, 'carry_point_after_laning'] + carry3_0_50"
   ]
  },
  {
   "cell_type": "code",
   "execution_count": null,
   "metadata": {},
   "outputs": [],
   "source": [
    "carry_laning_tbl.to_csv('C:/Users/anhqu/OneDrive/Desktop/QAs/QA github folder/Carries_laning_growth.csv')"
   ]
  }
 ],
 "metadata": {
  "kernelspec": {
   "display_name": "Python 3",
   "language": "python",
   "name": "python3"
  },
  "language_info": {
   "codemirror_mode": {
    "name": "ipython",
    "version": 3
   },
   "file_extension": ".py",
   "mimetype": "text/x-python",
   "name": "python",
   "nbconvert_exporter": "python",
   "pygments_lexer": "ipython3",
   "version": "3.7.0"
  }
 },
 "nbformat": 4,
 "nbformat_minor": 2
}
