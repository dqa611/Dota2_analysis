{
 "cells": [
  {
   "cell_type": "markdown",
   "metadata": {},
   "source": [
    "# Let the Game Begin"
   ]
  },
  {
   "cell_type": "markdown",
   "metadata": {},
   "source": [
    "7.22 Dota version immediately after TI9"
   ]
  },
  {
   "cell_type": "markdown",
   "metadata": {},
   "source": [
    "## Loading Screen"
   ]
  },
  {
   "cell_type": "markdown",
   "metadata": {},
   "source": [
    "###### Import Library"
   ]
  },
  {
   "cell_type": "code",
   "execution_count": 1,
   "metadata": {},
   "outputs": [
    {
     "data": {
      "text/html": [
       "<style>.container { width:100% !important; }</style>"
      ],
      "text/plain": [
       "<IPython.core.display.HTML object>"
      ]
     },
     "metadata": {},
     "output_type": "display_data"
    }
   ],
   "source": [
    "import pandas as pd\n",
    "import numpy as np\n",
    "import matplotlib.pyplot as plt\n",
    "\n",
    "import itertools\n",
    "import random\n",
    "\n",
    "import urllib.request\n",
    "from urllib.request import urlopen\n",
    "import requests\n",
    "from bs4 import BeautifulSoup\n",
    "\n",
    "from IPython.core.interactiveshell import InteractiveShell\n",
    "InteractiveShell.ast_node_interactivity = \"all\"\n",
    "\n",
    "from IPython.core.display import display, HTML\n",
    "display(HTML(\"<style>.container { width:100% !important; }</style>\"))"
   ]
  },
  {
   "cell_type": "markdown",
   "metadata": {},
   "source": [
    "###### Widen screen "
   ]
  },
  {
   "cell_type": "code",
   "execution_count": 2,
   "metadata": {
    "scrolled": true
   },
   "outputs": [
    {
     "data": {
      "text/html": [
       "<style>\n",
       ".output {\n",
       "    flex-direction: row;\n",
       "}\n",
       "</style>"
      ],
      "text/plain": [
       "<IPython.core.display.HTML object>"
      ]
     },
     "execution_count": 2,
     "metadata": {},
     "output_type": "execute_result"
    }
   ],
   "source": [
    "from IPython.display import display, HTML\n",
    "\n",
    "CSS = \"\"\"\n",
    ".output {\n",
    "    flex-direction: row;\n",
    "}\n",
    "\"\"\"\n",
    "\n",
    "HTML('<style>{}</style>'.format(CSS))"
   ]
  },
  {
   "cell_type": "markdown",
   "metadata": {},
   "source": [
    "###### Load Heroes Data"
   ]
  },
  {
   "cell_type": "code",
   "execution_count": 3,
   "metadata": {},
   "outputs": [],
   "source": [
    "with urlopen('https://raw.githubusercontent.com/dqa611/Dota2_analysis/master/dota2_heroes.csv') as csv_file:\n",
    "    heroes_name_fixed = pd.read_csv(csv_file)"
   ]
  },
  {
   "cell_type": "markdown",
   "metadata": {},
   "source": [
    "###### Load Hero Attributes Data"
   ]
  },
  {
   "cell_type": "code",
   "execution_count": 4,
   "metadata": {},
   "outputs": [],
   "source": [
    "with urlopen('https://raw.githubusercontent.com/dqa611/Dota2_analysis/master/dota2_heroes_roles.csv') as csv_file:\n",
    "    heroes_roles = pd.read_csv(csv_file)"
   ]
  },
  {
   "cell_type": "markdown",
   "metadata": {},
   "source": [
    "###### Load Matchup Data"
   ]
  },
  {
   "cell_type": "code",
   "execution_count": 5,
   "metadata": {},
   "outputs": [],
   "source": [
    "import json\n",
    "with urlopen('https://raw.githubusercontent.com/dqa611/Dota2_analysis/master/heroes_matchup_score.json') as json_file:\n",
    "    matchup_score1 = json.load(json_file)"
   ]
  },
  {
   "cell_type": "markdown",
   "metadata": {},
   "source": [
    "###### Load Combo Data"
   ]
  },
  {
   "cell_type": "code",
   "execution_count": 6,
   "metadata": {},
   "outputs": [],
   "source": [
    "import json\n",
    "with urlopen('https://raw.githubusercontent.com/dqa611/Dota2_analysis/master/heroes_good_with_score.json') as json_file:\n",
    "    good_with_score1 = json.load(json_file)"
   ]
  },
  {
   "cell_type": "markdown",
   "metadata": {},
   "source": [
    "###### Load Carry Laning Table"
   ]
  },
  {
   "cell_type": "code",
   "execution_count": 7,
   "metadata": {},
   "outputs": [],
   "source": [
    "carry_laning_tbl = pd.read_csv('C:/Users/anhqu/OneDrive/Desktop/QAs/QA github folder/Carries_laning_growth.csv')"
   ]
  },
  {
   "cell_type": "markdown",
   "metadata": {},
   "source": [
    "# Functions"
   ]
  },
  {
   "cell_type": "markdown",
   "metadata": {},
   "source": [
    "### Function to Create a Banned Hero Pool"
   ]
  },
  {
   "cell_type": "code",
   "execution_count": 8,
   "metadata": {},
   "outputs": [],
   "source": [
    "def discard_pool(discard_pool):\n",
    "    remaining_pool = [value for value in heroes_name_list if value not in discard_pool]\n",
    "    return remaining_pool"
   ]
  },
  {
   "cell_type": "markdown",
   "metadata": {},
   "source": [
    "### Function to Pick Ban Hero"
   ]
  },
  {
   "cell_type": "code",
   "execution_count": 9,
   "metadata": {},
   "outputs": [],
   "source": [
    "def ban_pick(print_out):\n",
    "    while True:\n",
    "        try:\n",
    "            select_hero = input(str(print_out+ ': '))\n",
    "            select_hero = hero_name_process(select_hero)  \n",
    "        except ValueError:\n",
    "            print('Shortcut name invalid. Try again')\n",
    "            continue \n",
    "\n",
    "        if select_hero in discard_pool:\n",
    "            print('Hero has been selected. Please select another one')\n",
    "            continue\n",
    "        else:\n",
    "            discard_pool.append(select_hero)\n",
    "            print('Discard hero list: ')\n",
    "            print(discard_pool)\n",
    "            print('Hero selected: ')\n",
    "            print(select_hero)   \n",
    "            print('\\n')\n",
    "            break\n",
    "    return select_hero"
   ]
  },
  {
   "cell_type": "markdown",
   "metadata": {},
   "source": [
    "### Function Process Hero Shortcut name"
   ]
  },
  {
   "cell_type": "code",
   "execution_count": 10,
   "metadata": {},
   "outputs": [],
   "source": [
    "def hero_name_process(hero_list_raw):\n",
    "    hero_list_raw = hero_list_raw.split(',')\n",
    "    hero_list_raw1 = [str(item).strip() for item in hero_list_raw]\n",
    "\n",
    "    hero_list = []\n",
    "\n",
    "    for i in range(len(hero_list_raw)):\n",
    "        hero_list.append(heroes_name_fixed[heroes_name_fixed['key'] == hero_list_raw1[i]]['Heroes'].item())\n",
    "        \n",
    "    return hero_list"
   ]
  },
  {
   "cell_type": "markdown",
   "metadata": {},
   "source": [
    "### Function to calculate Radiant Counter Score vs Dire"
   ]
  },
  {
   "cell_type": "code",
   "execution_count": 11,
   "metadata": {},
   "outputs": [],
   "source": [
    "def counter_score(radiant_team, dire_team):\n",
    "    radiant_counter_score = 0 \n",
    "\n",
    "    for hero_radiant in radiant_team:\n",
    "        for hero_dire in dire_team:\n",
    "            radiant_counter_score += [y for y in matchup_score1 if hero_radiant in y[0][0] and hero_dire in y[0][1]][0][1]\n",
    "\n",
    "    radiant_team_pair = list(itertools.combinations(radiant_team,2))\n",
    "    radiant_good_with_score = 0\n",
    "\n",
    "    for i in range(len(radiant_team_pair)):\n",
    "        radiant_good_with_score += [y for y in good_with_score1 if \\\n",
    "                                    radiant_team_pair[i][0] in y[0][0] and \\\n",
    "                                    radiant_team_pair[i][1] in y[0][1]][0][1]\n",
    "\n",
    "    dire_team_pair = list(itertools.combinations(dire_team,2))\n",
    "    dire_good_with_score = 0\n",
    "\n",
    "    for i in range(len(dire_team_pair)):\n",
    "        dire_good_with_score += [y for y in good_with_score1 if \\\n",
    "                                    dire_team_pair[i][0] in y[0][0] and \\\n",
    "                                    dire_team_pair[i][1] in y[0][1]][0][1]\n",
    "\n",
    "    radiant_total_score = radiant_counter_score + radiant_good_with_score - dire_good_with_score\n",
    "\n",
    "    return radiant_total_score"
   ]
  },
  {
   "cell_type": "markdown",
   "metadata": {},
   "source": [
    "### Function to calculate individual Hero counter score vs other heroes"
   ]
  },
  {
   "cell_type": "code",
   "execution_count": 12,
   "metadata": {},
   "outputs": [],
   "source": [
    "def hero_counter_score(hero):\n",
    "    if hero in radiant_team: \n",
    "        team = radiant_team\n",
    "        opponent = dire_team\n",
    "    if hero in dire_team:\n",
    "        team = dire_team \n",
    "        opponent = radiant_team\n",
    "\n",
    "    hero_counter_score_list = []\n",
    "    for opponent in opponent:\n",
    "        hero_counter_score_list += [y for y in matchup_score1 if hero in y[0][0] and opponent in y[0][1]]\n",
    "        \n",
    "    hero_counter_score = []\n",
    "    for i in range(len(hero_counter_score_list)):\n",
    "        hero_counter_score.append(hero_counter_score_list[i][1])\n",
    "\n",
    "    hero_counter_score = sum(hero_counter_score)\n",
    "\n",
    "    return hero_counter_score_list, hero_counter_score"
   ]
  },
  {
   "cell_type": "markdown",
   "metadata": {},
   "source": [
    "### Function to set up the initial game by role"
   ]
  },
  {
   "cell_type": "markdown",
   "metadata": {},
   "source": [
    "- Filter only played heroes\n",
    "- Calculate Complexity. High Complexity point is a constant minus to the team\n",
    "- In calculating the score of the two teams, Complexity is excluded\n",
    "- Each hero has different attributes and the number of attributes are not equal. To balance, heroes with high total # of attributes will be nerfed with smaller starting attribute points. Heroes with a lot of attribute points will be rewarded later in the game\n",
    "- A Carry's natural Support point will be a fixed value\n",
    "- An Utility's natural Support and Carry point will be a fixed value\n",
    "- A Support's natural Carry point will be a fixed value"
   ]
  },
  {
   "cell_type": "code",
   "execution_count": 13,
   "metadata": {},
   "outputs": [],
   "source": [
    "def initial_setup(heroes_roles):\n",
    "    # Filter only played heroes\n",
    "    global heroes_roles_not_adj_yet\n",
    "    heroes_roles_not_adj_yet = heroes_roles.loc[heroes_roles['Hero Fullname'].isin(heroes_played)]\n",
    "\n",
    "    # Calculate Complexity versus point. Will use later\n",
    "    radiant_complexity = heroes_roles_not_adj_yet.loc[heroes_roles_not_adj_yet['Hero Fullname'].isin(radiant_team) & heroes_roles_not_adj_yet['Role'].isin(['Complexity'])]['Level'].sum()\n",
    "    dire_complexity = heroes_roles_not_adj_yet.loc[heroes_roles_not_adj_yet['Hero Fullname'].isin(dire_team) & heroes_roles_not_adj_yet['Role'].isin(['Complexity'])]['Level'].sum()\n",
    "\n",
    "    global radiant_vs_dire_complexity\n",
    "    radiant_vs_dire_complexity = radiant_complexity - dire_complexity \n",
    "\n",
    "    # Filter out Complexity Points, for calculating round score\n",
    "    heroes_roles_not_adj_yet = heroes_roles_not_adj_yet.loc[heroes_roles_not_adj_yet['Role'] != 'Complexity']\n",
    "\n",
    "    heroes_lvl_0 = heroes_roles_not_adj_yet.copy()\n",
    "    heroes_lvl_0 = heroes_lvl_0.reset_index(drop=True)\n",
    "\n",
    "    # Formula to nerf heroes with a lot of attribute down\n",
    "    for hero in heroes_played:\n",
    "        for role in role_list:\n",
    "            if heroes_lvl_0.loc[(heroes_lvl_0['Hero Fullname']==hero) & (heroes_lvl_0['Role']==role), 'Level'].item() >0:\n",
    "                heroes_lvl_0.loc[(heroes_lvl_0['Hero Fullname']==hero) & (heroes_lvl_0['Role']==role), 'Level'] = \\\n",
    "                    1 - (heroes_roles_not_adj_yet.loc[heroes_roles_not_adj_yet['Hero Fullname']==hero, 'Level'].sum())*initial_setup_dict['initial_attr_reduction_rate']\n",
    "\n",
    "    # First rule set\n",
    "    for hero in combined_role['Carry']:\n",
    "        if heroes_lvl_0.loc[(heroes_lvl_0['Hero Fullname'] == hero) & (heroes_lvl_0['Role'] == 'Support'), 'Level'].item() >0:\n",
    "            heroes_lvl_0.loc[(heroes_lvl_0['Hero Fullname'] == hero) & (heroes_lvl_0['Role'] == 'Support'), 'Level'] = initial_setup_dict['support_point_for_carry'] \n",
    "\n",
    "    for hero in combined_role['Utility']:\n",
    "        if heroes_lvl_0.loc[(heroes_lvl_0['Hero Fullname'] == hero) & (heroes_lvl_0['Role'] == 'Carry'), 'Level'].item() >0:\n",
    "            heroes_lvl_0.loc[(heroes_lvl_0['Hero Fullname'] == hero) & (heroes_lvl_0['Role'] == 'Carry'), 'Level'] = initial_setup_dict['carry_point_for_utility']    \n",
    "        heroes_lvl_0.loc[(heroes_lvl_0['Hero Fullname'] == hero) & (heroes_lvl_0['Role'] == 'Support'), 'Level'] = initial_setup_dict['support_point_for_utility']    \n",
    "    \n",
    "    for hero in combined_role['Support']:\n",
    "        if heroes_lvl_0.loc[(heroes_lvl_0['Hero Fullname'] == hero) & (heroes_lvl_0['Role'] == 'Carry'), 'Level'].item() >0:\n",
    "            heroes_lvl_0.loc[(heroes_lvl_0['Hero Fullname'] == hero) & (heroes_lvl_0['Role'] == 'Carry'), 'Level'] =initial_setup_dict['carry_point_for_support']       \n",
    "    # Give back support original point\n",
    "        if heroes_lvl_0.loc[(heroes_lvl_0['Hero Fullname'] == hero) & (heroes_lvl_0['Role'] == 'Support'), 'Level'].item() >0:\n",
    "            heroes_lvl_0.loc[(heroes_lvl_0['Hero Fullname'] == hero) & (heroes_lvl_0['Role'] == 'Support'), 'Level'] = \\\n",
    "                heroes_roles.loc[(heroes_roles['Hero Fullname'] == hero) & (heroes_roles['Role'] == 'Support'), 'Level'].item()      \n",
    "            \n",
    "    return heroes_lvl_0"
   ]
  },
  {
   "cell_type": "markdown",
   "metadata": {},
   "source": [
    "### Function to return Heroes' attributes"
   ]
  },
  {
   "cell_type": "code",
   "execution_count": 14,
   "metadata": {
    "scrolled": true
   },
   "outputs": [],
   "source": [
    "def hero_score(hero, hero_level_input, attr):\n",
    "    if attr == 'all':\n",
    "        return hero_level_input.loc[(hero_level_input['Hero Fullname'] == hero)].reset_index(drop=True)\n",
    "    if '!' in attr:\n",
    "        return hero_level_input.loc[(hero_level_input['Hero Fullname'] == hero) & (hero_level_input['Role'] != attr)].reset_index(drop=True)\n",
    "    else:\n",
    "        return hero_level_input.loc[(hero_level_input['Hero Fullname'] == hero) & (hero_level_input['Role'] == attr)].reset_index(drop=True)  "
   ]
  },
  {
   "cell_type": "markdown",
   "metadata": {},
   "source": [
    "### Function to calculate Round Score \n",
    "The function could input the entire two team, or just 2 heroes on each team.\n",
    "\n",
    "In each stage of the game, some scores will be excluded out, but will be included back in with grow score included in there"
   ]
  },
  {
   "cell_type": "code",
   "execution_count": 15,
   "metadata": {},
   "outputs": [],
   "source": [
    "def round_score(radiant_input, dire_input, hero_level_input, stage):\n",
    "    def round_score1(radiant_input, dire_input, hero_level_input):\n",
    "        radiant_role_combined = hero_level_input[hero_level_input['Hero Fullname'].isin(radiant_input)]\n",
    "        radiant_role_score = radiant_role_combined.groupby(['Role'])['Level'].sum().reset_index()\n",
    "        radiant_role_score = radiant_role_score.rename(columns={'Level': 'Radiant_role_score'})\n",
    "\n",
    "        dire_role_combined = hero_level_input[hero_level_input['Hero Fullname'].isin(dire_input)]\n",
    "        dire_role_score = dire_role_combined.groupby(['Role'])['Level'].sum().reset_index()\n",
    "        dire_role_score = dire_role_score.rename(columns={'Level': 'Dire_role_score'})\n",
    "\n",
    "        role_score_table = pd.merge(left = radiant_role_score, \\\n",
    "                                    right = dire_role_score, \\\n",
    "                                    on='Role', how='outer').fillna(0)\n",
    "        return role_score_table\n",
    "\n",
    "    role_score_table1 = pd.DataFrame()\n",
    "    \n",
    "    # If left as default, all points are considered\n",
    "    if stage == 'default':\n",
    "        hero_level_input = heroes_roles_not_adj_yet[:]\n",
    "        role_score_table = round_score1(radiant_input, dire_input, hero_level_input)\n",
    "        role_score_table1 = role_score_table[:]\n",
    "        \n",
    "    if stage == 'early':\n",
    "        role_score_table = round_score1(radiant_input, dire_input, hero_level_input)\n",
    "        role_score_table1 = role_score_table[~role_score_table['Role'].isin(early_attr_remove)].reset_index(drop=True)\n",
    "        \n",
    "    if stage == 'mid':\n",
    "        role_score_table = round_score1(radiant_input, dire_input, hero_level_input)\n",
    "        role_score_table1 = role_score_table[~role_score_table['Role'].isin(midgame_attr_remove)].reset_index(drop=True)\n",
    "\n",
    "\n",
    "    if stage == 'late':\n",
    "        role_score_table = round_score1(radiant_input, dire_input, hero_level_input)\n",
    "        role_score_table1 = role_score_table[~role_score_table['Role'].isin(lategame_attr_remove)].reset_index(drop=True)\n",
    "        \n",
    "        \n",
    "    role_score_table1['radiant_vs_dire'] = role_score_table1['Radiant_role_score'] - \\\n",
    "                                          role_score_table1['Dire_role_score']\n",
    "    \n",
    "    role_score = round(role_score_table1['radiant_vs_dire'].sum(),2)\n",
    "    return role_score_table1, role_score"
   ]
  },
  {
   "cell_type": "markdown",
   "metadata": {},
   "source": [
    "### Function to adjust Laning Point for Roamer"
   ]
  },
  {
   "cell_type": "markdown",
   "metadata": {},
   "source": [
    "Roamer's attributes will be divided by 3 and added to each lane. This helps the laning stage of the team stronger yet the hero will have lower initial growth"
   ]
  },
  {
   "cell_type": "code",
   "execution_count": 16,
   "metadata": {},
   "outputs": [],
   "source": [
    "def laning_stage(laning):    \n",
    "    early_game_score_raw = round_score(laning[0], laning[1], heroes_roles_not_adj_yet, 'early')\n",
    "\n",
    "    # Radiant additonal points for having a roamer\n",
    "    if radiant_heroes_lane['Roam'] != '': \n",
    "        radiant_roam_point = hero_score(radiant_heroes_lane['Roam'][0], heroes_roles_not_adj_yet, 'all')\n",
    "        radiant_roam_point['Level'] = radiant_roam_point['Level'] / 3 \n",
    "        radiant_roam_point = radiant_roam_point[radiant_roam_point['Role'].isin(['Escape', 'Disabler', 'Nuker', 'Support'])].reset_index(drop=True)\n",
    "        radiant_roam_point = radiant_roam_point.rename(columns={'Level': 'radiant_roam_point'})\n",
    "    else: \n",
    "        radiant_roam_point = pd.DataFrame(columns=['Role', 'radiant_roam_point']) \n",
    "\n",
    "    # Dire additonal points for having a roamer    \n",
    "    if dire_heroes_lane['Roam'] != '': \n",
    "        dire_roam_point = hero_score(dire_heroes_lane['Roam'][0], heroes_roles_not_adj_yet, 'all')\n",
    "\n",
    "        dire_roam_point['Level'] = dire_roam_point['Level'] / 3 \n",
    "        dire_roam_point = dire_roam_point[dire_roam_point['Role'].isin(['Escape', 'Disabler', 'Nuker', 'Support'])].reset_index(drop=True)\n",
    "        dire_roam_point = dire_roam_point.rename(columns={'Level': 'dire_roam_point'})\n",
    "    else: \n",
    "        dire_roam_point = pd.DataFrame(columns=['Role', 'dire_roam_point'])\n",
    "\n",
    "    early_game_score1 = early_game_score_raw[0].merge(radiant_roam_point, on='Role', how='outer').fillna(0)\n",
    "    early_game_score2 = early_game_score1.merge(dire_roam_point, on='Role', how='outer').fillna(0)\n",
    "\n",
    "    early_game_score2['versus_score'] = early_game_score2['Radiant_role_score'] + early_game_score2['radiant_roam_point'] - \\\n",
    "                                             early_game_score2['Dire_role_score'] - early_game_score2['dire_roam_point']\n",
    "\n",
    "    bonus_laning_point = round(early_game_score2['versus_score'].sum(),1)\n",
    "    \n",
    "    # Set a cap bonus point of 5\n",
    "    if bonus_laning_point >=5:\n",
    "        bonus_laning_point =5\n",
    "    else: bonus_laning_point = bonus_laning_point\n",
    "    \n",
    "    return early_game_score2, bonus_laning_point, -bonus_laning_point, laning[0], laning[1]"
   ]
  },
  {
   "cell_type": "markdown",
   "metadata": {},
   "source": [
    "### Function adding Counter points in Laning"
   ]
  },
  {
   "cell_type": "markdown",
   "metadata": {},
   "source": [
    "Counter point is among heroes in the lane. If the lane is a 2v2, then each hero will be paired to calculate counter score, then add together"
   ]
  },
  {
   "cell_type": "code",
   "execution_count": 120,
   "metadata": {},
   "outputs": [],
   "source": [
    "def counter_laning(bonus_laning_point_list):\n",
    "    counter_laning_bot1 = []\n",
    "    counter_laning_mid1 = []\n",
    "    counter_laning_top1 = []\n",
    "\n",
    "    for radiant in range(len(bonus_laning_point_list['Bot'][3])):   \n",
    "        for dire in range(len(bonus_laning_point_list['Bot'][4])):\n",
    "            counter_laning_bot1.append([y[1] for y in matchup_score1 if bonus_laning_point_list['Bot'][3][radiant] in y[0][0] and bonus_laning_point_list['Bot'][4][dire] in y[0][1]])  \n",
    "    counter_laning_bot = list(itertools.chain(*counter_laning_bot1))\n",
    "\n",
    "    for radiant in range(len(bonus_laning_point_list['Mid'][3])):   \n",
    "        for dire in range(len(bonus_laning_point_list['Mid'][4])):\n",
    "            counter_laning_mid1.append([y[1] for y in matchup_score1 if bonus_laning_point_list['Mid'][3][radiant] in y[0][0] and bonus_laning_point_list['Mid'][4][dire] in y[0][1]])  \n",
    "    counter_laning_mid = list(itertools.chain(*counter_laning_mid1))\n",
    "\n",
    "    for radiant in range(len(bonus_laning_point_list['Top'][3])):   \n",
    "        for dire in range(len(bonus_laning_point_list['Top'][4])):\n",
    "            counter_laning_top1.append([y[1] for y in matchup_score1 if bonus_laning_point_list['Top'][3][radiant] in y[0][0] and bonus_laning_point_list['Top'][4][dire] in y[0][1]])  \n",
    "    counter_laning_top = list(itertools.chain(*counter_laning_top1))\n",
    "\n",
    "    global counter_laning_score\n",
    "    counter_laning_score = dict.fromkeys(['counter_laning_mid_score', 'counter_laning_mid_score', 'counter_laning_mid_score'])\n",
    "    counter_laning_score.update(counter_laning_mid_score = sum(counter_laning_mid))\n",
    "    counter_laning_score.update(counter_laning_bot_score = sum(counter_laning_bot))\n",
    "    counter_laning_score.update(counter_laning_top_score = sum(counter_laning_top))\n",
    "    \n",
    "    return counter_laning_score"
   ]
  },
  {
   "cell_type": "markdown",
   "metadata": {},
   "source": [
    "### Function to Level Up Hero 1 "
   ]
  },
  {
   "cell_type": "markdown",
   "metadata": {},
   "source": [
    "- Bonus laning point is based on the hero's laning\n",
    "- Roamer and Jungler won't get laning bonus\n",
    "- Unnatural Support and Carry will have a lower growth than natural ones\n",
    "- Support's Support point will have a different growth compared to Support's UnSupport point\n",
    "- Carry's Carry point will have a different growth (a growth table) compared to Carry's UnCarry point\n",
    "- This applies to all hero's growth until the lategame stage"
   ]
  },
  {
   "cell_type": "code",
   "execution_count": 18,
   "metadata": {},
   "outputs": [],
   "source": [
    "def heroes_level_up1(hero): \n",
    "\n",
    "    hero_level = hero_score(hero, heroes_lvl_0, 'all')\n",
    "    hero_lvl1 = hero_level.copy()\n",
    "\n",
    "    # Bonus Laning Point\n",
    "    global bonus_laning_point\n",
    "    bonus_laning_point = 0\n",
    "\n",
    "    if hero in lane_matchup_flatlist['Mid'] and hero in radiant_team:\n",
    "        bonus_laning_point = bonus_laning_point_list['Mid'][1] + counter_laning(bonus_laning_point_list)['counter_laning_mid_score']*laning_counter_matchup_multiplier\n",
    "    if hero in lane_matchup_flatlist['Mid'] and hero in dire_team:\n",
    "        bonus_laning_point = bonus_laning_point_list['Mid'][2] - counter_laning(bonus_laning_point_list)['counter_laning_mid_score']*laning_counter_matchup_multiplier\n",
    "\n",
    "    if hero in lane_matchup_flatlist['Bot'] and hero in radiant_team:\n",
    "        bonus_laning_point = bonus_laning_point_list['Bot'][1] + counter_laning(bonus_laning_point_list)['counter_laning_bot_score']*laning_counter_matchup_multiplier\n",
    "    if hero in lane_matchup_flatlist['Bot'] and hero in dire_team:\n",
    "        bonus_laning_point = bonus_laning_point_list['Bot'][2] - counter_laning(bonus_laning_point_list)['counter_laning_bot_score']*laning_counter_matchup_multiplier\n",
    "\n",
    "    if hero in lane_matchup_flatlist['Top'] and hero in radiant_team:\n",
    "        bonus_laning_point = bonus_laning_point_list['Top'][1] + counter_laning(bonus_laning_point_list)['counter_laning_top_score']*laning_counter_matchup_multiplier\n",
    "    if hero in lane_matchup_flatlist['Top'] and hero in dire_team:\n",
    "        bonus_laning_point = bonus_laning_point_list['Top'][2] - counter_laning(bonus_laning_point_list)['counter_laning_top_score']*laning_counter_matchup_multiplier\n",
    "\n",
    "    # If the Bonus Laning Point causes the growth to be less than 1, the growth is 1\n",
    "    # This situation is rare because the points needs to be at least 50 points to cause it \n",
    "    # Hero Level Up\n",
    "\n",
    "    # Jungler doesn't get bonus laning stage but fixed growth instead   \n",
    "    if hero in combined_laning_stage['Jungle']:\n",
    "        # unnatural jungler\n",
    "        if 'Jungler' not in heroes_roles.loc[heroes_roles['Hero Fullname']==hero, 'Role'] and hero in combined_role['Jungle']: \n",
    "            hero_lvl1.loc[(hero_lvl1['Hero Fullname'] == hero), 'Level'] = \\\n",
    "                hero_lvl1.loc[(hero_lvl1['Hero Fullname'] == hero), 'Level'] * growth_rate_laning['jungler_unnatural_rate']\n",
    "        else: #natural jungler\n",
    "            hero_lvl1.loc[(hero_lvl1['Hero Fullname'] == hero), 'Level'] = \\\n",
    "                hero_lvl1.loc[(hero_lvl1['Hero Fullname'] == hero), 'Level'] * growth_rate_laning['jungler_natural_rate']\n",
    "\n",
    "    # Roamer doesn't get bonus laning stage because its attr points already spread out all lanes. Get a fixed growth\n",
    "    if hero in combined_laning_stage['Roam']:\n",
    "            hero_lvl1.loc[(hero_lvl1['Hero Fullname'] == hero), 'Level'] = \\\n",
    "                hero_lvl1.loc[(hero_lvl1['Hero Fullname'] == hero), 'Level'] * growth_rate_laning['roamer_rate']\n",
    "\n",
    "    # Utility (non support and non carry) will get a small growth rate plus or minus bonus laning points\n",
    "    if hero in combined_role['Utility']:\n",
    "        hero_lvl1.loc[(hero_lvl1['Hero Fullname'] == hero) & (~hero_lvl1['Role'].isin(['Carry', 'Support'])), 'Level'] = \\\n",
    "            hero_lvl1.loc[(hero_lvl1['Hero Fullname'] == hero) & (~hero_lvl1['Role'].isin(['Carry', 'Support'])), 'Level'] * (growth_rate_laning['utility_rate'] + bonus_laning_point*laning_bonus_fixed_rate)\n",
    "\n",
    "    # Natural support hero will get bonus support rate plus bonus laning points\n",
    "    if hero in combined_role['Support']:\n",
    "        # unnatural support\n",
    "        if heroes_roles_not_adj_yet.loc[(heroes_roles_not_adj_yet['Hero Fullname'] == hero)].loc[heroes_roles_not_adj_yet['Role'] == 'Support', 'Level'].item() ==0 \\\n",
    "        and hero in combined_role['Support']: \n",
    "            hero_lvl1.loc[(hero_lvl1['Hero Fullname'] == hero), 'Level'] = hero_lvl1.loc[(hero_lvl1['Hero Fullname'] == hero), 'Level'] * (growth_rate_laning['support_unnatural'] + bonus_laning_point*laning_bonus_fixed_rate)                \n",
    "        else: # natural support \n",
    "            hero_lvl1.loc[(hero_lvl1['Hero Fullname'] == hero) & (hero_lvl1['Role'] == 'Support'), 'Level'] = \\\n",
    "                hero_lvl1.loc[(hero_lvl1['Hero Fullname'] == hero) & (hero_lvl1['Role'] == 'Support'), 'Level'] * (growth_rate_laning['support_natural_support'] + bonus_laning_point*laning_bonus_fixed_rate)\n",
    "\n",
    "            hero_lvl1.loc[(hero_lvl1['Hero Fullname'] == hero) & (hero_lvl1['Role'] != 'Support'), 'Level'] = \\\n",
    "                hero_lvl1.loc[(hero_lvl1['Hero Fullname'] == hero) & (hero_lvl1['Role'] != 'Support'), 'Level'] * (growth_rate_laning['support_natural_others'] + bonus_laning_point*laning_bonus_fixed_rate)\n",
    "\n",
    "\n",
    "    # Natural carry hero will get bonus carry rate plus bonus laning points\n",
    "    if hero in combined_role['Carry']:\n",
    "        # unnatural carry\n",
    "        if heroes_roles_not_adj_yet.loc[(heroes_roles_not_adj_yet['Hero Fullname'] == hero)].loc[heroes_roles_not_adj_yet['Role'] == 'Carry', 'Level'].item() ==0 \\\n",
    "        and hero in combined_role['Carry']:\n",
    "            hero_lvl1.loc[(hero_lvl1['Hero Fullname'] == hero), 'Level'] = \\\n",
    "                hero_lvl1.loc[(hero_lvl1['Hero Fullname'] == hero), 'Level'] * (growth_rate_laning['carry_unnatural'] + bonus_laning_point*laning_bonus_fixed_rate) #maximum grow is 1.65\n",
    "        else: # natural carry \n",
    "            hero_lvl1.loc[(hero_lvl1['Hero Fullname'] == hero) & (hero_lvl1['Role'] == 'Carry'), 'Level'] = \\\n",
    "                carry_laning_tbl.loc[(carry_laning_tbl['natural_carry_point']== heroes_roles_not_adj_yet.loc[(heroes_roles_not_adj_yet['Hero Fullname'] == hero) & (heroes_roles_not_adj_yet['Role'] == 'Carry'), 'Level'].item()) & \\\n",
    "                                     (carry_laning_tbl['laning_bonus']==bonus_laning_point), 'carry_point_after_laning'].item() \n",
    "\n",
    "            hero_lvl1.loc[(hero_lvl1['Hero Fullname'] == hero) & (hero_lvl1['Role'] != 'Carry'), 'Level'] =  \\\n",
    "                hero_lvl1.loc[(hero_lvl1['Hero Fullname'] == hero) & (hero_lvl1['Role'] != 'Carry'), 'Level'] * (growth_rate_laning['carry_natural_others'] + bonus_laning_point*laning_bonus_fixed_rate)\n",
    "    for role in role_list:\n",
    "        if hero_lvl1.loc[(hero_lvl1['Hero Fullname'] == hero) & (hero_lvl1['Role'] == role), 'Level'].item() < \\\n",
    "                heroes_lvl_0.loc[(heroes_lvl_0['Hero Fullname'] == hero) & (heroes_lvl_0['Role'] == role), 'Level'].item():\n",
    "            hero_lvl1.loc[(hero_lvl1['Hero Fullname'] == hero) & (hero_lvl1['Role'] == role), 'Level'] = \\\n",
    "                heroes_lvl_0.loc[(heroes_lvl_0['Hero Fullname'] == hero) & (heroes_lvl_0['Role'] == role), 'Level'].item()\n",
    "            \n",
    "    return hero_lvl1"
   ]
  },
  {
   "cell_type": "markdown",
   "metadata": {},
   "source": [
    "### Function To Create a Table with new Score for Next Round Use"
   ]
  },
  {
   "cell_type": "code",
   "execution_count": 19,
   "metadata": {},
   "outputs": [],
   "source": [
    "def heroes_lvl_up_tbl(function):\n",
    "    table_name = pd.DataFrame()\n",
    "    \n",
    "    for hero in heroes_played:\n",
    "        table_name = pd.concat([table_name, function(hero)])\n",
    "    table_name = table_name.reset_index(drop=True)\n",
    "    return table_name"
   ]
  },
  {
   "cell_type": "markdown",
   "metadata": {},
   "source": [
    "### Function to Level Up Hero 2"
   ]
  },
  {
   "cell_type": "markdown",
   "metadata": {},
   "source": [
    "- No more laning bonus here, only bonus at the end of early game\n",
    "- Different growth than growth at the laning stage"
   ]
  },
  {
   "cell_type": "code",
   "execution_count": 20,
   "metadata": {},
   "outputs": [],
   "source": [
    "def heroes_lvl_up2(hero):\n",
    "    hero_level = hero_score(hero, heroes_lvl_20, 'all')\n",
    "    hero_lvl2 = hero_level.copy()\n",
    "\n",
    "    if hero in combined_role['Utility']:\n",
    "        hero_lvl2.loc[(hero_lvl2['Hero Fullname'] == hero) & (~hero_lvl2['Role'].isin(['Carry', 'Support'])), 'Level'] = \\\n",
    "            hero_lvl2.loc[(hero_lvl2['Hero Fullname'] == hero) & (~hero_lvl2['Role'].isin(['Carry', 'Support'])), 'Level'] * (growth_rate_midgame['utility_rate'] + bonus_round20_point*round20_bonus_fixed_rate)\n",
    "\n",
    "    if hero in combined_role['Support']:\n",
    "        # unnatural support\n",
    "        if heroes_roles_not_adj_yet.loc[(heroes_roles_not_adj_yet['Hero Fullname'] == hero)].loc[heroes_roles_not_adj_yet['Role'] == 'Support', 'Level'].item() ==0 \\\n",
    "        and hero in combined_role['Support']: \n",
    "            hero_lvl2.loc[(hero_lvl2['Hero Fullname'] == hero), 'Level'] = hero_lvl2.loc[(hero_lvl2['Hero Fullname'] == hero), 'Level'] * (growth_rate_midgame['support_unnatural'] + bonus_round20_point*round20_bonus_fixed_rate)                \n",
    "        else: # natural support \n",
    "            hero_lvl2.loc[(hero_lvl2['Hero Fullname'] == hero) & (hero_lvl2['Role'] == 'Support'), 'Level'] = \\\n",
    "                hero_lvl2.loc[(hero_lvl2['Hero Fullname'] == hero) & (hero_lvl2['Role'] == 'Support'), 'Level'] * (growth_rate_midgame['support_natural_support'] + bonus_round20_point*round20_bonus_fixed_rate)\n",
    "\n",
    "            hero_lvl2.loc[(hero_lvl2['Hero Fullname'] == hero) & (hero_lvl2['Role'] != 'Support'), 'Level'] = \\\n",
    "                hero_lvl2.loc[(hero_lvl2['Hero Fullname'] == hero) & (hero_lvl2['Role'] != 'Support'), 'Level'] * (growth_rate_midgame['support_natural_others'] + bonus_round20_point*round20_bonus_fixed_rate)\n",
    "\n",
    "    # Natural carry hero will get bonus carry rate plus bonus laning points\n",
    "    # Unnatural carry hero will get fixed growth\n",
    "    if hero in combined_role['Carry']:\n",
    "        # unnatural carry\n",
    "        if heroes_roles_not_adj_yet.loc[(heroes_roles_not_adj_yet['Hero Fullname'] == hero)].loc[heroes_roles_not_adj_yet['Role'] == 'Carry', 'Level'].item() ==0 \\\n",
    "        and hero in combined_role['Carry']:\n",
    "            hero_lvl2.loc[(hero_lvl2['Hero Fullname'] == hero), 'Level'] = \\\n",
    "                hero_lvl2.loc[(hero_lvl2['Hero Fullname'] == hero), 'Level'] * (growth_rate_midgame['carry_unnatural'] + bonus_round20_point*round20_bonus_fixed_rate)\n",
    "        else: # natural carry \n",
    "            carry_natural_point = hero_score(hero, heroes_roles, 'all')['Level'][0]\n",
    "            \n",
    "            # carry point formula. This has a huge impact on carry growth\n",
    "            carry_growth_rate = midgame_carry_point[carry_natural_point-1] + ((carry_natural_point*10 + bonus_round20_point)*round20_bonus_fixed_rate)\n",
    "\n",
    "            hero_lvl2.loc[(hero_lvl2['Hero Fullname'] == hero) & (hero_lvl2['Role'] == 'Carry'), 'Level'] = \\\n",
    "                hero_lvl2.loc[(hero_lvl2['Hero Fullname'] == hero) & (hero_lvl2['Role'] == 'Carry'), 'Level'] * carry_growth_rate\n",
    "\n",
    "            hero_lvl2.loc[(hero_lvl2['Hero Fullname'] == hero) & (hero_lvl2['Role'] != 'Carry'), 'Level'] =  \\\n",
    "                hero_lvl2.loc[(hero_lvl2['Hero Fullname'] == hero) & (hero_lvl2['Role'] != 'Carry'), 'Level'] * (growth_rate_midgame['carry_natural_others'] + bonus_round20_point*round20_bonus_fixed_rate)\n",
    "\n",
    "    return hero_lvl2"
   ]
  },
  {
   "cell_type": "markdown",
   "metadata": {},
   "source": [
    "### Function to Boost bonus based on Strategy"
   ]
  },
  {
   "cell_type": "markdown",
   "metadata": {},
   "source": [
    "- 4 options: Aggressive, Turtle, Normal or Random\n",
    "- Aggressive strategy will greatly boost the heroes initially before entering the combat stage, but later on the hero will grow slower \n",
    "- Turtle strategy will no give a boost to the heroes initially, but later on the hero will greater growth if winning combats\n",
    "- Normal strategy is between the 2"
   ]
  },
  {
   "cell_type": "code",
   "execution_count": 21,
   "metadata": {},
   "outputs": [],
   "source": [
    "def strategy_bonus_rate(team, strategy):\n",
    "    \n",
    "    hero_level_boosted = heroes_lvl_1.copy()\n",
    "    \n",
    "    if strategy == 'random':\n",
    "        strategy = random.choice(['aggressive', 'turtle', 'normal'])\n",
    "    \n",
    "    # Boost hero's midgame aggressive strategy bonus\n",
    "    if strategy == 'aggressive':\n",
    "        for hero in team:\n",
    "            hero_level_boosted.loc[hero_level_boosted['Hero Fullname'] == hero, 'Level'] = \\\n",
    "                hero_level_boosted.loc[hero_level_boosted['Hero Fullname'] == hero, 'Level'] * strategy_bonus_rate_dict['team_midgame_aggressive_rate'] \n",
    "    \n",
    "    # Boost hero's midgame balance strategy bonus\n",
    "    if strategy == 'normal':\n",
    "        for hero in team:\n",
    "            hero_level_boosted.loc[hero_level_boosted['Hero Fullname'] == hero, 'Level'] = \\\n",
    "                hero_level_boosted.loc[hero_level_boosted['Hero Fullname'] == hero, 'Level'] * strategy_bonus_rate_dict['team_normal_rate']\n",
    "\n",
    "    # Boost hero's midgame turtle strategy bonus        \n",
    "    if strategy == 'turtle':\n",
    "        for hero in list(set(team).intersection(combined_role['Carry'])):\n",
    "            hero_level_boosted.loc[hero_level_boosted['Hero Fullname'] == hero, 'Level'] = hero_level_boosted.loc[hero_level_boosted['Hero Fullname'] == hero, 'Level'] * strategy_bonus_rate_dict['team_midgame_turtle_rate']\n",
    "                       \n",
    "    return hero_level_boosted"
   ]
  },
  {
   "cell_type": "markdown",
   "metadata": {},
   "source": [
    "### Strategy Penalty Function"
   ]
  },
  {
   "cell_type": "code",
   "execution_count": 22,
   "metadata": {},
   "outputs": [],
   "source": [
    "def strategy_penalty(previous_level_input, winner_team_input):\n",
    "    previous_level = previous_level_input.copy()\n",
    "\n",
    "    if winner_team_input == radiant_team:\n",
    "        for hero in radiant_team:\n",
    "            previous_level.loc[(previous_level['Hero Fullname'] == hero), 'Level'] = \\\n",
    "                previous_level.loc[(previous_level['Hero Fullname'] == hero), 'Level'] * strategy_penalty_rate[radiant_strategy+'_reward']\n",
    "        for hero in dire_team:\n",
    "            previous_level.loc[(previous_level['Hero Fullname'] == hero), 'Level'] = \\\n",
    "                previous_level.loc[(previous_level['Hero Fullname'] == hero), 'Level'] * strategy_penalty_rate[dire_strategy+'_penalty']        \n",
    "\n",
    "    if winner_team_input == dire_team:\n",
    "        for hero in radiant_team:\n",
    "            previous_level.loc[(previous_level['Hero Fullname'] == hero), 'Level'] = \\\n",
    "                previous_level.loc[(previous_level['Hero Fullname'] == hero), 'Level'] * strategy_penalty_rate[radiant_strategy+'_penalty']\n",
    "        for hero in dire_team:\n",
    "            previous_level.loc[(previous_level['Hero Fullname'] == hero), 'Level'] = \\\n",
    "                previous_level.loc[(previous_level['Hero Fullname'] == hero), 'Level'] * strategy_penalty_rate[dire_strategy+'_reward']    \n",
    "    \n",
    "    if winner_team_input != radiant_team and winner_team_input != dire_team:\n",
    "        for hero in radiant_team:\n",
    "            previous_level.loc[(previous_level['Hero Fullname'] == hero), 'Level'] = \\\n",
    "                previous_level.loc[(previous_level['Hero Fullname'] == hero), 'Level'] * strategy_penalty_rate[radiant_strategy+'_reward']\n",
    "        for hero in dire_team:\n",
    "            previous_level.loc[(previous_level['Hero Fullname'] == hero), 'Level'] = \\\n",
    "                previous_level.loc[(previous_level['Hero Fullname'] == hero), 'Level'] * strategy_penalty_rate[dire_strategy+'_reward']                          \n",
    "    return previous_level"
   ]
  },
  {
   "cell_type": "markdown",
   "metadata": {},
   "source": [
    "### Boost for Winner(s)"
   ]
  },
  {
   "cell_type": "markdown",
   "metadata": {},
   "source": [
    "After winning combat, the winning team will receive a random bonus boost. Some boosts are for the combat survivors only, some are for the entire team:\n",
    "\n",
    "1) Among the survivors, boost a random role. Add each >0 attributes by a fixed number. The number however will be divided by the number of heroes in the role. \n",
    "\n",
    "2) Among the survivors, boost a random hero. Increase the hero's attributes by a rate\n",
    "\n",
    "3) Boost the survivors by a rate\n",
    "\n",
    "4) Boost the team's counter score by a number\n",
    "\n",
    "5) Boost the maximum cap attribute of the entire team by a number\n",
    "\n",
    "6) Among the survivors, boost a random hero with a new attribute"
   ]
  },
  {
   "cell_type": "code",
   "execution_count": 23,
   "metadata": {},
   "outputs": [],
   "source": [
    "def boost_option_explained(boost_option):\n",
    "    if boost_option == 1:\n",
    "        return print('Boost a role in the winner team for each attribute by ' + str(combat_boost_rate['role_boost_rate']) + ' if the natural point is >0. The bonus is divided by the number of heroes in the role')\n",
    "    if boost_option == 2:\n",
    "        return print('Boost a random survivor in the winner team by ' + str(combat_boost_rate['hero_boost_rate']))\n",
    "    if boost_option == 3:\n",
    "        return print('Boost the winner team survivors by ' + str(combat_boost_rate['team_boost_rate']))\n",
    "    if boost_option == 4:\n",
    "        return print('Boost the counter score of ' + str(combat_boost_rate['counter_boost_rate']) + ' permanently to the winner team. No bonus point thou')\n",
    "    if boost_option == 5:\n",
    "        return print('Boost the cap attribute ' + str(combat_boost_rate['cap_boost']) + ' permanently to the winner team. No bonus point thou')    \n",
    "    if boost_option == 6:\n",
    "        return print('Boost a random hero 0-attribute by ' + str(combat_boost_rate['attribute_boost'])  + ' permanently to the hero. No bonus point thou')"
   ]
  },
  {
   "cell_type": "code",
   "execution_count": 24,
   "metadata": {},
   "outputs": [],
   "source": [
    "def boost_for_winner(option_number, previous_level, winner_team, survivors):\n",
    "    \n",
    "    hero_level2_boosted = previous_level.copy()\n",
    "    role_random_selected = random.choice(['Carry', 'Support', 'Utility'])\n",
    "    heroes_survivors = list(set(winner_team).intersection(survivors))\n",
    "    global hero_random_selected\n",
    "    hero_random_selected = random.choice(heroes_survivors)\n",
    "    \n",
    "    # Boost a random role. Each attr other than Carry and Support >0 gets an additional .25 point divided by the number of heroes in this role    \n",
    "    if option_number == 1:\n",
    "        for hero in list(set(heroes_survivors).intersection(combined_role[role_random_selected])):\n",
    "            hero_level2_boosted.loc[~(hero_level2_boosted['Role'].isin(['Carry', 'Support'])) & (hero_level2_boosted['Hero Fullname'] == hero) & (hero_level2_boosted['Level'] > 0), 'Level'] = \\\n",
    "                hero_level2_boosted.loc[~(hero_level2_boosted['Role'].isin(['Carry', 'Support'])) & (hero_level2_boosted['Hero Fullname'] == hero) & (hero_level2_boosted['Level'] > 0), 'Level'] + \\\n",
    "                    (combat_boost_rate['role_boost_rate'] / len(list(set(winner_team).intersection(combined_role[role_random_selected]))))\n",
    "        return role_random_selected, hero_level2_boosted\n",
    "\n",
    "    # Boost a random hero\n",
    "    if option_number == 2: \n",
    "        hero_level2_boosted.loc[hero_level2_boosted['Hero Fullname'] == hero_random_selected, 'Level'] = \\\n",
    "                hero_level2_boosted.loc[hero_level2_boosted['Hero Fullname'] == hero_random_selected, 'Level'] * combat_boost_rate['hero_boost_rate']\n",
    "        return hero_random_selected, hero_level2_boosted\n",
    "        \n",
    "    # Boost the survivors\n",
    "    if option_number == 3:\n",
    "        for hero in heroes_survivors:\n",
    "            hero_level2_boosted.loc[hero_level2_boosted['Hero Fullname'] == hero, 'Level'] = \\\n",
    "                hero_level2_boosted.loc[hero_level2_boosted['Hero Fullname'] == hero, 'Level'] * combat_boost_rate['team_boost_rate']    \n",
    "        return 'no_random_role_hero_selected', hero_level2_boosted  \n",
    "    \n",
    "    # Boost the counter score to further chance winning next combat\n",
    "    if option_number == 4:            \n",
    "        return 'no_random_role_hero_selected', hero_level2_boosted    \n",
    "    \n",
    "    if option_number == 5:\n",
    "        return 'no_random_role_hero_selected', hero_level2_boosted\n",
    "    \n",
    "    if option_number == 6:\n",
    "        # Random an 0 natural attribute\n",
    "        random_attribute = random.choice(list(hero_level2_boosted.loc[(hero_level2_boosted['Hero Fullname'] == hero_random_selected) & (hero_level2_boosted['Level']==0), 'Role']))\n",
    "        hero_level2_boosted.loc[(hero_level2_boosted['Hero Fullname'] == hero_random_selected) & (hero_level2_boosted['Role'] == random_attribute), 'Level'] = \\\n",
    "            combat_boost_rate['attribute_boost']\n",
    "        return hero_random_selected, hero_level2_boosted, random_attribute"
   ]
  },
  {
   "cell_type": "markdown",
   "metadata": {},
   "source": [
    "### Function to random survivals after combat for growth after combat"
   ]
  },
  {
   "cell_type": "markdown",
   "metadata": {},
   "source": [
    "- Survivors after a win combat or a tie is random from 1 to 5\n",
    "- Losing team will be a random number as well, from 1 to the number of surivors in the winning team minus 1. So if the winning survives only 1 heroes, the losing team is wiped\n",
    "- In the event of s tie, the number of survivors is from 1 to 4, then the other's team will have the same number of survivors"
   ]
  },
  {
   "cell_type": "code",
   "execution_count": 25,
   "metadata": {},
   "outputs": [],
   "source": [
    "# The number of survival heroes in the winning team is a random number from 1 to 5\n",
    "# The number of survival heroes in the losing team is a random number as well from 0 to the number of surival winner minus 1\n",
    "def survival_combat(winner_team, radiant_team, dire_team):\n",
    "    import random\n",
    "    \n",
    "    if len(winner_team)>0:\n",
    "        winner_survival = random.sample(winner_team, random.randint(1,5))\n",
    "\n",
    "        losing_team = [x for x in heroes_played if x not in winner_team]\n",
    "        no_winner_surival = len(winner_survival)\n",
    "\n",
    "        loser_survival = random.sample(losing_team, random.randint(0, no_winner_surival -1))\n",
    "        random_survivors = winner_survival + loser_survival \n",
    "    \n",
    "    if len(winner_team)==0:\n",
    "        radiant_random_survival = random.sample(radiant_team, random.randint(1,4))\n",
    "        dire_random_survival = random.sample(dire_team, len(radiant_random_survival))\n",
    "        random_survivors = radiant_random_survival + dire_random_survival \n",
    "    \n",
    "    return random_survivors"
   ]
  },
  {
   "cell_type": "markdown",
   "metadata": {},
   "source": [
    "### Combat Function"
   ]
  },
  {
   "cell_type": "markdown",
   "metadata": {},
   "source": [
    "Combat will have 3 outcomes: radiant win, dire win or tie. \n",
    "\n",
    "The outcome of the combat is a random number from 1 to 100. Each outcome will have a number range and the outcome is determined by that. \n",
    "\n",
    "By default, radiant and dire have 33% chance of winning, and tie event will always be 33%\n",
    "\n",
    "The winning probability of either team is adjusted by 3 things: the round score before entering the combat, the counter score and the complexity\n",
    "- Complexity is fixed a bonus/ penalty for the teams\n",
    "- Last round score is the difference in score/ attrs in the previous round. The score will be amplified by a multiplier number\n",
    "- Counter score is the difference in matchup calculated before any adjustment being made when entering the game. The score will be amplified by a multiplier number \n",
    "\n",
    "There is a possibility that a team will have 0% chance of a major win, but there's always a tie as middle ground"
   ]
  },
  {
   "cell_type": "code",
   "execution_count": 26,
   "metadata": {},
   "outputs": [],
   "source": [
    "def run_combat(last_round_score, last_round_score_multiplier, radiant_counter_score, counter_score_multiplier):\n",
    "\n",
    "    import random\n",
    "\n",
    "    combat = random.randint(1,100)\n",
    "    global radiant_combat_bonus\n",
    "    # Very important formula\n",
    "    radiant_combat_bonus = int(round(last_round_score*last_round_score_multiplier + radiant_counter_score*counter_score_multiplier - radiant_vs_dire_complexity, 2))\n",
    "    \n",
    "    radiant_combat_prob = 34 + radiant_combat_bonus\n",
    "\n",
    "    radiant_major_win = range(0, radiant_combat_prob)\n",
    "    draw = range(radiant_combat_prob, radiant_combat_prob+33)\n",
    "    dire_major_win = range(radiant_combat_prob+33, 101)\n",
    "\n",
    "    winner_combat = []\n",
    "\n",
    "    if combat in radiant_major_win:\n",
    "        winner_combat = radiant_team\n",
    "        loser_combat = dire_team\n",
    "    if combat in draw:\n",
    "        winner_combat = ''\n",
    "        loser_combat = ''\n",
    "    if combat in dire_major_win:\n",
    "        winner_combat = dire_team\n",
    "        loser_combat = radiant_team\n",
    "    \n",
    "    combat_result = dict.fromkeys(['last_round_score', 'radiant_combat_bonus', 'random_number', 'radiant_win_range', 'draw_range', 'dire_win_range', 'winner'])\n",
    "    combat_result.update(last_round_score = last_round_score)\n",
    "    combat_result.update(radiant_combat_bonus = radiant_combat_bonus)\n",
    "    combat_result.update(random_number = combat)\n",
    "    combat_result.update(radiant_win_range = radiant_major_win)\n",
    "    combat_result.update(draw_range = draw)\n",
    "    combat_result.update(dire_win_range = dire_major_win)\n",
    "    combat_result.update(winner = winner_combat)\n",
    "\n",
    "    return combat_result"
   ]
  },
  {
   "cell_type": "markdown",
   "metadata": {},
   "source": [
    "### Function to: \n",
    "### (1) Apply Strategy Penalty depending on run_combat random outcome\n",
    "### (2) Apply Boost for Winner depending on random boost option"
   ]
  },
  {
   "cell_type": "code",
   "execution_count": 27,
   "metadata": {},
   "outputs": [],
   "source": [
    "def combat(last_round_score, last_round_score_multiplier, counter_score_multiplier, radiant_counter_score, previous_level):\n",
    "\n",
    "    # apply Function Run Combat with Random Generator\n",
    "    global winner_combat\n",
    "    winner_combat = run_combat(last_round_score = last_round_score, \n",
    "                               last_round_score_multiplier = last_round_score_multiplier, \n",
    "                               radiant_counter_score = radiant_counter_score,\n",
    "                               counter_score_multiplier = counter_score_multiplier)\n",
    "    global cap_attr_radiant1\n",
    "    global cap_attr_radiant2\n",
    "    global cap_attr_dire1\n",
    "    global cap_attr_dire2\n",
    "    \n",
    "    # Apply Function Strategy Penalty\n",
    "    heroes_lvl_strategy_penalty = strategy_penalty(previous_level, winner_combat['winner'])\n",
    "    \n",
    "     # Apply Function Surival Combat\n",
    "    heroes_random_surivors = survival_combat(winner_combat['winner'], radiant_team, dire_team)\n",
    "\n",
    "    # Print the winner team\n",
    "    if len(winner_combat['winner']) > 0:\n",
    "        \n",
    "        # Apply random boost for the winning team\n",
    "        import random\n",
    "        boost_option = random.randint(1,6)\n",
    "        print('\\n')\n",
    "        print('Boost option is: ' + str(boost_option))\n",
    "        # Apply Function Printing Option Explanation\n",
    "        boost_option_explained(boost_option)\n",
    "\n",
    "        # If the random option is 4, add permanent counter score\n",
    "        if boost_option ==4:\n",
    "            print(boost_for_winner(boost_option, heroes_lvl_strategy_penalty, winner_combat['winner'], heroes_random_surivors)[0])       \n",
    "            \n",
    "            # Apply counter score boost\n",
    "            if winner_combat['winner'] == radiant_team:\n",
    "                radiant_counter_score = radiant_counter_score + combat_boost_rate['counter_boost_rate']\n",
    "            if winner_combat['winner'] == dire_team:\n",
    "                radiant_counter_score = radiant_counter_score - combat_boost_rate['counter_boost_rate']\n",
    "            \n",
    "            # No random boost applied\n",
    "            heroes_lvl_winner_boost = heroes_lvl_strategy_penalty.copy()     \n",
    "            \n",
    "        if boost_option in [1,2,3,6]:   \n",
    "            print(boost_for_winner(boost_option, heroes_lvl_strategy_penalty, winner_combat['winner'], heroes_random_surivors)[0])\n",
    "            \n",
    "            # Apply Function Boost for Winner\n",
    "            heroes_lvl_winner_boost = boost_for_winner(boost_option, heroes_lvl_strategy_penalty, winner_combat['winner'], heroes_random_surivors)[1]\n",
    "            # No change in counter score\n",
    "            radiant_counter_score = radiant_counter_score\n",
    "            \n",
    "        if boost_option ==5:\n",
    "            print(boost_for_winner(boost_option, heroes_lvl_strategy_penalty, winner_combat['winner'], heroes_random_surivors)[0])   \n",
    "            \n",
    "            if winner_combat['winner'] == radiant_team:\n",
    "                cap_attr_radiant1 = cap_attr_radiant1 + combat_boost_rate['cap_boost']\n",
    "                cap_attr_radiant2 = cap_attr_radiant2 + combat_boost_rate['cap_boost']\n",
    "            if winner_combat['winner'] == dire_team:\n",
    "                cap_attr_dire1 = cap_attr_dire1 + combat_boost_rate['cap_boost']\n",
    "                cap_attr_dire2 = cap_attr_dire2 + combat_boost_rate['cap_boost']\n",
    "                \n",
    "            # Apply Function Boost for Winner\n",
    "            heroes_lvl_winner_boost = boost_for_winner(boost_option, heroes_lvl_strategy_penalty, winner_combat['winner'], heroes_random_surivors)[1]\n",
    "            # No change in counter score\n",
    "            radiant_counter_score = radiant_counter_score      \n",
    "                \n",
    "    if len(winner_combat['winner']) == 0:    \n",
    "        # No random boost applied\n",
    "        heroes_lvl_winner_boost = heroes_lvl_strategy_penalty.copy()\n",
    "        # No change in counter score\n",
    "        radiant_counter_score = radiant_counter_score\n",
    "        \n",
    "        print('\\n')\n",
    "        print('No bonus rate this round')\n",
    "    \n",
    "    return winner_combat['winner'],\\\n",
    "            winner_combat['radiant_combat_bonus'], \\\n",
    "            radiant_counter_score, \\\n",
    "            winner_combat['last_round_score'], \\\n",
    "            winner_combat['random_number'], \\\n",
    "            winner_combat['radiant_win_range'],\\\n",
    "            winner_combat['dire_win_range'], \\\n",
    "            heroes_random_surivors,\\\n",
    "            heroes_lvl_winner_boost, "
   ]
  },
  {
   "cell_type": "markdown",
   "metadata": {},
   "source": [
    "### Function to Add Bonus Growth Depending on Natural Attribute Point"
   ]
  },
  {
   "cell_type": "markdown",
   "metadata": {},
   "source": [
    "This is a diminishing model. What it does is the hero with 1-point attribute, for example in Carry, will grow faster than heroes with 2-point Carry attribute, but the increment dimishes compared to a 3-point Carry hero\n",
    "\n",
    "Use this model to caluclate growth in the midgame combat stage"
   ]
  },
  {
   "cell_type": "code",
   "execution_count": 28,
   "metadata": {},
   "outputs": [],
   "source": [
    "def natural_point_bonus_growth(natural_point, natural_attr_divider, common_divider):\n",
    "    result = ((natural_point+1)**(1-natural_attr_divider) - 1)/(1-natural_attr_divider)/common_divider\n",
    "    return result"
   ]
  },
  {
   "cell_type": "markdown",
   "metadata": {},
   "source": [
    "### Growth after Combat by Hero"
   ]
  },
  {
   "cell_type": "markdown",
   "metadata": {},
   "source": [
    "Winner and Loser have different growth rate"
   ]
  },
  {
   "cell_type": "code",
   "execution_count": 29,
   "metadata": {},
   "outputs": [],
   "source": [
    "def hero_combat_growth(heroes_pool, winner_team, previous_level, bonus_round_score):\n",
    "    hero_lvl_growth_after_combat = pd.DataFrame()\n",
    "    \n",
    "    for hero in heroes_pool:\n",
    "        hero_level = hero_score(hero, previous_level, 'all')\n",
    "        hero_next_level = hero_level.copy()\n",
    "\n",
    "        if hero in winner_team:\n",
    "            growth_rate = growth_rate_winner\n",
    "        # This means in the event of a tie, both team will receive loser growth rate\n",
    "        # Only the winning team will receive winner growth rate\n",
    "        if hero not in winner_team:\n",
    "            growth_rate = growth_rate_loser\n",
    "            \n",
    "        if hero in radiant_team:\n",
    "            cap_attr1 = cap_attr_radiant1\n",
    "            cap_attr2 = cap_attr_radiant2\n",
    "            no_hero_role = radiant_heroes_role\n",
    "        \n",
    "        if hero in dire_team:\n",
    "            cap_attr1 = cap_attr_dire1\n",
    "            cap_attr2 = cap_attr_dire2\n",
    "            no_hero_role = dire_heroes_role\n",
    "        \n",
    "        # The natural attribute will add to the growth rate of the hero after combat. For example, in the beginning, all CM attrs are reset to 0.5. Now it will be 0.5*(growth rate + bonus + natural point)\n",
    "        \n",
    "        if hero in combined_role['Support']:\n",
    "            # unnatural support\n",
    "            if heroes_roles_not_adj_yet.loc[(heroes_roles_not_adj_yet['Hero Fullname'] == hero)].loc[heroes_roles_not_adj_yet['Role'] == 'Support', 'Level'].item() ==0 \\\n",
    "            and hero in combined_role['Support']: \n",
    "                for role in role_list:\n",
    "                    hero_next_level.loc[(hero_next_level['Hero Fullname'] == hero) & (hero_next_level['Role'] ==role), 'Level'] = \\\n",
    "                        hero_next_level.loc[(hero_next_level['Hero Fullname'] == hero) & (hero_next_level['Role'] ==role), 'Level'] * (growth_rate['support_unnatural']+ \\\n",
    "                                                                                                                                       bonus_round_score*round_combat_bonus_fixed_rate + \\\n",
    "                                                                                                                                       natural_point_bonus_growth(hero_score(hero, heroes_roles, role)['Level'].item(),2,5))             \n",
    "            else: # natural support \n",
    "                hero_next_level.loc[(hero_next_level['Hero Fullname'] == hero) & (hero_next_level['Role'] =='Support'), 'Level'] = \\\n",
    "                    hero_next_level.loc[(hero_next_level['Hero Fullname'] == hero) & (hero_next_level['Role'] =='Support'), 'Level'] * (growth_rate['support_natural_support']+ \\\n",
    "                                                                                                                                        bonus_round_score*round_combat_bonus_fixed_rate + \\\n",
    "                                                                                                                                        natural_point_bonus_growth(hero_score(hero, heroes_roles, 'Support')['Level'].item(),2,5))\n",
    "                for role in non_supp:\n",
    "                    hero_next_level.loc[(hero_next_level['Hero Fullname'] == hero) & (hero_next_level['Role'] ==role), 'Level'] = \\\n",
    "                        hero_next_level.loc[(hero_next_level['Hero Fullname'] == hero) & (hero_next_level['Role'] ==role), 'Level'] * (growth_rate['support_natural_others']+ \\\n",
    "                                                                                                                                       bonus_round_score*round_combat_bonus_fixed_rate + \\\n",
    "                                                                                                                                       natural_point_bonus_growth(hero_score(hero, heroes_roles, role)['Level'].item(),2,5))\n",
    "         # Limit support growth that no attributes can grow higher than cap minus number of heroes in the role\n",
    "            hero_next_level.loc[(hero_next_level['Role'].isin(role_list)), 'Level'] =  \\\n",
    "                hero_next_level.loc[(hero_next_level['Role'].isin(role_list)), 'Level'].where(hero_next_level['Level'] <5, 5)\n",
    "                    \n",
    "        if hero in combined_role['Utility']:            \n",
    "            for role in non_carry:\n",
    "                hero_next_level.loc[(hero_next_level['Hero Fullname'] == hero) & (hero_next_level['Role'] ==role), 'Level'] = \\\n",
    "                    hero_next_level.loc[(hero_next_level['Hero Fullname'] == hero) & (hero_next_level['Role'] ==role), 'Level'] * (growth_rate['utility_rate']+ \\\n",
    "                                                                                                                                   bonus_round_score*round_combat_bonus_fixed_rate + \\\n",
    "                                                                                                                                   natural_point_bonus_growth(hero_score(hero, heroes_roles, role)['Level'].item(),2,5))\n",
    "        # Limit utility growth that no attribute can grow higher than cap minus number of heroes in the role\n",
    "            hero_next_level.loc[(hero_next_level['Role'].isin(role_list)), 'Level'] =  \\\n",
    "                hero_next_level.loc[(hero_next_level['Role'].isin(role_list)), 'Level'].where(hero_next_level['Level'] < cap_attr1 - len(no_hero_role['Utility']), cap_attr1 - len(no_hero_role['Utility']))  \n",
    "            \n",
    "        if hero in combined_role['Carry']:\n",
    "            # unnatural carry\n",
    "            if heroes_roles_not_adj_yet.loc[(heroes_roles_not_adj_yet['Hero Fullname'] == hero)].loc[heroes_roles_not_adj_yet['Role'] == 'Carry', 'Level'].item() ==0 \\\n",
    "            and hero in combined_role['Carry']:\n",
    "                for role in role_list:\n",
    "                    hero_next_level.loc[(hero_next_level['Hero Fullname'] == hero) & (hero_next_level['Role'] ==role), 'Level'] = \\\n",
    "                        hero_next_level.loc[(hero_next_level['Hero Fullname'] == hero) & (hero_next_level['Role'] ==role), 'Level'] * (growth_rate['carry_unnatural']+ \\\n",
    "                                                                                                                                       bonus_round_score*round_combat_bonus_fixed_rate + \\\n",
    "                                                                                                                                       natural_point_bonus_growth(hero_score(hero, heroes_roles, role)['Level'].item(),2,5))\n",
    "            else: # natural carry \n",
    "                hero_next_level.loc[(hero_next_level['Hero Fullname'] == hero) & (hero_next_level['Role'] =='Carry'), 'Level'] = \\\n",
    "                    hero_next_level.loc[(hero_next_level['Hero Fullname'] == hero) & (hero_next_level['Role'] =='Carry'), 'Level'] * (growth_rate['carry_natural_carry']+ \\\n",
    "                                                                                                                                      bonus_round_score*round_combat_bonus_fixed_rate + \\\n",
    "                                                                                                                                      natural_point_bonus_growth(hero_score(hero, heroes_roles, 'Carry')['Level'].item(),2,5))\n",
    "                for role in non_carry:\n",
    "                    hero_next_level.loc[(hero_next_level['Hero Fullname'] == hero) & (hero_next_level['Role'] ==role), 'Level'] = \\\n",
    "                        hero_next_level.loc[(hero_next_level['Hero Fullname'] == hero) & (hero_next_level['Role'] ==role), 'Level'] * (growth_rate['carry_natural_others']+ \\\n",
    "                                                                                                                                       bonus_round_score*round_combat_bonus_fixed_rate + \\\n",
    "                                                                                                                                       natural_point_bonus_growth(hero_score(hero, heroes_roles, role)['Level'].item(),2,5))\n",
    "        # Limit noncarry attributes grow higher to the cap\n",
    "            hero_next_level.loc[~hero_next_level['Role'].isin(['Carry']), 'Level'] =  \\\n",
    "                hero_next_level.loc[~hero_next_level['Role'].isin(['Carry']), 'Level'].where(hero_next_level['Level'] <cap_attr1- len(no_hero_role['Carry']), cap_attr1- len(no_hero_role['Carry']))\n",
    "        # Limit carry attributes grow higher to the cap minus number of heroes in the role\n",
    "            hero_next_level.loc[hero_next_level['Role'].isin(['Carry']), 'Level'] =  \\\n",
    "                hero_next_level.loc[hero_next_level['Role'].isin(['Carry']), 'Level'].where(hero_next_level['Level'] <cap_attr2 - len(no_hero_role['Carry'])**no_hero_role_penalty_rate, \\\n",
    "                                                                                            cap_attr2 - len(no_hero_role['Carry'])**no_hero_role_penalty_rate)\n",
    "       \n",
    "        hero_lvl_growth_after_combat = pd.concat([hero_lvl_growth_after_combat, hero_next_level])\n",
    "        \n",
    "    return hero_lvl_growth_after_combat"
   ]
  },
  {
   "cell_type": "markdown",
   "metadata": {},
   "source": [
    "### Function to Perform the whole Combat Process and Growth"
   ]
  },
  {
   "cell_type": "code",
   "execution_count": 30,
   "metadata": {
    "scrolled": true
   },
   "outputs": [],
   "source": [
    "def series_combat(last_round_score, \n",
    "                  last_round_score_multiplier, \n",
    "                  counter_score_multiplier, \n",
    "                  radiant_counter_score, \n",
    "                  previous_level):\n",
    "    \n",
    "    # apply Function Combat\n",
    "    heroes_lvl_combat = combat(last_round_score = last_round_score, \n",
    "                               last_round_score_multiplier = last_round_score_multiplier,\n",
    "                               counter_score_multiplier = counter_score_multiplier,\n",
    "                               radiant_counter_score = radiant_counter_score,\n",
    "                               previous_level = previous_level) # Should be data before running combat. The result of this is after combat\n",
    "    \n",
    "    # apply Function Round Score\n",
    "    heroes_lvl_end_combat = heroes_lvl_combat[8].copy()\n",
    "    \n",
    "    # apply Function Hero Growth after Combat\n",
    "    heroes_lvl_end_combat = hero_combat_growth(heroes_pool = heroes_played, \n",
    "                                               winner_team = heroes_lvl_combat[0], \n",
    "                                               previous_level = heroes_lvl_combat[8], \n",
    "                                               bonus_round_score = last_round_score)  \n",
    "    \n",
    "    print('Result order: winner_team, radiant_combat_bonus, radiant_counter_score, last_round_bonus, random_number, radiant_win_range, dire_win_range, survivors')                \n",
    "       \n",
    "    return heroes_lvl_combat[:8], heroes_lvl_end_combat"
   ]
  },
  {
   "cell_type": "markdown",
   "metadata": {},
   "source": [
    "### Function to Plot the Hero Impact over the course of the Game"
   ]
  },
  {
   "cell_type": "code",
   "execution_count": 31,
   "metadata": {},
   "outputs": [],
   "source": [
    "def plot_fullgame():\n",
    "    def plot_early():\n",
    "        combined_plot_early = pd.DataFrame()\n",
    "\n",
    "        plot_min0 = heroes_lvl_0.copy()\n",
    "        plot_min0['stage'] = 0\n",
    "        plot_min0 = plot_min0[~plot_min0['Role'].isin([early_attr_remove])]\n",
    "\n",
    "        plot_min5 = heroes_lvl_1.copy()\n",
    "        plot_min5['stage'] = 5\n",
    "        plot_min5 = plot_min5[~plot_min5['Role'].isin([early_attr_remove])]\n",
    "\n",
    "        plot_min10 = heroes_lvl_20.copy()\n",
    "        plot_min10['stage'] = 10\n",
    "        plot_min10 = plot_min10[~plot_min10['Role'].isin([midgame_attr_remove])]\n",
    "\n",
    "        plot_min15 = heroes_lvl_21.copy()\n",
    "        plot_min15['stage'] = game_time_end_early\n",
    "        plot_min15 = plot_min15[~plot_min15['Role'].isin([midgame_attr_remove])]\n",
    "\n",
    "        combined_plot_early = pd.concat([plot_min0, plot_min5, plot_min10], axis=0, join='outer', ignore_index=False, keys=None,\n",
    "                  levels=None, names=None, verify_integrity=False, copy=True, sort=False)\n",
    "\n",
    "        return combined_plot_early\n",
    "    \n",
    "    # Add combat\n",
    "    record_midgame = previous_level_input_df.copy()\n",
    "    record_midgame = record_midgame[~record_midgame['Role'].isin([midgame_attr_remove])]\n",
    "\n",
    "    # Add lategame\n",
    "    if record_lategame.empty == False:\n",
    "        record_lategame1 = record_lategame.copy()\n",
    "        record_lategame1 = record_lategame1[~record_lategame1['Role'].isin([lategame_attr_remove])]\n",
    "    else: \n",
    "        record_lategame1 = pd.DataFrame()\n",
    "        \n",
    "    combined_plot = pd.concat([plot_early(), record_midgame, record_lategame1], axis=0, join='outer', ignore_index=False, keys=None,levels=None, names=None, verify_integrity=False, copy=True, sort=False)\n",
    "\n",
    "    for hero in combined_plot['Hero Fullname']:\n",
    "        if hero in combined_role['Support']:\n",
    "            combined_plot.loc[combined_plot['Hero Fullname'] == hero, 'game_role'] = 'Support'\n",
    "        if hero in combined_role['Utility']:\n",
    "            combined_plot.loc[combined_plot['Hero Fullname'] == hero, 'game_role'] = 'Utility'\n",
    "        if hero in combined_role['Carry']:\n",
    "            combined_plot.loc[combined_plot['Hero Fullname'] == hero, 'game_role'] = 'Carry'\n",
    "\n",
    "    for hero in heroes_played:\n",
    "        if hero in radiant_team:\n",
    "            combined_plot.loc[combined_plot['Hero Fullname'] == hero, 'team'] = 'radiant'\n",
    "        if hero in dire_team:\n",
    "            combined_plot.loc[combined_plot['Hero Fullname'] == hero, 'team'] = 'dire'        \n",
    "    \n",
    "    return combined_plot"
   ]
  },
  {
   "cell_type": "markdown",
   "metadata": {},
   "source": [
    "### Consecutive win Condition"
   ]
  },
  {
   "cell_type": "markdown",
   "metadata": {},
   "source": [
    "At the end of midgame/ combat stage, if a team wins a certain number of combats. They gain advantage by destroying other's team's rax. Each team has 3 rax and 1 throne. They do not have to destroy 3 rax in order to attack the throne. In the game, if you destroy on t4 tower, you can attack throne.  "
   ]
  },
  {
   "cell_type": "code",
   "execution_count": 32,
   "metadata": {},
   "outputs": [],
   "source": [
    "def consecutive_win(winner_list):\n",
    "    rax_condition2 = []\n",
    "    radiant_rax = 4\n",
    "    dire_rax = 4\n",
    "\n",
    "    for i in range(len(winner_list)):\n",
    "        try:\n",
    "            if winner_list[i] == winner_list[i+1]:\n",
    "                rax_condition2.append([winner_list[i],2])\n",
    "                if winner_list[i+1] == winner_list[i+2]:\n",
    "                    rax_condition2.append([winner_list[i], 3])\n",
    "                    if winner_list[i+2] == winner_list[i+3]:\n",
    "                        rax_condition2.append([winner_list[i], 4])\n",
    "                        if winner_list[i+3] == winner_list[i+4]:\n",
    "                            rax_condition2.append([winner_list[i], 5])\n",
    "        except IndexError:\n",
    "            pass\n",
    "    for i in range(len(rax_condition2)):\n",
    "        if rax_condition2[i][0] == 'radiant':\n",
    "            if rax_condition2[i][1] == 2:\n",
    "                dire_rax = 3\n",
    "            if rax_condition2[i][1]  == 3:\n",
    "                dire_rax = 2\n",
    "            if rax_condition2[i][1]  == 4:\n",
    "                dire_rax = 1\n",
    "            if rax_condition2[i][1]  == 5:\n",
    "                dire_rax = 0\n",
    "        if rax_condition2[i][0] == 'dire':\n",
    "            if rax_condition2[i][1]  == 2:\n",
    "                radiant_rax = 3\n",
    "            if rax_condition2[i][1] == 3:\n",
    "                radiant_rax = 2\n",
    "            if rax_condition2[i][1] == 4:\n",
    "                radiant_rax = 1\n",
    "            if rax_condition2[i][1] == 5:\n",
    "                radiant_rax = 0\n",
    "    return radiant_rax, dire_rax"
   ]
  },
  {
   "cell_type": "markdown",
   "metadata": {},
   "source": [
    "### Total win Condition"
   ]
  },
  {
   "cell_type": "code",
   "execution_count": 33,
   "metadata": {},
   "outputs": [],
   "source": [
    "def total_win(winner_list):\n",
    "    radiant_rax = 4\n",
    "    dire_rax = 4\n",
    "    \n",
    "    if winner_list.count('radiant') ==3:\n",
    "        dire_rax = 3\n",
    "    if winner_list.count('radiant') ==4:\n",
    "        dire_rax = 2\n",
    "    if winner_list.count('radiant') ==5:\n",
    "        dire_rax = 1\n",
    "    if winner_list.count('radiant') ==6:\n",
    "        dire_rax = 0\n",
    "\n",
    "    if winner_list.count('dire') ==3:\n",
    "        radiant_rax = 3\n",
    "    if winner_list.count('dire') ==4:\n",
    "        radiant_rax = 2\n",
    "    if winner_list.count('dire') ==5:\n",
    "        radiant_rax = 1\n",
    "    if winner_list.count('dire') ==6:\n",
    "        radiant_rax = 0\n",
    "    return radiant_rax, dire_rax"
   ]
  },
  {
   "cell_type": "markdown",
   "metadata": {},
   "source": [
    "### Total Point win Condition"
   ]
  },
  {
   "cell_type": "code",
   "execution_count": 34,
   "metadata": {},
   "outputs": [],
   "source": [
    "def total_point(previous_level_input_df):\n",
    "    radiant_rax = 4\n",
    "    dire_rax = 4    \n",
    "\n",
    "    end_midgame_combat = previous_level_input_df.loc[previous_level_input_df['stage'] == previous_level_input_df['stage'].max()]\n",
    "    \n",
    "    global end_midgame_radiant\n",
    "    global end_midgame_dire\n",
    "    \n",
    "    end_midgame_radiant = sum(end_midgame_combat.loc[end_midgame_combat['Hero Fullname'].isin(radiant_team), 'Level'])\n",
    "    end_midgame_dire = sum(end_midgame_combat.loc[end_midgame_combat['Hero Fullname'].isin(dire_team), 'Level'])\n",
    "    score_diff = end_midgame_radiant - end_midgame_dire\n",
    "\n",
    "    if 10< score_diff <=20:\n",
    "        dire_rax = 3\n",
    "    if 20< score_diff <=30:\n",
    "        dire_rax = 2\n",
    "    if 30< score_diff <=40:\n",
    "        dire_rax = 1\n",
    "    if score_diff >40:\n",
    "        dire_rax = 0\n",
    "\n",
    "    if -20< score_diff <=-10:\n",
    "        radiant_rax = 3\n",
    "    if -30< score_diff <=-20:\n",
    "        radiant_rax = 2\n",
    "    if -40< score_diff <=-30:\n",
    "        radiant_rax = 1\n",
    "    if score_diff <-40:\n",
    "        radiant_rax = 0\n",
    "    return radiant_rax, dire_rax    "
   ]
  },
  {
   "cell_type": "markdown",
   "metadata": {},
   "source": [
    "### Function to Generate Random Number"
   ]
  },
  {
   "cell_type": "code",
   "execution_count": 35,
   "metadata": {},
   "outputs": [],
   "source": [
    "def random_number():\n",
    "    random_no = random.randint(1,100)\n",
    "    return random_no"
   ]
  },
  {
   "cell_type": "markdown",
   "metadata": {},
   "source": [
    "### Function to Calculate Lategame Winning Probability"
   ]
  },
  {
   "cell_type": "code",
   "execution_count": 36,
   "metadata": {},
   "outputs": [],
   "source": [
    "# When it comes to lategame push. We remove Jungler attributes\n",
    "\n",
    "def lategame_push_bonus(bonus_input, level_input, radiant_rax, dire_rax):\n",
    "    score_diff = round_score(radiant_team, dire_team, level_input, 'late')[1]\n",
    "    radiant_rax_bonus = 4 - radiant_rax\n",
    "    dire_rax_bonus = 4 - dire_rax\n",
    "    \n",
    "    radiant_rax_multiplier = 10\n",
    "    dire_rax_multiplier = 10\n",
    "    if radiant_rax <= 1: \n",
    "        radiant_rax_multiplier = 15\n",
    "    if dire_rax <=1:\n",
    "        dire_rax_multiplier = 15\n",
    "        \n",
    "    radiant_final_push_bonus = int(round(score_diff - radiant_rax_bonus*radiant_rax_multiplier + dire_rax_bonus*dire_rax_multiplier))\n",
    "\n",
    "        \n",
    "    radiant_final_push_bonus = radiant_final_push_bonus + bonus_input\n",
    "    radiant_win_prob = range(0, 50 + radiant_final_push_bonus)\n",
    "    dire_win_prob = range(50 + radiant_final_push_bonus, 101)\n",
    "    \n",
    "    return radiant_final_push_bonus, radiant_win_prob, dire_win_prob"
   ]
  },
  {
   "cell_type": "markdown",
   "metadata": {},
   "source": [
    "### Function to Run Lategame Combat Push"
   ]
  },
  {
   "cell_type": "code",
   "execution_count": 37,
   "metadata": {
    "scrolled": false
   },
   "outputs": [],
   "source": [
    "def lategame_combat():\n",
    "    import random \n",
    "    # Before entering loop\n",
    "    radiant_rax = end_midgame_radiant_rax\n",
    "    dire_rax = end_midgame_dire_rax\n",
    "    bonus_input = 0\n",
    "    level_input = end_midgame_combat\n",
    "    lategame = lategame_push_bonus(bonus_input, end_midgame_combat, radiant_rax, dire_rax)\n",
    "    \n",
    "    # Record game time\n",
    "    game_lategame_time = end_midgame_combat['stage'].max()\n",
    "    \n",
    "    # Data for plotting\n",
    "    global record_lategame\n",
    "    record_lategame = pd.DataFrame()\n",
    "    \n",
    "    # Diminishing growth \n",
    "    diminish_growth = diminish_initial_rate\n",
    "    \n",
    "    if radiant_rax <=0:\n",
    "        return print('Dire got Megacreep and Throne. Dire Victory!!!')\n",
    "    if dire_rax <=0:\n",
    "        return print('***Radiant got Megacreep and Throne. Radiant Victory!!!')   \n",
    "    elif radiant_rax >0 and dire_rax >0:\n",
    "        # Entering Loop\n",
    "        while radiant_rax >0 or dire_rax >0:\n",
    "            random_number1 = random_number()\n",
    "            random_number2 = random_number()\n",
    "\n",
    "            # Ending of the loop\n",
    "            lategame = lategame_push_bonus(bonus_input, level_input, radiant_rax, dire_rax)\n",
    "            print('\\n')\n",
    "            print('Bonus, radiant win range, dire win range -> ' + str(lategame))\n",
    "            print('Random number 1: ' + str(random_number1))\n",
    "\n",
    "            # Radiant won first\n",
    "            if random_number1 in lategame[1]:\n",
    "                decision = input('***Radiant wins late major combat. Radiant team decides to get another rax or throne: ')\n",
    "                bonus_input1 = 10\n",
    "                print('First round bonus: ' + str(bonus_input1))\n",
    "                lategame2 = lategame_push_bonus(bonus_input + bonus_input1, level_input, radiant_rax, dire_rax)\n",
    "                print('Bonus, radiant win range, dire win range -> ' + str(lategame2))\n",
    "                print('Random number 2: ' + str(random_number2))\n",
    "                # Radiant won again and push throne\n",
    "                if random_number2 in lategame2[1] and decision=='throne':\n",
    "                    print('\\n')\n",
    "                    print('***Radiant decided to push throne and won. Radiant Victory!!!')\n",
    "                    diminish_growth -= diminishing_rate_lategame\n",
    "                    level_input = lategame_growth(heroes_played, lategame2[1], level_input, diminish_growth)\n",
    "                    level_input['stage'] = level_input['stage'] + 3\n",
    "                    game_lategame_time = level_input['stage'].max()\n",
    "                    record_lategame = pd.concat([record_lategame, level_input])                    \n",
    "                    break\n",
    "                # Radiant pushed throne but did not win\n",
    "                if random_number2 not in lategame2[1] and decision=='throne':\n",
    "                    print('\\n')\n",
    "                    print('***Radiant decided to push throne but did not win. Lose 15 bonus point. Radiant has loser growth. Dire has winner growth')\n",
    "                    bonus_input2 = -15\n",
    "                    # Apply Hero Growth Function\n",
    "                    diminish_growth -= diminishing_rate_lategame\n",
    "                    level_input = lategame_growth(heroes_played, lategame2[2], level_input, diminish_growth)\n",
    "                    level_input['stage'] = level_input['stage'] + random.randint(1,10)\n",
    "                    game_lategame_time = level_input['stage'].max()\n",
    "                    record_lategame = pd.concat([record_lategame, level_input])\n",
    "                # Radiant pushed rax and won\n",
    "                if random_number2 in lategame2[1] and decision=='rax':\n",
    "                    print('\\n')\n",
    "                    print('***Radiant decided to push another rax and won. Gain 10 points. Dire lost another rax. Radiant has winner growht. Dire has loser growth')\n",
    "                    # lose another rax so no bonus point\n",
    "                    bonus_input2 = 0\n",
    "                    dire_rax = dire_rax -1\n",
    "                    # Apply Hero Growth Function\n",
    "                    diminish_growth -= diminishing_rate_lategame\n",
    "                    level_input = lategame_growth(heroes_played, lategame2[1], level_input, diminish_growth)\n",
    "                    level_input['stage'] = level_input['stage'] + random.randint(1,10)\n",
    "                    game_lategame_time = level_input['stage'].max()        \n",
    "                    record_lategame = pd.concat([record_lategame, level_input])\n",
    "                # Radiant pushed rax but did not win\n",
    "                if random_number2 not in lategame2[1] and decision=='rax':\n",
    "                    print('\\n')\n",
    "                    print('***Radiant decided to push another rax but did not win. Lose 5 points. Radiant has lower growth. Dire has winner growth')\n",
    "                    bonus_input2 = -5       \n",
    "                    # Apply Hero Growth Function\n",
    "                    diminish_growth -=diminishing_rate_lategame\n",
    "                    level_input = lategame_growth(heroes_played, lategame2[2], level_input, diminish_growth)\n",
    "                    level_input['stage'] = level_input['stage'] + random.randint(1,10)\n",
    "                    game_lategame_time = level_input['stage'].max()\n",
    "                    record_lategame = pd.concat([record_lategame, level_input])\n",
    "                    \n",
    "                bonus_input = bonus_input1 + bonus_input2\n",
    "                print('Second round bonus: ' + str(bonus_input2))\n",
    "\n",
    "            # Dire won first\n",
    "            if random_number1 in lategame[2]:\n",
    "                decision = input('***Dire wins late major combat. Dire team decides to get another rax or throne: ') \n",
    "                bonus_input1 = -10\n",
    "                print('First round bonus: ' + str(bonus_input1))\n",
    "                diminish_growth -=diminishing_rate_lategame\n",
    "                lategame2 = lategame_push_bonus(bonus_input + bonus_input1, level_input, radiant_rax, dire_rax)  \n",
    "                print('Bonus, radiant win range, dire win range -> ' + str(lategame2))\n",
    "                print('Random number 2: ' + str(random_number2))\n",
    "                # Dire won again and chose throne\n",
    "                if random_number2 not in lategame2[1] and decision=='throne':\n",
    "                    print('\\n')\n",
    "                    print('***Dire decided to push throne and won. Dire Victory!!!')\n",
    "                    diminish_growth -=diminishing_rate_lategame\n",
    "                    level_input = lategame_growth(heroes_played, lategame2[2], level_input, diminish_growth)\n",
    "                    level_input['stage'] = level_input['stage'] + 3\n",
    "                    game_lategame_time = level_input['stage'].max()\n",
    "                    record_lategame = pd.concat([record_lategame, level_input])                    \n",
    "                    break        \n",
    "                # Dire didn't win and chose throne\n",
    "                if random_number2 in lategame2[1] and decision=='throne':\n",
    "                    print('\\n')\n",
    "                    print('***Dire decided to push throne but did not win. Lose 15 points. Radiant has winner growth. Dire has loser growth')\n",
    "                    bonus_input2 = 15\n",
    "                    # Apply Hero Growth Function\n",
    "                    diminish_growth -=diminishing_rate_lategame\n",
    "                    level_input = lategame_growth(heroes_played, lategame2[1], level_input, diminish_growth)        \n",
    "                    level_input['stage'] = level_input['stage'] + random.randint(1,10)\n",
    "                    game_lategame_time = level_input['stage'].max()      \n",
    "                    record_lategame = pd.concat([record_lategame, level_input])\n",
    "                # Dire didn't win and chose rax\n",
    "                if random_number2 in lategame2[1] and decision=='rax':\n",
    "                    print('\\n')\n",
    "                    print('***Dire decided to push rax but did not win. Lose 5 points. Radiant has winner growth. Dire has loser growth')\n",
    "                    bonus_input2 = 5\n",
    "                    # Apply Hero Growth Function\n",
    "                    diminish_growth -=diminishing_rate_lategame\n",
    "                    level_input = lategame_growth(heroes_played, lategame2[1], level_input, diminish_growth)              \n",
    "                    level_input['stage'] = level_input['stage'] + random.randint(1,10)\n",
    "                    game_lategame_time = level_input['stage'].max()          \n",
    "                    record_lategame = pd.concat([record_lategame, level_input])\n",
    "                if random_number2 not in lategame2[1] and decision=='rax':\n",
    "                    print('\\n')\n",
    "                    print('***Dire decided to push rax and won. Gain 10 points. Radiant lost another rax. Dire has winner growth. Radiant has lower growth')\n",
    "                    bonus_input2 = 0  \n",
    "                    # lose another rax\n",
    "                    radiant_rax = radiant_rax -1\n",
    "                    # Apply Hero Growth Function\n",
    "                    diminish_growth -=diminishing_rate_lategame\n",
    "                    level_input = lategame_growth(heroes_played, lategame2[2], level_input, diminish_growth)  \n",
    "                    level_input['stage'] = level_input['stage'] + random.randint(1,10)\n",
    "                    game_lategame_time = level_input['stage'].max()\n",
    "                    record_lategame = pd.concat([record_lategame, level_input])\n",
    "                    \n",
    "                bonus_input = bonus_input1 + bonus_input2\n",
    "                print('Second round bonus: ' + str(bonus_input2))\n",
    "                \n",
    "            print('Number of radiant rax left: ' + str(radiant_rax))\n",
    "            print('Number of dire rax left: ' + str(dire_rax))\n",
    "            print('Game time: ' + str(game_lategame_time))\n",
    "        if radiant_rax <=0:\n",
    "            return print('***Dire got Megacreep and Throne. Dire Victory!!!')\n",
    "        if dire_rax <=0:\n",
    "            return print('***Radiant got Megacreep and Throne. Radiant Victory!!!') \n",
    "    print('Game time: ' + str(game_lategame_time))"
   ]
  },
  {
   "cell_type": "markdown",
   "metadata": {},
   "source": [
    "### Lategame Growth"
   ]
  },
  {
   "cell_type": "code",
   "execution_count": 38,
   "metadata": {},
   "outputs": [],
   "source": [
    "def lategame_growth(heroes_pool, winner_team, previous_level, diminishing_growth):\n",
    "    # Late game doesn't take previous bonus point into consideration anymore\n",
    "    hero_lvl_growth_after_combat = pd.DataFrame()\n",
    "    \n",
    "    cap_attr_radiant1_late = cap_attr_radiant1 + late_add_cap1\n",
    "    cap_attr_radiant2_late = cap_attr_radiant2 + late_add_cap2\n",
    "    cap_attr_dire1_late = cap_attr_dire1 + late_add_cap1\n",
    "    cap_attr_dire2_late = cap_attr_dire2 + late_add_cap2\n",
    "    \n",
    "    for hero in heroes_pool:\n",
    "        hero_level = hero_score(hero, previous_level, 'all')\n",
    "        hero_next_level = hero_level.copy()\n",
    "\n",
    "        if hero in winner_team:\n",
    "            growth_rate = growth_rate_winner_lategame\n",
    "        # This means in the event of a tie, both team will receive loser growth rate\n",
    "        # Only the winning team will receive winner growth rate\n",
    "        if hero not in winner_team:\n",
    "            growth_rate = growth_rate_loser_lategame\n",
    "            \n",
    "        if hero in radiant_team:\n",
    "            cap_attr1 = cap_attr_radiant1_late\n",
    "            cap_attr2 = cap_attr_radiant2_late\n",
    "            no_hero_role = radiant_heroes_role\n",
    "        \n",
    "        if hero in dire_team:\n",
    "            cap_attr1 = cap_attr_dire1_late\n",
    "            cap_attr2 = cap_attr_dire2_late\n",
    "            no_hero_role = dire_heroes_role\n",
    "        \n",
    "        if hero in combined_role['Support']:\n",
    "            # unnatural support\n",
    "            if heroes_roles_not_adj_yet.loc[(heroes_roles_not_adj_yet['Hero Fullname'] == hero)].loc[heroes_roles_not_adj_yet['Role'] == 'Support', 'Level'].item() ==0 \\\n",
    "            and hero in combined_role['Support']: \n",
    "                for role in role_list:\n",
    "                    hero_next_level.loc[(hero_next_level['Hero Fullname'] == hero) & (hero_next_level['Role'] ==role), 'Level'] = \\\n",
    "                        hero_next_level.loc[(hero_next_level['Hero Fullname'] == hero) & (hero_next_level['Role'] ==role), 'Level'] * \\\n",
    "                            (growth_rate['support_unnatural']+ hero_score(hero, heroes_roles, role)['Level'].item()*diminishing_growth/10)         \n",
    "            else: # natural support \n",
    "                hero_next_level.loc[(hero_next_level['Hero Fullname'] == hero) & (hero_next_level['Role'] =='Support'), 'Level'] = \\\n",
    "                    hero_next_level.loc[(hero_next_level['Hero Fullname'] == hero) & (hero_next_level['Role'] =='Support'), 'Level'] * \\\n",
    "                        (growth_rate['support_natural_support']+hero_score(hero, heroes_roles, 'Support')['Level'].item()*diminishing_growth/10)\n",
    "                for role in non_supp:\n",
    "                    hero_next_level.loc[(hero_next_level['Hero Fullname'] == hero) & (hero_next_level['Role'] ==role), 'Level'] = \\\n",
    "                        hero_next_level.loc[(hero_next_level['Hero Fullname'] == hero) & (hero_next_level['Role'] ==role), 'Level'] * \\\n",
    "                            (growth_rate['support_natural_others']+ hero_score(hero, heroes_roles, role)['Level'].item()*diminishing_growth/10)\n",
    "         # Limit support growth that no attributes can grow higher than cap minus number of heroes in the role\n",
    "            hero_next_level.loc[(hero_next_level['Role'].isin(role_list)), 'Level'] =  \\\n",
    "                hero_next_level.loc[(hero_next_level['Role'].isin(role_list)), 'Level'].where(hero_next_level['Level'] <5, 5)\n",
    "                    \n",
    "        if hero in combined_role['Utility']:            \n",
    "            for role in non_carry:\n",
    "                hero_next_level.loc[(hero_next_level['Hero Fullname'] == hero) & (hero_next_level['Role'] ==role), 'Level'] = \\\n",
    "                    hero_next_level.loc[(hero_next_level['Hero Fullname'] == hero) & (hero_next_level['Role'] ==role), 'Level'] * \\\n",
    "                        (growth_rate['utility_rate']+ hero_score(hero, heroes_roles, role)['Level'].item()*diminishing_growth/10)\n",
    "        # Limit utility growth that no attribute can grow higher than cap minus number of heroes in the role\n",
    "            hero_next_level.loc[(hero_next_level['Role'].isin(role_list)), 'Level'] =  \\\n",
    "                hero_next_level.loc[(hero_next_level['Role'].isin(role_list)), 'Level'].where(hero_next_level['Level'] < cap_attr1 - len(no_hero_role['Utility']), cap_attr1 - len(no_hero_role['Utility']))  \n",
    "            \n",
    "        if hero in combined_role['Carry']:\n",
    "            # unnatural carry\n",
    "            if heroes_roles_not_adj_yet.loc[(heroes_roles_not_adj_yet['Hero Fullname'] == hero)].loc[heroes_roles_not_adj_yet['Role'] == 'Carry', 'Level'].item() ==0 \\\n",
    "            and hero in combined_role['Carry']:\n",
    "                for role in role_list:\n",
    "                    hero_next_level.loc[(hero_next_level['Hero Fullname'] == hero) & (hero_next_level['Role'] ==role), 'Level'] = \\\n",
    "                        hero_next_level.loc[(hero_next_level['Hero Fullname'] == hero) & (hero_next_level['Role'] ==role), 'Level'] * \\\n",
    "                            (growth_rate['carry_unnatural']+ hero_score(hero, heroes_roles, role)['Level'].item()*diminishing_growth/10)\n",
    "            else: # natural carry \n",
    "                hero_next_level.loc[(hero_next_level['Hero Fullname'] == hero) & (hero_next_level['Role'] =='Carry'), 'Level'] = \\\n",
    "                    hero_next_level.loc[(hero_next_level['Hero Fullname'] == hero) & (hero_next_level['Role'] =='Carry'), 'Level'] * \\\n",
    "                        (growth_rate['carry_natural_carry']+ hero_score(hero, heroes_roles, 'Carry')['Level'].item()*diminishing_growth/10)\n",
    "                for role in non_carry:\n",
    "                    hero_next_level.loc[(hero_next_level['Hero Fullname'] == hero) & (hero_next_level['Role'] ==role), 'Level'] = \\\n",
    "                        hero_next_level.loc[(hero_next_level['Hero Fullname'] == hero) & (hero_next_level['Role'] ==role), 'Level'] * \\\n",
    "                            (growth_rate['carry_natural_others']+ hero_score(hero, heroes_roles, role)['Level'].item()*diminishing_growth/10)\n",
    "       \n",
    "    # Limit noncarry attributes grow higher to the cap\n",
    "            hero_next_level.loc[~hero_next_level['Role'].isin(['Carry']), 'Level'] =  \\\n",
    "                hero_next_level.loc[~hero_next_level['Role'].isin(['Carry']), 'Level'].where(hero_next_level['Level'] <cap_attr1- len(no_hero_role['Carry']), cap_attr1- len(no_hero_role['Carry']))\n",
    "        # Limit carry attributes grow higher to the cap minus number of heroes in the role\n",
    "            hero_next_level.loc[hero_next_level['Role'].isin(['Carry']), 'Level'] =  \\\n",
    "                hero_next_level.loc[hero_next_level['Role'].isin(['Carry']), 'Level'].where(hero_next_level['Level'] <cap_attr2 - len(no_hero_role['Carry'])**no_hero_role_penalty_rate, \\\n",
    "                                                                                            cap_attr2 - len(no_hero_role['Carry'])**no_hero_role_penalty_rate)\n",
    "       \n",
    "        hero_lvl_growth_after_combat = pd.concat([hero_lvl_growth_after_combat, hero_next_level])\n",
    "        \n",
    "    return hero_lvl_growth_after_combat"
   ]
  },
  {
   "cell_type": "markdown",
   "metadata": {},
   "source": [
    "Game mechanics:\n",
    "    \n",
    "So there are 3 roles: Carry, Support and Utility\n",
    "    \n",
    "There are 5 possible 'laning': Mid, Bot, Top, Roam and Jungle\n",
    "    \n",
    "There are 10 attributes of a hero: carry, support, nuker, jungler, disabler, escape, durable, pusher and initiator\n",
    "    \n",
    "Most carries in dota have good attributes by order as carry, escape, pusher, nuker, and durable\n",
    "\n",
    "Most utility in dota have good attributes by order as initiator, nuker, durable, disabler, jungler, and escape\n",
    "\n",
    "Most support in dota have good attributes by order as support, disabler, nuker\n",
    "    \n",
    "In the laning stage of the game, Carry, Pusher and Initiator points are not considered in matchups. That's 2 attrs away for carries and 1 for utilities, but support can keep all theirs. \n",
    "\n",
    "Each role will grow differently. \n",
    "    \n",
    "Carries will have a expontenial growth throughout the game. This means that at early game, they grow slowly. At mid game they start to grow faster depending on their Carry natural points. And at late game they grow fastest but will hit a cap. In the beginning, all Carries poins are ignored. Later on they will be added into the round score\n",
    "\n",
    "- A 3-point carry will have a slower growth rate than a 1-point carry at the laning stage. In later stage of the game, a 3-point Carry will be rewarded more. \n",
    "- A unnatural carry will have a default carry points of 1. All other attrs grow linearly with their rate\n",
    "\n",
    "Utilities will have a logistic growth throughout the game. This means at early, they grow slowly. At midgame they grow the fastest among roles, ofc depending on their naturaly points. At late game they stop growing fast again and will hit a cap. In the beginning, all attributes are nerfed by a formula taking into consideration the hero's total number of natural point. \n",
    "- Having as many utilties point as possible will help the team snowball\n",
    "\n",
    "Supports will have a gompertizan growth throughout the game. Since at the laning stage of the game their support attribute are kept original, so they contribute the most into winning the laning stage. At the end of the laning stage is their peak as they will have the highest growth rate. After laning stage they will have the slowest growth among roles.\n",
    "- 3-points supports are benefited the most after the laning stage, but their growth in comparison to 1-point supports are going to be less later in the stage of the game."
   ]
  },
  {
   "cell_type": "markdown",
   "metadata": {},
   "source": [
    "# Let's Play some DOTA!!!"
   ]
  },
  {
   "cell_type": "markdown",
   "metadata": {},
   "source": [
    "### Captain Mode:\n",
    "\n",
    "RB = Radiant Ban,\n",
    "DB = Dire Ban,\n",
    "RP = Radiant Pick,\n",
    "DP = Dire Pick,\n",
    "\n",
    "RB, DB, RB, DB, RB, DB, \n",
    "\n",
    "RP, DP, DP, RP, \n",
    "\n",
    "RB, DB, RB, DB, \n",
    "\n",
    "RP, DP, RP, DP, \n",
    "\n",
    "DB, RB, \n",
    "\n",
    "RP, DP"
   ]
  },
  {
   "cell_type": "code",
   "execution_count": 74,
   "metadata": {},
   "outputs": [],
   "source": [
    "global discard_pool\n",
    "discard_pool = []\n",
    "global radiant_team\n",
    "radiant_team_input = []\n",
    "radiant_team = []\n",
    "global dire_team \n",
    "dire_team_input = []\n",
    "dire_team = []"
   ]
  },
  {
   "cell_type": "code",
   "execution_count": 75,
   "metadata": {},
   "outputs": [
    {
     "name": "stdout",
     "output_type": "stream",
     "text": [
      "Radiant 1st ban: alch\n",
      "Discard hero list: \n",
      "[['Alchemist']]\n",
      "Hero selected: \n",
      "['Alchemist']\n",
      "\n",
      "\n",
      "Dire 1st ban: io\n",
      "Discard hero list: \n",
      "[['Alchemist'], ['Io']]\n",
      "Hero selected: \n",
      "['Io']\n",
      "\n",
      "\n",
      "Radiant 2nd ban: elder\n",
      "Discard hero list: \n",
      "[['Alchemist'], ['Io'], ['Elder_Titan']]\n",
      "Hero selected: \n",
      "['Elder_Titan']\n",
      "\n",
      "\n",
      "Dire 2nd ban: tiny\n",
      "Discard hero list: \n",
      "[['Alchemist'], ['Io'], ['Elder_Titan'], ['Tiny']]\n",
      "Hero selected: \n",
      "['Tiny']\n",
      "\n",
      "\n",
      "Radiant 2nd ban: lesh\n",
      "Discard hero list: \n",
      "[['Alchemist'], ['Io'], ['Elder_Titan'], ['Tiny'], ['Leshrac']]\n",
      "Hero selected: \n",
      "['Leshrac']\n",
      "\n",
      "\n",
      "Dire 3rd ban: lesh\n",
      "Hero has been selected. Please select another one\n",
      "Dire 3rd ban: enchant\n",
      "Discard hero list: \n",
      "[['Alchemist'], ['Io'], ['Elder_Titan'], ['Tiny'], ['Leshrac'], ['Enchantress']]\n",
      "Hero selected: \n",
      "['Enchantress']\n",
      "\n",
      "\n"
     ]
    }
   ],
   "source": [
    "# 1st Ban Phase\n",
    "RB1 = ban_pick('Radiant 1st ban')\n",
    "DB1 = ban_pick('Dire 1st ban')\n",
    "RB2 = ban_pick('Radiant 2nd ban')\n",
    "DB2 = ban_pick('Dire 2nd ban')\n",
    "RB3 = ban_pick('Radiant 2nd ban')\n",
    "DB3 = ban_pick('Dire 3rd ban')\n",
    "\n",
    "# 1st Pick Phase\n",
    "RP1 = ban_pick('Radiant 1st pick')\n",
    "radiant_team_input.append(RP1)\n",
    "\n",
    "print('Radiant heroes: ' + str(radiant_team_input))\n",
    "print('Dire heroes: ' + str(dire_team_input))\n",
    "print('\\n')\n",
    "\n",
    "DP1 = ban_pick('Dire 1st pick')\n",
    "dire_team_input.append(DP1)\n",
    "\n",
    "print('Radiant heroes: ' + str(radiant_team_input))\n",
    "print('Dire heroes: ' + str(dire_team_input))\n",
    "print('\\n')\n",
    "\n",
    "DP2 = ban_pick('Dire 2nd pick')\n",
    "dire_team_input.append(DP2)\n",
    "\n",
    "print('Radiant heroes: ' + str(radiant_team_input))\n",
    "print('Dire heroes: ' + str(dire_team_input))\n",
    "print('\\n')\n",
    "\n",
    "RP2 = ban_pick('Radiant 2nd pick')\n",
    "radiant_team_input.append(RP2)\n",
    "\n",
    "print('Radiant heroes: ' + str(radiant_team_input))\n",
    "print('Dire heroes: ' + str(dire_team_input))\n",
    "print('\\n')\n",
    "\n",
    "# 2nd Ban Phase\n",
    "RB4 = ban_pick('Radiant 4th ban')\n",
    "DB4 = ban_pick('Dire 4th ban')\n",
    "RB5 = ban_pick('Radiant 5th ban')\n",
    "DB5 = ban_pick('Dire 5th ban')\n",
    "\n",
    "# 2nd Pick Phase\n",
    "RP3 = ban_pick('Radiant 3rd pick')\n",
    "radiant_team_input.append(RP3)\n",
    "\n",
    "print('Radiant heroes: ' + str(radiant_team_input))\n",
    "print('Dire heroes: ' + str(dire_team_input))\n",
    "print('\\n')\n",
    "\n",
    "DP3 = ban_pick('Dire 3rd pick')\n",
    "dire_team_input.append(DP3)\n",
    "\n",
    "print('Radiant heroes: ' + str(radiant_team_input))\n",
    "print('Dire heroes: ' + str(dire_team_input))\n",
    "print('\\n')\n",
    "\n",
    "RP4 = ban_pick('Radiant 4th pick')\n",
    "radiant_team_input.append(RP4)\n",
    "\n",
    "print('Radiant heroes: ' + str(radiant_team_input))\n",
    "print('Dire heroes: ' + str(dire_team_input))                          \n",
    "print('\\n')\n",
    "\n",
    "DP4 = ban_pick('Dire 4th pick')\n",
    "dire_team_input.append(DP4)\n",
    "\n",
    "print('Radiant heroes: ' + str(radiant_team_input))\n",
    "print('Dire heroes: ' + str(dire_team_input))          \n",
    "print('\\n')\n",
    "\n",
    "# 3rd Ban Phase\n",
    "DB6 = ban_pick('Dire 6th ban')\n",
    "RB6 = ban_pick('Radiant 6th ban')\n",
    "\n",
    "# 3rd Pick Phase\n",
    "RP5 = ban_pick('Radiant 5th pick')\n",
    "radiant_team_input.append(RP5)\n",
    "\n",
    "print('Radiant heroes: ' + str(radiant_team_input))\n",
    "print('Dire heroes: ' + str(dire_team_input))\n",
    "print('\\n')\n",
    "\n",
    "DP5 = ban_pick('Dire 5th pick')\n",
    "dire_team_input.append(DP5)\n",
    "\n",
    "print('Radiant heroes: ' + str(radiant_team_input))\n",
    "print('Dire heroes: ' + str(dire_team_input))                      \n",
    "print('\\n')\n",
    "\n",
    "radiant_team = radiant_team_input.copy()\n",
    "dire_team = dire_team_input.copy()\n",
    "\n",
    "radiant_team = list(itertools.chain(*radiant_team))\n",
    "dire_team = list(itertools.chain(*dire_team))\n",
    "\n",
    "global heroes_played\n",
    "heroes_played = radiant_team + dire_team\n",
    "\n",
    "print(radiant_team)\n",
    "print(dire_team)"
   ]
  },
  {
   "cell_type": "markdown",
   "metadata": {},
   "source": [
    "### Input Heroes' Lane"
   ]
  },
  {
   "cell_type": "code",
   "execution_count": 82,
   "metadata": {},
   "outputs": [
    {
     "name": "stdout",
     "output_type": "stream",
     "text": [
      "List of Radiant heroes: ['Lion', 'Keeper_of_the_Light', 'Sniper', 'Outworld_Devourer', 'Timbersaw']\n",
      "Select 1 hero for Radiant mid lane (shortcut name): od\n",
      "Select up to 3 hero(es) for Radiant bot lane, separate by comma (shortcut name): sniper, lion, kotl\n",
      "Select up to 3 hero(es) for Radiant top lane, separate by comma (shortcut name): timber\n",
      "Select 1 hero for Radiant roam, separate by comma (shortcut name): \n",
      "Select 1 hero for Radiant jungle, separate by comma (shortcut name): \n"
     ]
    }
   ],
   "source": [
    "print('List of Radiant heroes: ' + str(radiant_team))\n",
    "\n",
    "radiant_mid_input = input('Select 1 hero for Radiant mid lane (shortcut name): ')\n",
    "radiant_bot_input = input('Select up to 3 hero(es) for Radiant bot lane, separate by comma (shortcut name): ')\n",
    "radiant_top_input = input('Select up to 3 hero(es) for Radiant top lane, separate by comma (shortcut name): ')\n",
    "radiant_roam_input = input('Select 1 hero for Radiant roam, separate by comma (shortcut name): ')\n",
    "radiant_jungle_input = input('Select 1 hero for Radiant jungle, separate by comma (shortcut name): ')"
   ]
  },
  {
   "cell_type": "code",
   "execution_count": 83,
   "metadata": {},
   "outputs": [
    {
     "name": "stdout",
     "output_type": "stream",
     "text": [
      "{'Mid': ['Outworld_Devourer'], 'Bot': ['Sniper', 'Lion', 'Keeper_of_the_Light'], 'Top': ['Timbersaw'], 'Jungle': '', 'Roam': ''}\n"
     ]
    }
   ],
   "source": [
    "radiant_heroes_lane['Mid'] = hero_name_process(radiant_mid_input) if len(radiant_mid_input)>0 else ''\n",
    "radiant_heroes_lane['Bot'] = hero_name_process(radiant_bot_input) if len(radiant_bot_input)>0 else ''\n",
    "radiant_heroes_lane['Top'] = hero_name_process(radiant_top_input) if len(radiant_top_input)>0 else ''\n",
    "radiant_heroes_lane['Roam'] = hero_name_process(radiant_roam_input) if len(radiant_roam_input)>0 else ''\n",
    "radiant_heroes_lane['Jungle'] = hero_name_process(radiant_jungle_input) if len(radiant_jungle_input)>0 else ''\n",
    "\n",
    "radiant_heroes_lane.update(Mid = radiant_heroes_lane['Mid'])\n",
    "radiant_heroes_lane.update(Bot = radiant_heroes_lane['Bot'])\n",
    "radiant_heroes_lane.update(Top = radiant_heroes_lane['Top'])\n",
    "radiant_heroes_lane.update(Roam = radiant_heroes_lane['Roam'])\n",
    "radiant_heroes_lane.update(Jungle = radiant_heroes_lane['Jungle'])\n",
    "\n",
    "print(radiant_heroes_lane)"
   ]
  },
  {
   "cell_type": "code",
   "execution_count": 84,
   "metadata": {},
   "outputs": [
    {
     "name": "stdout",
     "output_type": "stream",
     "text": [
      "List of Dire heroes: ['Shadow_Shaman', 'Winter_Wyvern', 'Clinkz', 'Phantom_Assassin', 'Night_Stalker']\n",
      "Select 1 hero for Dire mid lane (shortcut name): pa\n",
      "Select up to 3 hero(es) for Dire bot lane, separate by comma (shortcut name): ns, ww\n",
      "Select up to 3 hero(es) for Dire top lane, separate by comma (shortcut name): ss, clinkz\n",
      "Select 1 hero for Dire roam, separate by comma (shortcut name): \n",
      "Select 1 hero for Dire jungle, separate by comma (shortcut name): \n"
     ]
    }
   ],
   "source": [
    "print('List of Dire heroes: ' + str(dire_team))\n",
    "\n",
    "dire_mid_input = input('Select 1 hero for Dire mid lane (shortcut name): ')\n",
    "dire_bot_input = input('Select up to 3 hero(es) for Dire bot lane, separate by comma (shortcut name): ')\n",
    "dire_top_input = input('Select up to 3 hero(es) for Dire top lane, separate by comma (shortcut name): ')\n",
    "dire_roam_input = input('Select 1 hero for Dire roam, separate by comma (shortcut name): ')\n",
    "dire_jungle_input = input('Select 1 hero for Dire jungle, separate by comma (shortcut name): ')"
   ]
  },
  {
   "cell_type": "code",
   "execution_count": 85,
   "metadata": {},
   "outputs": [
    {
     "name": "stdout",
     "output_type": "stream",
     "text": [
      "{'Mid': ['Phantom_Assassin'], 'Bot': ['Night_Stalker', 'Winter_Wyvern'], 'Top': ['Shadow_Shaman', 'Clinkz'], 'Jungle': '', 'Roam': ''}\n"
     ]
    }
   ],
   "source": [
    "dire_heroes_lane['Mid'] = hero_name_process(dire_mid_input) if len(dire_mid_input)>0 else ''\n",
    "dire_heroes_lane['Bot'] = hero_name_process(dire_bot_input) if len(dire_bot_input)>0 else ''\n",
    "dire_heroes_lane['Top'] = hero_name_process(dire_top_input) if len(dire_top_input)>0 else ''\n",
    "dire_heroes_lane['Roam'] = hero_name_process(dire_roam_input) if len(dire_roam_input)>0 else ''\n",
    "dire_heroes_lane['Jungle'] = hero_name_process(dire_jungle_input) if len(dire_jungle_input)>0 else ''\n",
    "\n",
    "dire_heroes_lane.update(Mid = dire_heroes_lane['Mid'])\n",
    "dire_heroes_lane.update(Bot = dire_heroes_lane['Bot'])\n",
    "dire_heroes_lane.update(Top = dire_heroes_lane['Top'])\n",
    "dire_heroes_lane.update(Roam = dire_heroes_lane['Roam'])\n",
    "dire_heroes_lane.update(Jungle = dire_heroes_lane['Jungle'])\n",
    "\n",
    "print(dire_heroes_lane)"
   ]
  },
  {
   "cell_type": "markdown",
   "metadata": {},
   "source": [
    "###### Set up matchup Lane"
   ]
  },
  {
   "cell_type": "code",
   "execution_count": 86,
   "metadata": {},
   "outputs": [],
   "source": [
    "# Create lane matchups by lane\n",
    "lane_matchup_flatlist = {}\n",
    "\n",
    "lane_matchup = {'Mid': (radiant_heroes_lane['Mid'], dire_heroes_lane['Mid']),\n",
    "                'Bot': (radiant_heroes_lane['Bot'], dire_heroes_lane['Bot']), \n",
    "                'Top': (radiant_heroes_lane['Top'], dire_heroes_lane['Top'])}\n",
    "\n",
    "lane_matchup_flatlist['Mid'] = list(itertools.chain(*lane_matchup['Mid']))\n",
    "lane_matchup_flatlist['Bot'] = list(itertools.chain(*lane_matchup['Bot']))\n",
    "lane_matchup_flatlist['Top'] = list(itertools.chain(*lane_matchup['Top']))\n",
    "\n",
    "game_lane = ['Mid', 'Bot', 'Top']"
   ]
  },
  {
   "cell_type": "markdown",
   "metadata": {},
   "source": [
    "### Input Heroes' Role"
   ]
  },
  {
   "cell_type": "code",
   "execution_count": 87,
   "metadata": {},
   "outputs": [
    {
     "name": "stdout",
     "output_type": "stream",
     "text": [
      "List of Radiant heroes: ['Lion', 'Keeper_of_the_Light', 'Sniper', 'Outworld_Devourer', 'Timbersaw']\n",
      "Select up to 3 hero(es) for Radiant Support role, separate by comma: lion, kotl\n",
      "Select up to 3 hero(es) for Radiant Carry role (shortcut name): sniper, od\n",
      "Select up to 3 hero(es) for Radiant Utility role (shortcut name): timber\n"
     ]
    }
   ],
   "source": [
    "print('List of Radiant heroes: ' + str(radiant_team))\n",
    "\n",
    "radiant_support_input = input('Select up to 3 hero(es) for Radiant Support role, separate by comma: ')\n",
    "radiant_carry_input = input('Select up to 3 hero(es) for Radiant Carry role (shortcut name): ')\n",
    "radiant_utility_input = input('Select up to 3 hero(es) for Radiant Utility role (shortcut name): ')"
   ]
  },
  {
   "cell_type": "code",
   "execution_count": 88,
   "metadata": {},
   "outputs": [
    {
     "name": "stdout",
     "output_type": "stream",
     "text": [
      "{'Carry': ['Sniper', 'Outworld_Devourer'], 'Support': ['Lion', 'Keeper_of_the_Light'], 'Utility': ['Timbersaw']}\n"
     ]
    }
   ],
   "source": [
    "radiant_heroes_role['Support'] = hero_name_process(radiant_support_input) if len(radiant_support_input)>0 else ''\n",
    "radiant_heroes_role['Carry'] = hero_name_process(radiant_carry_input) if len(radiant_carry_input)>0 else ''\n",
    "radiant_heroes_role['Utility'] = hero_name_process(radiant_utility_input) if len(radiant_utility_input)>0 else ''\n",
    "\n",
    "radiant_heroes_role.update(Carry = radiant_heroes_role['Carry'])\n",
    "radiant_heroes_role.update(Support = radiant_heroes_role['Support'])\n",
    "radiant_heroes_role.update(Utility = radiant_heroes_role['Utility'])\n",
    "\n",
    "print(radiant_heroes_role)"
   ]
  },
  {
   "cell_type": "code",
   "execution_count": 89,
   "metadata": {},
   "outputs": [
    {
     "name": "stdout",
     "output_type": "stream",
     "text": [
      "List of Dire heroes: ['Shadow_Shaman', 'Winter_Wyvern', 'Clinkz', 'Phantom_Assassin', 'Night_Stalker']\n",
      "Select hero(es) for Dire Support role, separate by comma: ss, ww\n",
      "Select hero(es) for Dire Carry role (shortcut name): clinkz, pa, ns\n",
      "Select hero(es) for Dire Utility role (shortcut name): \n"
     ]
    }
   ],
   "source": [
    "print('List of Dire heroes: ' + str(dire_team))\n",
    "\n",
    "dire_support_input = input('Select hero(es) for Dire Support role, separate by comma: ')\n",
    "dire_carry_input = input('Select hero(es) for Dire Carry role (shortcut name): ')\n",
    "dire_utility_input = input('Select hero(es) for Dire Utility role (shortcut name): ')"
   ]
  },
  {
   "cell_type": "code",
   "execution_count": 90,
   "metadata": {},
   "outputs": [
    {
     "name": "stdout",
     "output_type": "stream",
     "text": [
      "{'Carry': ['Clinkz', 'Phantom_Assassin', 'Night_Stalker'], 'Support': ['Shadow_Shaman', 'Winter_Wyvern'], 'Utility': ''}\n"
     ]
    }
   ],
   "source": [
    "dire_heroes_role['Support'] = hero_name_process(dire_support_input) if len(dire_support_input)>0 else ''\n",
    "dire_heroes_role['Carry'] = hero_name_process(dire_carry_input) if len(dire_carry_input)>0 else ''\n",
    "dire_heroes_role['Utility'] = hero_name_process(dire_utility_input) if len(dire_utility_input)>0 else ''\n",
    "\n",
    "dire_heroes_role.update(Carry = dire_heroes_role['Carry'])\n",
    "dire_heroes_role.update(Support = dire_heroes_role['Support'])\n",
    "dire_heroes_role.update(Utility = dire_heroes_role['Utility'])\n",
    "\n",
    "print(dire_heroes_role)"
   ]
  },
  {
   "cell_type": "markdown",
   "metadata": {},
   "source": [
    "### The Game Mechanics"
   ]
  },
  {
   "cell_type": "markdown",
   "metadata": {},
   "source": [
    "### Dictionaries"
   ]
  },
  {
   "cell_type": "markdown",
   "metadata": {},
   "source": [
    "###### Set up Lane and Role"
   ]
  },
  {
   "cell_type": "code",
   "execution_count": 39,
   "metadata": {
    "scrolled": true
   },
   "outputs": [],
   "source": [
    "heroes_lane = dict.fromkeys(['Mid', 'Bot', 'Top', 'Jungle', 'Roam'], [0])\n",
    "heroes_role = dict.fromkeys(['Carry', 'Support', 'Utility'], [0])\n",
    "\n",
    "radiant_heroes_lane = heroes_lane.copy()\n",
    "dire_heroes_lane = heroes_lane.copy()\n",
    "\n",
    "radiant_heroes_role = heroes_role.copy()\n",
    "dire_heroes_role = heroes_role.copy()"
   ]
  },
  {
   "cell_type": "markdown",
   "metadata": {},
   "source": [
    "###### Reset point at the beginning of the game"
   ]
  },
  {
   "cell_type": "code",
   "execution_count": 40,
   "metadata": {},
   "outputs": [],
   "source": [
    "initial_setup_dict = dict.fromkeys(['carry_point_for_support', 'support_point_for_carry', 'support_point_for_utility', 'carry_point_for_utility', 'initial_attr_reduction_rate'])\n",
    "\n",
    "initial_setup_dict.update(carry_point_for_support = 0.25)\n",
    "initial_setup_dict.update(support_point_for_carry = 0)\n",
    "initial_setup_dict.update(support_point_for_utility = 0)\n",
    "initial_setup_dict.update(carry_point_for_utility = 0.25)\n",
    "initial_setup_dict.update(initial_attr_reduction_rate = 0.06)"
   ]
  },
  {
   "cell_type": "markdown",
   "metadata": {},
   "source": [
    "###### Remove attributes at different stages of the game"
   ]
  },
  {
   "cell_type": "code",
   "execution_count": 41,
   "metadata": {},
   "outputs": [],
   "source": [
    "early_attr_remove = ['Complexity', 'Carry', 'Initiator', 'Pusher']\n",
    "midgame_attr_remove = ['Complexity']\n",
    "lategame_attr_remove = ['Complexity', 'Jungler']"
   ]
  },
  {
   "cell_type": "markdown",
   "metadata": {},
   "source": [
    "###### Adjust Growth Rate by Role in the Laning Phase"
   ]
  },
  {
   "cell_type": "code",
   "execution_count": 42,
   "metadata": {},
   "outputs": [],
   "source": [
    "growth_rate = dict.fromkeys(['utility_rate',\n",
    "                             'support_unnatural', 'support_natural_support', 'support_natural_others',\n",
    "                             'carry_unnatural', 'carry_natural_carry', 'carry_natural_others', \n",
    "                            'jungler_unnatural_rate_laning', 'jungler_natural_rate_laning', 'roamer_rate'], 1)"
   ]
  },
  {
   "cell_type": "code",
   "execution_count": 43,
   "metadata": {},
   "outputs": [],
   "source": [
    "growth_rate_laning = growth_rate.copy()\n",
    "\n",
    "growth_rate_laning.update(jungler_unnatural_rate = 1)\n",
    "growth_rate_laning.update(jungler_natural_rate = 1.3)\n",
    "\n",
    "growth_rate_laning.update(roamer_rate = 1.1)\n",
    "\n",
    "growth_rate_laning.update(utility_rate = 1.1)\n",
    "\n",
    "growth_rate_laning.update(support_unnatural = 1)\n",
    "growth_rate_laning.update(support_natural_support = 1.1)\n",
    "growth_rate_laning.update(support_natural_others = 1.1)\n",
    "\n",
    "growth_rate_laning.update(carry_unnatural = 1.2)\n",
    "growth_rate_laning.update(carry_natural_others = 1.2)"
   ]
  },
  {
   "cell_type": "markdown",
   "metadata": {},
   "source": [
    "###### Adjust the multiplier of the bonuses and counter in the laning phase"
   ]
  },
  {
   "cell_type": "code",
   "execution_count": 44,
   "metadata": {},
   "outputs": [],
   "source": [
    "# Boost this number to make countering and laning phase crucical to get an early advantage and start snowballing \n",
    "laning_bonus_fixed_rate = 5/100\n",
    "laning_counter_matchup_multiplier = 2"
   ]
  },
  {
   "cell_type": "markdown",
   "metadata": {},
   "source": [
    "###### Pre-midgame Growth adjust"
   ]
  },
  {
   "cell_type": "code",
   "execution_count": 45,
   "metadata": {},
   "outputs": [],
   "source": [
    "round20_bonus_fixed_rate = 2/100"
   ]
  },
  {
   "cell_type": "code",
   "execution_count": 46,
   "metadata": {},
   "outputs": [],
   "source": [
    "growth_rate_midgame = growth_rate.copy()\n",
    "\n",
    "growth_rate_midgame.update(utility_rate= 1.15)\n",
    "\n",
    "growth_rate_midgame.update(support_unnatural= 1.1)\n",
    "growth_rate_midgame.update(support_natural_support= 1.1)\n",
    "growth_rate_midgame.update(support_natural_others= 1.1)\n",
    "\n",
    "growth_rate_midgame.update(carry_unnatural= 1.2)\n",
    "growth_rate_midgame.update(carry_natural_others= 1.2)"
   ]
  },
  {
   "cell_type": "markdown",
   "metadata": {},
   "source": [
    "###### Capping Attributes to Limit Hero Growth"
   ]
  },
  {
   "cell_type": "code",
   "execution_count": 47,
   "metadata": {
    "scrolled": true
   },
   "outputs": [],
   "source": [
    "attrs_cap = ['Carry', 'Durable', 'Nuker', 'Pusher']\n",
    "\n",
    "cap_attr_radiant1 = 7\n",
    "cap_attr_radiant2 = 20\n",
    "cap_attr_dire1 = 7\n",
    "cap_attr_dire2 = 20\n",
    "\n",
    "late_add_cap1 =  1\n",
    "late_add_cap2 =  3"
   ]
  },
  {
   "cell_type": "markdown",
   "metadata": {},
   "source": [
    "###### Adjust Strategy immediate bonus vs penaly after each combat"
   ]
  },
  {
   "cell_type": "code",
   "execution_count": 151,
   "metadata": {},
   "outputs": [],
   "source": [
    "strategy_bonus_rate_dict = dict.fromkeys(['team_midgame_aggressive_rate', 'team_midgame_turtle_rate', 'team_normal_rate', 'max_attr_bonus'])\n",
    "\n",
    "strategy_bonus_rate_dict.update(team_midgame_aggressive_rate = 1.35)\n",
    "strategy_bonus_rate_dict.update(team_midgame_turtle_rate = 1)\n",
    "strategy_bonus_rate_dict.update(team_normal_rate = 1.1)"
   ]
  },
  {
   "cell_type": "code",
   "execution_count": 152,
   "metadata": {},
   "outputs": [],
   "source": [
    "strategy_penalty_rate = dict.fromkeys(['aggressive_penalty', 'aggressive_reward', 'turtle_penalty', 'turtle_reward', 'normal_penalty', 'normal_reward'])\n",
    "\n",
    "strategy_penalty_rate.update(aggressive_penalty = 1.02)\n",
    "strategy_penalty_rate.update(aggressive_reward = 1.04)\n",
    "strategy_penalty_rate.update(turtle_penalty = 1)\n",
    "strategy_penalty_rate.update(turtle_reward = 1.08)\n",
    "strategy_penalty_rate.update(normal_penalty = 1.01)\n",
    "strategy_penalty_rate.update(normal_reward = 1.06)"
   ]
  },
  {
   "cell_type": "markdown",
   "metadata": {},
   "source": [
    "###### Adjust Midgame Carry Growth "
   ]
  },
  {
   "cell_type": "code",
   "execution_count": 153,
   "metadata": {},
   "outputs": [],
   "source": [
    "midgame_carry_point = [1.18, 1.14, 1.12]\n",
    "game_time_end_early = 12"
   ]
  },
  {
   "cell_type": "markdown",
   "metadata": {},
   "source": [
    "###### Adjust multiplier for Hero Growth during combat stage"
   ]
  },
  {
   "cell_type": "code",
   "execution_count": 154,
   "metadata": {},
   "outputs": [],
   "source": [
    "last_round_score_multiplier = 1/4\n",
    "counter_score_multiplier = 3\n",
    "no_hero_role_penalty_rate = 1.6\n",
    "\n",
    "# Hero will have bonus growth depending on the natural point attribute it has. For example, CM will have a growth plus 3-support point divided by this number below, which is 0.6 \n",
    "\n",
    "natural_attr_divider = 5\n",
    "round_combat_bonus_fixed_rate = 1/600"
   ]
  },
  {
   "cell_type": "markdown",
   "metadata": {},
   "source": [
    "###### Adjust Combat Growth"
   ]
  },
  {
   "cell_type": "markdown",
   "metadata": {},
   "source": [
    "Giving utilities a very high combat growth rate because they are the ones that will snowball midgame the most"
   ]
  },
  {
   "cell_type": "code",
   "execution_count": 155,
   "metadata": {},
   "outputs": [],
   "source": [
    "growth_rate_winner = growth_rate.copy()\n",
    "\n",
    "growth_rate_winner.update(utility_rate= 1.15)\n",
    "\n",
    "growth_rate_winner.update(support_unnatural= 1.05)\n",
    "growth_rate_winner.update(support_natural_support= 1.05)\n",
    "growth_rate_winner.update(support_natural_others= 1.05)\n",
    "\n",
    "growth_rate_winner.update(carry_unnatural= 1.06)\n",
    "growth_rate_winner.update(carry_natural_carry= 1.08)\n",
    "growth_rate_winner.update(carry_natural_others= 1.05)"
   ]
  },
  {
   "cell_type": "code",
   "execution_count": 156,
   "metadata": {},
   "outputs": [],
   "source": [
    "growth_rate_loser = growth_rate.copy()\n",
    "\n",
    "growth_rate_loser.update(utility_rate= 1.05)\n",
    "\n",
    "growth_rate_loser.update(support_unnatural= 1.01)\n",
    "growth_rate_loser.update(support_natural_support= 1.01)\n",
    "growth_rate_loser.update(support_natural_others= 1.01)\n",
    "\n",
    "growth_rate_loser.update(carry_unnatural= 1.02)\n",
    "growth_rate_loser.update(carry_natural_carry= 1.04)\n",
    "growth_rate_loser.update(carry_natural_others= 1.01)"
   ]
  },
  {
   "cell_type": "markdown",
   "metadata": {},
   "source": [
    "Dimish multiplier for last round and counter score. "
   ]
  },
  {
   "cell_type": "code",
   "execution_count": 157,
   "metadata": {},
   "outputs": [],
   "source": [
    "diminishing_last_round_score = 1\n",
    "diminishing_counter_score = 1.5"
   ]
  },
  {
   "cell_type": "markdown",
   "metadata": {},
   "source": [
    "###### Adjust Random Combat Boost Rate"
   ]
  },
  {
   "cell_type": "code",
   "execution_count": 158,
   "metadata": {},
   "outputs": [],
   "source": [
    "combat_boost_rate = dict.fromkeys(['role_boost_rate', 'hero_boost_rate', 'team_boost_rate', 'counter_boost_rate', 'next_round_bonus_rate', 'cap_boost', 'attribute_boost'])\n",
    "\n",
    "combat_boost_rate.update(role_boost_rate = 0.3)\n",
    "combat_boost_rate.update(hero_boost_rate = 1.2)\n",
    "combat_boost_rate.update(team_boost_rate = 1.05)\n",
    "combat_boost_rate.update(counter_boost_rate = 5)\n",
    "combat_boost_rate.update(cap_boost = 0.5)\n",
    "combat_boost_rate.update(attribute_boost = 1)"
   ]
  },
  {
   "cell_type": "markdown",
   "metadata": {},
   "source": [
    "###### Adjust Lategame Growth"
   ]
  },
  {
   "cell_type": "code",
   "execution_count": 159,
   "metadata": {},
   "outputs": [],
   "source": [
    "growth_rate_winner_lategame = growth_rate.copy()\n",
    "\n",
    "growth_rate_winner_lategame.update(utility_rate= 1.06)\n",
    "\n",
    "growth_rate_winner_lategame.update(support_unnatural= 1.02)\n",
    "growth_rate_winner_lategame.update(support_natural_support= 1.02)\n",
    "growth_rate_winner_lategame.update(support_natural_others= 1.02)\n",
    "\n",
    "growth_rate_winner_lategame.update(carry_unnatural= 1.08)\n",
    "growth_rate_winner_lategame.update(carry_natural_carry= 1.2)\n",
    "growth_rate_winner_lategame.update(carry_natural_others= 1.15)"
   ]
  },
  {
   "cell_type": "code",
   "execution_count": 160,
   "metadata": {},
   "outputs": [],
   "source": [
    "growth_rate_loser_lategame = growth_rate.copy()\n",
    "\n",
    "growth_rate_loser_lategame.update(utility_rate= 1.02)\n",
    "\n",
    "growth_rate_loser_lategame.update(support_unnatural= 1)\n",
    "growth_rate_loser_lategame.update(support_natural_support= 1)\n",
    "growth_rate_loser_lategame.update(support_natural_others= 1)\n",
    "\n",
    "growth_rate_loser_lategame.update(carry_unnatural= 1.05)\n",
    "growth_rate_loser_lategame.update(carry_natural_carry= 1.05)\n",
    "growth_rate_loser_lategame.update(carry_natural_others= 1.05)"
   ]
  },
  {
   "cell_type": "markdown",
   "metadata": {},
   "source": [
    "###### Lategame Growth Rate Diminishing Rate"
   ]
  },
  {
   "cell_type": "code",
   "execution_count": 161,
   "metadata": {},
   "outputs": [],
   "source": [
    "diminish_initial_rate = 0.5\n",
    "diminishing_rate_lategame = 0.01"
   ]
  },
  {
   "cell_type": "markdown",
   "metadata": {},
   "source": [
    "# The Game Plays Here"
   ]
  },
  {
   "cell_type": "markdown",
   "metadata": {},
   "source": [
    "### Setting Up the Game"
   ]
  },
  {
   "cell_type": "code",
   "execution_count": 162,
   "metadata": {},
   "outputs": [],
   "source": [
    "heroes_name_list = heroes_name_fixed['Heroes'].tolist()"
   ]
  },
  {
   "cell_type": "code",
   "execution_count": 163,
   "metadata": {},
   "outputs": [],
   "source": [
    "# https://stackoverflow.com/questions/5946236/how-to-merge-multiple-dicts-with-same-key\n",
    "# Combine 2 dictionaries with the same key\n",
    "# Combine hero names in the same lanes\n",
    "# Combine hero names in the same roles (for calculating growth later on)\n",
    "\n",
    "ds = [radiant_heroes_lane, dire_heroes_lane]\n",
    "combined_laning_stage = {}\n",
    "for k in radiant_heroes_lane.keys():\n",
    "  combined_laning_stage[k] = list(itertools.chain(*[d[k] for d in ds]))\n",
    "\n",
    "ds = [radiant_heroes_role, dire_heroes_role]\n",
    "combined_role = {}\n",
    "for k in radiant_heroes_role.keys():\n",
    "  combined_role[k] = list(itertools.chain(*[d[k] for d in ds]))"
   ]
  },
  {
   "cell_type": "markdown",
   "metadata": {},
   "source": [
    "###### Fix Role"
   ]
  },
  {
   "cell_type": "code",
   "execution_count": 164,
   "metadata": {},
   "outputs": [],
   "source": [
    "role_list = list(set(heroes_roles['Role']))\n",
    "role_list.remove('Complexity')\n",
    "non_supp = [x for x in role_list if x != 'Support' and x != 'Complexity']\n",
    "non_carry = [x for x in role_list if x != 'Carry' and x != 'Complexity']"
   ]
  },
  {
   "cell_type": "code",
   "execution_count": 165,
   "metadata": {
    "scrolled": true
   },
   "outputs": [],
   "source": [
    "heroes_lvl_0 = initial_setup(heroes_roles)"
   ]
  },
  {
   "cell_type": "code",
   "execution_count": 166,
   "metadata": {},
   "outputs": [],
   "source": [
    "radiant_counter_score_raw = counter_score(radiant_team, dire_team)"
   ]
  },
  {
   "cell_type": "markdown",
   "metadata": {},
   "source": [
    "### Laning Stage Matchup Score"
   ]
  },
  {
   "cell_type": "code",
   "execution_count": 167,
   "metadata": {
    "scrolled": false
   },
   "outputs": [
    {
     "name": "stdout",
     "output_type": "stream",
     "text": [
      "\n",
      "\n",
      "Attribute versus point in the laning stage is: \n",
      "Mid: \n",
      "(2, -2, ['Outworld_Devourer'], ['Phantom_Assassin'])\n",
      "Bot: \n",
      "(5, -5, ['Sniper', 'Lion', 'Keeper_of_the_Light'], ['Night_Stalker', 'Winter_Wyvern'])\n",
      "Top: \n",
      "(-3, 3, ['Timbersaw'], ['Shadow_Shaman', 'Clinkz'])\n",
      "\n",
      "\n",
      "Counter score in the laning stage is: \n",
      "{'counter_laning_mid_score': 0.5, 'counter_laning_bot_score': -1.5, 'counter_laning_top_score': -1}\n",
      "\n",
      "\n",
      "Complexity matchup is: \n",
      "1\n"
     ]
    }
   ],
   "source": [
    "bonus_laning_point_list = dict.fromkeys(game_lane, 1)\n",
    "\n",
    "bonus_laning_point_list.update(Mid = laning_stage(lane_matchup[game_lane[0]]))\n",
    "bonus_laning_point_list.update(Bot = laning_stage(lane_matchup[game_lane[1]]))\n",
    "bonus_laning_point_list.update(Top = laning_stage(lane_matchup[game_lane[2]]))\n",
    "\n",
    "print('\\n')\n",
    "print('Attribute versus point in the laning stage is: ')\n",
    "print('Mid: ')\n",
    "print(bonus_laning_point_list['Mid'][1:6])\n",
    "print('Bot: ')\n",
    "print(bonus_laning_point_list['Bot'][1:6])\n",
    "print('Top: ')\n",
    "print(bonus_laning_point_list['Top'][1:6])\n",
    "print('\\n')\n",
    "print('Counter score in the laning stage is: ')\n",
    "print(counter_laning(bonus_laning_point_list))\n",
    "print('\\n')\n",
    "print('Complexity matchup is: ')\n",
    "print(radiant_vs_dire_complexity)"
   ]
  },
  {
   "cell_type": "markdown",
   "metadata": {},
   "source": [
    "### End of Laning Stage"
   ]
  },
  {
   "cell_type": "code",
   "execution_count": 168,
   "metadata": {
    "scrolled": false
   },
   "outputs": [
    {
     "name": "stdout",
     "output_type": "stream",
     "text": [
      "End of laning stage: \n",
      "2.33\n"
     ]
    }
   ],
   "source": [
    "heroes_lvl_1 = heroes_lvl_up_tbl(heroes_level_up1)\n",
    "end_early = round_score(radiant_team, dire_team, heroes_lvl_1, 'early')\n",
    "bonus_round1_point = end_early[1]\n",
    "\n",
    "print('End of laning stage: ')\n",
    "print(end_early[1])"
   ]
  },
  {
   "cell_type": "markdown",
   "metadata": {},
   "source": [
    "### Select Strategy"
   ]
  },
  {
   "cell_type": "code",
   "execution_count": 169,
   "metadata": {},
   "outputs": [
    {
     "name": "stdout",
     "output_type": "stream",
     "text": [
      "Select Radiant strategy (aggressive, turtle, normal)turtle\n",
      "Select Radiant strategy (aggressive, turtle, normal)turtle\n"
     ]
    }
   ],
   "source": [
    "global radiant_strategy\n",
    "radiant_strategy = input('Select Radiant strategy (aggressive, turtle, or normal): ')\n",
    "global dire_strategy\n",
    "dire_strategy = input('Select Radiant strategy (aggressive, turtle, or normal): ')"
   ]
  },
  {
   "cell_type": "markdown",
   "metadata": {},
   "source": [
    "### End of Strategy"
   ]
  },
  {
   "cell_type": "code",
   "execution_count": 170,
   "metadata": {
    "scrolled": false
   },
   "outputs": [
    {
     "name": "stdout",
     "output_type": "stream",
     "text": [
      "End of strategy stage: \n",
      "-0.69\n"
     ]
    }
   ],
   "source": [
    "heroes_lvl_20 = heroes_lvl_1.copy()\n",
    "heroes_lvl_20[heroes_lvl_20['Hero Fullname'].isin(radiant_team)] = strategy_bonus_rate(radiant_team, radiant_strategy)\n",
    "heroes_lvl_20[heroes_lvl_20['Hero Fullname'].isin(dire_team)] = strategy_bonus_rate(dire_team, dire_strategy)\n",
    "end_strategy = round_score(radiant_team, dire_team, heroes_lvl_20, 'mid')\n",
    "bonus_round20_point = end_strategy[1]\n",
    "\n",
    "print('End of strategy stage: ')\n",
    "print(end_strategy[1])"
   ]
  },
  {
   "cell_type": "markdown",
   "metadata": {},
   "source": [
    "### Midgame"
   ]
  },
  {
   "cell_type": "code",
   "execution_count": 171,
   "metadata": {},
   "outputs": [
    {
     "name": "stdout",
     "output_type": "stream",
     "text": [
      "End of midgame growth stage: \n",
      "-1.21\n"
     ]
    }
   ],
   "source": [
    "heroes_lvl_21 = heroes_lvl_up_tbl(heroes_lvl_up2)\n",
    "end_midgame_growth = round_score(radiant_team, dire_team, heroes_lvl_21, 'mid')\n",
    "bonus_round21_point = end_midgame_growth[1]\n",
    "\n",
    "print('End of midgame growth stage: ')\n",
    "print(end_midgame_growth[1])"
   ]
  },
  {
   "cell_type": "markdown",
   "metadata": {},
   "source": [
    "### Series of Combat"
   ]
  },
  {
   "cell_type": "code",
   "execution_count": 172,
   "metadata": {
    "scrolled": false
   },
   "outputs": [
    {
     "name": "stdout",
     "output_type": "stream",
     "text": [
      "\n",
      "\n",
      "Boost option is: 2\n",
      "Boost a random survivor in the winner team by 1.2\n",
      "Night_Stalker\n",
      "Result order: winner_team, radiant_combat_bonus, radiant_counter_score, last_round_bonus, random_number, radiant_win_range, dire_win_range, survivors\n",
      "(['Shadow_Shaman', 'Winter_Wyvern', 'Clinkz', 'Phantom_Assassin', 'Night_Stalker'], 1, 1.0, -1.21, 89, range(0, 35), range(68, 101), ['Winter_Wyvern', 'Night_Stalker', 'Shadow_Shaman', 'Clinkz', 'Timbersaw'])\n",
      "Round score at the end of the combat is :-5.18\n",
      "Game minute: 18\n",
      "\n",
      "\n",
      "No bonus rate this round\n",
      "Result order: winner_team, radiant_combat_bonus, radiant_counter_score, last_round_bonus, random_number, radiant_win_range, dire_win_range, survivors\n",
      "('', 0, 1.0, -5.18, 51, range(0, 34), range(67, 101), ['Lion', 'Sniper', 'Shadow_Shaman', 'Clinkz'])\n",
      "Round score at the end of the combat is :-5.68\n",
      "Game minute: 20\n",
      "\n",
      "\n",
      "Boost option is: 3\n",
      "Boost the winner team survivors by 1.05\n",
      "no_random_role_hero_selected\n",
      "Result order: winner_team, radiant_combat_bonus, radiant_counter_score, last_round_bonus, random_number, radiant_win_range, dire_win_range, survivors\n",
      "(['Lion', 'Keeper_of_the_Light', 'Sniper', 'Outworld_Devourer', 'Timbersaw'], 0, 1.0, -5.68, 23, range(0, 34), range(67, 101), ['Timbersaw'])\n",
      "Round score at the end of the combat is :-2.83\n",
      "Game minute: 24\n",
      "\n",
      "\n",
      "No bonus rate this round\n",
      "Result order: winner_team, radiant_combat_bonus, radiant_counter_score, last_round_bonus, random_number, radiant_win_range, dire_win_range, survivors\n",
      "('', 0, 1.0, -2.83, 52, range(0, 34), range(67, 101), ['Lion', 'Sniper', 'Outworld_Devourer', 'Clinkz', 'Winter_Wyvern', 'Shadow_Shaman'])\n",
      "Round score at the end of the combat is :-2.83\n",
      "Game minute: 26\n",
      "\n",
      "\n",
      "No bonus rate this round\n",
      "Result order: winner_team, radiant_combat_bonus, radiant_counter_score, last_round_bonus, random_number, radiant_win_range, dire_win_range, survivors\n",
      "('', 0, 1.0, -2.83, 66, range(0, 34), range(67, 101), ['Lion', 'Keeper_of_the_Light', 'Sniper', 'Outworld_Devourer', 'Shadow_Shaman', 'Phantom_Assassin', 'Winter_Wyvern', 'Night_Stalker'])\n",
      "Round score at the end of the combat is :-3.26\n",
      "Game minute: 28\n",
      "\n",
      "\n",
      "Boost option is: 1\n",
      "Boost a role in the winner team for each attribute by 0.3 if the natural point is >0. The bonus is divided by the number of heroes in the role\n",
      "Utility\n",
      "Result order: winner_team, radiant_combat_bonus, radiant_counter_score, last_round_bonus, random_number, radiant_win_range, dire_win_range, survivors\n",
      "(['Lion', 'Keeper_of_the_Light', 'Sniper', 'Outworld_Devourer', 'Timbersaw'], -1, 1.0, -3.26, 5, range(0, 33), range(66, 101), ['Lion', 'Outworld_Devourer', 'Shadow_Shaman'])\n",
      "Round score at the end of the combat is :2.44\n",
      "Game minute: 33\n"
     ]
    }
   ],
   "source": [
    "radiant_counter_score_list = [radiant_counter_score_raw]\n",
    "combat_last_round = [end_midgame_growth[1]]\n",
    "previous_level_input_list = [heroes_lvl_21]\n",
    "previous_level_input_df = pd.DataFrame(heroes_lvl_21)\n",
    "previous_level_input_df['stage'] = game_time_end_early+3\n",
    "game_time = [game_time_end_early+3]\n",
    "\n",
    "winner_list = []\n",
    "\n",
    "combat_result_tbl = pd.DataFrame()\n",
    "\n",
    "import random\n",
    "# random number of combats in the game\n",
    "for i in range(0, random.randint(5,10)):\n",
    "    combat_result = series_combat(last_round_score = combat_last_round[i], \\\n",
    "                                  # increase last round score multiplier after each loop\n",
    "                                  last_round_score_multiplier = last_round_score_multiplier + i*diminishing_last_round_score/10,\\\n",
    "                                  # decrease counter score multiplier after each loop\n",
    "                                  counter_score_multiplier = counter_score_multiplier - i*diminishing_counter_score/10, \\\n",
    "                                  radiant_counter_score = radiant_counter_score_list[i], \\\n",
    "                                  previous_level = previous_level_input_list[i])        \n",
    "\n",
    "    print(combat_result[0][:8])\n",
    "\n",
    "    end_combat_round_score = round_score(radiant_team, dire_team, combat_result[1], 'mid')\n",
    "    \n",
    "    print('Round score at the end of the combat is :' + str(end_combat_round_score[1]))\n",
    "    # Result order is: winner_team, radiant_combat_bonus, radiant_counter_score, last_round_bonus, random_number, radiant_win_range, dire_win_range, survivors, combat_growth_score_input, new_data: '\n",
    "    radiant_counter_score_list.append(combat_result[0][2]) \n",
    "    combat_last_round.append(end_combat_round_score[1])\n",
    "    \n",
    "    combat_result_tbl = combat_result[1]\n",
    "    # random the time of the growth and combat\n",
    "    game_time_combat = game_time[i] + random.randint(1,5)\n",
    "    print('Game minute: ' + str(game_time_combat))\n",
    "    \n",
    "    combat_result_tbl['stage'] = game_time_combat\n",
    "    \n",
    "    game_time.append(game_time_combat)\n",
    "    \n",
    "    if combat_result[0][0] == radiant_team:\n",
    "        winner_list.append('radiant')\n",
    "    if combat_result[0][0] == dire_team:\n",
    "        winner_list.append('dire')\n",
    "    if len(combat_result[0][0]) == 0:\n",
    "        winner_list.append('tie')\n",
    "    \n",
    "    previous_level_input_list.append(combat_result_tbl)\n",
    "    previous_level_input_df = pd.concat([previous_level_input_df, combat_result_tbl])          \n",
    "end_midgame_combat = previous_level_input_df.loc[previous_level_input_df['stage'] == previous_level_input_df['stage'].max()]"
   ]
  },
  {
   "cell_type": "markdown",
   "metadata": {},
   "source": [
    "### End of midgame"
   ]
  },
  {
   "cell_type": "markdown",
   "metadata": {},
   "source": [
    "The Result of Midgame will give advantage to the Teams in the Lategame stage or even finish the game with these condition:\n",
    "- Total combat win: 3 is 1 rax. 4 is 2 rax. 5 is megacreep. 6 is victory\n",
    "- Win back-to-back: 2 for 1 rax. 3 for 2 rax. 4 for 3 megacreep. 5 is victory\n",
    "- Point difference at the end of the stage: 10-20 is 1 rax, 20-30 is 2 rax, 30-40 is megacreep. >40 is victory\n",
    "\n",
    "Whichever condition results the lowest number of rax will be the chosen number"
   ]
  },
  {
   "cell_type": "code",
   "execution_count": 173,
   "metadata": {
    "scrolled": true
   },
   "outputs": [
    {
     "name": "stdout",
     "output_type": "stream",
     "text": [
      "\n",
      "\n",
      "Combat winner result series is: ['dire', 'tie', 'radiant', 'tie', 'tie', 'radiant']\n",
      "At the end of midgame, Jungler attribute is not counted anymore\n",
      "Round Score end of combat: 0.27\n",
      "Radiant rax: 4\n",
      "Dire rax: 4\n"
     ]
    }
   ],
   "source": [
    "print('\\n')\n",
    "print('Combat winner result series is: ' + str(winner_list))\n",
    "print('At the end of midgame, Jungler attribute is not counted anymore')\n",
    "print('Round Score end of combat: ' + str(round_score(radiant_team, dire_team, end_midgame_combat, 'late')[1]))\n",
    "\n",
    "end_midgame_radiant_rax = min([total_point(previous_level_input_df)[0], total_win(winner_list)[0], consecutive_win(winner_list)[0]])\n",
    "end_midgame_dire_rax = min([total_point(previous_level_input_df)[1], total_win(winner_list)[1], consecutive_win(winner_list)[1]])\n",
    "\n",
    "print('Radiant rax: ' + str(end_midgame_radiant_rax))\n",
    "print('Dire rax: ' + str(end_midgame_dire_rax))\n",
    "\n",
    "if end_midgame_radiant_rax <1:\n",
    "    print('***Dire got Megacreep and Throne. Dire Victory!!!')\n",
    "if end_midgame_dire_rax <1:\n",
    "    print('***Radiant got Megacreep and Throne. Radiant Victory!!!')  \n",
    "else:\n",
    "    print('***Move on to lategame push')"
   ]
  },
  {
   "cell_type": "markdown",
   "metadata": {},
   "source": [
    "### Lategame"
   ]
  },
  {
   "cell_type": "markdown",
   "metadata": {},
   "source": [
    "### Defense of the Ancient"
   ]
  },
  {
   "cell_type": "markdown",
   "metadata": {},
   "source": [
    "Late game is about deciding whether to push rax or throne after the team wins the combat. The growth is proportionally to the hero's natural attributes now. \n",
    "\n",
    "The winning probability is calculated by the difference score at the end of midgame plus how many rax the team and the opponent lose.\n",
    "\n",
    "The outcome of the first fight is decided by random number. The winning team gains 10 points.\n",
    "\n",
    "After that, the winning will decide to push rax or throne. Then the outcome of the second fight is decided by another random number. \n",
    "- If the winning team chooses Throne and wins, game over\n",
    "- If the winning team chooses Throne but does not win, they lose 15 points. The fight starts over from beginning of lategame\n",
    "- If the winning team chooses Rax and wins, they gain points from the additional rax getting from the push\n",
    "- If the winning team chooses Rax and does not win, they lose 5 points. The fight starts over from the beginning of lategame\n",
    "\n",
    "This loop will continue until one of the team runs out of 3 rax and 1 throne. "
   ]
  },
  {
   "cell_type": "code",
   "execution_count": 174,
   "metadata": {
    "scrolled": false
   },
   "outputs": [
    {
     "name": "stdout",
     "output_type": "stream",
     "text": [
      "\n",
      "\n",
      "Bonus, radiant win range, dire win range -> (0, range(0, 50), range(50, 101))\n",
      "Random number 1: 57\n",
      "***Dire wins late major combat. Dire team decides to get another rax or throne: rax\n",
      "First round bonus: -10\n",
      "Bonus, radiant win range, dire win range -> (-10, range(0, 40), range(40, 101))\n",
      "Random number 2: 21\n",
      "\n",
      "\n",
      "***Dire decided to push rax but did not win. Lose 5 points. Radiant has winner growth. Dire has loser growth\n",
      "Second round bonus: 5\n",
      "Number of radiant rax left: 4\n",
      "Number of dire rax left: 4\n",
      "Game time: 36\n",
      "\n",
      "\n",
      "Bonus, radiant win range, dire win range -> (-5, range(0, 45), range(45, 101))\n",
      "Random number 1: 18\n",
      "***Radiant wins late major combat. Radiant team decides to get another rax or throne: rax\n",
      "First round bonus: 10\n",
      "Bonus, radiant win range, dire win range -> (5, range(0, 55), range(55, 101))\n",
      "Random number 2: 6\n",
      "\n",
      "\n",
      "***Radiant decided to push another rax and won. Gain 10 points. Dire lost another rax. Radiant has winner growht. Dire has loser growth\n",
      "Second round bonus: 0\n",
      "Number of radiant rax left: 4\n",
      "Number of dire rax left: 3\n",
      "Game time: 39\n",
      "\n",
      "\n",
      "Bonus, radiant win range, dire win range -> (21, range(0, 71), range(71, 101))\n",
      "Random number 1: 30\n",
      "***Radiant wins late major combat. Radiant team decides to get another rax or throne: rax\n",
      "First round bonus: 10\n",
      "Bonus, radiant win range, dire win range -> (31, range(0, 81), range(81, 101))\n",
      "Random number 2: 15\n",
      "\n",
      "\n",
      "***Radiant decided to push another rax and won. Gain 10 points. Dire lost another rax. Radiant has winner growht. Dire has loser growth\n",
      "Second round bonus: 0\n",
      "Number of radiant rax left: 4\n",
      "Number of dire rax left: 2\n",
      "Game time: 41\n",
      "\n",
      "\n",
      "Bonus, radiant win range, dire win range -> (32, range(0, 82), range(82, 101))\n",
      "Random number 1: 61\n",
      "***Radiant wins late major combat. Radiant team decides to get another rax or throne: throne\n",
      "First round bonus: 10\n",
      "Bonus, radiant win range, dire win range -> (42, range(0, 92), range(92, 101))\n",
      "Random number 2: 98\n",
      "\n",
      "\n",
      "***Radiant decided to push throne but did not win. Lose 15 bonus point. Radiant has loser growth. Dire has winner growth\n",
      "Second round bonus: -15\n",
      "Number of radiant rax left: 4\n",
      "Number of dire rax left: 2\n",
      "Game time: 42\n",
      "\n",
      "\n",
      "Bonus, radiant win range, dire win range -> (17, range(0, 67), range(67, 101))\n",
      "Random number 1: 92\n",
      "***Dire wins late major combat. Dire team decides to get another rax or throne: rax\n",
      "First round bonus: -10\n",
      "Bonus, radiant win range, dire win range -> (7, range(0, 57), range(57, 101))\n",
      "Random number 2: 49\n",
      "\n",
      "\n",
      "***Dire decided to push rax but did not win. Lose 5 points. Radiant has winner growth. Dire has loser growth\n",
      "Second round bonus: 5\n",
      "Number of radiant rax left: 4\n",
      "Number of dire rax left: 2\n",
      "Game time: 44\n",
      "\n",
      "\n",
      "Bonus, radiant win range, dire win range -> (18, range(0, 68), range(68, 101))\n",
      "Random number 1: 15\n",
      "***Radiant wins late major combat. Radiant team decides to get another rax or throne: rax\n",
      "First round bonus: 10\n",
      "Bonus, radiant win range, dire win range -> (28, range(0, 78), range(78, 101))\n",
      "Random number 2: 34\n",
      "\n",
      "\n",
      "***Radiant decided to push another rax and won. Gain 10 points. Dire lost another rax. Radiant has winner growht. Dire has loser growth\n",
      "Second round bonus: 0\n",
      "Number of radiant rax left: 4\n",
      "Number of dire rax left: 1\n",
      "Game time: 47\n",
      "\n",
      "\n",
      "Bonus, radiant win range, dire win range -> (59, range(0, 109), range(109, 101))\n",
      "Random number 1: 38\n",
      "***Radiant wins late major combat. Radiant team decides to get another rax or throne: throne\n",
      "First round bonus: 10\n",
      "Bonus, radiant win range, dire win range -> (69, range(0, 119), range(119, 101))\n",
      "Random number 2: 93\n",
      "\n",
      "\n",
      "***Radiant decided to push throne and won. Radiant Victory!!!\n",
      "Game time: 50\n"
     ]
    }
   ],
   "source": [
    "lategame_combat()"
   ]
  },
  {
   "cell_type": "markdown",
   "metadata": {},
   "source": [
    "### Plot: Heroes Impact"
   ]
  },
  {
   "cell_type": "code",
   "execution_count": 175,
   "metadata": {},
   "outputs": [],
   "source": [
    "combined_plot = plot_fullgame()\n",
    "hero_impact_chart = combined_plot.groupby(['stage', 'Hero Fullname'])['Level'].sum().unstack()"
   ]
  },
  {
   "cell_type": "code",
   "execution_count": 176,
   "metadata": {},
   "outputs": [
    {
     "data": {
      "text/plain": [
       "<Figure size 432x288 with 0 Axes>"
      ]
     },
     "metadata": {},
     "output_type": "display_data"
    },
    {
     "data": {
      "image/png": "[encoded data removed]",
      "text/plain": [
       "<Figure size 720x720 with 1 Axes>"
      ]
     },
     "metadata": {
      "needs_background": "dark"
     },
     "output_type": "display_data"
    }
   ],
   "source": [
    "plt.figure()\n",
    "hero_impact_chart.plot(figsize=(10,10))\n",
    "plt.title(label='Hero Gold + Exp + Impact over time (include all attributes)', color='tomato')\n",
    "plt.tick_params(axis='y', colors='tomato')\n",
    "plt.tick_params(axis='x', colors='tomato')\n",
    "plt.ylabel('Hero Strength', color = 'tomato', horizontalalignment='center')\n",
    "plt.xlabel('Time', color = 'tomato', horizontalalignment='center')\n",
    "plt.axvline(x=game_time_end_early, color='gray',linestyle='--')\n",
    "plt.axvline(x=end_midgame_combat['stage'].max(), color='gray',linestyle='--')\n",
    "plt.show();"
   ]
  },
  {
   "cell_type": "markdown",
   "metadata": {},
   "source": [
    "### Plot: Team Strength Difference"
   ]
  },
  {
   "cell_type": "code",
   "execution_count": 177,
   "metadata": {},
   "outputs": [],
   "source": [
    "team_diff = pd.pivot_table(combined_plot, values='Level', index=['stage'], columns=['team'], aggfunc=np.sum)\n",
    "team_diff['difference'] = team_diff['radiant'] - team_diff['dire']\n",
    "team_diff_plot = team_diff.groupby(['stage'])['difference'].sum()"
   ]
  },
  {
   "cell_type": "code",
   "execution_count": 178,
   "metadata": {
    "scrolled": false
   },
   "outputs": [
    {
     "data": {
      "image/png": "[encoded data removed]",
      "text/plain": [
       "<Figure size 720x720 with 1 Axes>"
      ]
     },
     "metadata": {
      "needs_background": "dark"
     },
     "output_type": "display_data"
    }
   ],
   "source": [
    "plt.figure(figsize=(10,10))\n",
    "plt.plot(team_diff_plot)\n",
    "plt.title(label='Strength Difference', color='tomato')\n",
    "plt.tick_params(axis='y', colors='tomato')\n",
    "plt.tick_params(axis='x', colors='tomato')\n",
    "plt.ylabel('Dire Strength Bottom        /      Radiant Strength Upper', color = 'tomato', verticalalignment='baseline')\n",
    "plt.xlabel('Time', color = 'tomato', horizontalalignment='center')\n",
    "plt.axhline(y=0, color='gray', linestyle='--')\n",
    "plt.axvline(x=game_time_end_early, color='gray',linestyle='--')\n",
    "plt.axvline(x=end_midgame_combat['stage'].max(), color='gray',linestyle='--')\n",
    "plt.show();"
   ]
  },
  {
   "cell_type": "markdown",
   "metadata": {},
   "source": [
    "### Hero Impact"
   ]
  },
  {
   "cell_type": "code",
   "execution_count": 179,
   "metadata": {},
   "outputs": [
    {
     "data": {
      "text/html": [
       "<div>\n",
       "<style scoped>\n",
       "    .dataframe tbody tr th:only-of-type {\n",
       "        vertical-align: middle;\n",
       "    }\n",
       "\n",
       "    .dataframe tbody tr th {\n",
       "        vertical-align: top;\n",
       "    }\n",
       "\n",
       "    .dataframe thead th {\n",
       "        text-align: right;\n",
       "    }\n",
       "</style>\n",
       "<table border=\"1\" class=\"dataframe\">\n",
       "  <thead>\n",
       "    <tr style=\"text-align: right;\">\n",
       "      <th></th>\n",
       "      <th>Hero Fullname</th>\n",
       "      <th>Role</th>\n",
       "      <th>Level</th>\n",
       "      <th>stage</th>\n",
       "    </tr>\n",
       "  </thead>\n",
       "  <tbody>\n",
       "    <tr>\n",
       "      <th>0</th>\n",
       "      <td>Keeper_of_the_Light</td>\n",
       "      <td>Carry</td>\n",
       "      <td>0.00</td>\n",
       "      <td>0</td>\n",
       "    </tr>\n",
       "    <tr>\n",
       "      <th>1</th>\n",
       "      <td>Keeper_of_the_Light</td>\n",
       "      <td>Disabler</td>\n",
       "      <td>0.58</td>\n",
       "      <td>0</td>\n",
       "    </tr>\n",
       "    <tr>\n",
       "      <th>2</th>\n",
       "      <td>Keeper_of_the_Light</td>\n",
       "      <td>Durable</td>\n",
       "      <td>0.00</td>\n",
       "      <td>0</td>\n",
       "    </tr>\n",
       "    <tr>\n",
       "      <th>3</th>\n",
       "      <td>Keeper_of_the_Light</td>\n",
       "      <td>Escape</td>\n",
       "      <td>0.00</td>\n",
       "      <td>0</td>\n",
       "    </tr>\n",
       "    <tr>\n",
       "      <th>4</th>\n",
       "      <td>Keeper_of_the_Light</td>\n",
       "      <td>Initiator</td>\n",
       "      <td>0.00</td>\n",
       "      <td>0</td>\n",
       "    </tr>\n",
       "    <tr>\n",
       "      <th>5</th>\n",
       "      <td>Keeper_of_the_Light</td>\n",
       "      <td>Jungler</td>\n",
       "      <td>0.58</td>\n",
       "      <td>0</td>\n",
       "    </tr>\n",
       "    <tr>\n",
       "      <th>6</th>\n",
       "      <td>Keeper_of_the_Light</td>\n",
       "      <td>Nuker</td>\n",
       "      <td>0.58</td>\n",
       "      <td>0</td>\n",
       "    </tr>\n",
       "    <tr>\n",
       "      <th>7</th>\n",
       "      <td>Keeper_of_the_Light</td>\n",
       "      <td>Pusher</td>\n",
       "      <td>0.00</td>\n",
       "      <td>0</td>\n",
       "    </tr>\n",
       "    <tr>\n",
       "      <th>8</th>\n",
       "      <td>Keeper_of_the_Light</td>\n",
       "      <td>Support</td>\n",
       "      <td>3.00</td>\n",
       "      <td>0</td>\n",
       "    </tr>\n",
       "  </tbody>\n",
       "</table>\n",
       "</div>"
      ],
      "text/plain": [
       "         Hero Fullname       Role  Level  stage\n",
       "0  Keeper_of_the_Light      Carry   0.00      0\n",
       "1  Keeper_of_the_Light   Disabler   0.58      0\n",
       "2  Keeper_of_the_Light    Durable   0.00      0\n",
       "3  Keeper_of_the_Light     Escape   0.00      0\n",
       "4  Keeper_of_the_Light  Initiator   0.00      0\n",
       "5  Keeper_of_the_Light    Jungler   0.58      0\n",
       "6  Keeper_of_the_Light      Nuker   0.58      0\n",
       "7  Keeper_of_the_Light     Pusher   0.00      0\n",
       "8  Keeper_of_the_Light    Support   3.00      0"
      ]
     },
     "execution_count": 179,
     "metadata": {},
     "output_type": "execute_result"
    },
    {
     "data": {
      "text/html": [
       "<div>\n",
       "<style scoped>\n",
       "    .dataframe tbody tr th:only-of-type {\n",
       "        vertical-align: middle;\n",
       "    }\n",
       "\n",
       "    .dataframe tbody tr th {\n",
       "        vertical-align: top;\n",
       "    }\n",
       "\n",
       "    .dataframe thead th {\n",
       "        text-align: right;\n",
       "    }\n",
       "</style>\n",
       "<table border=\"1\" class=\"dataframe\">\n",
       "  <thead>\n",
       "    <tr style=\"text-align: right;\">\n",
       "      <th></th>\n",
       "      <th>Hero Fullname</th>\n",
       "      <th>Role</th>\n",
       "      <th>Level</th>\n",
       "      <th>stage</th>\n",
       "    </tr>\n",
       "  </thead>\n",
       "  <tbody>\n",
       "    <tr>\n",
       "      <th>81</th>\n",
       "      <td>Keeper_of_the_Light</td>\n",
       "      <td>Carry</td>\n",
       "      <td>0.000000</td>\n",
       "      <td>33</td>\n",
       "    </tr>\n",
       "    <tr>\n",
       "      <th>82</th>\n",
       "      <td>Keeper_of_the_Light</td>\n",
       "      <td>Disabler</td>\n",
       "      <td>2.161719</td>\n",
       "      <td>33</td>\n",
       "    </tr>\n",
       "    <tr>\n",
       "      <th>83</th>\n",
       "      <td>Keeper_of_the_Light</td>\n",
       "      <td>Durable</td>\n",
       "      <td>0.000000</td>\n",
       "      <td>33</td>\n",
       "    </tr>\n",
       "    <tr>\n",
       "      <th>84</th>\n",
       "      <td>Keeper_of_the_Light</td>\n",
       "      <td>Escape</td>\n",
       "      <td>0.000000</td>\n",
       "      <td>33</td>\n",
       "    </tr>\n",
       "    <tr>\n",
       "      <th>85</th>\n",
       "      <td>Keeper_of_the_Light</td>\n",
       "      <td>Initiator</td>\n",
       "      <td>0.000000</td>\n",
       "      <td>33</td>\n",
       "    </tr>\n",
       "    <tr>\n",
       "      <th>86</th>\n",
       "      <td>Keeper_of_the_Light</td>\n",
       "      <td>Jungler</td>\n",
       "      <td>2.161719</td>\n",
       "      <td>33</td>\n",
       "    </tr>\n",
       "    <tr>\n",
       "      <th>87</th>\n",
       "      <td>Keeper_of_the_Light</td>\n",
       "      <td>Nuker</td>\n",
       "      <td>2.578738</td>\n",
       "      <td>33</td>\n",
       "    </tr>\n",
       "    <tr>\n",
       "      <th>88</th>\n",
       "      <td>Keeper_of_the_Light</td>\n",
       "      <td>Pusher</td>\n",
       "      <td>0.000000</td>\n",
       "      <td>33</td>\n",
       "    </tr>\n",
       "    <tr>\n",
       "      <th>89</th>\n",
       "      <td>Keeper_of_the_Light</td>\n",
       "      <td>Support</td>\n",
       "      <td>5.000000</td>\n",
       "      <td>33</td>\n",
       "    </tr>\n",
       "  </tbody>\n",
       "</table>\n",
       "</div>"
      ],
      "text/plain": [
       "          Hero Fullname       Role     Level  stage\n",
       "81  Keeper_of_the_Light      Carry  0.000000     33\n",
       "82  Keeper_of_the_Light   Disabler  2.161719     33\n",
       "83  Keeper_of_the_Light    Durable  0.000000     33\n",
       "84  Keeper_of_the_Light     Escape  0.000000     33\n",
       "85  Keeper_of_the_Light  Initiator  0.000000     33\n",
       "86  Keeper_of_the_Light    Jungler  2.161719     33\n",
       "87  Keeper_of_the_Light      Nuker  2.578738     33\n",
       "88  Keeper_of_the_Light     Pusher  0.000000     33\n",
       "89  Keeper_of_the_Light    Support  5.000000     33"
      ]
     },
     "execution_count": 179,
     "metadata": {},
     "output_type": "execute_result"
    },
    {
     "data": {
      "text/html": [
       "<div>\n",
       "<style scoped>\n",
       "    .dataframe tbody tr th:only-of-type {\n",
       "        vertical-align: middle;\n",
       "    }\n",
       "\n",
       "    .dataframe tbody tr th {\n",
       "        vertical-align: top;\n",
       "    }\n",
       "\n",
       "    .dataframe thead th {\n",
       "        text-align: right;\n",
       "    }\n",
       "</style>\n",
       "<table border=\"1\" class=\"dataframe\">\n",
       "  <thead>\n",
       "    <tr style=\"text-align: right;\">\n",
       "      <th></th>\n",
       "      <th>Hero Fullname</th>\n",
       "      <th>Role</th>\n",
       "      <th>Level</th>\n",
       "      <th>stage</th>\n",
       "    </tr>\n",
       "  </thead>\n",
       "  <tbody>\n",
       "    <tr>\n",
       "      <th>144</th>\n",
       "      <td>Keeper_of_the_Light</td>\n",
       "      <td>Carry</td>\n",
       "      <td>0.000000</td>\n",
       "      <td>50</td>\n",
       "    </tr>\n",
       "    <tr>\n",
       "      <th>145</th>\n",
       "      <td>Keeper_of_the_Light</td>\n",
       "      <td>Disabler</td>\n",
       "      <td>2.933310</td>\n",
       "      <td>50</td>\n",
       "    </tr>\n",
       "    <tr>\n",
       "      <th>146</th>\n",
       "      <td>Keeper_of_the_Light</td>\n",
       "      <td>Durable</td>\n",
       "      <td>0.000000</td>\n",
       "      <td>50</td>\n",
       "    </tr>\n",
       "    <tr>\n",
       "      <th>147</th>\n",
       "      <td>Keeper_of_the_Light</td>\n",
       "      <td>Escape</td>\n",
       "      <td>0.000000</td>\n",
       "      <td>50</td>\n",
       "    </tr>\n",
       "    <tr>\n",
       "      <th>148</th>\n",
       "      <td>Keeper_of_the_Light</td>\n",
       "      <td>Initiator</td>\n",
       "      <td>0.000000</td>\n",
       "      <td>50</td>\n",
       "    </tr>\n",
       "    <tr>\n",
       "      <th>149</th>\n",
       "      <td>Keeper_of_the_Light</td>\n",
       "      <td>Jungler</td>\n",
       "      <td>2.933310</td>\n",
       "      <td>50</td>\n",
       "    </tr>\n",
       "    <tr>\n",
       "      <th>150</th>\n",
       "      <td>Keeper_of_the_Light</td>\n",
       "      <td>Nuker</td>\n",
       "      <td>4.687817</td>\n",
       "      <td>50</td>\n",
       "    </tr>\n",
       "    <tr>\n",
       "      <th>151</th>\n",
       "      <td>Keeper_of_the_Light</td>\n",
       "      <td>Pusher</td>\n",
       "      <td>0.000000</td>\n",
       "      <td>50</td>\n",
       "    </tr>\n",
       "    <tr>\n",
       "      <th>152</th>\n",
       "      <td>Keeper_of_the_Light</td>\n",
       "      <td>Support</td>\n",
       "      <td>5.000000</td>\n",
       "      <td>50</td>\n",
       "    </tr>\n",
       "  </tbody>\n",
       "</table>\n",
       "</div>"
      ],
      "text/plain": [
       "           Hero Fullname       Role     Level  stage\n",
       "144  Keeper_of_the_Light      Carry  0.000000     50\n",
       "145  Keeper_of_the_Light   Disabler  2.933310     50\n",
       "146  Keeper_of_the_Light    Durable  0.000000     50\n",
       "147  Keeper_of_the_Light     Escape  0.000000     50\n",
       "148  Keeper_of_the_Light  Initiator  0.000000     50\n",
       "149  Keeper_of_the_Light    Jungler  2.933310     50\n",
       "150  Keeper_of_the_Light      Nuker  4.687817     50\n",
       "151  Keeper_of_the_Light     Pusher  0.000000     50\n",
       "152  Keeper_of_the_Light    Support  5.000000     50"
      ]
     },
     "execution_count": 179,
     "metadata": {},
     "output_type": "execute_result"
    }
   ],
   "source": [
    "hero_impact_score = hero_score(hero_name_process('kotl')[0], combined_plot, 'all')\n",
    "hero_impact_score.loc[hero_impact_score['stage']==0].iloc[:,1:5]\n",
    "hero_impact_score.loc[hero_impact_score['stage']==end_midgame_combat['stage'].max()].iloc[:,1:5]\n",
    "hero_impact_score.loc[hero_impact_score['stage']==hero_impact_score['stage'].max()].iloc[:,1:5]"
   ]
  }
 ],
 "metadata": {
  "kernelspec": {
   "display_name": "Python 3",
   "language": "python",
   "name": "python3"
  },
  "language_info": {
   "codemirror_mode": {
    "name": "ipython",
    "version": 3
   },
   "file_extension": ".py",
   "mimetype": "text/x-python",
   "name": "python",
   "nbconvert_exporter": "python",
   "pygments_lexer": "ipython3",
   "version": "3.7.0"
  }
 },
 "nbformat": 4,
 "nbformat_minor": 2
}
